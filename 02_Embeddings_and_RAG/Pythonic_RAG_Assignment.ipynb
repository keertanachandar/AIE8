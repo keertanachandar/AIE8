{
 "cells": [
  {
   "cell_type": "markdown",
   "metadata": {
    "id": "lElF3o5PR6ys"
   },
   "source": [
    "# Your First RAG Application\n",
    "\n",
    "In this notebook, we'll walk you through each of the components that are involved in a simple RAG application.\n",
    "\n",
    "We won't be leveraging any fancy tools, just the OpenAI Python SDK, Numpy, and some classic Python.\n",
    "\n",
    "> NOTE: This was done with Python 3.12.3.\n",
    "\n",
    "> NOTE: There might be [compatibility issues](https://github.com/wandb/wandb/issues/7683) if you're on NVIDIA driver >552.44 As an interim solution - you can rollback your drivers to the 552.44."
   ]
  },
  {
   "cell_type": "markdown",
   "metadata": {
    "id": "5CtcL8P8R6yt"
   },
   "source": [
    "## Table of Contents:\n",
    "\n",
    "- Task 1: Imports and Utilities\n",
    "- Task 2: Documents\n",
    "- Task 3: Embeddings and Vectors\n",
    "- Task 4: Prompts\n",
    "- Task 5: Retrieval Augmented Generation\n",
    "  - 🚧 Activity #1: Augment RAG"
   ]
  },
  {
   "cell_type": "markdown",
   "metadata": {
    "id": "1Dz6GYilR6yt"
   },
   "source": [
    "Let's look at a rather complicated looking visual representation of a basic RAG application.\n",
    "\n",
    "<img src=\"https://i.imgur.com/vD8b016.png\" />"
   ]
  },
  {
   "cell_type": "markdown",
   "metadata": {
    "id": "PjmC0KFtR6yt"
   },
   "source": [
    "## Task 1: Imports and Utility\n",
    "\n",
    "We're just doing some imports and enabling `async` to work within the Jupyter environment here, nothing too crazy!"
   ]
  },
  {
   "cell_type": "code",
   "execution_count": 1,
   "metadata": {},
   "outputs": [
    {
     "name": "stdout",
     "output_type": "stream",
     "text": [
      "NumPy version: 2.3.3\n",
      "Import successful!\n"
     ]
    }
   ],
   "source": [
    "# %pip install numpy\n",
    "import numpy as np\n",
    "print(\"NumPy version:\", np.__version__)\n",
    "print(\"Import successful!\")"
   ]
  },
  {
   "cell_type": "code",
   "execution_count": 2,
   "metadata": {
    "id": "Z1dyrG4hR6yt"
   },
   "outputs": [],
   "source": [
    "# %pip install dotenv\n",
    "# %pip install openai\n",
    "\n",
    "from aimakerspace.text_utils import TextFileLoader, CharacterTextSplitter\n",
    "from aimakerspace.vectordatabase import VectorDatabase\n",
    "import asyncio"
   ]
  },
  {
   "cell_type": "code",
   "execution_count": 3,
   "metadata": {
    "id": "9OrFZRnER6yt"
   },
   "outputs": [],
   "source": [
    "import nest_asyncio\n",
    "nest_asyncio.apply()"
   ]
  },
  {
   "cell_type": "markdown",
   "metadata": {
    "id": "M0jGnpQsR6yu"
   },
   "source": [
    "## Task 2: Documents\n",
    "\n",
    "We'll be concerning ourselves with this part of the flow in the following section:\n",
    "\n",
    "<img src=\"https://i.imgur.com/jTm9gjk.png\" />"
   ]
  },
  {
   "cell_type": "markdown",
   "metadata": {
    "id": "-SFPWvRUR6yu"
   },
   "source": [
    "### Loading Source Documents\n",
    "\n",
    "So, first things first, we need some documents to work with.\n",
    "\n",
    "While we could work directly with the `.txt` files (or whatever file-types you wanted to extend this to) we can instead do some batch processing of those documents at the beginning in order to store them in a more machine compatible format.\n",
    "\n",
    "In this case, we're going to parse our text file into a single document in memory.\n",
    "\n",
    "Let's look at the relevant bits of the `TextFileLoader` class:\n",
    "\n",
    "```python\n",
    "def load_file(self):\n",
    "        with open(self.path, \"r\", encoding=self.encoding) as f:\n",
    "            self.documents.append(f.read())\n",
    "```\n",
    "\n",
    "We're simply loading the document using the built in `open` method, and storing that output in our `self.documents` list.\n",
    "\n",
    "> NOTE: We're using blogs from PMarca (Marc Andreessen) as our sample data. This data is largely irrelevant as we want to focus on the mechanisms of RAG, which includes out data's shape and quality - but not specifically what the contents of the data are. \n"
   ]
  },
  {
   "cell_type": "code",
   "execution_count": 4,
   "metadata": {
    "colab": {
     "base_uri": "https://localhost:8080/"
    },
    "id": "Ia2sUEuGR6yu",
    "outputId": "84937ecc-c35f-4c4a-a4ab-9da72625954c"
   },
   "outputs": [
    {
     "data": {
      "text/plain": [
       "1"
      ]
     },
     "execution_count": 4,
     "metadata": {},
     "output_type": "execute_result"
    }
   ],
   "source": [
    "text_loader = TextFileLoader(\"data/PMarcaBlogs.txt\")\n",
    "documents = text_loader.load_documents()\n",
    "len(documents)"
   ]
  },
  {
   "cell_type": "code",
   "execution_count": 5,
   "metadata": {
    "colab": {
     "base_uri": "https://localhost:8080/"
    },
    "id": "bV-tj5WFR6yu",
    "outputId": "674eb315-1ff3-4597-bcf5-38ece0a812ac"
   },
   "outputs": [
    {
     "name": "stdout",
     "output_type": "stream",
     "text": [
      "﻿\n",
      "The Pmarca Blog Archives\n",
      "(select posts from 2007-2009)\n",
      "Marc Andreessen\n",
      "copyright: Andreessen Horow\n"
     ]
    }
   ],
   "source": [
    "print(documents[0][:100])"
   ]
  },
  {
   "cell_type": "markdown",
   "metadata": {
    "id": "nHlTvCzYR6yu"
   },
   "source": [
    "### Splitting Text Into Chunks\n",
    "\n",
    "As we can see, there is one massive document.\n",
    "\n",
    "We'll want to chunk the document into smaller parts so it's easier to pass the most relevant snippets to the LLM.\n",
    "\n",
    "There is no fixed way to split/chunk documents - and you'll need to rely on some intuition as well as knowing your data *very* well in order to build the most robust system.\n",
    "\n",
    "For this toy example, we'll just split blindly on length.\n",
    "\n",
    ">There's an opportunity to clear up some terminology here, for this course we will be stick to the following:\n",
    ">\n",
    ">- \"source documents\" : The `.txt`, `.pdf`, `.html`, ..., files that make up the files and information we start with in its raw format\n",
    ">- \"document(s)\" : single (or more) text object(s)\n",
    ">- \"corpus\" : the combination of all of our documents"
   ]
  },
  {
   "cell_type": "markdown",
   "metadata": {
    "id": "2G6Voc0jR6yv"
   },
   "source": [
    "As you can imagine (though it's not specifically true in this toy example) the idea of splitting documents is to break them into managable sized chunks that retain the most relevant local context."
   ]
  },
  {
   "cell_type": "code",
   "execution_count": 6,
   "metadata": {
    "colab": {
     "base_uri": "https://localhost:8080/"
    },
    "id": "UMC4tsEmR6yv",
    "outputId": "08689c0b-57cd-4040-942a-8193e997f5cb"
   },
   "outputs": [
    {
     "data": {
      "text/plain": [
       "373"
      ]
     },
     "execution_count": 6,
     "metadata": {},
     "output_type": "execute_result"
    }
   ],
   "source": [
    "text_splitter = CharacterTextSplitter()\n",
    "split_documents = text_splitter.split_texts(documents)\n",
    "len(split_documents)"
   ]
  },
  {
   "cell_type": "markdown",
   "metadata": {
    "id": "W2wKT0WLR6yv"
   },
   "source": [
    "Let's take a look at some of the documents we've managed to split."
   ]
  },
  {
   "cell_type": "code",
   "execution_count": 7,
   "metadata": {
    "colab": {
     "base_uri": "https://localhost:8080/"
    },
    "id": "vcYMwWJoR6yv",
    "outputId": "20d69876-feca-4826-b4be-32915276987a"
   },
   "outputs": [
    {
     "data": {
      "text/plain": [
       "['\\ufeff\\nThe Pmarca Blog Archives\\n(select posts from 2007-2009)\\nMarc Andreessen\\ncopyright: Andreessen Horowitz\\ncover design: Jessica Hagy\\nproduced using: Pressbooks\\nContents\\nTHE PMARCA GUIDE TO STARTUPS\\nPart 1: Why not to do a startup 2\\nPart 2: When the VCs say \"no\" 10\\nPart 3: \"But I don\\'t know any VCs!\" 18\\nPart 4: The only thing that matters 25\\nPart 5: The Moby Dick theory of big companies 33\\nPart 6: How much funding is too little? Too much? 41\\nPart 7: Why a startup\\'s initial business plan doesn\\'t\\nmatter that much\\n49\\nTHE PMARCA GUIDE TO HIRING\\nPart 8: Hiring, managing, promoting, and Dring\\nexecutives\\n54\\nPart 9: How to hire a professional CEO 68\\nHow to hire the best people you\\'ve ever worked\\nwith\\n69\\nTHE PMARCA GUIDE TO BIG COMPANIES\\nPart 1: Turnaround! 82\\nPart 2: Retaining great people 86\\nTHE PMARCA GUIDE TO CAREER, PRODUCTIVITY,\\nAND SOME OTHER THINGS\\nIntroduction 97\\nPart 1: Opportunity 99\\nPart 2: Skills and education 107\\nPart 3: Where to go and why 120\\nThe Pmarca Guide to Personal Productivi']"
      ]
     },
     "execution_count": 7,
     "metadata": {},
     "output_type": "execute_result"
    }
   ],
   "source": [
    "split_documents[0:1]"
   ]
  },
  {
   "cell_type": "markdown",
   "metadata": {
    "id": "HOU-RFP_R6yv"
   },
   "source": [
    "## Task 3: Embeddings and Vectors\n",
    "\n",
    "Next, we have to convert our corpus into a \"machine readable\" format as we explored in the Embedding Primer notebook.\n",
    "\n",
    "Today, we're going to talk about the actual process of creating, and then storing, these embeddings, and how we can leverage that to intelligently add context to our queries."
   ]
  },
  {
   "cell_type": "markdown",
   "metadata": {},
   "source": [
    "### OpenAI API Key\n",
    "\n",
    "In order to access OpenAI's APIs, we'll need to provide our OpenAI API Key!\n",
    "\n",
    "You can work through the folder \"OpenAI API Key Setup\" for more information on this process if you don't already have an API Key!"
   ]
  },
  {
   "cell_type": "code",
   "execution_count": 8,
   "metadata": {},
   "outputs": [
    {
     "name": "stdin",
     "output_type": "stream",
     "text": [
      "OpenAI API Key:  ········\n"
     ]
    }
   ],
   "source": [
    "import os\n",
    "import openai\n",
    "from getpass import getpass\n",
    "\n",
    "openai.api_key = getpass(\"OpenAI API Key: \")\n",
    "os.environ[\"OPENAI_API_KEY\"] = openai.api_key"
   ]
  },
  {
   "cell_type": "markdown",
   "metadata": {},
   "source": [
    "### Vector Database\n",
    "\n",
    "Let's set up our vector database to hold all our documents and their embeddings!"
   ]
  },
  {
   "cell_type": "markdown",
   "metadata": {
    "id": "kDQrfAR1R6yv"
   },
   "source": [
    "While this is all baked into 1 call - we can look at some of the code that powers this process to get a better understanding:\n",
    "\n",
    "Let's look at our `VectorDatabase().__init__()`:\n",
    "\n",
    "```python\n",
    "def __init__(self, embedding_model: EmbeddingModel = None):\n",
    "        self.vectors = defaultdict(np.array)\n",
    "        self.embedding_model = embedding_model or EmbeddingModel()\n",
    "```\n",
    "\n",
    "As you can see - our vectors are merely stored as a dictionary of `np.array` objects.\n",
    "\n",
    "Secondly, our `VectorDatabase()` has a default `EmbeddingModel()` which is a wrapper for OpenAI's `text-embedding-3-small` model.\n",
    "\n",
    "> **Quick Info About `text-embedding-3-small`**:\n",
    "> - It has a context window of **8191** tokens\n",
    "> - It returns vectors with dimension **1536**"
   ]
  },
  {
   "cell_type": "markdown",
   "metadata": {
    "id": "L273pRdeR6yv"
   },
   "source": [
    "#### ❓Question #1:\n",
    "\n",
    "The default embedding dimension of `text-embedding-3-small` is 1536, as noted above. \n",
    "\n",
    "1. Is there any way to modify this dimension?\n",
    "2. What technique does OpenAI use to achieve this?\n",
    "\n",
    "> NOTE: Check out this [API documentation](https://platform.openai.com/docs/api-reference/embeddings/create) for the answer to question #1.1, and [this documentation](https://platform.openai.com/docs/guides/embeddings/use-cases) for an answer to question #1.2!\n"
   ]
  },
  {
   "cell_type": "markdown",
   "metadata": {},
   "source": [
    "##### ✅ Answer:\n",
    "1. You can pass in a value to the dimensions paramater to reduce the default of 1536 dimensions.\n",
    "2. This change only happens for the `text-embedding-3-small` and `text-embedding-3-large` models - you can reduce the number of dimensions and you will not lose any concept-representing properties, unlike other models. Ideally, you should modify this value before creating the embedding. They are able to acheive this by encoding information dynamically and having individual embeddings adapt to new constraints as it is created."
   ]
  },
  {
   "cell_type": "markdown",
   "metadata": {
    "id": "w5FZY7K3R6yv"
   },
   "source": [
    "We can call the `async_get_embeddings` method of our `EmbeddingModel()` on a list of `str` and receive a list of `float` back!\n",
    "\n",
    "```python\n",
    "async def async_get_embeddings(self, list_of_text: List[str]) -> List[List[float]]:\n",
    "        return await aget_embeddings(\n",
    "            list_of_text=list_of_text, engine=self.embeddings_model_name\n",
    "        )\n",
    "```"
   ]
  },
  {
   "cell_type": "markdown",
   "metadata": {
    "id": "cSct6X0aR6yv"
   },
   "source": [
    "We cast those to `np.array` when we build our `VectorDatabase()`:\n",
    "\n",
    "```python\n",
    "async def abuild_from_list(self, list_of_text: List[str]) -> \"VectorDatabase\":\n",
    "        embeddings = await self.embedding_model.async_get_embeddings(list_of_text)\n",
    "        for text, embedding in zip(list_of_text, embeddings):\n",
    "            self.insert(text, np.array(embedding))\n",
    "        return self\n",
    "```\n",
    "\n",
    "And that's all we need to do!"
   ]
  },
  {
   "cell_type": "code",
   "execution_count": 9,
   "metadata": {
    "id": "O4KoLbVDR6yv"
   },
   "outputs": [],
   "source": [
    "vector_db = VectorDatabase()\n",
    "vector_db = asyncio.run(vector_db.abuild_from_list(split_documents))"
   ]
  },
  {
   "cell_type": "markdown",
   "metadata": {
    "id": "SSZwaGvpR6yv"
   },
   "source": [
    "#### ❓Question #2:\n",
    "\n",
    "What are the benefits of using an `async` approach to collecting our embeddings?\n",
    "\n",
    "> NOTE: Determining the core difference between `async` and `sync` will be useful! If you get stuck - ask ChatGPT!"
   ]
  },
  {
   "cell_type": "markdown",
   "metadata": {},
   "source": [
    "##### ✅ Answer:\n",
    "Creating requests synchronously mean the work will be done one at a time. Only till the first request finishes can you move on to the second. An asychronous approach means that the requests are done parallelly. If the first request is taking too long, you can work on the second and third one at the same time. \n",
    "Some benefits of using an `async` approach include:\n",
    "1. If you have a large number of texts (in the hundreds or thousands), an `async` approach lets you make many requests concurrently. A `synchronous` approach means you have to wait for one request to finish before moving on to the next. This would take too long for a large data set. A synchronous approach might work if you have a very small data set - i.e. 5-10 queries total.\n",
    "2. Async scales better. Since you are not limited by the order in which things are done, you can work with other heavy operations like API calls. This also helps web servers scale because you need to serve many users at the same time.\n",
    "3. An async approach means faster processing of large batches and more efficient resource usage. \n"
   ]
  },
  {
   "cell_type": "markdown",
   "metadata": {
    "id": "nRBdIt-xR6yw"
   },
   "source": [
    "So, to review what we've done so far in natural language:\n",
    "\n",
    "1. We load source documents\n",
    "2. We split those source documents into smaller chunks (documents)\n",
    "3. We send each of those documents to the `text-embedding-3-small` OpenAI API endpoint\n",
    "4. We store each of the text representations with the vector representations as keys/values in a dictionary"
   ]
  },
  {
   "cell_type": "markdown",
   "metadata": {
    "id": "4-vWANZyR6yw"
   },
   "source": [
    "### Semantic Similarity\n",
    "\n",
    "The next step is to be able to query our `VectorDatabase()` with a `str` and have it return to us vectors and text that is most relevant from our corpus.\n",
    "\n",
    "We're going to use the following process to achieve this in our toy example:\n",
    "\n",
    "1. We need to embed our query with the same `EmbeddingModel()` as we used to construct our `VectorDatabase()`\n",
    "2. We loop through every vector in our `VectorDatabase()` and use a distance measure to compare how related they are\n",
    "3. We return a list of the top `k` closest vectors, with their text representations\n",
    "\n",
    "There's some very heavy optimization that can be done at each of these steps - but let's just focus on the basic pattern in this notebook.\n",
    "\n",
    "> We are using [cosine similarity](https://www.engati.com/glossary/cosine-similarity) as a distance metric in this example - but there are many many distance metrics you could use - like [these](https://flavien-vidal.medium.com/similarity-distances-for-natural-language-processing-16f63cd5ba55)\n",
    "\n",
    "> We are using a rather inefficient way of calculating relative distance between the query vector and all other vectors - there are more advanced approaches that are much more efficient, like [ANN](https://towardsdatascience.com/comprehensive-guide-to-approximate-nearest-neighbors-algorithms-8b94f057d6b6)"
   ]
  },
  {
   "cell_type": "code",
   "execution_count": 10,
   "metadata": {
    "colab": {
     "base_uri": "https://localhost:8080/"
    },
    "id": "76d96uavR6yw",
    "outputId": "bbfccc31-20a2-41c7-c14d-46554a43ed2d"
   },
   "outputs": [
    {
     "data": {
      "text/plain": [
       "[('ordingly.\\nSeventh, when hiring the executive to run your former specialty, be\\ncareful you don’t hire someone weak on purpose.\\nThis sounds silly, but you wouldn’t believe how oaen it happens.\\nThe CEO who used to be a product manager who has a weak\\nproduct management executive. The CEO who used to be in\\nsales who has a weak sales executive. The CEO who used to be\\nin marketing who has a weak marketing executive.\\nI call this the “Michael Eisner Memorial Weak Executive Problem” — aaer the CEO of Disney who had previously been a brilliant TV network executive. When he bought ABC at Disney, it\\npromptly fell to fourth place. His response? “If I had an extra\\ntwo days a week, I could turn around ABC myself.” Well, guess\\nwhat, he didn’t have an extra two days a week.\\nA CEO — or a startup founder — oaen has a hard time letting\\ngo of the function that brought him to the party. The result: you\\nhire someone weak into the executive role for that function so\\nthat you can continue to be “the man” — cons',\n",
       "  np.float64(0.6538563767462546)),\n",
       " ('m. They have areas where they are truly deXcient in judgment or skill set. That’s just life. Almost nobody is brilliant\\nat everything. When hiring and when Hring executives, you\\nmust therefore focus on strength rather than lack of weakness. Everybody has severe weaknesses even if you can’t see\\nthem yet. When managing, it’s oaen useful to micromanage and\\nto provide remedial training around these weaknesses. Doing so\\nmay make the diWerence between an executive succeeding or\\nfailing.\\nFor example, you might have a brilliant engineering executive\\nwho generates excellent team loyalty, has terriXc product judgment and makes the trains run on time. This same executive\\nmay be very poor at relating to the other functions in the company. She may generate far more than her share of cross-functional conYicts, cut herself oW from critical information, and\\nsigniXcantly impede your ability to sell and market eWectively.\\nYour alternatives are:\\n(a) Macro-manage and give her an annual or quarterly object',\n",
       "  np.float64(0.5036012174947995)),\n",
       " ('ed?\\nIn reality — as opposed to Marc’s warped view of reality — it will\\nbe extremely helpful for Marc [if he were actually the CEO,\\nwhich he is not] to meet with the new head of engineering daily\\nwhen she comes on board and review all of her thinking and\\ndecisions. This level of micromanagement will accelerate her\\ntraining and improve her long-term eWectiveness. It will make\\nher seem smarter to the rest of the organization which will build\\ncredibility and conXdence while she comes up to speed. Micromanaging new executives is generally a good idea for a limited\\nperiod of time.\\nHowever, that is not the only time that it makes sense to micro66 The Pmarca Blog Archives\\nmanage executives. It turns out that just about every executive\\nin the world has a few things that are seriously wrong with\\nthem. They have areas where they are truly deXcient in judgment or skill set. That’s just life. Almost nobody is brilliant\\nat everything. When hiring and when Hring executives, you\\nmust therefore focus o',\n",
       "  np.float64(0.4814102594977529))]"
      ]
     },
     "execution_count": 10,
     "metadata": {},
     "output_type": "execute_result"
    }
   ],
   "source": [
    "vector_db.search_by_text(\"What is the Michael Eisner Memorial Weak Executive Problem?\", k=3)"
   ]
  },
  {
   "cell_type": "markdown",
   "metadata": {
    "id": "TehsfIiKR6yw"
   },
   "source": [
    "## Task 4: Prompts\n",
    "\n",
    "In the following section, we'll be looking at the role of prompts - and how they help us to guide our application in the right direction.\n",
    "\n",
    "In this notebook, we're going to rely on the idea of \"zero-shot in-context learning\".\n",
    "\n",
    "This is a lot of words to say: \"We will ask it to perform our desired task in the prompt, and provide no examples.\""
   ]
  },
  {
   "cell_type": "markdown",
   "metadata": {
    "id": "yXpA0UveR6yw"
   },
   "source": [
    "### XYZRolePrompt\n",
    "\n",
    "Before we do that, let's stop and think a bit about how OpenAI's chat models work.\n",
    "\n",
    "We know they have roles - as is indicated in the following API [documentation](https://platform.openai.com/docs/api-reference/chat/create#chat/create-messages)\n",
    "\n",
    "There are three roles, and they function as follows (taken directly from [OpenAI](https://platform.openai.com/docs/guides/gpt/chat-completions-api)):\n",
    "\n",
    "- `{\"role\" : \"system\"}` : The system message helps set the behavior of the assistant. For example, you can modify the personality of the assistant or provide specific instructions about how it should behave throughout the conversation. However note that the system message is optional and the model’s behavior without a system message is likely to be similar to using a generic message such as \"You are a helpful assistant.\"\n",
    "- `{\"role\" : \"user\"}` : The user messages provide requests or comments for the assistant to respond to.\n",
    "- `{\"role\" : \"assistant\"}` : Assistant messages store previous assistant responses, but can also be written by you to give examples of desired behavior.\n",
    "\n",
    "The main idea is this:\n",
    "\n",
    "1. You start with a system message that outlines how the LLM should respond, what kind of behaviours you can expect from it, and more\n",
    "2. Then, you can provide a few examples in the form of \"assistant\"/\"user\" pairs\n",
    "3. Then, you prompt the model with the true \"user\" message.\n",
    "\n",
    "In this example, we'll be forgoing the 2nd step for simplicities sake."
   ]
  },
  {
   "cell_type": "markdown",
   "metadata": {
    "id": "gdZ2KWKSR6yw"
   },
   "source": [
    "#### Utility Functions\n",
    "\n",
    "You'll notice that we're using some utility functions from the `aimakerspace` module - let's take a peek at these and see what they're doing!"
   ]
  },
  {
   "cell_type": "markdown",
   "metadata": {
    "id": "GFbeJDDsR6yw"
   },
   "source": [
    "##### XYZRolePrompt"
   ]
  },
  {
   "cell_type": "markdown",
   "metadata": {
    "id": "5mojJSE3R6yw"
   },
   "source": [
    "Here we have our `system`, `user`, and `assistant` role prompts.\n",
    "\n",
    "Let's take a peek at what they look like:\n",
    "\n",
    "```python\n",
    "class BasePrompt:\n",
    "    def __init__(self, prompt):\n",
    "        \"\"\"\n",
    "        Initializes the BasePrompt object with a prompt template.\n",
    "\n",
    "        :param prompt: A string that can contain placeholders within curly braces\n",
    "        \"\"\"\n",
    "        self.prompt = prompt\n",
    "        self._pattern = re.compile(r\"\\{([^}]+)\\}\")\n",
    "\n",
    "    def format_prompt(self, **kwargs):\n",
    "        \"\"\"\n",
    "        Formats the prompt string using the keyword arguments provided.\n",
    "\n",
    "        :param kwargs: The values to substitute into the prompt string\n",
    "        :return: The formatted prompt string\n",
    "        \"\"\"\n",
    "        matches = self._pattern.findall(self.prompt)\n",
    "        return self.prompt.format(**{match: kwargs.get(match, \"\") for match in matches})\n",
    "\n",
    "    def get_input_variables(self):\n",
    "        \"\"\"\n",
    "        Gets the list of input variable names from the prompt string.\n",
    "\n",
    "        :return: List of input variable names\n",
    "        \"\"\"\n",
    "        return self._pattern.findall(self.prompt)\n",
    "```\n",
    "\n",
    "Then we have our `RolePrompt` which laser focuses us on the role pattern found in most API endpoints for LLMs.\n",
    "\n",
    "```python\n",
    "class RolePrompt(BasePrompt):\n",
    "    def __init__(self, prompt, role: str):\n",
    "        \"\"\"\n",
    "        Initializes the RolePrompt object with a prompt template and a role.\n",
    "\n",
    "        :param prompt: A string that can contain placeholders within curly braces\n",
    "        :param role: The role for the message ('system', 'user', or 'assistant')\n",
    "        \"\"\"\n",
    "        super().__init__(prompt)\n",
    "        self.role = role\n",
    "\n",
    "    def create_message(self, **kwargs):\n",
    "        \"\"\"\n",
    "        Creates a message dictionary with a role and a formatted message.\n",
    "\n",
    "        :param kwargs: The values to substitute into the prompt string\n",
    "        :return: Dictionary containing the role and the formatted message\n",
    "        \"\"\"\n",
    "        return {\"role\": self.role, \"content\": self.format_prompt(**kwargs)}\n",
    "```\n",
    "\n",
    "We'll look at how the `SystemRolePrompt` is constructed to get a better idea of how that extension works:\n",
    "\n",
    "```python\n",
    "class SystemRolePrompt(RolePrompt):\n",
    "    def __init__(self, prompt: str):\n",
    "        super().__init__(prompt, \"system\")\n",
    "```\n",
    "\n",
    "That pattern is repeated for our `UserRolePrompt` and our `AssistantRolePrompt` as well."
   ]
  },
  {
   "cell_type": "markdown",
   "metadata": {
    "id": "D361R6sMR6yw"
   },
   "source": [
    "##### ChatOpenAI"
   ]
  },
  {
   "cell_type": "markdown",
   "metadata": {
    "id": "HJVQ2Pm8R6yw"
   },
   "source": [
    "Next we have our model, which is converted to a format analagous to libraries like LangChain and LlamaIndex.\n",
    "\n",
    "Let's take a peek at how that is constructed:\n",
    "\n",
    "```python\n",
    "class ChatOpenAI:\n",
    "    def __init__(self, model_name: str = \"gpt-4.1-mini\"):\n",
    "        self.model_name = model_name\n",
    "        self.openai_api_key = os.getenv(\"OPENAI_API_KEY\")\n",
    "        if self.openai_api_key is None:\n",
    "            raise ValueError(\"OPENAI_API_KEY is not set\")\n",
    "\n",
    "    def run(self, messages, text_only: bool = True):\n",
    "        if not isinstance(messages, list):\n",
    "            raise ValueError(\"messages must be a list\")\n",
    "\n",
    "        openai.api_key = self.openai_api_key\n",
    "        response = openai.ChatCompletion.create(\n",
    "            model=self.model_name, messages=messages\n",
    "        )\n",
    "\n",
    "        if text_only:\n",
    "            return response.choices[0].message.content\n",
    "\n",
    "        return response\n",
    "```"
   ]
  },
  {
   "cell_type": "markdown",
   "metadata": {
    "id": "qCU7FfhIR6yw"
   },
   "source": [
    "#### ❓ Question #3:\n",
    "\n",
    "When calling the OpenAI API - are there any ways we can achieve more reproducible outputs?\n",
    "\n",
    "> NOTE: Check out [this section](https://platform.openai.com/docs/guides/text-generation/) of the OpenAI documentation for the answer!"
   ]
  },
  {
   "cell_type": "markdown",
   "metadata": {},
   "source": [
    "##### ✅ Answer:\n",
    "Prompt Engineering - writing effective instructions for the model so that the output has clear success criteria and meets your requirements more consistently.\n",
    "There are some techniques that work with any model, such as using message roles. However, the prompts may need to be adjusted based on the model. Even different snapshots of models within the same family can produce different results with the same prompts. For that reason, it is recommended to pin your applications to model snapshots for consistent behavior. And to build a way to evaluate the behavior and performance of the prompts so you update it as necessary.\n",
    "You can pass in different insructions which behave like certain roles (developer). You can also pass in prompts as certain roles. The `developer` role has the highest priority and are used as instructions for the model. The `user` role is prioritized after `developer`, and these are the instructions given by the user - the query asked. There is also the `assistant` role which are messages generated by the model.\n",
    "You can also pass in reusable prompts which can be updated without changing any of the code. This allows you to iterate until you consistently get successful responses.\n"
   ]
  },
  {
   "cell_type": "markdown",
   "metadata": {
    "id": "c5wcjMLCR6yw"
   },
   "source": [
    "### Creating and Prompting OpenAI's `gpt-4.1-mini`!\n",
    "\n",
    "Let's tie all these together and use it to prompt `gpt-4.1-mini`!"
   ]
  },
  {
   "cell_type": "code",
   "execution_count": 11,
   "metadata": {
    "id": "WIfpIot7R6yw"
   },
   "outputs": [],
   "source": [
    "from aimakerspace.openai_utils.prompts import (\n",
    "    UserRolePrompt,\n",
    "    SystemRolePrompt,\n",
    "    AssistantRolePrompt,\n",
    ")\n",
    "\n",
    "from aimakerspace.openai_utils.chatmodel import ChatOpenAI\n",
    "\n",
    "chat_openai = ChatOpenAI()\n",
    "user_prompt_template = \"{content}\"\n",
    "user_role_prompt = UserRolePrompt(user_prompt_template)\n",
    "system_prompt_template = (\n",
    "    \"You are an expert in {expertise}, you always answer in a kind way.\"\n",
    ")\n",
    "system_role_prompt = SystemRolePrompt(system_prompt_template)\n",
    "\n",
    "messages = [\n",
    "    system_role_prompt.create_message(expertise=\"Python\"),\n",
    "    user_role_prompt.create_message(\n",
    "        content=\"What is the best way to write a loop?\"\n",
    "    ),\n",
    "]\n",
    "\n",
    "response = chat_openai.run(messages)"
   ]
  },
  {
   "cell_type": "code",
   "execution_count": 12,
   "metadata": {
    "colab": {
     "base_uri": "https://localhost:8080/"
    },
    "id": "dHo7lssNR6yw",
    "outputId": "1d3823fa-bb6b-45f6-ddba-b41686388324"
   },
   "outputs": [
    {
     "name": "stdout",
     "output_type": "stream",
     "text": [
      "Hello! The \"best\" way to write a loop in Python depends on what you're trying to achieve, but generally, using a `for` loop to iterate over sequences (like lists, strings, or ranges) is very clean and Pythonic.\n",
      "\n",
      "Here's an example of a simple and readable `for` loop:\n",
      "\n",
      "```python\n",
      "for item in iterable:\n",
      "    # do something with item\n",
      "```\n",
      "\n",
      "For example, to print numbers from 0 to 4:\n",
      "\n",
      "```python\n",
      "for i in range(5):\n",
      "    print(i)\n",
      "```\n",
      "\n",
      "If you need a loop that continues until a condition becomes false, a `while` loop works well:\n",
      "\n",
      "```python\n",
      "count = 0\n",
      "while count < 5:\n",
      "    print(count)\n",
      "    count += 1\n",
      "```\n",
      "\n",
      "If you want, feel free to share your specific use case, and I can help suggest the best loop style for it! 😊\n"
     ]
    }
   ],
   "source": [
    "print(response)"
   ]
  },
  {
   "cell_type": "markdown",
   "metadata": {
    "id": "r2nxxhB2R6yy"
   },
   "source": [
    "## Task 5: Retrieval Augmented Generation\n",
    "\n",
    "Now we can create a RAG prompt - which will help our system behave in a way that makes sense!\n",
    "\n",
    "There is much you could do here, many tweaks and improvements to be made!"
   ]
  },
  {
   "cell_type": "code",
   "execution_count": 13,
   "metadata": {
    "id": "D1hamzGaR6yy"
   },
   "outputs": [],
   "source": [
    "RAG_SYSTEM_TEMPLATE = \"\"\"You are a knowledgeable and thoughtful assistant that provides deep analysis based on provided context.\n",
    "\n",
    "Before answering, ask yourself these questions:\n",
    "- What is the core issue being described?\n",
    "- What causes or factors contribute to this situation?\n",
    "- What are the consequences or implications?\n",
    "- What patterns or principles does this illustrate?\n",
    "- How might this apply in similar situations?\n",
    "\n",
    "Instructions:\n",
    "- Think through your response step-by-step before providing your final answer\n",
    "- First, analyze what the context tells us about the topic\n",
    "- Then, identify the key insights and implications\n",
    "- Finally, synthesize this into a comprehensive response\n",
    "- Only answer questions using information from the provided context\n",
    "- If the context doesn't contain relevant information, respond with \"I don't know\"\n",
    "- Be accurate and cite specific parts of the context when possible\n",
    "- Keep responses {response_style} and {response_length}\n",
    "- Show your reasoning process before giving your final answer\n",
    "\n",
    "Then provide a comprehensive response that addresses these analytical dimensions while staying strictly within the provided context.\n",
    "\n",
    "Format your response as:\n",
    "**Analysis:** [Your step-by-step thinking]\n",
    "**Answer:** [Your final comprehensive response]\"\"\"\n",
    "\n",
    "\n",
    "RAG_USER_TEMPLATE = \"\"\"Context Information: {context}\n",
    "Number of relevant sources found: {context_count}\n",
    "{similarity_scores}\n",
    "\n",
    "Question: {user_query}\n",
    "\n",
    "Please analyze this question by considering:\n",
    "1. What does the context directly state about this topic?\n",
    "2. What are the underlying principles or patterns described?\n",
    "3. What implications or consequences are mentioned or can be inferred?\n",
    "4. How does this connect to broader concepts mentioned in the context?\n",
    "\n",
    "Provide your answer based solely on the context above, showing your analytical process.\"\"\"\n",
    "\n",
    "rag_system_prompt = SystemRolePrompt(\n",
    "    RAG_SYSTEM_TEMPLATE,\n",
    "    strict=True,\n",
    "    defaults={\n",
    "        \"response_style\": \"detailed\",\n",
    "        \"response_length\": \"comprehensive\"\n",
    "    }\n",
    ")\n",
    "\n",
    "rag_user_prompt = UserRolePrompt(\n",
    "    RAG_USER_TEMPLATE,\n",
    "    strict=True,\n",
    "    defaults={\n",
    "        \"context_count\": \"\",\n",
    "        \"similarity_scores\": \"\"\n",
    "    }\n",
    ")"
   ]
  },
  {
   "cell_type": "markdown",
   "metadata": {},
   "source": [
    "Now we can create our pipeline!"
   ]
  },
  {
   "cell_type": "code",
   "execution_count": 14,
   "metadata": {},
   "outputs": [],
   "source": [
    "class RetrievalAugmentedQAPipeline:\n",
    "    def __init__(self, llm: ChatOpenAI, vector_db_retriever: VectorDatabase, \n",
    "                 response_style: str = \"detailed\", include_scores: bool = False) -> None:\n",
    "        self.llm = llm\n",
    "        self.vector_db_retriever = vector_db_retriever\n",
    "        self.response_style = response_style\n",
    "        self.include_scores = include_scores\n",
    "\n",
    "    def run_pipeline(self, user_query: str, k: int = 4, **system_kwargs) -> dict:\n",
    "        # Retrieve relevant contexts\n",
    "        context_list = self.vector_db_retriever.search_by_text(user_query, k=k)\n",
    "        \n",
    "        context_prompt = \"\"\n",
    "        similarity_scores = []\n",
    "        \n",
    "        for i, (context, score) in enumerate(context_list, 1):\n",
    "            context_prompt += f\"[Source {i}]: {context}\\n\\n\"\n",
    "            similarity_scores.append(f\"Source {i}: {score:.3f}\")\n",
    "        \n",
    "        # Create system message with parameters\n",
    "        system_params = {\n",
    "            \"response_style\": self.response_style,\n",
    "            \"response_length\": system_kwargs.get(\"response_length\", \"detailed\")\n",
    "        }\n",
    "        \n",
    "        formatted_system_prompt = rag_system_prompt.create_message(**system_params)\n",
    "        \n",
    "        user_params = {\n",
    "            \"user_query\": user_query,\n",
    "            \"context\": context_prompt.strip(),\n",
    "            \"context_count\": len(context_list),\n",
    "            \"similarity_scores\": f\"Relevance scores: {', '.join(similarity_scores)}\" if self.include_scores else \"\"\n",
    "        }\n",
    "        \n",
    "        formatted_user_prompt = rag_user_prompt.create_message(**user_params)\n",
    "\n",
    "        return {\n",
    "            \"response\": self.llm.run([formatted_system_prompt, formatted_user_prompt]), \n",
    "            \"context\": context_list,\n",
    "            \"context_count\": len(context_list),\n",
    "            \"similarity_scores\": similarity_scores if self.include_scores else None,\n",
    "            \"prompts_used\": {\n",
    "                \"system\": formatted_system_prompt,\n",
    "                \"user\": formatted_user_prompt\n",
    "            }\n",
    "        }"
   ]
  },
  {
   "cell_type": "code",
   "execution_count": 15,
   "metadata": {},
   "outputs": [
    {
     "name": "stdout",
     "output_type": "stream",
     "text": [
      "Response: **Analysis:**  \n",
      "1. The context from Source 1 explicitly defines the \"Michael Eisner Memorial Weak Executive Problem.\" It occurs when a CEO or startup founder, previously strong or personally involved in a specific function (e.g., product management, sales, marketing), intentionally hires a weak executive to run that same function after ascending to the CEO role. The reason for this is the CEO's reluctance to fully relinquish control or influence over the function that initially made them successful or got them \"to the party.\"  \n",
      "   \n",
      "2. The underlying pattern is that the founder or CEO struggles with letting go of their previous role or specialty, which leads to hiring a weaker executive in that area. This allows the CEO to remain the ultimate authority or key player in the function, even if it undermines the function's effectiveness.\n",
      "\n",
      "3. The consequence, as illustrated by the Michael Eisner example from Disney, is that the function or division deteriorates under weak leadership. Eisner was a brilliant TV executive but when Disney bought ABC, ABC fell to fourth place under new leadership. Eisner believed he could turn ABC around himself if he had more time, highlighting the problem of trying to manage indirectly through a weak executive rather than strong direct leadership.\n",
      "\n",
      "4. This problem ties into broader concepts in the context about executive hiring and management. Namely, executives have strengths and weaknesses; successful leadership involves recognizing and hiring strong executives rather than weak ones to cover a CEO's prior specialization. Moreover, hands-on involvement like micromanagement might sometimes be necessary to mentor and develop new executives, but intentionally hiring weak executives to maintain control is counterproductive.\n",
      "\n",
      "**Answer:**  \n",
      "The \"Michael Eisner Memorial Weak Executive Problem\" refers to the phenomenon where a CEO or founder, who previously excelled in a particular functional area (such as product management, sales, or marketing), deliberately hires a weak executive to run that area after taking on the CEO role. This happens because the CEO struggles to relinquish control over the function that brought them success and prefers to remain the dominant authority in that domain. The problem is named after Michael Eisner, who as CEO of Disney, was a brilliant TV executive but after acquiring ABC, allowed its performance to decline under weak leadership. Eisner believed he could fix ABC himself if only he had more time, showcasing how CEOs avoid hiring strong executives in their old specialties to maintain personal influence. This pattern leads to underperformance and organizational harm. It highlights the broader principle that companies should hire strong executives even in the CEO's former domain and support them appropriately, rather than hiring weak ones to preserve the CEO’s personal control.\n",
      "\n",
      "Context Count: 3\n",
      "Similarity Scores: ['Source 1: 0.658', 'Source 2: 0.509', 'Source 3: 0.479']\n"
     ]
    }
   ],
   "source": [
    "rag_pipeline = RetrievalAugmentedQAPipeline(\n",
    "    vector_db_retriever=vector_db,\n",
    "    llm=chat_openai,\n",
    "    response_style=\"detailed\",\n",
    "    include_scores=True\n",
    ")\n",
    "\n",
    "result = rag_pipeline.run_pipeline(\n",
    "    \"What is the 'Michael Eisner Memorial Weak Executive Problem'?\",\n",
    "    k=3,\n",
    "    response_length=\"comprehensive\", \n",
    "    include_warnings=True,\n",
    "    confidence_required=True\n",
    ")\n",
    "\n",
    "print(f\"Response: {result['response']}\")\n",
    "print(f\"\\nContext Count: {result['context_count']}\")\n",
    "print(f\"Similarity Scores: {result['similarity_scores']}\")"
   ]
  },
  {
   "cell_type": "markdown",
   "metadata": {
    "id": "zZIJI19uR6yz"
   },
   "source": [
    "#### ❓ Question #4:\n",
    "\n",
    "What prompting strategies could you use to make the LLM have a more thoughtful, detailed response?\n",
    "\n",
    "What is that strategy called?\n",
    "\n",
    "> NOTE: You can look through our [OpenAI Responses API](https://colab.research.google.com/drive/14SCfRnp39N7aoOx8ZxadWb0hAqk4lQdL?usp=sharing) notebook for an answer to this question if you get stuck!"
   ]
  },
  {
   "cell_type": "markdown",
   "metadata": {},
   "source": [
    "##### ✅ Answer:\n",
    "The overall strategy to improve LLM responses is advanced or analytical prompt engineering techniques. All of these smaller strategies together will improve the responses and consistency of success.\n",
    "1. Chain of thought processing. Have the LLM think step by step and show it's reasoning before outputing the final response.\n",
    "2. Right now the LLM isn't allowed to use any external information. If we want a more accurate response, we should allow for different paths of reasoning which includes information that wasn't explicitly given to it by the user. We can also have the system think about the problem in different ways and then converge the ideas at the end for a more comprehensive response.\n",
    "3. We tell the LLM to `respond with \"I don't know\"` if it doesn't know the answer to a query. We can also have the system ask itself questions to create more in depth reasoning for each question.\n",
    "4. We can assign more well defined roles to the system so it understands what we expect from the responses better."
   ]
  },
  {
   "cell_type": "markdown",
   "metadata": {},
   "source": [
    "### 🏗️ Activity #1:\n",
    "\n",
    "Enhance your RAG application in some way! \n",
    "\n",
    "Suggestions are: \n",
    "\n",
    "- Allow it to work with PDF files\n",
    "- Implement a new distance metric\n",
    "- Add metadata support to the vector database\n",
    "- Use a different embedding model\n",
    "- Add the capability to ingest a YouTube link\n",
    "\n",
    "While these are suggestions, you should feel free to make whatever augmentations you desire! If you shared an idea during Session 1, think about features you might need to incorporate for your use case! \n",
    "\n",
    "When you're finished making the augments to your RAG application - vibe check it against the old one - see if you can \"feel the improvement\"!\n",
    "\n",
    "> NOTE: These additions might require you to work within the `aimakerspace` library - that's expected!\n",
    "\n",
    "> NOTE: If you're not sure where to start - ask Cursor (CMD/CTRL+L) to guide you through the changes!"
   ]
  },
  {
   "cell_type": "markdown",
   "metadata": {},
   "source": [
    "Now on to Youtube"
   ]
  },
  {
   "cell_type": "code",
   "execution_count": 16,
   "metadata": {},
   "outputs": [],
   "source": [
    "# from youtube_transcript_api import YouTubeTranscriptApi\n",
    "# from urllib.parse import urlparse, parse_qs\n",
    "\n",
    "# def get_video_id(url: str) -> str:\n",
    "#     parsed_url = urlparse(url)\n",
    "#     # Extract query parameters\n",
    "#     query_params = parse_qs(parsed_url.query)\n",
    "#     return query_params.get(\"v\", [None])[0]\n",
    "\n",
    "# def get_video_transcript(video_id: str, lang: str = \"en\") -> list:\n",
    "#     print(\"video_id\", video_id)\n",
    "#     youtube_api = YouTubeTranscriptApi()\n",
    "#     transcript = youtube_api.fetch(video_id, languages=[lang])\n",
    "#     # transcript is a list of dicts: [{'text': '...', 'start': 0.0, 'duration': 5.0}, ...]\n",
    "#     return [{'text': snippet.text, 'start': snippet.start, 'duration': snippet.duration} for snippet in transcript]\n",
    "\n",
    "# def chunk_transcript(transcript, chunk_size=120):\n",
    "#     chunks, current_chunk, current_start = [], [], 0\n",
    "\n",
    "#     for entry in transcript:\n",
    "#         start_time = entry['start']\n",
    "#         if start_time - current_start < chunk_size:\n",
    "#             current_chunk.append(entry['text'])\n",
    "#         else:\n",
    "#             chunks.append((current_start, \" \".join(current_chunk)))\n",
    "#             current_chunk = [entry['text']]\n",
    "#             current_start = start_time\n",
    "#     if current_chunk:\n",
    "#         chunks.append((current_start, \" \".join(current_chunk)))\n",
    "#     return chunks\n",
    "\n",
    "# def summarize_chunks(chunks, llm):\n",
    "#     summaries = []\n",
    "#     for start_time, text in chunks:\n",
    "#         response = llm.run([\n",
    "#             {\"role\": \"system\", \"content\": \"You are a helpful assistant that summarizes YouTube transcripts.\"},\n",
    "#             {\"role\": \"user\", \"content\": f\"Summarize this segment:\\n\\n{text}\"}\n",
    "#         ])\n",
    "#         summaries.append((start_time, response))\n",
    "#     return summaries\n",
    "\n",
    "# def format_summary(summaries):\n",
    "#     for start_time, summary in summaries:\n",
    "#         minutes = int(start_time // 60)\n",
    "#         print(f\"[{minutes:02d}:00] {summary}\")\n",
    "\n",
    "\n"
   ]
  },
  {
   "cell_type": "code",
   "execution_count": 17,
   "metadata": {},
   "outputs": [],
   "source": [
    "# # youtube_url = \"8vFGrNjT4P4\"\n",
    "# youtube_url =input(\"Youtube Url: \")\n",
    "# video_id = get_video_id(youtube_url)\n",
    "# print(f\"URL, {video_id}\")\n",
    "\n",
    "\n",
    "# transcript = get_video_transcript(video_id)\n",
    "\n",
    "# print(f\"transcript, {transcript}\")\n",
    "\n",
    "# chunked_transcript = chunk_transcript(transcript)\n",
    "\n",
    "# print(f\"chunked_transcript, {chunked_transcript}\")\n",
    "\n"
   ]
  },
  {
   "cell_type": "code",
   "execution_count": 18,
   "metadata": {},
   "outputs": [],
   "source": [
    "# summarized_chunks = summarize_chunks(chunked_transcript, chat_openai)\n",
    "\n",
    "# print(f\"summarized_chunks, {summarized_chunks}\")\n",
    "\n",
    "\n",
    "# formatted_summary = format_summary(summarized_chunks)\n",
    "\n",
    "# print(f\"formatted_summary, {formatted_summary}\")"
   ]
  },
  {
   "cell_type": "markdown",
   "metadata": {},
   "source": [
    "YouTube Transcript RAG System\n",
    "\n",
    "Key features:\n",
    "1. Index YouTube videos by URL\n",
    "2. Search through transcript content semantically\n",
    "3. Ask questions about video content\n",
    "4. Get video summaries\n",
    "5. Access timestamped sources\n",
    "\n",
    "Example usage:\n",
    "\n",
    "#### Index a video\n",
    "`video_id = await youtube_rag.index_video(\"https://www.youtube.com/watch?v=VIDEO_ID\")`\n",
    "\n",
    "#### Search for specific content\n",
    "`results = youtube_rag.search_transcript(\"speaking techniques\", k=3)`\n",
    "\n",
    "#### Ask questions about the video\n",
    "`answer = youtube_rag.ask_question(\"What are the main speaking tips mentioned?\", video_id)`\n",
    "\n",
    "#### Get a summary\n",
    "`summary = youtube_rag.get_video_summary(video_id)`\n",
    "\n",
    "#### List all indexed videos\n",
    "`videos = youtube_rag.list_indexed_videos()`"
   ]
  },
  {
   "cell_type": "code",
   "execution_count": 19,
   "metadata": {},
   "outputs": [],
   "source": [
    "# Enhanced YouTube Transcript RAG System\n",
    "from youtube_transcript_api import YouTubeTranscriptApi\n",
    "from urllib.parse import urlparse, parse_qs\n",
    "from aimakerspace.vectordatabase import VectorDatabase\n",
    "from aimakerspace.openai_utils.chatmodel import ChatOpenAI\n",
    "from aimakerspace.openai_utils.prompts import SystemRolePrompt, UserRolePrompt\n",
    "import asyncio\n",
    "import numpy as np\n",
    "from typing import List, Dict, Tuple, Optional\n",
    "import json\n",
    "\n",
    "class YouTubeTranscriptRAG:\n",
    "    \"\"\"\n",
    "    A RAG system for YouTube transcripts that can index, search, and answer questions\n",
    "    about video content using semantic similarity and LLM generation.\n",
    "    \"\"\"\n",
    "    \n",
    "    def __init__(self, llm: ChatOpenAI = None, embedding_model=None):\n",
    "        self.llm = llm or ChatOpenAI()\n",
    "        self.vector_db = VectorDatabase(embedding_model)\n",
    "        self.transcript_data = {}  # Store original transcript data\n",
    "        self.video_metadata = {}   # Store video information\n",
    "        \n",
    "    def get_video_id(self, url: str) -> str:\n",
    "        \"\"\"Extract video ID from YouTube URL\"\"\"\n",
    "        parsed_url = urlparse(url)\n",
    "        query_params = parse_qs(parsed_url.query)\n",
    "        return query_params.get(\"v\", [None])[0]\n",
    "    \n",
    "    def get_video_transcript(self, video_id: str, lang: str = \"en\") -> List[Dict]:\n",
    "        \"\"\"Fetch transcript from YouTube API\"\"\"\n",
    "        print(f\"Fetching transcript for video ID: {video_id}\")\n",
    "        youtube_api = YouTubeTranscriptApi()\n",
    "        transcript = youtube_api.fetch(video_id, languages=[lang])\n",
    "        return [{'text': snippet.text, 'start': snippet.start, 'duration': snippet.duration} for snippet in transcript]\n",
    "    \n",
    "    def chunk_transcript(self, transcript: List[Dict], chunk_size: int = 120) -> List[Tuple[float, str, Dict]]:\n",
    "        \"\"\"\n",
    "        Chunk transcript into segments with metadata\n",
    "        Returns: List of (start_time, text, metadata) tuples\n",
    "        \"\"\"\n",
    "        chunks = []\n",
    "        current_chunk = []\n",
    "        current_start = 0\n",
    "        \n",
    "        for entry in transcript:\n",
    "            start_time = entry['start']\n",
    "            if start_time - current_start < chunk_size:\n",
    "                current_chunk.append(entry['text'])\n",
    "            else:\n",
    "                if current_chunk:\n",
    "                    # Create metadata for this chunk\n",
    "                    metadata = {\n",
    "                        'start_time': current_start,\n",
    "                        'end_time': start_time,\n",
    "                        'duration': start_time - current_start,\n",
    "                        'video_id': getattr(self, 'current_video_id', None)\n",
    "                    }\n",
    "                    chunks.append((current_start, \" \".join(current_chunk), metadata))\n",
    "                current_chunk = [entry['text']]\n",
    "                current_start = start_time\n",
    "        \n",
    "        # Add the last chunk\n",
    "        if current_chunk:\n",
    "            metadata = {\n",
    "                'start_time': current_start,\n",
    "                'end_time': transcript[-1]['start'] + transcript[-1]['duration'],\n",
    "                'duration': (transcript[-1]['start'] + transcript[-1]['duration']) - current_start,\n",
    "                'video_id': getattr(self, 'current_video_id', None)\n",
    "            }\n",
    "            chunks.append((current_start, \" \".join(current_chunk), metadata))\n",
    "        \n",
    "        return chunks\n",
    "    \n",
    "    async def index_video(self, video_url: str, chunk_size: int = 120, lang: str = \"en\") -> str:\n",
    "        \"\"\"\n",
    "        Index a YouTube video for RAG search\n",
    "        Returns the video ID\n",
    "        \"\"\"\n",
    "        video_id = self.get_video_id(video_url)\n",
    "        if not video_id:\n",
    "            raise ValueError(\"Invalid YouTube URL - could not extract video ID\")\n",
    "        \n",
    "        self.current_video_id = video_id\n",
    "        \n",
    "        # Fetch transcript\n",
    "        transcript = self.get_video_transcript(video_id, lang)\n",
    "        self.transcript_data[video_id] = transcript\n",
    "        \n",
    "        # Store video metadata\n",
    "        self.video_metadata[video_id] = {\n",
    "            'url': video_url,\n",
    "            'video_id': video_id,\n",
    "            'language': lang,\n",
    "            'total_segments': len(transcript),\n",
    "            'total_duration': transcript[-1]['start'] + transcript[-1]['duration'] if transcript else 0\n",
    "        }\n",
    "        \n",
    "        # Chunk the transcript\n",
    "        chunks = self.chunk_transcript(transcript, chunk_size)\n",
    "        \n",
    "        # Prepare texts for embedding\n",
    "        chunk_texts = [chunk[1] for chunk in chunks]  # Extract text from chunks\n",
    "        \n",
    "        # Create embeddings and add to vector database\n",
    "        await self.vector_db.abuild_from_list(chunk_texts)\n",
    "        \n",
    "        # Store chunk metadata for later retrieval\n",
    "        for i, (start_time, text, metadata) in enumerate(chunks):\n",
    "            # Use the text as key to store metadata\n",
    "            if hasattr(self.vector_db, 'metadata'):\n",
    "                self.vector_db.metadata[text] = metadata\n",
    "            else:\n",
    "                self.vector_db.metadata = {text: metadata}\n",
    "        \n",
    "        print(f\"Successfully indexed video {video_id} with {len(chunks)} chunks\")\n",
    "        return video_id\n",
    "    \n",
    "    def search_transcript(self, query: str, k: int = 5, video_id: str = None) -> List[Tuple[str, float, Dict]]:\n",
    "        \"\"\"\n",
    "        Search through indexed transcripts\n",
    "        Returns: List of (text, similarity_score, metadata) tuples\n",
    "        \"\"\"\n",
    "        # Get search results from vector database\n",
    "        results = self.vector_db.search_by_text(query, k=k)\n",
    "        \n",
    "        # Add metadata to results\n",
    "        enhanced_results = []\n",
    "        for text, score in results:\n",
    "            metadata = getattr(self.vector_db, 'metadata', {}).get(text, {})\n",
    "            \n",
    "            # Filter by video_id if specified\n",
    "            if video_id and metadata.get('video_id') != video_id:\n",
    "                continue\n",
    "                \n",
    "            enhanced_results.append((text, score, metadata))\n",
    "        \n",
    "        return enhanced_results\n",
    "    \n",
    "    def ask_question(self, question: str, video_id: str = None, k: int = 5) -> Dict:\n",
    "        \"\"\"\n",
    "        Ask a question about the indexed video content using RAG\n",
    "        \"\"\"\n",
    "        # Search for relevant chunks\n",
    "        relevant_chunks = self.search_transcript(question, k=k, video_id=video_id)\n",
    "        \n",
    "        if not relevant_chunks:\n",
    "            return {\n",
    "                \"answer\": \"No relevant information found in the indexed videos.\",\n",
    "                \"sources\": [],\n",
    "                \"video_id\": video_id\n",
    "            }\n",
    "        \n",
    "        # Prepare context from relevant chunks\n",
    "        context_parts = []\n",
    "        sources = []\n",
    "        \n",
    "        for i, (text, score, metadata) in enumerate(relevant_chunks, 1):\n",
    "            start_minutes = int(metadata.get('start_time', 0) // 60)\n",
    "            start_seconds = int(metadata.get('start_time', 0) % 60)\n",
    "            timestamp = f\"{start_minutes:02d}:{start_seconds:02d}\"\n",
    "            \n",
    "            context_parts.append(f\"[Source {i} - {timestamp}]: {text}\")\n",
    "            sources.append({\n",
    "                'text': text,\n",
    "                'timestamp': timestamp,\n",
    "                'start_time': metadata.get('start_time', 0),\n",
    "                'similarity_score': score,\n",
    "                'video_id': metadata.get('video_id')\n",
    "            })\n",
    "        \n",
    "        context = \"\\n\\n\".join(context_parts)\n",
    "        \n",
    "        # Create RAG prompt\n",
    "        system_prompt = SystemRolePrompt(\"\"\"\n",
    "        You are a helpful assistant that answers questions about YouTube video content.\n",
    "        Use only the provided context from the video transcript to answer questions.\n",
    "        If the context doesn't contain enough information to answer the question, say so.\n",
    "        When referencing specific parts of the video, mention the timestamp if available.\n",
    "        \"\"\")\n",
    "        \n",
    "        user_prompt = UserRolePrompt(\"\"\"\n",
    "        Context from YouTube video transcript:\n",
    "        {context}\n",
    "        \n",
    "        Question: {question}\n",
    "        \n",
    "        Please provide a comprehensive answer based on the video content above.\n",
    "        \"\"\")\n",
    "        \n",
    "        # Generate response\n",
    "        messages = [\n",
    "            system_prompt.create_message(),\n",
    "            user_prompt.create_message(context=context, question=question)\n",
    "        ]\n",
    "        \n",
    "        answer = self.llm.run(messages)\n",
    "        \n",
    "        return {\n",
    "            \"answer\": answer,\n",
    "            \"sources\": sources,\n",
    "            \"video_id\": video_id or \"all_videos\",\n",
    "            \"context_count\": len(relevant_chunks)\n",
    "        }\n",
    "    \n",
    "    def get_video_summary(self, video_id: str, max_chunks: int = 10) -> str:\n",
    "        \"\"\"\n",
    "        Generate a summary of the video content\n",
    "        \"\"\"\n",
    "        if video_id not in self.transcript_data:\n",
    "            return \"Video not found in indexed data.\"\n",
    "        \n",
    "        # Get all chunks for this video\n",
    "        all_chunks = []\n",
    "        for text, metadata in getattr(self.vector_db, 'metadata', {}).items():\n",
    "            if metadata.get('video_id') == video_id:\n",
    "                all_chunks.append((metadata.get('start_time', 0), text))\n",
    "        \n",
    "        # Sort by start time and take first max_chunks\n",
    "        all_chunks.sort(key=lambda x: x[0])\n",
    "        selected_chunks = all_chunks[:max_chunks]\n",
    "        \n",
    "        # Combine text\n",
    "        combined_text = \" \".join([chunk[1] for chunk in selected_chunks])\n",
    "        \n",
    "        # Generate summary\n",
    "        system_prompt = SystemRolePrompt(\"\"\"\n",
    "        You are a helpful assistant that creates concise summaries of YouTube video content.\n",
    "        Create a clear, structured summary that captures the main points and key insights.\n",
    "        \"\"\")\n",
    "        \n",
    "        user_prompt = UserRolePrompt(\"\"\"\n",
    "        Please summarize the following YouTube video content:\n",
    "        \n",
    "        {content}\n",
    "        \n",
    "        Provide a structured summary with main points and key insights.\n",
    "        \"\"\")\n",
    "        \n",
    "        messages = [\n",
    "            system_prompt.create_message(),\n",
    "            user_prompt.create_message(content=combined_text)\n",
    "        ]\n",
    "        \n",
    "        return self.llm.run(messages)\n",
    "    \n",
    "    def list_indexed_videos(self) -> List[Dict]:\n",
    "        \"\"\"Get list of all indexed videos with metadata\"\"\"\n",
    "        return list(self.video_metadata.values())\n",
    "    \n",
    "    def get_video_stats(self, video_id: str) -> Dict:\n",
    "        \"\"\"Get statistics about an indexed video\"\"\"\n",
    "        if video_id not in self.video_metadata:\n",
    "            return {\"error\": \"Video not found\"}\n",
    "        \n",
    "        metadata = self.video_metadata[video_id]\n",
    "        chunk_count = len([m for m in getattr(self.vector_db, 'metadata', {}).values() \n",
    "                          if m.get('video_id') == video_id])\n",
    "        \n",
    "        return {\n",
    "            **metadata,\n",
    "            \"indexed_chunks\": chunk_count,\n",
    "            \"average_chunk_duration\": metadata['total_duration'] / chunk_count if chunk_count > 0 else 0\n",
    "        }\n"
   ]
  },
  {
   "cell_type": "code",
   "execution_count": 20,
   "metadata": {},
   "outputs": [
    {
     "name": "stdout",
     "output_type": "stream",
     "text": [
      "Fetching transcript for video ID: Unzc731iCUY\n",
      "Successfully indexed video Unzc731iCUY with 61 chunks\n",
      "Successfully indexed video: Unzc731iCUY\n",
      "Video stats: {'url': 'https://www.youtube.com/watch?v=Unzc731iCUY', 'video_id': 'Unzc731iCUY', 'language': 'en', 'total_segments': 1166, 'total_duration': 3789.3399999999997, 'indexed_chunks': 61, 'average_chunk_duration': 62.120327868852456}\n"
     ]
    }
   ],
   "source": [
    "#  Using the RAG system with the existing video data\n",
    "\n",
    "# Initialize the RAG system\n",
    "youtube_rag = YouTubeTranscriptRAG()\n",
    "\n",
    "# Using Patrick Winston's \"How to Speak\" lecture\n",
    "video_url = \"https://www.youtube.com/watch?v=Unzc731iCUY\" \n",
    "\n",
    "# Index the video (this will create embeddings and make it searchable)\n",
    "video_id = await youtube_rag.index_video(video_url, chunk_size=60)\n",
    "\n",
    "print(f\"Successfully indexed video: {video_id}\")\n",
    "print(f\"Video stats: {youtube_rag.get_video_stats(video_id)}\")\n",
    "\n",
    "\n"
   ]
  },
  {
   "cell_type": "code",
   "execution_count": 21,
   "metadata": {},
   "outputs": [
    {
     "name": "stdout",
     "output_type": "stream",
     "text": [
      "\n",
      "1. Searching for 'speaking techniques':\n",
      "  Result 1 (Score: 0.536, Time: 09:23):\n",
      "  It can't be too obvious\n",
      "because then people will be embarrassed to say\n",
      "it, but the answers can't be ...\n",
      "\n",
      "  Result 2 (Score: 0.532, Time: 02:03):\n",
      "  And I was a better skier because\n",
      "I had the K, and I had the P, and all she had\n",
      "was the T. So you can...\n",
      "\n",
      "  Result 3 (Score: 0.461, Time: 05:13):\n",
      "  that they didn't know at\n",
      "the beginning of the hour. It's an empowerment promise. It's the reason for...\n",
      "\n"
     ]
    }
   ],
   "source": [
    "# 1. Search for specific content\n",
    "print(\"\\n1. Searching for 'speaking techniques':\")\n",
    "search_results = youtube_rag.search_transcript(\"speaking techniques\", k=3, video_id=video_id)\n",
    "for i, (text, score, metadata) in enumerate(search_results, 1):\n",
    "    timestamp = f\"{int(metadata['start_time']//60):02d}:{int(metadata['start_time']%60):02d}\"\n",
    "    print(f\"  Result {i} (Score: {score:.3f}, Time: {timestamp}):\")\n",
    "    print(f\"  {text[:100]}...\")\n",
    "    print()"
   ]
  },
  {
   "cell_type": "code",
   "execution_count": 22,
   "metadata": {},
   "outputs": [
    {
     "name": "stdout",
     "output_type": "stream",
     "text": [
      "2. Asking: 'What are the main speaking tips mentioned?'\n",
      "Answer: The main speaking tips mentioned in the video are as follows:\n",
      "\n",
      "1. **Build a Personal Repertoire of Techniques (09:23)**  \n",
      "   Observe effective speakers you admire and analyze why they are successful. Use this understanding to develop your own personal style by building up a repertoire (or \"armamentarium\") of speaking techniques and heuristics. The speaker emphasizes the importance of having a variety of ideas and methods that you can draw upon when presenting.\n",
      "\n",
      "2. **Have an Empowerment Promise to Start Your Talk (04:11, 05:13)**  \n",
      "   Instead of starting with a joke—which often falls flat because the audience is still settling in—you should begin your talk by making an empowerment promise. This means clearly telling the audience what new knowledge or benefits they will gain by the end of your presentation. For example, \"At the end of this 60 minutes, you will know things about speaking you don’t know now, and something among those things will make a difference in your life.\"\n",
      "\n",
      "3. **Cycle on the Subject (05:13)**  \n",
      "   Reiterate important points by going around your subject multiple times in different ways. The idea is to tell the audience what you want to tell them, tell them again, and then tell them a third time. This repetition helps reinforce key ideas without being condescending.\n",
      "\n",
      "4. **Consider Time and Place (09:23, 11:27)**  \n",
      "   Pay attention to where and when you are presenting. Visit the speaking location in advance to familiarize yourself with it, so there are no surprises on the day of the presentation. This helps you handle any unusual circumstances effectively. Also, keep environmental factors in mind, such as lighting—full lights rather than darkened rooms are better because it is hard for the audience to pay attention or see slides if they are drowsy or closing their eyes.\n",
      "\n",
      "5. **Use the Right Techniques at the Right Time (02:03)**  \n",
      "   A diverse set of speaking techniques can improve your effectiveness even if you don't have inherent talent. Some heuristic or technique you learn may significantly impact your success, possibly even helping you secure a job or opportunity. The process of improving as a speaker is non-linear, and exposure to a variety of ideas can help you build your \"armamentarium\" to maximize the value and acceptance of your ideas.\n",
      "\n",
      "In summary, effective speaking involves preparing specialized techniques, starting with a clear promise to engage the audience, using repetition strategically, understanding and controlling the speaking environment, and continuously building your personal repertoire of methods to suit different contexts.\n",
      "Sources used: 5 chunks\n",
      "\n"
     ]
    }
   ],
   "source": [
    "# 2. Ask a question about the video content\n",
    "print(\"2. Asking: 'What are the main speaking tips mentioned?'\")\n",
    "question_result = youtube_rag.ask_question(\"What are the main speaking tips mentioned?\", video_id=video_id)\n",
    "print(f\"Answer: {question_result['answer']}\")\n",
    "print(f\"Sources used: {question_result['context_count']} chunks\")\n",
    "print()\n"
   ]
  },
  {
   "cell_type": "code",
   "execution_count": 23,
   "metadata": {},
   "outputs": [
    {
     "name": "stdout",
     "output_type": "stream",
     "text": [
      "3. Asking: 'What is the main topic of what happens between minutes 10 and 20 in the video?'\n",
      "Answer: The video transcript provided does not contain information specifically covering the content or main topic occurring between minutes 10 and 20. The closest timestamps available in the context are around 5:13, 8:22, 35:22, 38:27, and 39:29, which address topics such as how to start a talk with an \"empowerment promise,\" techniques for engaging the audience (like asking questions and pausing for answers), reviewing tools, and expressing passion in presentations. However, there is no detailed content or description from the 10 to 20-minute segment. Therefore, based on the given context, it is not possible to determine the main topic of the video during minutes 10 to 20.\n",
      "Sources used: 5 chunks\n",
      "\n"
     ]
    }
   ],
   "source": [
    "#  Ask more questions about the video content\n",
    "print(\"3. Asking: 'What is the main topic of what happens between minutes 10 and 20 in the video?'\")\n",
    "question_result = youtube_rag.ask_question(\"What is the main topic of what happens between minutes 10 and 20 in the video?\", video_id=video_id)\n",
    "print(f\"Answer: {question_result['answer']}\")\n",
    "print(f\"Sources used: {question_result['context_count']} chunks\")\n",
    "print()\n",
    "\n"
   ]
  },
  {
   "cell_type": "code",
   "execution_count": 24,
   "metadata": {},
   "outputs": [
    {
     "name": "stdout",
     "output_type": "stream",
     "text": [
      "4. Asking: 'Given that I should not start with humor, where in my speeches should I try and get people to laugh?\n",
      "Answer: Based on the content from the video transcript, you should avoid starting your speech with a joke because at the beginning, people are still settling in—they might be putting their laptops away and adjusting to your vocal style, so they are not ready for humor (Source 1 - 04:11).\n",
      "\n",
      "Instead, an effective place to incorporate humor is at the end of your talk. According to the speaker's conversation with Doug Lenat, a fantastic speaker, the secret to his success is that he always finishes with a joke. Ending with humor leaves the audience with the impression that they've had fun throughout the presentation (Source 2 - 57:04).\n",
      "\n",
      "So, while starting with humor is generally not recommended, concluding your talk with a joke is a good strategy to create a positive, memorable ending and engagement with your audience.\n",
      "Sources used: 5 chunks\n",
      "\n"
     ]
    }
   ],
   "source": [
    "print(\"4. Asking: 'Given that I should not start with humor, where in my speeches should I try and get people to laugh?\")\n",
    "question_result = youtube_rag.ask_question(\"Given that I should not start with humor, where in my speeches should I try and get people to laugh?\", video_id=video_id)\n",
    "print(f\"Answer: {question_result['answer']}\")\n",
    "print(f\"Sources used: {question_result['context_count']} chunks\")\n",
    "print()\n",
    "\n"
   ]
  },
  {
   "cell_type": "code",
   "execution_count": 25,
   "metadata": {},
   "outputs": [
    {
     "name": "stdout",
     "output_type": "stream",
     "text": [
      "5. Asking: 'How do I get people to stay engaged throughout the entire speech? Give examples of differences I should incorprate depending on the time length, and the different mediums used while presenting.\n",
      "Answer: To keep people engaged throughout your entire speech, several strategies and considerations are advised based on the video content:\n",
      "\n",
      "1. **Start Strong with an Empowerment Promise (Source 5 - 04:11):**  \n",
      "   Instead of beginning with a joke, which often falls flat because the audience is still settling in, start by telling your audience what they will know or gain by the end of the talk. This \"empowerment promise\" sets expectations and motivates listeners to stay focused.\n",
      "\n",
      "2. **Balance Content Difficulty (Source 1 - 09:23):**  \n",
      "   Your content should neither be too obvious nor too hard. If the material is too obvious, people may be embarrassed to respond or engage; if it's too hard, they may have nothing to say or feel lost. Aim for that sweet spot to maintain engagement and encourage interaction.\n",
      "\n",
      "3. **Build Personal Style by Observing Effective Speakers (Source 1 - 09:23):**  \n",
      "   Watch speakers you admire, analyze why they succeed, and develop your own repertoire of techniques and personal style. This helps in tailoring your presentation in a way that resonates best with your audience.\n",
      "\n",
      "4. **Slide Preparation and Simplification (Source 3 - 27:10):**  \n",
      "   Use slides effectively:\n",
      "   - Eliminate unnecessary titles to reduce distraction.\n",
      "   - Reduce the number of words on slides so the audience focuses more on you rather than reading.\n",
      "   - Since people have one language processor, avoid making them read and listen at the same time.\n",
      "   \n",
      "   This helps keep attention on your speech rather than divided between reading and listening.\n",
      "\n",
      "5. **Use Visual Aids Carefully (Source 2 - 31:17):**  \n",
      "   Avoid using a laser pointer because turning your head to point causes loss of eye contact with the audience, breaking engagement.\n",
      "   \n",
      "   Instead, put graphical elements like arrows on your slides to direct attention.  \n",
      "   \n",
      "   Also, ensure your slides are not \"too heavy\" — avoid too much text and include enough white space and imagery.\n",
      "\n",
      "6. **Contribute and Conclude Effectively (Source 4 - 56:02):**  \n",
      "   Toward the end of your presentation, clearly show your contributions and what the audience gets out of the talk. Use a contribution slide summarizing key points.  \n",
      "   \n",
      "   You can also signal you are finished by telling a related joke or using a clear concluding statement to help your audience mentally wrap up.\n",
      "\n",
      "7. **Adapting Based on Time Length and Medium:**  \n",
      "   Although the exact differences in time length and medium are not explicitly detailed, the context implies:\n",
      "   - For shorter talks, simplify content more rigorously to avoid cognitive overload.\n",
      "   - For longer talks, build a repertoire with varying engagement techniques (visuals, repetition, personal style) to maintain attention over a longer period.\n",
      "   - When presenting in-person (with laptops or visual aids), work on maintaining eye contact and use visuals that don't require you to turn away.\n",
      "   - For remote or web-based presentations, avoid overloading slides and compensate for lack of physical presence by clear verbal cues and compelling slide design (Source 3 and 2).\n",
      "\n",
      "**Summary:** To keep your audience engaged throughout your speech, start with a promise of what they will learn, balance the difficulty of your content, simplify your slides to avoid divided attention, use visual aids without losing eye contact, and conclude with clear contributions and signals of closure. Tailor these methods depending on the talk length and medium by simplifying more for shorter talks and using a richer repertoire over longer ones, and always preserve engagement by minimizing distractions and maintaining audience focus.\n",
      "\n",
      "(References: Sources 1, 2, 3, 4, 5 from transcript timestamps 04:11, 09:23, 27:10, 31:17, 56:02)\n",
      "Sources used: 5 chunks\n",
      "\n"
     ]
    }
   ],
   "source": [
    "print(\"5. Asking: 'How do I get people to stay engaged throughout the entire speech? Give examples of differences I should incorprate depending on the time length, and the different mediums used while presenting.\")\n",
    "question_result = youtube_rag.ask_question(\"How do I get people to stay engaged throughout the entire speech? Give examples of differences I should incorprate depending on the time length, and the different mediums used while presenting.\", video_id=video_id)\n",
    "print(f\"Answer: {question_result['answer']}\")\n",
    "print(f\"Sources used: {question_result['context_count']} chunks\")\n",
    "print()\n",
    "\n"
   ]
  },
  {
   "cell_type": "code",
   "execution_count": 26,
   "metadata": {},
   "outputs": [
    {
     "name": "stdout",
     "output_type": "stream",
     "text": [
      "6. Getting video summary:\n",
      "Summary: Summary of Patrick Winston's Talk on Communication and Public Speaking:\n",
      "\n",
      "1. Importance of Communication Skills\n",
      "   - Success in life is largely determined by the ability to speak, write, and the quality of ideas (in that order).\n",
      "   - Students should be equipped with communication skills before entering life, similar to soldiers being armed before battle.\n",
      "\n",
      "2. Formula for Quality Communication\n",
      "   - Quality communication depends on:\n",
      "     - Knowledge (K)\n",
      "     - Practice (P)\n",
      "     - Talent (T)\n",
      "   - Talent plays a small role; knowledge and practice are far more significant.\n",
      "   - Example: Patrick compares his skiing ability to Olympic gymnast Mary Lou Retton’s novice skiing to illustrate how knowledge and practice can outweigh inherent talent.\n",
      "\n",
      "3. Objective and Promise of the Talk\n",
      "   - The talk aims to provide practical speaking techniques and heuristics.\n",
      "   - Attendees may find at least one technique that could help secure a job or opportunity.\n",
      "   - The learning process is non-linear, and success can come unexpectedly.\n",
      "\n",
      "4. Rule of Engagement during the Talk\n",
      "   - No laptops or cell phones allowed.\n",
      "   - Reason: Humans have one language processor, and multitasking with digital devices distracts both the user and others.\n",
      "   - Presence of laptops negatively impacts speaker performance and audience focus.\n",
      "\n",
      "5. How to Start a Talk Effectively\n",
      "   - Avoid starting with a joke, as audiences may still be settling in and not mentally prepared for humor.\n",
      "   - Instead, begin with an empowerment promise: clearly state what the audience will learn or gain by the end of the presentation.\n",
      "\n",
      "Key Insight:\n",
      "Mastering communication is a matter of accumulating knowledge and practicing it diligently, rather than relying on talent alone; employing effective speaking strategies can greatly enhance one’s ability to convey ideas and succeed professionally.\n",
      "\n"
     ]
    }
   ],
   "source": [
    "# 3. Get a summary of the video\n",
    "print(\"6. Getting video summary:\")\n",
    "summary = youtube_rag.get_video_summary(video_id, max_chunks=5)\n",
    "print(f\"Summary: {summary}\")\n",
    "print()\n",
    "\n"
   ]
  },
  {
   "cell_type": "code",
   "execution_count": 27,
   "metadata": {},
   "outputs": [
    {
     "name": "stdout",
     "output_type": "stream",
     "text": [
      "4. Indexed videos:\n",
      "  - Unzc731iCUY: 3789.3s, 1166 segments\n"
     ]
    }
   ],
   "source": [
    "# 4. List indexed videos\n",
    "print(\"4. Indexed videos:\")\n",
    "videos = youtube_rag.list_indexed_videos()\n",
    "for video in videos:\n",
    "    print(f\"  - {video['video_id']}: {video['total_duration']:.1f}s, {video['total_segments']} segments\")"
   ]
  },
  {
   "cell_type": "code",
   "execution_count": 28,
   "metadata": {},
   "outputs": [
    {
     "name": "stdin",
     "output_type": "stream",
     "text": [
      "Enter a video URL:  https://www.youtube.com/watch?v=vo4pMVb0R6M&ab_channel=CrashCourse\n"
     ]
    },
    {
     "name": "stdout",
     "output_type": "stream",
     "text": [
      "Fetching transcript for video ID: vo4pMVb0R6M\n",
      "Successfully indexed video vo4pMVb0R6M with 11 chunks\n",
      "Getting video summary:\n",
      "Summary: **Summary of YouTube Video Content on Psychology and Its History**\n",
      "\n",
      "---\n",
      "\n",
      "### Introduction to Psychology and the Mind\n",
      "- The human mind is described as the most complicated known piece of the universe, governing consciousness and behavior.\n",
      "- Psychology is the scientific study of behavior and mental processes.\n",
      "- Despite the brain’s complexity, humans persistently attempt to understand it.\n",
      "- The term \"psychology\" originates from Latin meaning \"study of the soul,\" evolving considerably over centuries.\n",
      "\n",
      "### Historical Background\n",
      "- Early ideas about the mind date back to Aristotle, who mistakenly placed consciousness in the heart.\n",
      "- Around 2000 years ago, the Chinese implemented psychological exams for public officials.\n",
      "- In the 9th century, Persian doctor Muhammad ibn Zakariya al-Rhazes described mental illness and established early psychiatric care.\n",
      "\n",
      "### Central Questions in Psychology\n",
      "- Psychology seeks to answer profound questions:\n",
      "  - Why do humans commit acts like genocide despite understanding their immorality?\n",
      "  - Do humans have free will, or are they guided by biology and environment?\n",
      "  - What is mental illness, and how can it be treated?\n",
      "  - What defines consciousness and the self?\n",
      "\n",
      "### Modern Psychology: Overview and Scope\n",
      "- Psychology covers how brains function, malfunction, heal, and influence behavior.\n",
      "- It explores consciousness, thoughts, feelings, and the essence of being alive.\n",
      "- It is a diverse and interdisciplinary science with varied schools of thought.\n",
      "\n",
      "### Notable Figures and Schools of Thought\n",
      "- **Sigmund Freud:** A pivotal and controversial figure who influenced ideas on personality, childhood, dreams, and sexuality. His work sparked both support and opposition.\n",
      "- Around Freud’s era, psychology had several competing schools:\n",
      "  - **Structuralism:** Initiated by Wilhelm Wundt and Edward Bradford Titchener in late 1800s Germany, focused on breaking down consciousness into basic elements via introspection.\n",
      "    - Criticism: Subjectivity and lack of scientific objectivity made it short-lived.\n",
      "  - **Functionalism:** Proposed by William James in the USA, emphasized the purpose and function of mental processes and behavior, inspired by Darwinian evolutionary ideas.\n",
      "- Freud began practicing in Vienna in 1886, specializing initially in nervous disorders.\n",
      "\n",
      "### Origins of Scientific Psychology\n",
      "- Scientific psychology began formally in 1879 with Wilhelm Wundt establishing the first psychology laboratory in Leipzig, Germany.\n",
      "- Wundt published *Principles of Physiological Psychology*, considered psychology’s first textbook.\n",
      "\n",
      "---\n",
      "\n",
      "**Key Insights:**\n",
      "\n",
      "- Psychology evolved from philosophical inquiries into a scientific discipline studying the mind and behavior.\n",
      "- Different psychological schools reflect distinct approaches: structuralism’s focus on elements of consciousness vs. functionalism’s focus on mental processes’ adaptive roles.\n",
      "- Freud’s psychoanalysis introduced groundbreaking but contentious ideas shaping modern psychology.\n",
      "- The field continues to address fundamental questions about human nature, consciousness, and mental health.\n",
      "\n",
      "---\n",
      "\n",
      "This video serves as an introductory overview into psychology’s origins, core questions, historical context, and foundational thinkers, setting the stage for deeper exploration into the science of the mind.\n",
      "\n"
     ]
    }
   ],
   "source": [
    "# User inputted youtube url\n",
    "video_url = input(\"Enter a video URL: \")\n",
    "\n",
    "# Index the video (this will create embeddings and make it searchable)\n",
    "video_id = await youtube_rag.index_video(video_url, chunk_size=60)\n",
    "\n",
    "# 3. Get a summary of the video\n",
    "print(\"Getting video summary:\")\n",
    "summary = youtube_rag.get_video_summary(video_id, max_chunks=5)\n",
    "print(f\"Summary: {summary}\")\n",
    "print()\n",
    "\n",
    "\n"
   ]
  },
  {
   "cell_type": "code",
   "execution_count": 29,
   "metadata": {},
   "outputs": [
    {
     "name": "stdin",
     "output_type": "stream",
     "text": [
      "Ask a question:  How does psychology differ from philosophy?\n"
     ]
    },
    {
     "name": "stdout",
     "output_type": "stream",
     "text": [
      "Answer: Based on the video content, psychology differs from philosophy primarily in its approach and methods. While philosophy has long pondered questions about the mind, soul, and human nature (as mentioned with Aristotle and the early use of the term \"psychology\" around the sixteenth century [Source 2 - 00:00]), psychology emerged as a formal science in the mid-1800s that focuses on the scientific study of behavior and mental processes.\n",
      "\n",
      "Psychology seeks to understand how the brain works, how it can break or be healed, and why we behave the way we do, employing empirical methods including observation and experimentation [Source 4 - 02:01]. For example, Wilhelm Wundt established the first psychology laboratory in 1879, aiming to study the structures of consciousness through introspection in a systematic way inspired by approaches in chemistry and physics [Source 1 - 03:02]. This scientific, experimental approach contrasts with philosophy's more speculative and conceptual methods.\n",
      "\n",
      "Moreover, psychology integrates diverse schools of thought, including structuralism, functionalism, psychoanalysis, behaviorism, humanist psychology, cognitive science, and neuroscience, which together form an empirical, multidisciplinary science of behavior and mental processes [Sources 1, 3].\n",
      "\n",
      "In summary, unlike philosophy, which deals broadly with questions about the soul and mind mostly through reasoning and argument, psychology treats these subjects as scientific domains, employing experimentation and observation to systematically study behavior and mental processes.\n",
      "Sources used: 5 chunks\n",
      "\n"
     ]
    }
   ],
   "source": [
    "# have the user ask a question about the video\n",
    "user_inputted_question = input(\"Ask a question: \")\n",
    "\n",
    "question_result = youtube_rag.ask_question(user_inputted_question, video_id=video_id)\n",
    "print(f\"Answer: {question_result['answer']}\")\n",
    "print(f\"Sources used: {question_result['context_count']} chunks\")\n",
    "print()"
   ]
  },
  {
   "cell_type": "markdown",
   "metadata": {},
   "source": [
    "# Advanced Usage Examples\n",
    "\n",
    "## ADVANCED RAG USAGE PATTERNS\n",
    "\n",
    "### 1. Multiple Video Support:\n",
    "- Index multiple videos: `await youtube_rag.index_video(url1)`, `await youtube_rag.index_video(url2)`\n",
    "- Search across all videos: `youtube_rag.search_transcript('query')`\n",
    "- Search specific video: `youtube_rag.search_transcript('query', video_id='specific_id')`\n",
    "\n",
    "### 2. Custom Chunking Strategies:\n",
    "- Short videos: `chunk_size=30` (30 seconds)\n",
    "- Educational content: `chunk_size=120` (2 minutes)\n",
    "- Dense technical content: `chunk_size=60` (1 minute)\n",
    "\n",
    "### 3. Advanced Search Options:\n",
    "- Adjust k parameter for more/fewer results\n",
    "- Filter by video_id for targeted search\n",
    "- Access similarity scores for relevance ranking\n",
    "\n",
    "### 4. Integration with Existing RAG Pipeline:\n",
    "- Use the same VectorDatabase class\n",
    "- Compatible with existing embedding models\n",
    "- Can combine with text documents\n",
    "\n",
    "### 5. Rich Metadata Support:\n",
    "- Automatic timestamp extraction\n",
    "- Video duration and segment tracking\n",
    "- Source attribution for answers\n",
    "\n",
    "### 6. Combining with Existing RAG:\n",
    "\n",
    "```python\n",
    "# You can use the same vector database for both text and video content\n",
    "combined_rag = RetrievalAugmentedQAPipeline(\n",
    "    vector_db_retriever=youtube_rag.vector_db,  # Same vector DB\n",
    "    llm=chat_openai\n",
    ")\n",
    "\n",
    "# Search across both text documents and video transcripts\n",
    "result = combined_rag.run_pipeline(\"What are the key insights about communication?\")\n",
    "```\n",
    "\n",
    "---\n",
    "\n",
    "## KEY IMPROVEMENTS OVER ORIGINAL CODE:\n",
    "\n",
    "✅ Semantic search instead of simple text matching  \n",
    "✅ Timestamped results with video context  \n",
    "✅ Question-answering with source attribution  \n",
    "✅ Video summarization capabilities  \n",
    "✅ Multiple video support  \n",
    "✅ Integration with existing RAG infrastructure  \n",
    "✅ Metadata preservation and retrieval  \n",
    "✅ Async processing for better performance\n"
   ]
  }
 ],
 "metadata": {
  "colab": {
   "provenance": []
  },
  "kernelspec": {
   "display_name": "Python (venv)",
   "language": "python",
   "name": "venv"
  },
  "language_info": {
   "codemirror_mode": {
    "name": "ipython",
    "version": 3
   },
   "file_extension": ".py",
   "mimetype": "text/x-python",
   "name": "python",
   "nbconvert_exporter": "python",
   "pygments_lexer": "ipython3",
   "version": "3.13.5"
  }
 },
 "nbformat": 4,
 "nbformat_minor": 4
}
