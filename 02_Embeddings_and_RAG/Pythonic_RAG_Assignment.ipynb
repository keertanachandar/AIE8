{
 "cells": [
  {
   "cell_type": "markdown",
   "metadata": {
    "id": "lElF3o5PR6ys"
   },
   "source": [
    "# Your First RAG Application\n",
    "\n",
    "In this notebook, we'll walk you through each of the components that are involved in a simple RAG application.\n",
    "\n",
    "We won't be leveraging any fancy tools, just the OpenAI Python SDK, Numpy, and some classic Python.\n",
    "\n",
    "> NOTE: This was done with Python 3.12.3.\n",
    "\n",
    "> NOTE: There might be [compatibility issues](https://github.com/wandb/wandb/issues/7683) if you're on NVIDIA driver >552.44 As an interim solution - you can rollback your drivers to the 552.44."
   ]
  },
  {
   "cell_type": "markdown",
   "metadata": {
    "id": "5CtcL8P8R6yt"
   },
   "source": [
    "## Table of Contents:\n",
    "\n",
    "- Task 1: Imports and Utilities\n",
    "- Task 2: Documents\n",
    "- Task 3: Embeddings and Vectors\n",
    "- Task 4: Prompts\n",
    "- Task 5: Retrieval Augmented Generation\n",
    "  - 🚧 Activity #1: Augment RAG"
   ]
  },
  {
   "cell_type": "markdown",
   "metadata": {
    "id": "1Dz6GYilR6yt"
   },
   "source": [
    "Let's look at a rather complicated looking visual representation of a basic RAG application.\n",
    "\n",
    "<img src=\"https://i.imgur.com/vD8b016.png\" />"
   ]
  },
  {
   "cell_type": "markdown",
   "metadata": {
    "id": "PjmC0KFtR6yt"
   },
   "source": [
    "## Task 1: Imports and Utility\n",
    "\n",
    "We're just doing some imports and enabling `async` to work within the Jupyter environment here, nothing too crazy!"
   ]
  },
  {
   "cell_type": "code",
   "execution_count": 3,
   "metadata": {},
   "outputs": [
    {
     "name": "stdout",
     "output_type": "stream",
     "text": [
      "Collecting numpy\n",
      "  Downloading numpy-2.3.3-cp313-cp313-macosx_14_0_x86_64.whl.metadata (62 kB)\n",
      "Downloading numpy-2.3.3-cp313-cp313-macosx_14_0_x86_64.whl (6.6 MB)\n",
      "\u001b[2K   \u001b[90m━━━━━━━━━━━━━━━━━━━━━━━━━━━━━━━━━━━━━━━━\u001b[0m \u001b[32m6.6/6.6 MB\u001b[0m \u001b[31m1.4 MB/s\u001b[0m  \u001b[33m0:00:04\u001b[0mm0:00:01\u001b[0m00:01\u001b[0mm\n",
      "\u001b[?25hInstalling collected packages: numpy\n",
      "Successfully installed numpy-2.3.3\n",
      "NumPy version: 2.3.3\n",
      "Import successful!\n"
     ]
    }
   ],
   "source": [
    "%pip install numpy\n",
    "import numpy as np\n",
    "print(\"NumPy version:\", np.__version__)\n",
    "print(\"Import successful!\")"
   ]
  },
  {
   "cell_type": "code",
   "execution_count": 6,
   "metadata": {
    "id": "Z1dyrG4hR6yt"
   },
   "outputs": [
    {
     "name": "stdout",
     "output_type": "stream",
     "text": [
      "Requirement already satisfied: dotenv in /Users/keertanachandar/Public/Github/code/AIE8/.venv/lib/python3.13/site-packages (0.9.9)\n",
      "Requirement already satisfied: python-dotenv in /Users/keertanachandar/Public/Github/code/AIE8/.venv/lib/python3.13/site-packages (from dotenv) (1.1.1)\n",
      "Note: you may need to restart the kernel to use updated packages.\n",
      "Collecting openai\n",
      "  Downloading openai-1.107.3-py3-none-any.whl.metadata (29 kB)\n",
      "Collecting anyio<5,>=3.5.0 (from openai)\n",
      "  Downloading anyio-4.10.0-py3-none-any.whl.metadata (4.0 kB)\n",
      "Collecting distro<2,>=1.7.0 (from openai)\n",
      "  Using cached distro-1.9.0-py3-none-any.whl.metadata (6.8 kB)\n",
      "Collecting httpx<1,>=0.23.0 (from openai)\n",
      "  Using cached httpx-0.28.1-py3-none-any.whl.metadata (7.1 kB)\n",
      "Collecting jiter<1,>=0.4.0 (from openai)\n",
      "  Downloading jiter-0.11.0-cp313-cp313-macosx_10_12_x86_64.whl.metadata (5.2 kB)\n",
      "Collecting pydantic<3,>=1.9.0 (from openai)\n",
      "  Downloading pydantic-2.11.9-py3-none-any.whl.metadata (68 kB)\n",
      "Collecting sniffio (from openai)\n",
      "  Using cached sniffio-1.3.1-py3-none-any.whl.metadata (3.9 kB)\n",
      "Collecting tqdm>4 (from openai)\n",
      "  Using cached tqdm-4.67.1-py3-none-any.whl.metadata (57 kB)\n",
      "Collecting typing-extensions<5,>=4.11 (from openai)\n",
      "  Downloading typing_extensions-4.15.0-py3-none-any.whl.metadata (3.3 kB)\n",
      "Requirement already satisfied: idna>=2.8 in /Users/keertanachandar/Public/Github/code/AIE8/.venv/lib/python3.13/site-packages (from anyio<5,>=3.5.0->openai) (3.10)\n",
      "Requirement already satisfied: certifi in /Users/keertanachandar/Public/Github/code/AIE8/.venv/lib/python3.13/site-packages (from httpx<1,>=0.23.0->openai) (2025.8.3)\n",
      "Collecting httpcore==1.* (from httpx<1,>=0.23.0->openai)\n",
      "  Using cached httpcore-1.0.9-py3-none-any.whl.metadata (21 kB)\n",
      "Collecting h11>=0.16 (from httpcore==1.*->httpx<1,>=0.23.0->openai)\n",
      "  Using cached h11-0.16.0-py3-none-any.whl.metadata (8.3 kB)\n",
      "Collecting annotated-types>=0.6.0 (from pydantic<3,>=1.9.0->openai)\n",
      "  Using cached annotated_types-0.7.0-py3-none-any.whl.metadata (15 kB)\n",
      "Collecting pydantic-core==2.33.2 (from pydantic<3,>=1.9.0->openai)\n",
      "  Using cached pydantic_core-2.33.2-cp313-cp313-macosx_10_12_x86_64.whl.metadata (6.8 kB)\n",
      "Collecting typing-inspection>=0.4.0 (from pydantic<3,>=1.9.0->openai)\n",
      "  Using cached typing_inspection-0.4.1-py3-none-any.whl.metadata (2.6 kB)\n",
      "Downloading openai-1.107.3-py3-none-any.whl (947 kB)\n",
      "\u001b[2K   \u001b[90m━━━━━━━━━━━━━━━━━━━━━━━━━━━━━━━━━━━━━━━━\u001b[0m \u001b[32m947.6/947.6 kB\u001b[0m \u001b[31m11.5 MB/s\u001b[0m  \u001b[33m0:00:00\u001b[0m\n",
      "\u001b[?25hDownloading anyio-4.10.0-py3-none-any.whl (107 kB)\n",
      "Using cached distro-1.9.0-py3-none-any.whl (20 kB)\n",
      "Using cached httpx-0.28.1-py3-none-any.whl (73 kB)\n",
      "Using cached httpcore-1.0.9-py3-none-any.whl (78 kB)\n",
      "Downloading jiter-0.11.0-cp313-cp313-macosx_10_12_x86_64.whl (305 kB)\n",
      "Downloading pydantic-2.11.9-py3-none-any.whl (444 kB)\n",
      "Using cached pydantic_core-2.33.2-cp313-cp313-macosx_10_12_x86_64.whl (2.0 MB)\n",
      "Downloading typing_extensions-4.15.0-py3-none-any.whl (44 kB)\n",
      "Using cached annotated_types-0.7.0-py3-none-any.whl (13 kB)\n",
      "Using cached h11-0.16.0-py3-none-any.whl (37 kB)\n",
      "Using cached sniffio-1.3.1-py3-none-any.whl (10 kB)\n",
      "Using cached tqdm-4.67.1-py3-none-any.whl (78 kB)\n",
      "Using cached typing_inspection-0.4.1-py3-none-any.whl (14 kB)\n",
      "Installing collected packages: typing-extensions, tqdm, sniffio, jiter, h11, distro, annotated-types, typing-inspection, pydantic-core, httpcore, anyio, pydantic, httpx, openai\n",
      "\u001b[2K   \u001b[90m━━━━━━━━━━━━━━━━━━━━━━━━━━━━━━━━━━━━━━━━\u001b[0m \u001b[32m14/14\u001b[0m [openai]13/14\u001b[0m [openai]c]core]\n",
      "\u001b[1A\u001b[2KSuccessfully installed annotated-types-0.7.0 anyio-4.10.0 distro-1.9.0 h11-0.16.0 httpcore-1.0.9 httpx-0.28.1 jiter-0.11.0 openai-1.107.3 pydantic-2.11.9 pydantic-core-2.33.2 sniffio-1.3.1 tqdm-4.67.1 typing-extensions-4.15.0 typing-inspection-0.4.1\n",
      "Note: you may need to restart the kernel to use updated packages.\n"
     ]
    }
   ],
   "source": [
    "%pip install dotenv\n",
    "%pip install openai\n",
    "\n",
    "from aimakerspace.text_utils import TextFileLoader, CharacterTextSplitter\n",
    "from aimakerspace.vectordatabase import VectorDatabase\n",
    "import asyncio"
   ]
  },
  {
   "cell_type": "code",
   "execution_count": 7,
   "metadata": {
    "id": "9OrFZRnER6yt"
   },
   "outputs": [],
   "source": [
    "import nest_asyncio\n",
    "nest_asyncio.apply()"
   ]
  },
  {
   "cell_type": "markdown",
   "metadata": {
    "id": "M0jGnpQsR6yu"
   },
   "source": [
    "## Task 2: Documents\n",
    "\n",
    "We'll be concerning ourselves with this part of the flow in the following section:\n",
    "\n",
    "<img src=\"https://i.imgur.com/jTm9gjk.png\" />"
   ]
  },
  {
   "cell_type": "markdown",
   "metadata": {
    "id": "-SFPWvRUR6yu"
   },
   "source": [
    "### Loading Source Documents\n",
    "\n",
    "So, first things first, we need some documents to work with.\n",
    "\n",
    "While we could work directly with the `.txt` files (or whatever file-types you wanted to extend this to) we can instead do some batch processing of those documents at the beginning in order to store them in a more machine compatible format.\n",
    "\n",
    "In this case, we're going to parse our text file into a single document in memory.\n",
    "\n",
    "Let's look at the relevant bits of the `TextFileLoader` class:\n",
    "\n",
    "```python\n",
    "def load_file(self):\n",
    "        with open(self.path, \"r\", encoding=self.encoding) as f:\n",
    "            self.documents.append(f.read())\n",
    "```\n",
    "\n",
    "We're simply loading the document using the built in `open` method, and storing that output in our `self.documents` list.\n",
    "\n",
    "> NOTE: We're using blogs from PMarca (Marc Andreessen) as our sample data. This data is largely irrelevant as we want to focus on the mechanisms of RAG, which includes out data's shape and quality - but not specifically what the contents of the data are. \n"
   ]
  },
  {
   "cell_type": "code",
   "execution_count": 8,
   "metadata": {
    "colab": {
     "base_uri": "https://localhost:8080/"
    },
    "id": "Ia2sUEuGR6yu",
    "outputId": "84937ecc-c35f-4c4a-a4ab-9da72625954c"
   },
   "outputs": [
    {
     "data": {
      "text/plain": [
       "1"
      ]
     },
     "execution_count": 8,
     "metadata": {},
     "output_type": "execute_result"
    }
   ],
   "source": [
    "text_loader = TextFileLoader(\"data/PMarcaBlogs.txt\")\n",
    "documents = text_loader.load_documents()\n",
    "len(documents)"
   ]
  },
  {
   "cell_type": "code",
   "execution_count": 9,
   "metadata": {
    "colab": {
     "base_uri": "https://localhost:8080/"
    },
    "id": "bV-tj5WFR6yu",
    "outputId": "674eb315-1ff3-4597-bcf5-38ece0a812ac"
   },
   "outputs": [
    {
     "name": "stdout",
     "output_type": "stream",
     "text": [
      "\n",
      "The Pmarca Blog Archives\n",
      "(select posts from 2007-2009)\n",
      "Marc Andreessen\n",
      "copyright: Andreessen Horow\n"
     ]
    }
   ],
   "source": [
    "print(documents[0][:100])"
   ]
  },
  {
   "cell_type": "markdown",
   "metadata": {
    "id": "nHlTvCzYR6yu"
   },
   "source": [
    "### Splitting Text Into Chunks\n",
    "\n",
    "As we can see, there is one massive document.\n",
    "\n",
    "We'll want to chunk the document into smaller parts so it's easier to pass the most relevant snippets to the LLM.\n",
    "\n",
    "There is no fixed way to split/chunk documents - and you'll need to rely on some intuition as well as knowing your data *very* well in order to build the most robust system.\n",
    "\n",
    "For this toy example, we'll just split blindly on length.\n",
    "\n",
    ">There's an opportunity to clear up some terminology here, for this course we will be stick to the following:\n",
    ">\n",
    ">- \"source documents\" : The `.txt`, `.pdf`, `.html`, ..., files that make up the files and information we start with in its raw format\n",
    ">- \"document(s)\" : single (or more) text object(s)\n",
    ">- \"corpus\" : the combination of all of our documents"
   ]
  },
  {
   "cell_type": "markdown",
   "metadata": {
    "id": "2G6Voc0jR6yv"
   },
   "source": [
    "As you can imagine (though it's not specifically true in this toy example) the idea of splitting documents is to break them into managable sized chunks that retain the most relevant local context."
   ]
  },
  {
   "cell_type": "code",
   "execution_count": 10,
   "metadata": {
    "colab": {
     "base_uri": "https://localhost:8080/"
    },
    "id": "UMC4tsEmR6yv",
    "outputId": "08689c0b-57cd-4040-942a-8193e997f5cb"
   },
   "outputs": [
    {
     "data": {
      "text/plain": [
       "373"
      ]
     },
     "execution_count": 10,
     "metadata": {},
     "output_type": "execute_result"
    }
   ],
   "source": [
    "text_splitter = CharacterTextSplitter()\n",
    "split_documents = text_splitter.split_texts(documents)\n",
    "len(split_documents)"
   ]
  },
  {
   "cell_type": "markdown",
   "metadata": {
    "id": "W2wKT0WLR6yv"
   },
   "source": [
    "Let's take a look at some of the documents we've managed to split."
   ]
  },
  {
   "cell_type": "code",
   "execution_count": null,
   "metadata": {
    "colab": {
     "base_uri": "https://localhost:8080/"
    },
    "id": "vcYMwWJoR6yv",
    "outputId": "20d69876-feca-4826-b4be-32915276987a"
   },
   "outputs": [
    {
     "data": {
      "text/plain": [
       "['\\ufeff\\nThe Pmarca Blog Archives\\n(select posts from 2007-2009)\\nMarc Andreessen\\ncopyright: Andreessen Horowitz\\ncover design: Jessica Hagy\\nproduced using: Pressbooks\\nContents\\nTHE PMARCA GUIDE TO STARTUPS\\nPart 1: Why not to do a startup 2\\nPart 2: When the VCs say \"no\" 10\\nPart 3: \"But I don\\'t know any VCs!\" 18\\nPart 4: The only thing that matters 25\\nPart 5: The Moby Dick theory of big companies 33\\nPart 6: How much funding is too little? Too much? 41\\nPart 7: Why a startup\\'s initial business plan doesn\\'t\\nmatter that much\\n49\\nTHE PMARCA GUIDE TO HIRING\\nPart 8: Hiring, managing, promoting, and Dring\\nexecutives\\n54\\nPart 9: How to hire a professional CEO 68\\nHow to hire the best people you\\'ve ever worked\\nwith\\n69\\nTHE PMARCA GUIDE TO BIG COMPANIES\\nPart 1: Turnaround! 82\\nPart 2: Retaining great people 86\\nTHE PMARCA GUIDE TO CAREER, PRODUCTIVITY,\\nAND SOME OTHER THINGS\\nIntroduction 97\\nPart 1: Opportunity 99\\nPart 2: Skills and education 107\\nPart 3: Where to go and why 120\\nThe Pmarca Guide to Personal Productivi']"
      ]
     },
     "execution_count": 7,
     "metadata": {},
     "output_type": "execute_result"
    }
   ],
   "source": [
    "split_documents[0:1]"
   ]
  },
  {
   "cell_type": "markdown",
   "metadata": {
    "id": "HOU-RFP_R6yv"
   },
   "source": [
    "## Task 3: Embeddings and Vectors\n",
    "\n",
    "Next, we have to convert our corpus into a \"machine readable\" format as we explored in the Embedding Primer notebook.\n",
    "\n",
    "Today, we're going to talk about the actual process of creating, and then storing, these embeddings, and how we can leverage that to intelligently add context to our queries."
   ]
  },
  {
   "cell_type": "markdown",
   "metadata": {},
   "source": [
    "### OpenAI API Key\n",
    "\n",
    "In order to access OpenAI's APIs, we'll need to provide our OpenAI API Key!\n",
    "\n",
    "You can work through the folder \"OpenAI API Key Setup\" for more information on this process if you don't already have an API Key!"
   ]
  },
  {
   "cell_type": "code",
   "execution_count": 11,
   "metadata": {},
   "outputs": [],
   "source": [
    "import os\n",
    "import openai\n",
    "from getpass import getpass\n",
    "\n",
    "openai.api_key = getpass(\"OpenAI API Key: \")\n",
    "os.environ[\"OPENAI_API_KEY\"] = openai.api_key"
   ]
  },
  {
   "cell_type": "markdown",
   "metadata": {},
   "source": [
    "### Vector Database\n",
    "\n",
    "Let's set up our vector database to hold all our documents and their embeddings!"
   ]
  },
  {
   "cell_type": "markdown",
   "metadata": {
    "id": "kDQrfAR1R6yv"
   },
   "source": [
    "While this is all baked into 1 call - we can look at some of the code that powers this process to get a better understanding:\n",
    "\n",
    "Let's look at our `VectorDatabase().__init__()`:\n",
    "\n",
    "```python\n",
    "def __init__(self, embedding_model: EmbeddingModel = None):\n",
    "        self.vectors = defaultdict(np.array)\n",
    "        self.embedding_model = embedding_model or EmbeddingModel()\n",
    "```\n",
    "\n",
    "As you can see - our vectors are merely stored as a dictionary of `np.array` objects.\n",
    "\n",
    "Secondly, our `VectorDatabase()` has a default `EmbeddingModel()` which is a wrapper for OpenAI's `text-embedding-3-small` model.\n",
    "\n",
    "> **Quick Info About `text-embedding-3-small`**:\n",
    "> - It has a context window of **8191** tokens\n",
    "> - It returns vectors with dimension **1536**"
   ]
  },
  {
   "cell_type": "markdown",
   "metadata": {
    "id": "L273pRdeR6yv"
   },
   "source": [
    "#### ❓Question #1:\n",
    "\n",
    "The default embedding dimension of `text-embedding-3-small` is 1536, as noted above. \n",
    "\n",
    "1. Is there any way to modify this dimension?\n",
    "2. What technique does OpenAI use to achieve this?\n",
    "\n",
    "> NOTE: Check out this [API documentation](https://platform.openai.com/docs/api-reference/embeddings/create) for the answer to question #1.1, and [this documentation](https://platform.openai.com/docs/guides/embeddings/use-cases) for an answer to question #1.2!\n"
   ]
  },
  {
   "cell_type": "markdown",
   "metadata": {},
   "source": [
    "##### ✅ Answer:\n",
    "1. You can pass in a value to the dimensions paramater to reduce the default of 1536 dimensions.\n",
    "2. This change only happens for the `text-embedding-3-small` and `text-embedding-3-large` models - you can reduce the number of dimensions and you will not lose any concept-representing properties, unlike other models. Ideally, you should modify this value before creating the embedding. They are able to acheive this by encoding information dynamically and having individual embeddings adapt to new constraints as it is created."
   ]
  },
  {
   "cell_type": "markdown",
   "metadata": {
    "id": "w5FZY7K3R6yv"
   },
   "source": [
    "We can call the `async_get_embeddings` method of our `EmbeddingModel()` on a list of `str` and receive a list of `float` back!\n",
    "\n",
    "```python\n",
    "async def async_get_embeddings(self, list_of_text: List[str]) -> List[List[float]]:\n",
    "        return await aget_embeddings(\n",
    "            list_of_text=list_of_text, engine=self.embeddings_model_name\n",
    "        )\n",
    "```"
   ]
  },
  {
   "cell_type": "markdown",
   "metadata": {
    "id": "cSct6X0aR6yv"
   },
   "source": [
    "We cast those to `np.array` when we build our `VectorDatabase()`:\n",
    "\n",
    "```python\n",
    "async def abuild_from_list(self, list_of_text: List[str]) -> \"VectorDatabase\":\n",
    "        embeddings = await self.embedding_model.async_get_embeddings(list_of_text)\n",
    "        for text, embedding in zip(list_of_text, embeddings):\n",
    "            self.insert(text, np.array(embedding))\n",
    "        return self\n",
    "```\n",
    "\n",
    "And that's all we need to do!"
   ]
  },
  {
   "cell_type": "code",
   "execution_count": 12,
   "metadata": {
    "id": "O4KoLbVDR6yv"
   },
   "outputs": [],
   "source": [
    "vector_db = VectorDatabase()\n",
    "vector_db = asyncio.run(vector_db.abuild_from_list(split_documents))"
   ]
  },
  {
   "cell_type": "markdown",
   "metadata": {
    "id": "SSZwaGvpR6yv"
   },
   "source": [
    "#### ❓Question #2:\n",
    "\n",
    "What are the benefits of using an `async` approach to collecting our embeddings?\n",
    "\n",
    "> NOTE: Determining the core difference between `async` and `sync` will be useful! If you get stuck - ask ChatGPT!"
   ]
  },
  {
   "cell_type": "markdown",
   "metadata": {},
   "source": [
    "##### ✅ Answer:\n",
    "Creating requests synchronously mean the work will be done one at a time. Only till the first request finishes can you move on to the second. An asychronous approach means that the requests are done parallelly. If the first request is taking too long, you can work on the second and third one at the same time. \n",
    "Some benefits of using an `async` approach include:\n",
    "1. If you have a large number of texts (in the hundreds or thousands), an `async` approach lets you make many requests concurrently. A `synchronous` approach means you have to wait for one request to finish before moving on to the next. This would take too long for a large data set. A synchronous approach might work if you have a very small data set - i.e. 5-10 queries total.\n",
    "2. Async scales better. Since you are not limited by the order in which things are done, you can work with other heavy operations like API calls. This also helps web servers scale because you need to serve many users at the same time.\n",
    "3. An async approach means faster processing of large batches and more efficient resource usage. \n"
   ]
  },
  {
   "cell_type": "markdown",
   "metadata": {
    "id": "nRBdIt-xR6yw"
   },
   "source": [
    "So, to review what we've done so far in natural language:\n",
    "\n",
    "1. We load source documents\n",
    "2. We split those source documents into smaller chunks (documents)\n",
    "3. We send each of those documents to the `text-embedding-3-small` OpenAI API endpoint\n",
    "4. We store each of the text representations with the vector representations as keys/values in a dictionary"
   ]
  },
  {
   "cell_type": "markdown",
   "metadata": {
    "id": "4-vWANZyR6yw"
   },
   "source": [
    "### Semantic Similarity\n",
    "\n",
    "The next step is to be able to query our `VectorDatabase()` with a `str` and have it return to us vectors and text that is most relevant from our corpus.\n",
    "\n",
    "We're going to use the following process to achieve this in our toy example:\n",
    "\n",
    "1. We need to embed our query with the same `EmbeddingModel()` as we used to construct our `VectorDatabase()`\n",
    "2. We loop through every vector in our `VectorDatabase()` and use a distance measure to compare how related they are\n",
    "3. We return a list of the top `k` closest vectors, with their text representations\n",
    "\n",
    "There's some very heavy optimization that can be done at each of these steps - but let's just focus on the basic pattern in this notebook.\n",
    "\n",
    "> We are using [cosine similarity](https://www.engati.com/glossary/cosine-similarity) as a distance metric in this example - but there are many many distance metrics you could use - like [these](https://flavien-vidal.medium.com/similarity-distances-for-natural-language-processing-16f63cd5ba55)\n",
    "\n",
    "> We are using a rather inefficient way of calculating relative distance between the query vector and all other vectors - there are more advanced approaches that are much more efficient, like [ANN](https://towardsdatascience.com/comprehensive-guide-to-approximate-nearest-neighbors-algorithms-8b94f057d6b6)"
   ]
  },
  {
   "cell_type": "code",
   "execution_count": 13,
   "metadata": {
    "colab": {
     "base_uri": "https://localhost:8080/"
    },
    "id": "76d96uavR6yw",
    "outputId": "bbfccc31-20a2-41c7-c14d-46554a43ed2d"
   },
   "outputs": [
    {
     "data": {
      "text/plain": [
       "[('ordingly.\\nSeventh, when hiring the executive to run your former specialty, be\\ncareful you don’t hire someone weak on purpose.\\nThis sounds silly, but you wouldn’t believe how oaen it happens.\\nThe CEO who used to be a product manager who has a weak\\nproduct management executive. The CEO who used to be in\\nsales who has a weak sales executive. The CEO who used to be\\nin marketing who has a weak marketing executive.\\nI call this the “Michael Eisner Memorial Weak Executive Problem” — aaer the CEO of Disney who had previously been a brilliant TV network executive. When he bought ABC at Disney, it\\npromptly fell to fourth place. His response? “If I had an extra\\ntwo days a week, I could turn around ABC myself.” Well, guess\\nwhat, he didn’t have an extra two days a week.\\nA CEO — or a startup founder — oaen has a hard time letting\\ngo of the function that brought him to the party. The result: you\\nhire someone weak into the executive role for that function so\\nthat you can continue to be “the man” — cons',\n",
       "  np.float64(0.6538563767462546)),\n",
       " ('m. They have areas where they are truly deXcient in judgment or skill set. That’s just life. Almost nobody is brilliant\\nat everything. When hiring and when Hring executives, you\\nmust therefore focus on strength rather than lack of weakness. Everybody has severe weaknesses even if you can’t see\\nthem yet. When managing, it’s oaen useful to micromanage and\\nto provide remedial training around these weaknesses. Doing so\\nmay make the diWerence between an executive succeeding or\\nfailing.\\nFor example, you might have a brilliant engineering executive\\nwho generates excellent team loyalty, has terriXc product judgment and makes the trains run on time. This same executive\\nmay be very poor at relating to the other functions in the company. She may generate far more than her share of cross-functional conYicts, cut herself oW from critical information, and\\nsigniXcantly impede your ability to sell and market eWectively.\\nYour alternatives are:\\n(a) Macro-manage and give her an annual or quarterly object',\n",
       "  np.float64(0.5036012174947995)),\n",
       " ('ed?\\nIn reality — as opposed to Marc’s warped view of reality — it will\\nbe extremely helpful for Marc [if he were actually the CEO,\\nwhich he is not] to meet with the new head of engineering daily\\nwhen she comes on board and review all of her thinking and\\ndecisions. This level of micromanagement will accelerate her\\ntraining and improve her long-term eWectiveness. It will make\\nher seem smarter to the rest of the organization which will build\\ncredibility and conXdence while she comes up to speed. Micromanaging new executives is generally a good idea for a limited\\nperiod of time.\\nHowever, that is not the only time that it makes sense to micro66 The Pmarca Blog Archives\\nmanage executives. It turns out that just about every executive\\nin the world has a few things that are seriously wrong with\\nthem. They have areas where they are truly deXcient in judgment or skill set. That’s just life. Almost nobody is brilliant\\nat everything. When hiring and when Hring executives, you\\nmust therefore focus o',\n",
       "  np.float64(0.4814102594977529))]"
      ]
     },
     "execution_count": 13,
     "metadata": {},
     "output_type": "execute_result"
    }
   ],
   "source": [
    "vector_db.search_by_text(\"What is the Michael Eisner Memorial Weak Executive Problem?\", k=3)"
   ]
  },
  {
   "cell_type": "markdown",
   "metadata": {
    "id": "TehsfIiKR6yw"
   },
   "source": [
    "## Task 4: Prompts\n",
    "\n",
    "In the following section, we'll be looking at the role of prompts - and how they help us to guide our application in the right direction.\n",
    "\n",
    "In this notebook, we're going to rely on the idea of \"zero-shot in-context learning\".\n",
    "\n",
    "This is a lot of words to say: \"We will ask it to perform our desired task in the prompt, and provide no examples.\""
   ]
  },
  {
   "cell_type": "markdown",
   "metadata": {
    "id": "yXpA0UveR6yw"
   },
   "source": [
    "### XYZRolePrompt\n",
    "\n",
    "Before we do that, let's stop and think a bit about how OpenAI's chat models work.\n",
    "\n",
    "We know they have roles - as is indicated in the following API [documentation](https://platform.openai.com/docs/api-reference/chat/create#chat/create-messages)\n",
    "\n",
    "There are three roles, and they function as follows (taken directly from [OpenAI](https://platform.openai.com/docs/guides/gpt/chat-completions-api)):\n",
    "\n",
    "- `{\"role\" : \"system\"}` : The system message helps set the behavior of the assistant. For example, you can modify the personality of the assistant or provide specific instructions about how it should behave throughout the conversation. However note that the system message is optional and the model’s behavior without a system message is likely to be similar to using a generic message such as \"You are a helpful assistant.\"\n",
    "- `{\"role\" : \"user\"}` : The user messages provide requests or comments for the assistant to respond to.\n",
    "- `{\"role\" : \"assistant\"}` : Assistant messages store previous assistant responses, but can also be written by you to give examples of desired behavior.\n",
    "\n",
    "The main idea is this:\n",
    "\n",
    "1. You start with a system message that outlines how the LLM should respond, what kind of behaviours you can expect from it, and more\n",
    "2. Then, you can provide a few examples in the form of \"assistant\"/\"user\" pairs\n",
    "3. Then, you prompt the model with the true \"user\" message.\n",
    "\n",
    "In this example, we'll be forgoing the 2nd step for simplicities sake."
   ]
  },
  {
   "cell_type": "markdown",
   "metadata": {
    "id": "gdZ2KWKSR6yw"
   },
   "source": [
    "#### Utility Functions\n",
    "\n",
    "You'll notice that we're using some utility functions from the `aimakerspace` module - let's take a peek at these and see what they're doing!"
   ]
  },
  {
   "cell_type": "markdown",
   "metadata": {
    "id": "GFbeJDDsR6yw"
   },
   "source": [
    "##### XYZRolePrompt"
   ]
  },
  {
   "cell_type": "markdown",
   "metadata": {
    "id": "5mojJSE3R6yw"
   },
   "source": [
    "Here we have our `system`, `user`, and `assistant` role prompts.\n",
    "\n",
    "Let's take a peek at what they look like:\n",
    "\n",
    "```python\n",
    "class BasePrompt:\n",
    "    def __init__(self, prompt):\n",
    "        \"\"\"\n",
    "        Initializes the BasePrompt object with a prompt template.\n",
    "\n",
    "        :param prompt: A string that can contain placeholders within curly braces\n",
    "        \"\"\"\n",
    "        self.prompt = prompt\n",
    "        self._pattern = re.compile(r\"\\{([^}]+)\\}\")\n",
    "\n",
    "    def format_prompt(self, **kwargs):\n",
    "        \"\"\"\n",
    "        Formats the prompt string using the keyword arguments provided.\n",
    "\n",
    "        :param kwargs: The values to substitute into the prompt string\n",
    "        :return: The formatted prompt string\n",
    "        \"\"\"\n",
    "        matches = self._pattern.findall(self.prompt)\n",
    "        return self.prompt.format(**{match: kwargs.get(match, \"\") for match in matches})\n",
    "\n",
    "    def get_input_variables(self):\n",
    "        \"\"\"\n",
    "        Gets the list of input variable names from the prompt string.\n",
    "\n",
    "        :return: List of input variable names\n",
    "        \"\"\"\n",
    "        return self._pattern.findall(self.prompt)\n",
    "```\n",
    "\n",
    "Then we have our `RolePrompt` which laser focuses us on the role pattern found in most API endpoints for LLMs.\n",
    "\n",
    "```python\n",
    "class RolePrompt(BasePrompt):\n",
    "    def __init__(self, prompt, role: str):\n",
    "        \"\"\"\n",
    "        Initializes the RolePrompt object with a prompt template and a role.\n",
    "\n",
    "        :param prompt: A string that can contain placeholders within curly braces\n",
    "        :param role: The role for the message ('system', 'user', or 'assistant')\n",
    "        \"\"\"\n",
    "        super().__init__(prompt)\n",
    "        self.role = role\n",
    "\n",
    "    def create_message(self, **kwargs):\n",
    "        \"\"\"\n",
    "        Creates a message dictionary with a role and a formatted message.\n",
    "\n",
    "        :param kwargs: The values to substitute into the prompt string\n",
    "        :return: Dictionary containing the role and the formatted message\n",
    "        \"\"\"\n",
    "        return {\"role\": self.role, \"content\": self.format_prompt(**kwargs)}\n",
    "```\n",
    "\n",
    "We'll look at how the `SystemRolePrompt` is constructed to get a better idea of how that extension works:\n",
    "\n",
    "```python\n",
    "class SystemRolePrompt(RolePrompt):\n",
    "    def __init__(self, prompt: str):\n",
    "        super().__init__(prompt, \"system\")\n",
    "```\n",
    "\n",
    "That pattern is repeated for our `UserRolePrompt` and our `AssistantRolePrompt` as well."
   ]
  },
  {
   "cell_type": "markdown",
   "metadata": {
    "id": "D361R6sMR6yw"
   },
   "source": [
    "##### ChatOpenAI"
   ]
  },
  {
   "cell_type": "markdown",
   "metadata": {
    "id": "HJVQ2Pm8R6yw"
   },
   "source": [
    "Next we have our model, which is converted to a format analagous to libraries like LangChain and LlamaIndex.\n",
    "\n",
    "Let's take a peek at how that is constructed:\n",
    "\n",
    "```python\n",
    "class ChatOpenAI:\n",
    "    def __init__(self, model_name: str = \"gpt-4.1-mini\"):\n",
    "        self.model_name = model_name\n",
    "        self.openai_api_key = os.getenv(\"OPENAI_API_KEY\")\n",
    "        if self.openai_api_key is None:\n",
    "            raise ValueError(\"OPENAI_API_KEY is not set\")\n",
    "\n",
    "    def run(self, messages, text_only: bool = True):\n",
    "        if not isinstance(messages, list):\n",
    "            raise ValueError(\"messages must be a list\")\n",
    "\n",
    "        openai.api_key = self.openai_api_key\n",
    "        response = openai.ChatCompletion.create(\n",
    "            model=self.model_name, messages=messages\n",
    "        )\n",
    "\n",
    "        if text_only:\n",
    "            return response.choices[0].message.content\n",
    "\n",
    "        return response\n",
    "```"
   ]
  },
  {
   "cell_type": "markdown",
   "metadata": {
    "id": "qCU7FfhIR6yw"
   },
   "source": [
    "#### ❓ Question #3:\n",
    "\n",
    "When calling the OpenAI API - are there any ways we can achieve more reproducible outputs?\n",
    "\n",
    "> NOTE: Check out [this section](https://platform.openai.com/docs/guides/text-generation/) of the OpenAI documentation for the answer!"
   ]
  },
  {
   "cell_type": "markdown",
   "metadata": {},
   "source": [
    "##### ✅ Answer:\n",
    "Prompt Engineering - writing effective instructions for the model so that the output has clear success criteria and meets your requirements more consistently.\n",
    "There are some techniques that work with any model, such as using message roles. However, the prompts may need to be adjusted based on the model. Even different snapshots of models within the same family can produce different results with the same prompts. For that reason, it is recommended to pin your applications to model snapshots for consistent behavior. And to build a way to evaluate the behavior and performance of the prompts so you update it as necessary.\n",
    "You can pass in different insructions which behave like certain roles (developer). You can also pass in prompts as certain roles. The `developer` role has the highest priority and are used as instructions for the model. The `user` role is prioritized after `developer`, and these are the instructions given by the user - the query asked. There is also the `assistant` role which are messages generated by the model.\n",
    "You can also pass in reusable prompts which can be updated without changing any of the code. This allows you to iterate until you consistently get successful responses.\n"
   ]
  },
  {
   "cell_type": "markdown",
   "metadata": {
    "id": "c5wcjMLCR6yw"
   },
   "source": [
    "### Creating and Prompting OpenAI's `gpt-4.1-mini`!\n",
    "\n",
    "Let's tie all these together and use it to prompt `gpt-4.1-mini`!"
   ]
  },
  {
   "cell_type": "code",
   "execution_count": 14,
   "metadata": {
    "id": "WIfpIot7R6yw"
   },
   "outputs": [],
   "source": [
    "from aimakerspace.openai_utils.prompts import (\n",
    "    UserRolePrompt,\n",
    "    SystemRolePrompt,\n",
    "    AssistantRolePrompt,\n",
    ")\n",
    "\n",
    "from aimakerspace.openai_utils.chatmodel import ChatOpenAI\n",
    "\n",
    "chat_openai = ChatOpenAI()\n",
    "user_prompt_template = \"{content}\"\n",
    "user_role_prompt = UserRolePrompt(user_prompt_template)\n",
    "system_prompt_template = (\n",
    "    \"You are an expert in {expertise}, you always answer in a kind way.\"\n",
    ")\n",
    "system_role_prompt = SystemRolePrompt(system_prompt_template)\n",
    "\n",
    "messages = [\n",
    "    system_role_prompt.create_message(expertise=\"Python\"),\n",
    "    user_role_prompt.create_message(\n",
    "        content=\"What is the best way to write a loop?\"\n",
    "    ),\n",
    "]\n",
    "\n",
    "response = chat_openai.run(messages)"
   ]
  },
  {
   "cell_type": "code",
   "execution_count": 15,
   "metadata": {
    "colab": {
     "base_uri": "https://localhost:8080/"
    },
    "id": "dHo7lssNR6yw",
    "outputId": "1d3823fa-bb6b-45f6-ddba-b41686388324"
   },
   "outputs": [
    {
     "name": "stdout",
     "output_type": "stream",
     "text": [
      "Hello! The best way to write a loop in Python depends on what you want to accomplish, but generally, using a `for` loop is very clear and Pythonic when iterating over sequences like lists, strings, or ranges.\n",
      "\n",
      "Here's a simple example using a `for` loop:\n",
      "\n",
      "```python\n",
      "for i in range(5):\n",
      "    print(i)\n",
      "```\n",
      "\n",
      "This will print numbers from 0 to 4.\n",
      "\n",
      "If you need to loop until a certain condition is met and don't know the exact number of iterations in advance, a `while` loop might be more suitable:\n",
      "\n",
      "```python\n",
      "count = 0\n",
      "while count < 5:\n",
      "    print(count)\n",
      "    count += 1\n",
      "```\n",
      "\n",
      "Both loops are perfectly fine, but favoring `for` loops when you have a sequence or known range often leads to clearer and more readable code.\n",
      "\n",
      "If you'd like, I can help you write a loop for a specific task you have in mind! Just let me know.\n"
     ]
    }
   ],
   "source": [
    "print(response)"
   ]
  },
  {
   "cell_type": "markdown",
   "metadata": {
    "id": "r2nxxhB2R6yy"
   },
   "source": [
    "## Task 5: Retrieval Augmented Generation\n",
    "\n",
    "Now we can create a RAG prompt - which will help our system behave in a way that makes sense!\n",
    "\n",
    "There is much you could do here, many tweaks and improvements to be made!"
   ]
  },
  {
   "cell_type": "code",
   "execution_count": 17,
   "metadata": {
    "id": "D1hamzGaR6yy"
   },
   "outputs": [],
   "source": [
    "RAG_SYSTEM_TEMPLATE = \"\"\"You are a knowledgeable and thoughtful assistant that provides deep analysis based on provided context.\n",
    "\n",
    "Before answering, ask yourself these questions:\n",
    "- What is the core issue being described?\n",
    "- What causes or factors contribute to this situation?\n",
    "- What are the consequences or implications?\n",
    "- What patterns or principles does this illustrate?\n",
    "- How might this apply in similar situations?\n",
    "\n",
    "Instructions:\n",
    "- Think through your response step-by-step before providing your final answer\n",
    "- First, analyze what the context tells us about the topic\n",
    "- Then, identify the key insights and implications\n",
    "- Finally, synthesize this into a comprehensive response\n",
    "- Only answer questions using information from the provided context\n",
    "- If the context doesn't contain relevant information, respond with \"I don't know\"\n",
    "- Be accurate and cite specific parts of the context when possible\n",
    "- Keep responses {response_style} and {response_length}\n",
    "- Show your reasoning process before giving your final answer\n",
    "\n",
    "Then provide a comprehensive response that addresses these analytical dimensions while staying strictly within the provided context.\n",
    "\n",
    "Format your response as:\n",
    "**Analysis:** [Your step-by-step thinking]\n",
    "**Answer:** [Your final comprehensive response]\"\"\"\n",
    "\n",
    "\n",
    "RAG_USER_TEMPLATE = \"\"\"Context Information: {context}\n",
    "Number of relevant sources found: {context_count}\n",
    "{similarity_scores}\n",
    "\n",
    "Question: {user_query}\n",
    "\n",
    "Please analyze this question by considering:\n",
    "1. What does the context directly state about this topic?\n",
    "2. What are the underlying principles or patterns described?\n",
    "3. What implications or consequences are mentioned or can be inferred?\n",
    "4. How does this connect to broader concepts mentioned in the context?\n",
    "\n",
    "Provide your answer based solely on the context above, showing your analytical process.\"\"\"\n",
    "\n",
    "rag_system_prompt = SystemRolePrompt(\n",
    "    RAG_SYSTEM_TEMPLATE,\n",
    "    strict=True,\n",
    "    defaults={\n",
    "        \"response_style\": \"detailed\",\n",
    "        \"response_length\": \"comprehensive\"\n",
    "    }\n",
    ")\n",
    "\n",
    "rag_user_prompt = UserRolePrompt(\n",
    "    RAG_USER_TEMPLATE,\n",
    "    strict=True,\n",
    "    defaults={\n",
    "        \"context_count\": \"\",\n",
    "        \"similarity_scores\": \"\"\n",
    "    }\n",
    ")"
   ]
  },
  {
   "cell_type": "markdown",
   "metadata": {},
   "source": [
    "Now we can create our pipeline!"
   ]
  },
  {
   "cell_type": "code",
   "execution_count": 18,
   "metadata": {},
   "outputs": [],
   "source": [
    "class RetrievalAugmentedQAPipeline:\n",
    "    def __init__(self, llm: ChatOpenAI, vector_db_retriever: VectorDatabase, \n",
    "                 response_style: str = \"detailed\", include_scores: bool = False) -> None:\n",
    "        self.llm = llm\n",
    "        self.vector_db_retriever = vector_db_retriever\n",
    "        self.response_style = response_style\n",
    "        self.include_scores = include_scores\n",
    "\n",
    "    def run_pipeline(self, user_query: str, k: int = 4, **system_kwargs) -> dict:\n",
    "        # Retrieve relevant contexts\n",
    "        context_list = self.vector_db_retriever.search_by_text(user_query, k=k)\n",
    "        \n",
    "        context_prompt = \"\"\n",
    "        similarity_scores = []\n",
    "        \n",
    "        for i, (context, score) in enumerate(context_list, 1):\n",
    "            context_prompt += f\"[Source {i}]: {context}\\n\\n\"\n",
    "            similarity_scores.append(f\"Source {i}: {score:.3f}\")\n",
    "        \n",
    "        # Create system message with parameters\n",
    "        system_params = {\n",
    "            \"response_style\": self.response_style,\n",
    "            \"response_length\": system_kwargs.get(\"response_length\", \"detailed\")\n",
    "        }\n",
    "        \n",
    "        formatted_system_prompt = rag_system_prompt.create_message(**system_params)\n",
    "        \n",
    "        user_params = {\n",
    "            \"user_query\": user_query,\n",
    "            \"context\": context_prompt.strip(),\n",
    "            \"context_count\": len(context_list),\n",
    "            \"similarity_scores\": f\"Relevance scores: {', '.join(similarity_scores)}\" if self.include_scores else \"\"\n",
    "        }\n",
    "        \n",
    "        formatted_user_prompt = rag_user_prompt.create_message(**user_params)\n",
    "\n",
    "        return {\n",
    "            \"response\": self.llm.run([formatted_system_prompt, formatted_user_prompt]), \n",
    "            \"context\": context_list,\n",
    "            \"context_count\": len(context_list),\n",
    "            \"similarity_scores\": similarity_scores if self.include_scores else None,\n",
    "            \"prompts_used\": {\n",
    "                \"system\": formatted_system_prompt,\n",
    "                \"user\": formatted_user_prompt\n",
    "            }\n",
    "        }"
   ]
  },
  {
   "cell_type": "code",
   "execution_count": 19,
   "metadata": {},
   "outputs": [
    {
     "name": "stdout",
     "output_type": "stream",
     "text": [
      "Response: **Analysis:**  \n",
      "1. The context from Source 1 explicitly defines the \"Michael Eisner Memorial Weak Executive Problem\" as a tendency seen in CEOs or startup founders who previously excelled in a specific function (e.g., product management, sales, marketing) but, upon becoming CEO, hire weak executives to run that same function. This happens because the CEO struggles to let go and wants to remain \"the man\" or the key figure in that area, effectively undermining the strength of the executive team. The name derives from Michael Eisner’s example: he had been a brilliant TV network executive before becoming Disney’s CEO, yet after Disney bought ABC, the network fell to fourth place. Eisner reportedly said he could turn it around if he had two extra days a week, but he did not, illustrating a CEO’s limitations in trying to micromanage or directly control areas they once mastered.\n",
      "\n",
      "2. The underlying principle or pattern is that a CEO who is deeply attached to their original function may consciously or unconsciously hire subpar executives in that area to maintain personal control or influence. This weakens the organization's capability because the executive in charge is not strong, and the CEO cannot effectively manage all areas personally due to time constraints and the broader scope of their role.\n",
      "\n",
      "3. The consequences are that the function that was once strong under the CEO’s direct leadership suffers under weak executive management; the organization’s performance in that area degrades (example: ABC’s fall to fourth place). Additionally, this limits the CEO’s ability to focus on higher-level responsibilities, potentially harming the entire company.\n",
      "\n",
      "4. This concept connects to broader ideas in the context such as the recognition that no executive is brilliant in every area (Sources 2 and 3), the importance of hiring for strength rather than just absence of weaknesses, and the need for micromanagement or remedial support when executives have weaknesses. The \"Michael Eisner Memorial Weak Executive Problem\" illustrates a specific failure in executive hiring rooted in personal bias and control issues rather than objective assessment of candidate strength, which contrasts with the recommended approach of focusing on strength and managing weaknesses actively.\n",
      "\n",
      "**Answer:**  \n",
      "The \"Michael Eisner Memorial Weak Executive Problem\" refers to the phenomenon where a CEO or startup founder, who originally excelled in a particular functional area (such as product management, sales, or marketing), intentionally hires a weak executive to lead that same function after becoming CEO. They do this so they can maintain personal control and remain the key figure (\"the man\") in that area. This problem is named after Michael Eisner, former CEO of Disney, who had been a brilliant TV network executive but whose company ABC fell to fourth place after acquisition because he did not have the time to manage it directly. The CEO’s inability to delegate effectively leads to weak leadership in that function and ultimately harms organizational performance. This issue exemplifies the broader principle that CEOs must hire strong executives in all functions, even those they personally originated from, rather than seek weak executives to preserve personal influence. It highlights the danger of ignoring objective strength in favor of personal comfort, contrasting with best practices that emphasize hiring for strength and managing executives’ weaknesses through active engagement.\n",
      "\n",
      "Context Count: 3\n",
      "Similarity Scores: ['Source 1: 0.658', 'Source 2: 0.509', 'Source 3: 0.479']\n"
     ]
    }
   ],
   "source": [
    "rag_pipeline = RetrievalAugmentedQAPipeline(\n",
    "    vector_db_retriever=vector_db,\n",
    "    llm=chat_openai,\n",
    "    response_style=\"detailed\",\n",
    "    include_scores=True\n",
    ")\n",
    "\n",
    "result = rag_pipeline.run_pipeline(\n",
    "    \"What is the 'Michael Eisner Memorial Weak Executive Problem'?\",\n",
    "    k=3,\n",
    "    response_length=\"comprehensive\", \n",
    "    include_warnings=True,\n",
    "    confidence_required=True\n",
    ")\n",
    "\n",
    "print(f\"Response: {result['response']}\")\n",
    "print(f\"\\nContext Count: {result['context_count']}\")\n",
    "print(f\"Similarity Scores: {result['similarity_scores']}\")"
   ]
  },
  {
   "cell_type": "markdown",
   "metadata": {
    "id": "zZIJI19uR6yz"
   },
   "source": [
    "#### ❓ Question #4:\n",
    "\n",
    "What prompting strategies could you use to make the LLM have a more thoughtful, detailed response?\n",
    "\n",
    "What is that strategy called?\n",
    "\n",
    "> NOTE: You can look through our [OpenAI Responses API](https://colab.research.google.com/drive/14SCfRnp39N7aoOx8ZxadWb0hAqk4lQdL?usp=sharing) notebook for an answer to this question if you get stuck!"
   ]
  },
  {
   "cell_type": "markdown",
   "metadata": {},
   "source": [
    "##### ✅ Answer:\n",
    "The overall strategy to improve LLM responses is advanced or analytical prompt engineering techniques. All of these smaller strategies together will improve the responses and consistency of success.\n",
    "1. Chain of thought processing. Have the LLM think step by step and show it's reasoning before outputing the final response.\n",
    "2. Right now the LLM isn't allowed to use any external information. If we want a more accurate response, we should allow for different paths of reasoning which includes information that wasn't explicitly given to it by the user. We can also have the system think about the problem in different ways and then converge the ideas at the end for a more comprehensive response.\n",
    "3. We tell the LLM to `respond with \"I don't know\"` if it doesn't know the answer to a query. We can have the system ask itself questions to create more in depth reasoning for each question.\n",
    "4. We can assign more well defined roles to the system so it understands what we expect from the responses better."
   ]
  },
  {
   "cell_type": "markdown",
   "metadata": {},
   "source": [
    "### 🏗️ Activity #1:\n",
    "\n",
    "Enhance your RAG application in some way! \n",
    "\n",
    "Suggestions are: \n",
    "\n",
    "- Allow it to work with PDF files\n",
    "- Implement a new distance metric\n",
    "- Add metadata support to the vector database\n",
    "- Use a different embedding model\n",
    "- Add the capability to ingest a YouTube link\n",
    "\n",
    "While these are suggestions, you should feel free to make whatever augmentations you desire! If you shared an idea during Session 1, think about features you might need to incorporate for your use case! \n",
    "\n",
    "When you're finished making the augments to your RAG application - vibe check it against the old one - see if you can \"feel the improvement\"!\n",
    "\n",
    "> NOTE: These additions might require you to work within the `aimakerspace` library - that's expected!\n",
    "\n",
    "> NOTE: If you're not sure where to start - ask Cursor (CMD/CTRL+L) to guide you through the changes!"
   ]
  },
  {
   "cell_type": "markdown",
   "metadata": {},
   "source": [
    "Now on to Youtube"
   ]
  },
  {
   "cell_type": "code",
   "execution_count": 20,
   "metadata": {},
   "outputs": [
    {
     "name": "stdout",
     "output_type": "stream",
     "text": [
      "Requirement already satisfied: youtube-transcript-api in /Users/keertanachandar/Public/Github/code/AIE8/.venv/lib/python3.13/site-packages (1.2.2)\n",
      "Requirement already satisfied: defusedxml<0.8.0,>=0.7.1 in /Users/keertanachandar/Public/Github/code/AIE8/.venv/lib/python3.13/site-packages (from youtube-transcript-api) (0.7.1)\n",
      "Requirement already satisfied: requests in /Users/keertanachandar/Public/Github/code/AIE8/.venv/lib/python3.13/site-packages (from youtube-transcript-api) (2.32.5)\n",
      "Requirement already satisfied: charset_normalizer<4,>=2 in /Users/keertanachandar/Public/Github/code/AIE8/.venv/lib/python3.13/site-packages (from requests->youtube-transcript-api) (3.4.3)\n",
      "Requirement already satisfied: idna<4,>=2.5 in /Users/keertanachandar/Public/Github/code/AIE8/.venv/lib/python3.13/site-packages (from requests->youtube-transcript-api) (3.10)\n",
      "Requirement already satisfied: urllib3<3,>=1.21.1 in /Users/keertanachandar/Public/Github/code/AIE8/.venv/lib/python3.13/site-packages (from requests->youtube-transcript-api) (2.5.0)\n",
      "Requirement already satisfied: certifi>=2017.4.17 in /Users/keertanachandar/Public/Github/code/AIE8/.venv/lib/python3.13/site-packages (from requests->youtube-transcript-api) (2025.8.3)\n",
      "Note: you may need to restart the kernel to use updated packages.\n"
     ]
    }
   ],
   "source": [
    "%pip install youtube-transcript-api"
   ]
  },
  {
   "cell_type": "code",
   "execution_count": 24,
   "metadata": {},
   "outputs": [],
   "source": [
    "from youtube_transcript_api import YouTubeTranscriptApi\n",
    "from urllib.parse import urlparse, parse_qs\n",
    "\n",
    "def get_video_id(url: str) -> str:\n",
    "    parsed_url = urlparse(url)\n",
    "    # Extract query parameters\n",
    "    query_params = parse_qs(parsed_url.query)\n",
    "    return query_params.get(\"v\", [None])[0]\n",
    "\n",
    "def get_video_transcript(video_id: str, lang: str = \"en\") -> list:\n",
    "    print(\"video_id\", video_id)\n",
    "    youtube_api = YouTubeTranscriptApi()\n",
    "    transcript = youtube_api.fetch(video_id, languages=[lang])\n",
    "    # transcript is a list of dicts: [{'text': '...', 'start': 0.0, 'duration': 5.0}, ...]\n",
    "    return [{'text': snippet.text, 'start': snippet.start, 'duration': snippet.duration} for snippet in transcript]\n",
    "\n",
    "def chunk_transcript(transcript, chunk_size=120):\n",
    "    chunks, current_chunk, current_start = [], [], 0\n",
    "\n",
    "    for entry in transcript:\n",
    "        start_time = entry['start']\n",
    "        if start_time - current_start < chunk_size:\n",
    "            current_chunk.append(entry['text'])\n",
    "        else:\n",
    "            chunks.append((current_start, \" \".join(current_chunk)))\n",
    "            current_chunk = [entry['text']]\n",
    "            current_start = start_time\n",
    "    if current_chunk:\n",
    "        chunks.append((current_start, \" \".join(current_chunk)))\n",
    "    return chunks\n",
    "\n",
    "def summarize_chunks(chunks, llm):\n",
    "    summaries = []\n",
    "    for start_time, text in chunks:\n",
    "        response = llm.run([\n",
    "            {\"role\": \"system\", \"content\": \"You are a helpful assistant that summarizes YouTube transcripts.\"},\n",
    "            {\"role\": \"user\", \"content\": f\"Summarize this segment:\\n\\n{text}\"}\n",
    "        ])\n",
    "        summaries.append((start_time, response))\n",
    "    return summaries\n",
    "\n",
    "def format_summary(summaries):\n",
    "    for start_time, summary in summaries:\n",
    "        minutes = int(start_time // 60)\n",
    "        print(f\"[{minutes:02d}:00] {summary}\")\n",
    "\n",
    "\n"
   ]
  },
  {
   "cell_type": "code",
   "execution_count": 26,
   "metadata": {},
   "outputs": [
    {
     "name": "stdout",
     "output_type": "stream",
     "text": [
      "URL, 8vFGrNjT4P4\n",
      "video_id 8vFGrNjT4P4\n",
      "transcript, [{'text': 'Just about everything you could build\\nstarts with knowing how to make a basic', 'start': 0.03, 'duration': 3.99}, {'text': \"box. Whether you're making cabinets or\\ndrawers or bookcases, desks, beds, they're\", 'start': 4.02, 'duration': 6.27}, {'text': \"all just variations on the humble box.\\xa0\\nThis is a great first project if you're\", 'start': 10.29, 'duration': 6.03}, {'text': \"just getting into woodworking. And\\nthere's lots and lots of ways to make\", 'start': 16.32, 'duration': 3.24}, {'text': \"boxes with all different kinds of\\njoinery but in this video I'll show you\", 'start': 19.56, 'duration': 4.2}, {'text': \"the simple rabbet joint method I use\\nalmost every time. It's quick. It's strong.\", 'start': 23.76, 'duration': 5.79}, {'text': 'It gives you nice square corners without\\na lot of fuss. Hey welcome to Woodworking', 'start': 29.55, 'duration': 4.38}, {'text': \"for Mere Mortals where it's my goal to\\ntake the mystery out of woodworking and\", 'start': 33.93, 'duration': 3.39}, {'text': 'teach you how to build your own projects\\nwithout a lot of space or expensive', 'start': 37.32, 'duration': 3.87}, {'text': 'tools. You can get started today by\\ndownloading my free guide to setting up', 'start': 41.19, 'duration': 3.72}, {'text': \"shop for under $1000 at mytoollist.com.\\xa0\\nFor this demonstration I'm gonna be\", 'start': 44.91, 'duration': 5.61}, {'text': \"using regular three-quarter inch lumber\\nthat's available at any Home Center.\", 'start': 50.52, 'duration': 3.66}, {'text': 'Aesthetically speaking, smaller boxes\\nwill look nicer with thinner lumber but', 'start': 54.18, 'duration': 5.01}, {'text': \"making thinner boards is a topic for\\nanother video. And if you'd like to make\", 'start': 59.19, 'duration': 3.96}, {'text': \"this exact box, I've got free plans down\\nin the description. I'll be able to build\", 'start': 63.15, 'duration': 3.81}, {'text': 'this box using this single board. First\\nthing I want to do is crosscut the four', 'start': 66.96, 'duration': 4.65}, {'text': \"sides to their lengths. These final two\\ncuts are gonna be the lid. I'll set those\", 'start': 71.61, 'duration': 6.24}, {'text': 'aside for now. Next I want to rip all of\\nthe sides down to the same width. A lot', 'start': 77.85, 'duration': 4.26}, {'text': 'of you probably already know when I rip\\nboards I like to clean up one side first', 'start': 82.11, 'duration': 4.26}, {'text': 'then flip it around and rip it to its\\nexact width. I want to go ahead and glue', 'start': 86.37, 'duration': 6.27}, {'text': \"up the two pieces that make up the lid\\nnow so that they'll have time to dry. And\", 'start': 92.64, 'duration': 4.68}, {'text': \"all I'm gonna do is shave a little bit\\noff of each edge so they'll fit nicely\", 'start': 97.32, 'duration': 4.74}, {'text': 'together.', 'start': 102.06, 'duration': 0.66}, {'text': \"The secret to edge joining boards is you\\njust don't want to clamp them down\", 'start': 102.72, 'duration': 7.8}, {'text': 'really tight. Just a real gentle clamping\\nwill do it. Otherwise they can buckle.', 'start': 110.52, 'duration': 5.64}, {'text': \"Then you want to look down the edge and\\nmake sure that it's not curved. I can see\", 'start': 116.16, 'duration': 3.87}, {'text': \"it's bending a little bit on this one\\nso I'll just straighten that up with a\", 'start': 120.03, 'duration': 4.86}, {'text': \"couple of cauls. These are just boards\\nwhere I've got some packing tape on them\", 'start': 124.89, 'duration': 4.14}, {'text': \"so that the glue doesn't stick. That\\nflattens it out. So that's it!\", 'start': 129.03, 'duration': 7.62}, {'text': 'Seems kind of silly to use so many\\nclamps for such a small glue up but each of', 'start': 136.65, 'duration': 4.77}, {'text': \"these clamps is really important. And\\nwhen you're gluing up panels what\", 'start': 141.42, 'duration': 2.97}, {'text': \"you're looking for is a small bead of\\nglue squeezing out and that just means\", 'start': 144.39, 'duration': 5.37}, {'text': \"you've got enough glue in the joint. Okay\\nI'll let that dry for a while. There's\", 'start': 149.76, 'duration': 4.11}, {'text': 'basically four different methods for\\ncutting rabbets. The first method is to', 'start': 153.87, 'duration': 3.6}, {'text': \"use a router table with a straight bit\\nin your router if you don't have a\", 'start': 157.47, 'duration': 3.75}, {'text': 'router or a router table. The second\\nmethod would be to use a stack of dado', 'start': 161.22, 'duration': 5.1}, {'text': \"blades in your table saw. Some places you\\ncan't get dado blades and if you don't\", 'start': 166.32, 'duration': 5.79}, {'text': 'have any dado blades, a third solution\\nwould be to use a single blade and make', 'start': 172.11, 'duration': 5.73}, {'text': 'two cuts. One going this way, and the\\nother cleaning up that shoulder this way.', 'start': 177.84, 'duration': 6.48}, {'text': \"That method is a little tricky for\\nbeginner woodworkers. I don't recommend\", 'start': 184.32, 'duration': 4.38}, {'text': 'it. It requires a special\\nsetup and it can be a little bit', 'start': 188.7, 'duration': 3.36}, {'text': \"dangerous. So what I'm gonna do is the\\nsimplest method for making rabbets and\", 'start': 192.06, 'duration': 5.19}, {'text': \"dados using a single blade and just\\nmultiple passes. The first thing you're\", 'start': 197.25, 'duration': 4.77}, {'text': 'gonna want to do is clamp a board to\\nyour rip fence. This is a sacrificial', 'start': 202.02, 'duration': 4.17}, {'text': \"fence and it'll let you come right in to\\nyour saw blade without damaging your\", 'start': 206.19, 'duration': 5.76}, {'text': \"actual rip fence. The next thing you're\\ngonna want to do is lower your blade\", 'start': 211.95, 'duration': 3.51}, {'text': \"down to half the thickness of the board\\nyou're gonna cut. It doesn't necessarily\", 'start': 215.46, 'duration': 5.82}, {'text': \"have to be exact but I like to get as\\nclose as possible. I'll cut the rabbets\", 'start': 221.28, 'duration': 4.2}, {'text': 'on the ends of the two longer pieces so\\nthat the short pieces fit completely', 'start': 225.48, 'duration': 5.13}, {'text': 'within that rabbet. In other words the\\nwidth of the rabbit needs to be', 'start': 230.61, 'duration': 4.86}, {'text': \"three-quarters of an inch the thickness\\nof a board. To make this cut you'll be\", 'start': 235.47, 'duration': 3.96}, {'text': 'using both the miter gauge and the RIP\\nfence together. In this', 'start': 239.43, 'duration': 4.46}, {'text': \"situation, since it's not a through cut\\nit's not going to go completely through\", 'start': 243.89, 'duration': 4.38}, {'text': 'the board. This is a safe method. Never\\nuse the miter gauge and a rip fence in', 'start': 248.27, 'duration': 5.85}, {'text': \"combination if you're going to be cross\\ncutting cutting completely through the\", 'start': 254.12, 'duration': 4.32}, {'text': 'board because that is just inviting\\nkickback which can throw that cutoff', 'start': 258.44, 'duration': 4.71}, {'text': 'piece right back at you. So again for\\nthis situation and for cutting dados,', 'start': 263.15, 'duration': 5.31}, {'text': \"it's fine to use both. So this is real\\nsimple I'll just start at the end of the\", 'start': 268.46, 'duration': 3.48}, {'text': 'board and start making cuts advancing\\nthe board forward each cut until it', 'start': 271.94, 'duration': 5.04}, {'text': 'stops at the rip fence.', 'start': 276.98, 'duration': 1.41}, {'text': 'One thing people sometimes point out is\\nthat by using a regular table saw blade', 'start': 286.63, 'duration': 7.8}, {'text': \"to make dados and rabbets that you can't\\nget a completely flat surface you'll be\", 'start': 294.43, 'duration': 5.61}, {'text': 'left with little ridges. And they do make\\nspecial flat toothed saw blades just for', 'start': 300.04, 'duration': 7.14}, {'text': \"that purpose. I've never owned one\\nbecause I've never seen any reason for\", 'start': 307.18, 'duration': 4.17}, {'text': \"it. I get perfectly fine results with a\\nregular saw blade sometimes there's a\", 'start': 311.35, 'duration': 4.41}, {'text': \"few ridges in there I can sand those\\ndown. If I don't want to sand them down\", 'start': 315.76, 'duration': 3.9}, {'text': \"they still hold it just as well. And\\nright about now you're gonna be super\", 'start': 319.66, 'duration': 4.14}, {'text': 'excited to see how this all goes\\ntogether so go ahead give it a test', 'start': 323.8, 'duration': 4.26}, {'text': 'drive. Now I can change my setup to cut\\nthe long rabbets along one long edge of', 'start': 328.06, 'duration': 6.93}, {'text': \"each piece to hold the bottom panel in\\nplace. I won't be needing a miter gauge\", 'start': 334.99, 'duration': 5.58}, {'text': 'for these cuts and I will be needing the\\nsacrificial fence for these cuts. And', 'start': 340.57, 'duration': 5.28}, {'text': \"that's because I'll be doing them kind\\nof opposite of the way I did these end\", 'start': 345.85, 'duration': 3.36}, {'text': \"rabbets. This time I'm gonna start with\\nthe fence up close and then slowly work\", 'start': 349.21, 'duration': 5.04}, {'text': \"it further and further away until I get\\na good fit I'm going to use this\", 'start': 354.25, 'duration': 4.86}, {'text': \"half-inch plywood for my base so I'll\\nstart with the blade right up against\", 'start': 359.11, 'duration': 6.27}, {'text': \"that board. I'll make one pass over the\\nblade with each piece then move the\", 'start': 365.38, 'duration': 4.65}, {'text': 'fence over a little bit at a time until\\nI get a good fit for that bottom panel.', 'start': 370.03, 'duration': 4.26}, {'text': \"So when you think you're getting close\\nto the final width of that rabbet you\", 'start': 386.24, 'duration': 3.84}, {'text': \"want to test it against your actual\\nbottom panel to make sure that you're\", 'start': 390.08, 'duration': 3.75}, {'text': 'not going too far. So here I can tell\\nthat I still have a little bit further I', 'start': 393.83, 'duration': 6.75}, {'text': 'could do like half a blades thickness.', 'start': 400.58, 'duration': 2.94}, {'text': 'To get a good fit on that bottom panel\\nI like to cut it to size by first dry', 'start': 405.2, 'duration': 11.49}, {'text': 'fitting all of the side pieces together.\\xa0\\nIf you have one of these strap clamps it', 'start': 416.69, 'duration': 6.0}, {'text': \"makes this process a lot easier. I highly\\nrecommend getting one of these. I've had\", 'start': 422.69, 'duration': 5.04}, {'text': \"this one for probably fifteen years and\\nI can't tell you how many hundreds and\", 'start': 427.73, 'duration': 6.9}, {'text': \"hundreds of times I've used it. But if\\nyou don't have one you can just use some\", 'start': 434.63, 'duration': 3.15}, {'text': 'regular bar clamps on the sides. Rather\\nthan use a tape measure I usually like', 'start': 437.78, 'duration': 6.06}, {'text': \"to just make a mark where I need to cut\\nit. I'll cut this a little oversize to\", 'start': 443.84, 'duration': 5.97}, {'text': 'start with so that I can nibble it down\\nto a perfect fit.', 'start': 449.81, 'duration': 3.33}, {'text': \"The bottom panel will help keep the box\\nsquare while you're gluing it up so I\", 'start': 467.96, 'duration': 7.44}, {'text': 'like to glue together all the sides and\\nthe bottom at the same time. Another', 'start': 475.4, 'duration': 3.99}, {'text': \"reason I like to use rabbet joints is\\nthat there's a lot of surface area for\", 'start': 479.39, 'duration': 3.39}, {'text': 'the glue that makes it a really strong\\njoint. And you want to make sure that you', 'start': 482.78, 'duration': 3.63}, {'text': \"get glue on both surfaces. This one and\\nthat shoulder piece. And I'm not putting\", 'start': 486.41, 'duration': 6.57}, {'text': \"any glue on that bottom rabbet just yet\\nit won't hurt if a little bit gets on\", 'start': 492.98, 'duration': 5.85}, {'text': 'there. Now I can put the glue in this\\nrabbet.', 'start': 498.83, 'duration': 7.02}, {'text': \"And like everything else I'm not putting\\na lot of pressure on these clamps. Now I\", 'start': 519.59, 'duration': 13.71}, {'text': 'can see how the lid turned out. Nice, now\\nall I need to do is cut that down to its', 'start': 533.3, 'duration': 9.3}, {'text': \"final size but I think I'll wait until\\nthis is dry so that I can get a good\", 'start': 542.6, 'duration': 3.42}, {'text': 'measurement.', 'start': 546.02, 'duration': 0.45}, {'text': \"I'm gonna make my lid a little bit\\nbigger than the box so that there's a\", 'start': 557.79, 'duration': 3.3}, {'text': 'lip all the way around. If you want you\\ncould make it the exact same size as the', 'start': 561.09, 'duration': 4.44}, {'text': \"box. And I'll kind of wrap it on all four\\nedges just like I did before.\", 'start': 565.53, 'duration': 3.18}, {'text': \"this is a free paint stirring stick that\\nI've glued a couple of pieces of\", 'start': 595.07, 'duration': 4.62}, {'text': \"sandpaper to and it's really handy for\\nsanding rabbets.\", 'start': 599.69, 'duration': 3.27}]\n",
      "chunked_transcript, [(0, \"Just about everything you could build\\nstarts with knowing how to make a basic box. Whether you're making cabinets or\\ndrawers or bookcases, desks, beds, they're all just variations on the humble box.\\xa0\\nThis is a great first project if you're just getting into woodworking. And\\nthere's lots and lots of ways to make boxes with all different kinds of\\njoinery but in this video I'll show you the simple rabbet joint method I use\\nalmost every time. It's quick. It's strong. It gives you nice square corners without\\na lot of fuss. Hey welcome to Woodworking for Mere Mortals where it's my goal to\\ntake the mystery out of woodworking and teach you how to build your own projects\\nwithout a lot of space or expensive tools. You can get started today by\\ndownloading my free guide to setting up shop for under $1000 at mytoollist.com.\\xa0\\nFor this demonstration I'm gonna be using regular three-quarter inch lumber\\nthat's available at any Home Center. Aesthetically speaking, smaller boxes\\nwill look nicer with thinner lumber but making thinner boards is a topic for\\nanother video. And if you'd like to make this exact box, I've got free plans down\\nin the description. I'll be able to build this box using this single board. First\\nthing I want to do is crosscut the four sides to their lengths. These final two\\ncuts are gonna be the lid. I'll set those aside for now. Next I want to rip all of\\nthe sides down to the same width. A lot of you probably already know when I rip\\nboards I like to clean up one side first then flip it around and rip it to its\\nexact width. I want to go ahead and glue up the two pieces that make up the lid\\nnow so that they'll have time to dry. And all I'm gonna do is shave a little bit\\noff of each edge so they'll fit nicely together. The secret to edge joining boards is you\\njust don't want to clamp them down really tight. Just a real gentle clamping\\nwill do it. Otherwise they can buckle. Then you want to look down the edge and\\nmake sure that it's not curved. I can see\"), (120.03, \"it's bending a little bit on this one\\nso I'll just straighten that up with a couple of cauls. These are just boards\\nwhere I've got some packing tape on them so that the glue doesn't stick. That\\nflattens it out. So that's it! Seems kind of silly to use so many\\nclamps for such a small glue up but each of these clamps is really important. And\\nwhen you're gluing up panels what you're looking for is a small bead of\\nglue squeezing out and that just means you've got enough glue in the joint. Okay\\nI'll let that dry for a while. There's basically four different methods for\\ncutting rabbets. The first method is to use a router table with a straight bit\\nin your router if you don't have a router or a router table. The second\\nmethod would be to use a stack of dado blades in your table saw. Some places you\\ncan't get dado blades and if you don't have any dado blades, a third solution\\nwould be to use a single blade and make two cuts. One going this way, and the\\nother cleaning up that shoulder this way. That method is a little tricky for\\nbeginner woodworkers. I don't recommend it. It requires a special\\nsetup and it can be a little bit dangerous. So what I'm gonna do is the\\nsimplest method for making rabbets and dados using a single blade and just\\nmultiple passes. The first thing you're gonna want to do is clamp a board to\\nyour rip fence. This is a sacrificial fence and it'll let you come right in to\\nyour saw blade without damaging your actual rip fence. The next thing you're\\ngonna want to do is lower your blade down to half the thickness of the board\\nyou're gonna cut. It doesn't necessarily have to be exact but I like to get as\\nclose as possible. I'll cut the rabbets on the ends of the two longer pieces so\\nthat the short pieces fit completely within that rabbet. In other words the\\nwidth of the rabbit needs to be three-quarters of an inch the thickness\\nof a board. To make this cut you'll be using both the miter gauge and the RIP\\nfence together. In this\"), (243.89, \"situation, since it's not a through cut\\nit's not going to go completely through the board. This is a safe method. Never\\nuse the miter gauge and a rip fence in combination if you're going to be cross\\ncutting cutting completely through the board because that is just inviting\\nkickback which can throw that cutoff piece right back at you. So again for\\nthis situation and for cutting dados, it's fine to use both. So this is real\\nsimple I'll just start at the end of the board and start making cuts advancing\\nthe board forward each cut until it stops at the rip fence. One thing people sometimes point out is\\nthat by using a regular table saw blade to make dados and rabbets that you can't\\nget a completely flat surface you'll be left with little ridges. And they do make\\nspecial flat toothed saw blades just for that purpose. I've never owned one\\nbecause I've never seen any reason for it. I get perfectly fine results with a\\nregular saw blade sometimes there's a few ridges in there I can sand those\\ndown. If I don't want to sand them down they still hold it just as well. And\\nright about now you're gonna be super excited to see how this all goes\\ntogether so go ahead give it a test drive. Now I can change my setup to cut\\nthe long rabbets along one long edge of each piece to hold the bottom panel in\\nplace. I won't be needing a miter gauge for these cuts and I will be needing the\\nsacrificial fence for these cuts. And that's because I'll be doing them kind\\nof opposite of the way I did these end rabbets. This time I'm gonna start with\\nthe fence up close and then slowly work it further and further away until I get\\na good fit I'm going to use this half-inch plywood for my base so I'll\\nstart with the blade right up against\"), (365.38, \"that board. I'll make one pass over the\\nblade with each piece then move the fence over a little bit at a time until\\nI get a good fit for that bottom panel. So when you think you're getting close\\nto the final width of that rabbet you want to test it against your actual\\nbottom panel to make sure that you're not going too far. So here I can tell\\nthat I still have a little bit further I could do like half a blades thickness. To get a good fit on that bottom panel\\nI like to cut it to size by first dry fitting all of the side pieces together.\\xa0\\nIf you have one of these strap clamps it makes this process a lot easier. I highly\\nrecommend getting one of these. I've had this one for probably fifteen years and\\nI can't tell you how many hundreds and hundreds of times I've used it. But if\\nyou don't have one you can just use some regular bar clamps on the sides. Rather\\nthan use a tape measure I usually like to just make a mark where I need to cut\\nit. I'll cut this a little oversize to start with so that I can nibble it down\\nto a perfect fit. The bottom panel will help keep the box\\nsquare while you're gluing it up so I like to glue together all the sides and\\nthe bottom at the same time. Another reason I like to use rabbet joints is\\nthat there's a lot of surface area for the glue that makes it a really strong\\njoint. And you want to make sure that you\"), (486.41, \"get glue on both surfaces. This one and\\nthat shoulder piece. And I'm not putting any glue on that bottom rabbet just yet\\nit won't hurt if a little bit gets on there. Now I can put the glue in this\\nrabbet. And like everything else I'm not putting\\na lot of pressure on these clamps. Now I can see how the lid turned out. Nice, now\\nall I need to do is cut that down to its final size but I think I'll wait until\\nthis is dry so that I can get a good measurement. I'm gonna make my lid a little bit\\nbigger than the box so that there's a lip all the way around. If you want you\\ncould make it the exact same size as the box. And I'll kind of wrap it on all four\\nedges just like I did before. this is a free paint stirring stick that\\nI've glued a couple of pieces of sandpaper to and it's really handy for\\nsanding rabbets.\")]\n"
     ]
    }
   ],
   "source": [
    "# youtube_url = \"8vFGrNjT4P4\"\n",
    "youtube_url =input(\"Youtube Url: \")\n",
    "video_id = get_video_id(youtube_url)\n",
    "print(f\"URL, {video_id}\")\n",
    "\n",
    "\n",
    "transcript = get_video_transcript(video_id)\n",
    "\n",
    "print(f\"transcript, {transcript}\")\n",
    "\n",
    "chunked_transcript = chunk_transcript(transcript)\n",
    "\n",
    "print(f\"chunked_transcript, {chunked_transcript}\")\n",
    "\n"
   ]
  },
  {
   "cell_type": "code",
   "execution_count": 27,
   "metadata": {},
   "outputs": [
    {
     "name": "stdout",
     "output_type": "stream",
     "text": [
      "summarized_chunks, [(0, 'The video emphasizes that nearly all woodworking projects start with building a basic box, such as cabinets, drawers, or bookcases, making it a great beginner project. The presenter introduces the simple rabbet joint method for constructing boxes, highlighting its speed, strength, and ability to create square corners easily. The demonstration uses standard three-quarter inch lumber available at home centers and mentions that smaller boxes look better with thinner lumber, which will be covered in another video. Free plans for the exact box shown are available in the description. The construction process starts by crosscutting the sides to length, then ripping them to equal widths, cleaning one side before ripping for accuracy. The two lid pieces are glued and lightly clamped to dry, ensuring they fit well together without buckling by checking the edge for straightness after clamping.'), (120.03, 'The speaker is gluing up a panel and is using several clamps along with cauls—boards covered with packing tape to prevent glue sticking—to keep the panel flat during drying. They emphasize that each clamp is important, aiming for a small bead of glue to ensure a good joint. Next, they discuss four methods to cut rabbets: using a router table with a straight bit, using dado blades on a table saw, using two cuts with a single blade (which is tricky and not recommended for beginners), and finally, the simplest method using multiple passes with a single blade. For this last method, they clamp a sacrificial board to the rip fence to protect it and lower the blade to half the board’s thickness. They demonstrate cutting rabbets on the ends of longer pieces so short pieces fit inside, with the rabbet width matching the board thickness (three-quarters of an inch). The cut requires using both the miter gauge and rip fence together.'), (243.89, \"The speaker explains a safe method for making partial cuts (dados and rabbets) on a table saw without cutting completely through the board. They caution against using both the miter gauge and rip fence simultaneously when cross-cutting fully through a board, as it increases the risk of dangerous kickback. For dado cuts, it's fine to use both. The process involves making multiple cuts from the end of the board, advancing forward until the rip fence stops the cut. Although some claim standard saw blades leave ridges in dados, the speaker finds regular blades sufficient and sands ridges if needed. Next, they describe adjusting the setup to cut long rabbets along the edge of pieces to hold a bottom panel, using a sacrificial fence instead of a miter gauge, gradually moving the fence away from the blade to achieve a good fit with half-inch plywood as the base.\"), (365.38, 'The speaker explains how to achieve the correct fit for a bottom panel in woodworking by making incremental passes over the blade and adjusting the fence each time. They recommend testing the rabbet width against the actual bottom panel to avoid cutting too much. For fitting the bottom panel, dry fitting all side pieces together is advised, ideally using a strap clamp for ease, though bar clamps can also work. Instead of measuring with a tape, the speaker marks the cut line and starts cutting slightly oversized to allow fine adjustments. They prefer to glue all sides and the bottom simultaneously, as the bottom panel helps keep the box square during glue-up. Rabbet joints are favored for their large glue surface area, resulting in a strong joint.'), (486.41, \"The speaker describes applying glue to both surfaces of a shoulder piece and a rabbet, being careful not to use too much pressure with clamps. They check the lid's fit, deciding to cut it to its final size after it dries to get accurate measurements. The lid is made slightly larger than the box to create a lip around the edges, but it can also be made the exact box size. The speaker also mentions using a free paint stirring stick with sandpaper attached as a convenient tool for sanding rabbets.\")]\n",
      "[00:00] The video emphasizes that nearly all woodworking projects start with building a basic box, such as cabinets, drawers, or bookcases, making it a great beginner project. The presenter introduces the simple rabbet joint method for constructing boxes, highlighting its speed, strength, and ability to create square corners easily. The demonstration uses standard three-quarter inch lumber available at home centers and mentions that smaller boxes look better with thinner lumber, which will be covered in another video. Free plans for the exact box shown are available in the description. The construction process starts by crosscutting the sides to length, then ripping them to equal widths, cleaning one side before ripping for accuracy. The two lid pieces are glued and lightly clamped to dry, ensuring they fit well together without buckling by checking the edge for straightness after clamping.\n",
      "[02:00] The speaker is gluing up a panel and is using several clamps along with cauls—boards covered with packing tape to prevent glue sticking—to keep the panel flat during drying. They emphasize that each clamp is important, aiming for a small bead of glue to ensure a good joint. Next, they discuss four methods to cut rabbets: using a router table with a straight bit, using dado blades on a table saw, using two cuts with a single blade (which is tricky and not recommended for beginners), and finally, the simplest method using multiple passes with a single blade. For this last method, they clamp a sacrificial board to the rip fence to protect it and lower the blade to half the board’s thickness. They demonstrate cutting rabbets on the ends of longer pieces so short pieces fit inside, with the rabbet width matching the board thickness (three-quarters of an inch). The cut requires using both the miter gauge and rip fence together.\n",
      "[04:00] The speaker explains a safe method for making partial cuts (dados and rabbets) on a table saw without cutting completely through the board. They caution against using both the miter gauge and rip fence simultaneously when cross-cutting fully through a board, as it increases the risk of dangerous kickback. For dado cuts, it's fine to use both. The process involves making multiple cuts from the end of the board, advancing forward until the rip fence stops the cut. Although some claim standard saw blades leave ridges in dados, the speaker finds regular blades sufficient and sands ridges if needed. Next, they describe adjusting the setup to cut long rabbets along the edge of pieces to hold a bottom panel, using a sacrificial fence instead of a miter gauge, gradually moving the fence away from the blade to achieve a good fit with half-inch plywood as the base.\n",
      "[06:00] The speaker explains how to achieve the correct fit for a bottom panel in woodworking by making incremental passes over the blade and adjusting the fence each time. They recommend testing the rabbet width against the actual bottom panel to avoid cutting too much. For fitting the bottom panel, dry fitting all side pieces together is advised, ideally using a strap clamp for ease, though bar clamps can also work. Instead of measuring with a tape, the speaker marks the cut line and starts cutting slightly oversized to allow fine adjustments. They prefer to glue all sides and the bottom simultaneously, as the bottom panel helps keep the box square during glue-up. Rabbet joints are favored for their large glue surface area, resulting in a strong joint.\n",
      "[08:00] The speaker describes applying glue to both surfaces of a shoulder piece and a rabbet, being careful not to use too much pressure with clamps. They check the lid's fit, deciding to cut it to its final size after it dries to get accurate measurements. The lid is made slightly larger than the box to create a lip around the edges, but it can also be made the exact box size. The speaker also mentions using a free paint stirring stick with sandpaper attached as a convenient tool for sanding rabbets.\n",
      "formatted_summary, None\n"
     ]
    }
   ],
   "source": [
    "summarized_chunks = summarize_chunks(chunked_transcript, chat_openai)\n",
    "\n",
    "print(f\"summarized_chunks, {summarized_chunks}\")\n",
    "\n",
    "\n",
    "formatted_summary = format_summary(summarized_chunks)\n",
    "\n",
    "print(f\"formatted_summary, {formatted_summary}\")"
   ]
  }
 ],
 "metadata": {
  "colab": {
   "provenance": []
  },
  "kernelspec": {
   "display_name": "Python (venv)",
   "language": "python",
   "name": "venv"
  },
  "language_info": {
   "codemirror_mode": {
    "name": "ipython",
    "version": 3
   },
   "file_extension": ".py",
   "mimetype": "text/x-python",
   "name": "python",
   "nbconvert_exporter": "python",
   "pygments_lexer": "ipython3",
   "version": "3.13.5"
  }
 },
 "nbformat": 4,
 "nbformat_minor": 4
}
