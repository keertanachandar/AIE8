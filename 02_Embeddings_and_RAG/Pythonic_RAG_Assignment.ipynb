{
 "cells": [
  {
   "cell_type": "markdown",
   "metadata": {
    "id": "lElF3o5PR6ys"
   },
   "source": [
    "# Your First RAG Application\n",
    "\n",
    "In this notebook, we'll walk you through each of the components that are involved in a simple RAG application.\n",
    "\n",
    "We won't be leveraging any fancy tools, just the OpenAI Python SDK, Numpy, and some classic Python.\n",
    "\n",
    "> NOTE: This was done with Python 3.12.3.\n",
    "\n",
    "> NOTE: There might be [compatibility issues](https://github.com/wandb/wandb/issues/7683) if you're on NVIDIA driver >552.44 As an interim solution - you can rollback your drivers to the 552.44."
   ]
  },
  {
   "cell_type": "markdown",
   "metadata": {
    "id": "5CtcL8P8R6yt"
   },
   "source": [
    "## Table of Contents:\n",
    "\n",
    "- Task 1: Imports and Utilities\n",
    "- Task 2: Documents\n",
    "- Task 3: Embeddings and Vectors\n",
    "- Task 4: Prompts\n",
    "- Task 5: Retrieval Augmented Generation\n",
    "  - 🚧 Activity #1: Augment RAG"
   ]
  },
  {
   "cell_type": "markdown",
   "metadata": {
    "id": "1Dz6GYilR6yt"
   },
   "source": [
    "Let's look at a rather complicated looking visual representation of a basic RAG application.\n",
    "\n",
    "<img src=\"https://i.imgur.com/vD8b016.png\" />"
   ]
  },
  {
   "cell_type": "markdown",
   "metadata": {
    "id": "PjmC0KFtR6yt"
   },
   "source": [
    "## Task 1: Imports and Utility\n",
    "\n",
    "We're just doing some imports and enabling `async` to work within the Jupyter environment here, nothing too crazy!"
   ]
  },
  {
   "cell_type": "code",
   "execution_count": 16,
   "metadata": {},
   "outputs": [
    {
     "name": "stdout",
     "output_type": "stream",
     "text": [
      "NumPy version: 2.3.3\n",
      "Import successful!\n"
     ]
    }
   ],
   "source": [
    "# %pip install numpy\n",
    "import numpy as np\n",
    "print(\"NumPy version:\", np.__version__)\n",
    "print(\"Import successful!\")"
   ]
  },
  {
   "cell_type": "code",
   "execution_count": 17,
   "metadata": {
    "id": "Z1dyrG4hR6yt"
   },
   "outputs": [],
   "source": [
    "# %pip install dotenv\n",
    "# %pip install openai\n",
    "\n",
    "from aimakerspace.text_utils import TextFileLoader, CharacterTextSplitter\n",
    "from aimakerspace.vectordatabase import VectorDatabase\n",
    "import asyncio"
   ]
  },
  {
   "cell_type": "code",
   "execution_count": 18,
   "metadata": {
    "id": "9OrFZRnER6yt"
   },
   "outputs": [],
   "source": [
    "import nest_asyncio\n",
    "nest_asyncio.apply()"
   ]
  },
  {
   "cell_type": "markdown",
   "metadata": {
    "id": "M0jGnpQsR6yu"
   },
   "source": [
    "## Task 2: Documents\n",
    "\n",
    "We'll be concerning ourselves with this part of the flow in the following section:\n",
    "\n",
    "<img src=\"https://i.imgur.com/jTm9gjk.png\" />"
   ]
  },
  {
   "cell_type": "markdown",
   "metadata": {
    "id": "-SFPWvRUR6yu"
   },
   "source": [
    "### Loading Source Documents\n",
    "\n",
    "So, first things first, we need some documents to work with.\n",
    "\n",
    "While we could work directly with the `.txt` files (or whatever file-types you wanted to extend this to) we can instead do some batch processing of those documents at the beginning in order to store them in a more machine compatible format.\n",
    "\n",
    "In this case, we're going to parse our text file into a single document in memory.\n",
    "\n",
    "Let's look at the relevant bits of the `TextFileLoader` class:\n",
    "\n",
    "```python\n",
    "def load_file(self):\n",
    "        with open(self.path, \"r\", encoding=self.encoding) as f:\n",
    "            self.documents.append(f.read())\n",
    "```\n",
    "\n",
    "We're simply loading the document using the built in `open` method, and storing that output in our `self.documents` list.\n",
    "\n",
    "> NOTE: We're using blogs from PMarca (Marc Andreessen) as our sample data. This data is largely irrelevant as we want to focus on the mechanisms of RAG, which includes out data's shape and quality - but not specifically what the contents of the data are. \n"
   ]
  },
  {
   "cell_type": "code",
   "execution_count": 19,
   "metadata": {
    "colab": {
     "base_uri": "https://localhost:8080/"
    },
    "id": "Ia2sUEuGR6yu",
    "outputId": "84937ecc-c35f-4c4a-a4ab-9da72625954c"
   },
   "outputs": [
    {
     "data": {
      "text/plain": [
       "1"
      ]
     },
     "execution_count": 19,
     "metadata": {},
     "output_type": "execute_result"
    }
   ],
   "source": [
    "text_loader = TextFileLoader(\"data/PMarcaBlogs.txt\")\n",
    "documents = text_loader.load_documents()\n",
    "len(documents)"
   ]
  },
  {
   "cell_type": "code",
   "execution_count": 20,
   "metadata": {
    "colab": {
     "base_uri": "https://localhost:8080/"
    },
    "id": "bV-tj5WFR6yu",
    "outputId": "674eb315-1ff3-4597-bcf5-38ece0a812ac"
   },
   "outputs": [
    {
     "name": "stdout",
     "output_type": "stream",
     "text": [
      "\n",
      "The Pmarca Blog Archives\n",
      "(select posts from 2007-2009)\n",
      "Marc Andreessen\n",
      "copyright: Andreessen Horow\n"
     ]
    }
   ],
   "source": [
    "print(documents[0][:100])"
   ]
  },
  {
   "cell_type": "markdown",
   "metadata": {
    "id": "nHlTvCzYR6yu"
   },
   "source": [
    "### Splitting Text Into Chunks\n",
    "\n",
    "As we can see, there is one massive document.\n",
    "\n",
    "We'll want to chunk the document into smaller parts so it's easier to pass the most relevant snippets to the LLM.\n",
    "\n",
    "There is no fixed way to split/chunk documents - and you'll need to rely on some intuition as well as knowing your data *very* well in order to build the most robust system.\n",
    "\n",
    "For this toy example, we'll just split blindly on length.\n",
    "\n",
    ">There's an opportunity to clear up some terminology here, for this course we will be stick to the following:\n",
    ">\n",
    ">- \"source documents\" : The `.txt`, `.pdf`, `.html`, ..., files that make up the files and information we start with in its raw format\n",
    ">- \"document(s)\" : single (or more) text object(s)\n",
    ">- \"corpus\" : the combination of all of our documents"
   ]
  },
  {
   "cell_type": "markdown",
   "metadata": {
    "id": "2G6Voc0jR6yv"
   },
   "source": [
    "As you can imagine (though it's not specifically true in this toy example) the idea of splitting documents is to break them into managable sized chunks that retain the most relevant local context."
   ]
  },
  {
   "cell_type": "code",
   "execution_count": 21,
   "metadata": {
    "colab": {
     "base_uri": "https://localhost:8080/"
    },
    "id": "UMC4tsEmR6yv",
    "outputId": "08689c0b-57cd-4040-942a-8193e997f5cb"
   },
   "outputs": [
    {
     "data": {
      "text/plain": [
       "373"
      ]
     },
     "execution_count": 21,
     "metadata": {},
     "output_type": "execute_result"
    }
   ],
   "source": [
    "text_splitter = CharacterTextSplitter()\n",
    "split_documents = text_splitter.split_texts(documents)\n",
    "len(split_documents)"
   ]
  },
  {
   "cell_type": "markdown",
   "metadata": {
    "id": "W2wKT0WLR6yv"
   },
   "source": [
    "Let's take a look at some of the documents we've managed to split."
   ]
  },
  {
   "cell_type": "code",
   "execution_count": 22,
   "metadata": {
    "colab": {
     "base_uri": "https://localhost:8080/"
    },
    "id": "vcYMwWJoR6yv",
    "outputId": "20d69876-feca-4826-b4be-32915276987a"
   },
   "outputs": [
    {
     "data": {
      "text/plain": [
       "['\\ufeff\\nThe Pmarca Blog Archives\\n(select posts from 2007-2009)\\nMarc Andreessen\\ncopyright: Andreessen Horowitz\\ncover design: Jessica Hagy\\nproduced using: Pressbooks\\nContents\\nTHE PMARCA GUIDE TO STARTUPS\\nPart 1: Why not to do a startup 2\\nPart 2: When the VCs say \"no\" 10\\nPart 3: \"But I don\\'t know any VCs!\" 18\\nPart 4: The only thing that matters 25\\nPart 5: The Moby Dick theory of big companies 33\\nPart 6: How much funding is too little? Too much? 41\\nPart 7: Why a startup\\'s initial business plan doesn\\'t\\nmatter that much\\n49\\nTHE PMARCA GUIDE TO HIRING\\nPart 8: Hiring, managing, promoting, and Dring\\nexecutives\\n54\\nPart 9: How to hire a professional CEO 68\\nHow to hire the best people you\\'ve ever worked\\nwith\\n69\\nTHE PMARCA GUIDE TO BIG COMPANIES\\nPart 1: Turnaround! 82\\nPart 2: Retaining great people 86\\nTHE PMARCA GUIDE TO CAREER, PRODUCTIVITY,\\nAND SOME OTHER THINGS\\nIntroduction 97\\nPart 1: Opportunity 99\\nPart 2: Skills and education 107\\nPart 3: Where to go and why 120\\nThe Pmarca Guide to Personal Productivi']"
      ]
     },
     "execution_count": 22,
     "metadata": {},
     "output_type": "execute_result"
    }
   ],
   "source": [
    "split_documents[0:1]"
   ]
  },
  {
   "cell_type": "markdown",
   "metadata": {
    "id": "HOU-RFP_R6yv"
   },
   "source": [
    "## Task 3: Embeddings and Vectors\n",
    "\n",
    "Next, we have to convert our corpus into a \"machine readable\" format as we explored in the Embedding Primer notebook.\n",
    "\n",
    "Today, we're going to talk about the actual process of creating, and then storing, these embeddings, and how we can leverage that to intelligently add context to our queries."
   ]
  },
  {
   "cell_type": "markdown",
   "metadata": {},
   "source": [
    "### OpenAI API Key\n",
    "\n",
    "In order to access OpenAI's APIs, we'll need to provide our OpenAI API Key!\n",
    "\n",
    "You can work through the folder \"OpenAI API Key Setup\" for more information on this process if you don't already have an API Key!"
   ]
  },
  {
   "cell_type": "code",
   "execution_count": 23,
   "metadata": {},
   "outputs": [],
   "source": [
    "import os\n",
    "import openai\n",
    "from getpass import getpass\n",
    "\n",
    "openai.api_key = getpass(\"OpenAI API Key: \")\n",
    "os.environ[\"OPENAI_API_KEY\"] = openai.api_key"
   ]
  },
  {
   "cell_type": "markdown",
   "metadata": {},
   "source": [
    "### Vector Database\n",
    "\n",
    "Let's set up our vector database to hold all our documents and their embeddings!"
   ]
  },
  {
   "cell_type": "markdown",
   "metadata": {
    "id": "kDQrfAR1R6yv"
   },
   "source": [
    "While this is all baked into 1 call - we can look at some of the code that powers this process to get a better understanding:\n",
    "\n",
    "Let's look at our `VectorDatabase().__init__()`:\n",
    "\n",
    "```python\n",
    "def __init__(self, embedding_model: EmbeddingModel = None):\n",
    "        self.vectors = defaultdict(np.array)\n",
    "        self.embedding_model = embedding_model or EmbeddingModel()\n",
    "```\n",
    "\n",
    "As you can see - our vectors are merely stored as a dictionary of `np.array` objects.\n",
    "\n",
    "Secondly, our `VectorDatabase()` has a default `EmbeddingModel()` which is a wrapper for OpenAI's `text-embedding-3-small` model.\n",
    "\n",
    "> **Quick Info About `text-embedding-3-small`**:\n",
    "> - It has a context window of **8191** tokens\n",
    "> - It returns vectors with dimension **1536**"
   ]
  },
  {
   "cell_type": "markdown",
   "metadata": {
    "id": "L273pRdeR6yv"
   },
   "source": [
    "#### ❓Question #1:\n",
    "\n",
    "The default embedding dimension of `text-embedding-3-small` is 1536, as noted above. \n",
    "\n",
    "1. Is there any way to modify this dimension?\n",
    "2. What technique does OpenAI use to achieve this?\n",
    "\n",
    "> NOTE: Check out this [API documentation](https://platform.openai.com/docs/api-reference/embeddings/create) for the answer to question #1.1, and [this documentation](https://platform.openai.com/docs/guides/embeddings/use-cases) for an answer to question #1.2!\n"
   ]
  },
  {
   "cell_type": "markdown",
   "metadata": {},
   "source": [
    "##### ✅ Answer:\n",
    "1. You can pass in a value to the dimensions paramater to reduce the default of 1536 dimensions.\n",
    "2. This change only happens for the `text-embedding-3-small` and `text-embedding-3-large` models - you can reduce the number of dimensions and you will not lose any concept-representing properties, unlike other models. Ideally, you should modify this value before creating the embedding. They are able to acheive this by encoding information dynamically and having individual embeddings adapt to new constraints as it is created."
   ]
  },
  {
   "cell_type": "markdown",
   "metadata": {
    "id": "w5FZY7K3R6yv"
   },
   "source": [
    "We can call the `async_get_embeddings` method of our `EmbeddingModel()` on a list of `str` and receive a list of `float` back!\n",
    "\n",
    "```python\n",
    "async def async_get_embeddings(self, list_of_text: List[str]) -> List[List[float]]:\n",
    "        return await aget_embeddings(\n",
    "            list_of_text=list_of_text, engine=self.embeddings_model_name\n",
    "        )\n",
    "```"
   ]
  },
  {
   "cell_type": "markdown",
   "metadata": {
    "id": "cSct6X0aR6yv"
   },
   "source": [
    "We cast those to `np.array` when we build our `VectorDatabase()`:\n",
    "\n",
    "```python\n",
    "async def abuild_from_list(self, list_of_text: List[str]) -> \"VectorDatabase\":\n",
    "        embeddings = await self.embedding_model.async_get_embeddings(list_of_text)\n",
    "        for text, embedding in zip(list_of_text, embeddings):\n",
    "            self.insert(text, np.array(embedding))\n",
    "        return self\n",
    "```\n",
    "\n",
    "And that's all we need to do!"
   ]
  },
  {
   "cell_type": "code",
   "execution_count": 39,
   "metadata": {
    "id": "O4KoLbVDR6yv"
   },
   "outputs": [],
   "source": [
    "vector_db = VectorDatabase()\n",
    "vector_db = asyncio.run(vector_db.abuild_from_list(split_documents))"
   ]
  },
  {
   "cell_type": "markdown",
   "metadata": {
    "id": "SSZwaGvpR6yv"
   },
   "source": [
    "#### ❓Question #2:\n",
    "\n",
    "What are the benefits of using an `async` approach to collecting our embeddings?\n",
    "\n",
    "> NOTE: Determining the core difference between `async` and `sync` will be useful! If you get stuck - ask ChatGPT!"
   ]
  },
  {
   "cell_type": "markdown",
   "metadata": {},
   "source": [
    "##### ✅ Answer:\n",
    "Creating requests synchronously mean the work will be done one at a time. Only till the first request finishes can you move on to the second. An asychronous approach means that the requests are done parallelly. If the first request is taking too long, you can work on the second and third one at the same time. \n",
    "Some benefits of using an `async` approach include:\n",
    "1. If you have a large number of texts (in the hundreds or thousands), an `async` approach lets you make many requests concurrently. A `synchronous` approach means you have to wait for one request to finish before moving on to the next. This would take too long for a large data set. A synchronous approach might work if you have a very small data set - i.e. 5-10 queries total.\n",
    "2. Async scales better. Since you are not limited by the order in which things are done, you can work with other heavy operations like API calls. This also helps web servers scale because you need to serve many users at the same time.\n",
    "3. An async approach means faster processing of large batches and more efficient resource usage. \n"
   ]
  },
  {
   "cell_type": "markdown",
   "metadata": {
    "id": "nRBdIt-xR6yw"
   },
   "source": [
    "So, to review what we've done so far in natural language:\n",
    "\n",
    "1. We load source documents\n",
    "2. We split those source documents into smaller chunks (documents)\n",
    "3. We send each of those documents to the `text-embedding-3-small` OpenAI API endpoint\n",
    "4. We store each of the text representations with the vector representations as keys/values in a dictionary"
   ]
  },
  {
   "cell_type": "markdown",
   "metadata": {
    "id": "4-vWANZyR6yw"
   },
   "source": [
    "### Semantic Similarity\n",
    "\n",
    "The next step is to be able to query our `VectorDatabase()` with a `str` and have it return to us vectors and text that is most relevant from our corpus.\n",
    "\n",
    "We're going to use the following process to achieve this in our toy example:\n",
    "\n",
    "1. We need to embed our query with the same `EmbeddingModel()` as we used to construct our `VectorDatabase()`\n",
    "2. We loop through every vector in our `VectorDatabase()` and use a distance measure to compare how related they are\n",
    "3. We return a list of the top `k` closest vectors, with their text representations\n",
    "\n",
    "There's some very heavy optimization that can be done at each of these steps - but let's just focus on the basic pattern in this notebook.\n",
    "\n",
    "> We are using [cosine similarity](https://www.engati.com/glossary/cosine-similarity) as a distance metric in this example - but there are many many distance metrics you could use - like [these](https://flavien-vidal.medium.com/similarity-distances-for-natural-language-processing-16f63cd5ba55)\n",
    "\n",
    "> We are using a rather inefficient way of calculating relative distance between the query vector and all other vectors - there are more advanced approaches that are much more efficient, like [ANN](https://towardsdatascience.com/comprehensive-guide-to-approximate-nearest-neighbors-algorithms-8b94f057d6b6)"
   ]
  },
  {
   "cell_type": "code",
   "execution_count": 25,
   "metadata": {
    "colab": {
     "base_uri": "https://localhost:8080/"
    },
    "id": "76d96uavR6yw",
    "outputId": "bbfccc31-20a2-41c7-c14d-46554a43ed2d"
   },
   "outputs": [
    {
     "data": {
      "text/plain": [
       "[('ordingly.\\nSeventh, when hiring the executive to run your former specialty, be\\ncareful you don’t hire someone weak on purpose.\\nThis sounds silly, but you wouldn’t believe how oaen it happens.\\nThe CEO who used to be a product manager who has a weak\\nproduct management executive. The CEO who used to be in\\nsales who has a weak sales executive. The CEO who used to be\\nin marketing who has a weak marketing executive.\\nI call this the “Michael Eisner Memorial Weak Executive Problem” — aaer the CEO of Disney who had previously been a brilliant TV network executive. When he bought ABC at Disney, it\\npromptly fell to fourth place. His response? “If I had an extra\\ntwo days a week, I could turn around ABC myself.” Well, guess\\nwhat, he didn’t have an extra two days a week.\\nA CEO — or a startup founder — oaen has a hard time letting\\ngo of the function that brought him to the party. The result: you\\nhire someone weak into the executive role for that function so\\nthat you can continue to be “the man” — cons',\n",
       "  np.float64(0.6538563767462546)),\n",
       " ('m. They have areas where they are truly deXcient in judgment or skill set. That’s just life. Almost nobody is brilliant\\nat everything. When hiring and when Hring executives, you\\nmust therefore focus on strength rather than lack of weakness. Everybody has severe weaknesses even if you can’t see\\nthem yet. When managing, it’s oaen useful to micromanage and\\nto provide remedial training around these weaknesses. Doing so\\nmay make the diWerence between an executive succeeding or\\nfailing.\\nFor example, you might have a brilliant engineering executive\\nwho generates excellent team loyalty, has terriXc product judgment and makes the trains run on time. This same executive\\nmay be very poor at relating to the other functions in the company. She may generate far more than her share of cross-functional conYicts, cut herself oW from critical information, and\\nsigniXcantly impede your ability to sell and market eWectively.\\nYour alternatives are:\\n(a) Macro-manage and give her an annual or quarterly object',\n",
       "  np.float64(0.5036012174947995)),\n",
       " ('ed?\\nIn reality — as opposed to Marc’s warped view of reality — it will\\nbe extremely helpful for Marc [if he were actually the CEO,\\nwhich he is not] to meet with the new head of engineering daily\\nwhen she comes on board and review all of her thinking and\\ndecisions. This level of micromanagement will accelerate her\\ntraining and improve her long-term eWectiveness. It will make\\nher seem smarter to the rest of the organization which will build\\ncredibility and conXdence while she comes up to speed. Micromanaging new executives is generally a good idea for a limited\\nperiod of time.\\nHowever, that is not the only time that it makes sense to micro66 The Pmarca Blog Archives\\nmanage executives. It turns out that just about every executive\\nin the world has a few things that are seriously wrong with\\nthem. They have areas where they are truly deXcient in judgment or skill set. That’s just life. Almost nobody is brilliant\\nat everything. When hiring and when Hring executives, you\\nmust therefore focus o',\n",
       "  np.float64(0.4814102594977529))]"
      ]
     },
     "execution_count": 25,
     "metadata": {},
     "output_type": "execute_result"
    }
   ],
   "source": [
    "vector_db.search_by_text(\"What is the Michael Eisner Memorial Weak Executive Problem?\", k=3)"
   ]
  },
  {
   "cell_type": "markdown",
   "metadata": {
    "id": "TehsfIiKR6yw"
   },
   "source": [
    "## Task 4: Prompts\n",
    "\n",
    "In the following section, we'll be looking at the role of prompts - and how they help us to guide our application in the right direction.\n",
    "\n",
    "In this notebook, we're going to rely on the idea of \"zero-shot in-context learning\".\n",
    "\n",
    "This is a lot of words to say: \"We will ask it to perform our desired task in the prompt, and provide no examples.\""
   ]
  },
  {
   "cell_type": "markdown",
   "metadata": {
    "id": "yXpA0UveR6yw"
   },
   "source": [
    "### XYZRolePrompt\n",
    "\n",
    "Before we do that, let's stop and think a bit about how OpenAI's chat models work.\n",
    "\n",
    "We know they have roles - as is indicated in the following API [documentation](https://platform.openai.com/docs/api-reference/chat/create#chat/create-messages)\n",
    "\n",
    "There are three roles, and they function as follows (taken directly from [OpenAI](https://platform.openai.com/docs/guides/gpt/chat-completions-api)):\n",
    "\n",
    "- `{\"role\" : \"system\"}` : The system message helps set the behavior of the assistant. For example, you can modify the personality of the assistant or provide specific instructions about how it should behave throughout the conversation. However note that the system message is optional and the model’s behavior without a system message is likely to be similar to using a generic message such as \"You are a helpful assistant.\"\n",
    "- `{\"role\" : \"user\"}` : The user messages provide requests or comments for the assistant to respond to.\n",
    "- `{\"role\" : \"assistant\"}` : Assistant messages store previous assistant responses, but can also be written by you to give examples of desired behavior.\n",
    "\n",
    "The main idea is this:\n",
    "\n",
    "1. You start with a system message that outlines how the LLM should respond, what kind of behaviours you can expect from it, and more\n",
    "2. Then, you can provide a few examples in the form of \"assistant\"/\"user\" pairs\n",
    "3. Then, you prompt the model with the true \"user\" message.\n",
    "\n",
    "In this example, we'll be forgoing the 2nd step for simplicities sake."
   ]
  },
  {
   "cell_type": "markdown",
   "metadata": {
    "id": "gdZ2KWKSR6yw"
   },
   "source": [
    "#### Utility Functions\n",
    "\n",
    "You'll notice that we're using some utility functions from the `aimakerspace` module - let's take a peek at these and see what they're doing!"
   ]
  },
  {
   "cell_type": "markdown",
   "metadata": {
    "id": "GFbeJDDsR6yw"
   },
   "source": [
    "##### XYZRolePrompt"
   ]
  },
  {
   "cell_type": "markdown",
   "metadata": {
    "id": "5mojJSE3R6yw"
   },
   "source": [
    "Here we have our `system`, `user`, and `assistant` role prompts.\n",
    "\n",
    "Let's take a peek at what they look like:\n",
    "\n",
    "```python\n",
    "class BasePrompt:\n",
    "    def __init__(self, prompt):\n",
    "        \"\"\"\n",
    "        Initializes the BasePrompt object with a prompt template.\n",
    "\n",
    "        :param prompt: A string that can contain placeholders within curly braces\n",
    "        \"\"\"\n",
    "        self.prompt = prompt\n",
    "        self._pattern = re.compile(r\"\\{([^}]+)\\}\")\n",
    "\n",
    "    def format_prompt(self, **kwargs):\n",
    "        \"\"\"\n",
    "        Formats the prompt string using the keyword arguments provided.\n",
    "\n",
    "        :param kwargs: The values to substitute into the prompt string\n",
    "        :return: The formatted prompt string\n",
    "        \"\"\"\n",
    "        matches = self._pattern.findall(self.prompt)\n",
    "        return self.prompt.format(**{match: kwargs.get(match, \"\") for match in matches})\n",
    "\n",
    "    def get_input_variables(self):\n",
    "        \"\"\"\n",
    "        Gets the list of input variable names from the prompt string.\n",
    "\n",
    "        :return: List of input variable names\n",
    "        \"\"\"\n",
    "        return self._pattern.findall(self.prompt)\n",
    "```\n",
    "\n",
    "Then we have our `RolePrompt` which laser focuses us on the role pattern found in most API endpoints for LLMs.\n",
    "\n",
    "```python\n",
    "class RolePrompt(BasePrompt):\n",
    "    def __init__(self, prompt, role: str):\n",
    "        \"\"\"\n",
    "        Initializes the RolePrompt object with a prompt template and a role.\n",
    "\n",
    "        :param prompt: A string that can contain placeholders within curly braces\n",
    "        :param role: The role for the message ('system', 'user', or 'assistant')\n",
    "        \"\"\"\n",
    "        super().__init__(prompt)\n",
    "        self.role = role\n",
    "\n",
    "    def create_message(self, **kwargs):\n",
    "        \"\"\"\n",
    "        Creates a message dictionary with a role and a formatted message.\n",
    "\n",
    "        :param kwargs: The values to substitute into the prompt string\n",
    "        :return: Dictionary containing the role and the formatted message\n",
    "        \"\"\"\n",
    "        return {\"role\": self.role, \"content\": self.format_prompt(**kwargs)}\n",
    "```\n",
    "\n",
    "We'll look at how the `SystemRolePrompt` is constructed to get a better idea of how that extension works:\n",
    "\n",
    "```python\n",
    "class SystemRolePrompt(RolePrompt):\n",
    "    def __init__(self, prompt: str):\n",
    "        super().__init__(prompt, \"system\")\n",
    "```\n",
    "\n",
    "That pattern is repeated for our `UserRolePrompt` and our `AssistantRolePrompt` as well."
   ]
  },
  {
   "cell_type": "markdown",
   "metadata": {
    "id": "D361R6sMR6yw"
   },
   "source": [
    "##### ChatOpenAI"
   ]
  },
  {
   "cell_type": "markdown",
   "metadata": {
    "id": "HJVQ2Pm8R6yw"
   },
   "source": [
    "Next we have our model, which is converted to a format analagous to libraries like LangChain and LlamaIndex.\n",
    "\n",
    "Let's take a peek at how that is constructed:\n",
    "\n",
    "```python\n",
    "class ChatOpenAI:\n",
    "    def __init__(self, model_name: str = \"gpt-4.1-mini\"):\n",
    "        self.model_name = model_name\n",
    "        self.openai_api_key = os.getenv(\"OPENAI_API_KEY\")\n",
    "        if self.openai_api_key is None:\n",
    "            raise ValueError(\"OPENAI_API_KEY is not set\")\n",
    "\n",
    "    def run(self, messages, text_only: bool = True):\n",
    "        if not isinstance(messages, list):\n",
    "            raise ValueError(\"messages must be a list\")\n",
    "\n",
    "        openai.api_key = self.openai_api_key\n",
    "        response = openai.ChatCompletion.create(\n",
    "            model=self.model_name, messages=messages\n",
    "        )\n",
    "\n",
    "        if text_only:\n",
    "            return response.choices[0].message.content\n",
    "\n",
    "        return response\n",
    "```"
   ]
  },
  {
   "cell_type": "markdown",
   "metadata": {
    "id": "qCU7FfhIR6yw"
   },
   "source": [
    "#### ❓ Question #3:\n",
    "\n",
    "When calling the OpenAI API - are there any ways we can achieve more reproducible outputs?\n",
    "\n",
    "> NOTE: Check out [this section](https://platform.openai.com/docs/guides/text-generation/) of the OpenAI documentation for the answer!"
   ]
  },
  {
   "cell_type": "markdown",
   "metadata": {},
   "source": [
    "##### ✅ Answer:\n",
    "Prompt Engineering - writing effective instructions for the model so that the output has clear success criteria and meets your requirements more consistently.\n",
    "There are some techniques that work with any model, such as using message roles. However, the prompts may need to be adjusted based on the model. Even different snapshots of models within the same family can produce different results with the same prompts. For that reason, it is recommended to pin your applications to model snapshots for consistent behavior. And to build a way to evaluate the behavior and performance of the prompts so you update it as necessary.\n",
    "You can pass in different insructions which behave like certain roles (developer). You can also pass in prompts as certain roles. The `developer` role has the highest priority and are used as instructions for the model. The `user` role is prioritized after `developer`, and these are the instructions given by the user - the query asked. There is also the `assistant` role which are messages generated by the model.\n",
    "You can also pass in reusable prompts which can be updated without changing any of the code. This allows you to iterate until you consistently get successful responses.\n"
   ]
  },
  {
   "cell_type": "markdown",
   "metadata": {
    "id": "c5wcjMLCR6yw"
   },
   "source": [
    "### Creating and Prompting OpenAI's `gpt-4.1-mini`!\n",
    "\n",
    "Let's tie all these together and use it to prompt `gpt-4.1-mini`!"
   ]
  },
  {
   "cell_type": "code",
   "execution_count": 26,
   "metadata": {
    "id": "WIfpIot7R6yw"
   },
   "outputs": [],
   "source": [
    "from aimakerspace.openai_utils.prompts import (\n",
    "    UserRolePrompt,\n",
    "    SystemRolePrompt,\n",
    "    AssistantRolePrompt,\n",
    ")\n",
    "\n",
    "from aimakerspace.openai_utils.chatmodel import ChatOpenAI\n",
    "\n",
    "chat_openai = ChatOpenAI()\n",
    "user_prompt_template = \"{content}\"\n",
    "user_role_prompt = UserRolePrompt(user_prompt_template)\n",
    "system_prompt_template = (\n",
    "    \"You are an expert in {expertise}, you always answer in a kind way.\"\n",
    ")\n",
    "system_role_prompt = SystemRolePrompt(system_prompt_template)\n",
    "\n",
    "messages = [\n",
    "    system_role_prompt.create_message(expertise=\"Python\"),\n",
    "    user_role_prompt.create_message(\n",
    "        content=\"What is the best way to write a loop?\"\n",
    "    ),\n",
    "]\n",
    "\n",
    "response = chat_openai.run(messages)"
   ]
  },
  {
   "cell_type": "code",
   "execution_count": 27,
   "metadata": {
    "colab": {
     "base_uri": "https://localhost:8080/"
    },
    "id": "dHo7lssNR6yw",
    "outputId": "1d3823fa-bb6b-45f6-ddba-b41686388324"
   },
   "outputs": [
    {
     "name": "stdout",
     "output_type": "stream",
     "text": [
      "Hello! The best way to write a loop in Python really depends on what you're trying to achieve. However, a common and clean approach is to use a `for` loop when iterating over a sequence (like a list, string, or range), and a `while` loop when you need to repeat something until a condition changes.\n",
      "\n",
      "Here are simple examples of both:\n",
      "\n",
      "**For loop:**\n",
      "\n",
      "```python\n",
      "for i in range(5):\n",
      "    print(i)\n",
      "```\n",
      "\n",
      "This will print numbers from 0 to 4.\n",
      "\n",
      "**While loop:**\n",
      "\n",
      "```python\n",
      "count = 0\n",
      "while count < 5:\n",
      "    print(count)\n",
      "    count += 1\n",
      "```\n",
      "\n",
      "This does the same as above but using a while loop.\n",
      "\n",
      "If you share what kind of loop or task you're working on, I'd be happy to help you write the best loop for your specific case! 😊\n"
     ]
    }
   ],
   "source": [
    "print(response)"
   ]
  },
  {
   "cell_type": "markdown",
   "metadata": {
    "id": "r2nxxhB2R6yy"
   },
   "source": [
    "## Task 5: Retrieval Augmented Generation\n",
    "\n",
    "Now we can create a RAG prompt - which will help our system behave in a way that makes sense!\n",
    "\n",
    "There is much you could do here, many tweaks and improvements to be made!"
   ]
  },
  {
   "cell_type": "code",
   "execution_count": 28,
   "metadata": {
    "id": "D1hamzGaR6yy"
   },
   "outputs": [],
   "source": [
    "RAG_SYSTEM_TEMPLATE = \"\"\"You are a knowledgeable and thoughtful assistant that provides deep analysis based on provided context.\n",
    "\n",
    "Before answering, ask yourself these questions:\n",
    "- What is the core issue being described?\n",
    "- What causes or factors contribute to this situation?\n",
    "- What are the consequences or implications?\n",
    "- What patterns or principles does this illustrate?\n",
    "- How might this apply in similar situations?\n",
    "\n",
    "Instructions:\n",
    "- Think through your response step-by-step before providing your final answer\n",
    "- First, analyze what the context tells us about the topic\n",
    "- Then, identify the key insights and implications\n",
    "- Finally, synthesize this into a comprehensive response\n",
    "- Only answer questions using information from the provided context\n",
    "- If the context doesn't contain relevant information, respond with \"I don't know\"\n",
    "- Be accurate and cite specific parts of the context when possible\n",
    "- Keep responses {response_style} and {response_length}\n",
    "- Show your reasoning process before giving your final answer\n",
    "\n",
    "Then provide a comprehensive response that addresses these analytical dimensions while staying strictly within the provided context.\n",
    "\n",
    "Format your response as:\n",
    "**Analysis:** [Your step-by-step thinking]\n",
    "**Answer:** [Your final comprehensive response]\"\"\"\n",
    "\n",
    "\n",
    "RAG_USER_TEMPLATE = \"\"\"Context Information: {context}\n",
    "Number of relevant sources found: {context_count}\n",
    "{similarity_scores}\n",
    "\n",
    "Question: {user_query}\n",
    "\n",
    "Please analyze this question by considering:\n",
    "1. What does the context directly state about this topic?\n",
    "2. What are the underlying principles or patterns described?\n",
    "3. What implications or consequences are mentioned or can be inferred?\n",
    "4. How does this connect to broader concepts mentioned in the context?\n",
    "\n",
    "Provide your answer based solely on the context above, showing your analytical process.\"\"\"\n",
    "\n",
    "rag_system_prompt = SystemRolePrompt(\n",
    "    RAG_SYSTEM_TEMPLATE,\n",
    "    strict=True,\n",
    "    defaults={\n",
    "        \"response_style\": \"detailed\",\n",
    "        \"response_length\": \"comprehensive\"\n",
    "    }\n",
    ")\n",
    "\n",
    "rag_user_prompt = UserRolePrompt(\n",
    "    RAG_USER_TEMPLATE,\n",
    "    strict=True,\n",
    "    defaults={\n",
    "        \"context_count\": \"\",\n",
    "        \"similarity_scores\": \"\"\n",
    "    }\n",
    ")"
   ]
  },
  {
   "cell_type": "markdown",
   "metadata": {},
   "source": [
    "Now we can create our pipeline!"
   ]
  },
  {
   "cell_type": "code",
   "execution_count": 29,
   "metadata": {},
   "outputs": [],
   "source": [
    "class RetrievalAugmentedQAPipeline:\n",
    "    def __init__(self, llm: ChatOpenAI, vector_db_retriever: VectorDatabase, \n",
    "                 response_style: str = \"detailed\", include_scores: bool = False) -> None:\n",
    "        self.llm = llm\n",
    "        self.vector_db_retriever = vector_db_retriever\n",
    "        self.response_style = response_style\n",
    "        self.include_scores = include_scores\n",
    "\n",
    "    def run_pipeline(self, user_query: str, k: int = 4, **system_kwargs) -> dict:\n",
    "        # Retrieve relevant contexts\n",
    "        context_list = self.vector_db_retriever.search_by_text(user_query, k=k)\n",
    "        \n",
    "        context_prompt = \"\"\n",
    "        similarity_scores = []\n",
    "        \n",
    "        for i, (context, score) in enumerate(context_list, 1):\n",
    "            context_prompt += f\"[Source {i}]: {context}\\n\\n\"\n",
    "            similarity_scores.append(f\"Source {i}: {score:.3f}\")\n",
    "        \n",
    "        # Create system message with parameters\n",
    "        system_params = {\n",
    "            \"response_style\": self.response_style,\n",
    "            \"response_length\": system_kwargs.get(\"response_length\", \"detailed\")\n",
    "        }\n",
    "        \n",
    "        formatted_system_prompt = rag_system_prompt.create_message(**system_params)\n",
    "        \n",
    "        user_params = {\n",
    "            \"user_query\": user_query,\n",
    "            \"context\": context_prompt.strip(),\n",
    "            \"context_count\": len(context_list),\n",
    "            \"similarity_scores\": f\"Relevance scores: {', '.join(similarity_scores)}\" if self.include_scores else \"\"\n",
    "        }\n",
    "        \n",
    "        formatted_user_prompt = rag_user_prompt.create_message(**user_params)\n",
    "\n",
    "        return {\n",
    "            \"response\": self.llm.run([formatted_system_prompt, formatted_user_prompt]), \n",
    "            \"context\": context_list,\n",
    "            \"context_count\": len(context_list),\n",
    "            \"similarity_scores\": similarity_scores if self.include_scores else None,\n",
    "            \"prompts_used\": {\n",
    "                \"system\": formatted_system_prompt,\n",
    "                \"user\": formatted_user_prompt\n",
    "            }\n",
    "        }"
   ]
  },
  {
   "cell_type": "code",
   "execution_count": 30,
   "metadata": {},
   "outputs": [
    {
     "name": "stdout",
     "output_type": "stream",
     "text": [
      "Response: **Analysis:**\n",
      "\n",
      "1. What does the context directly state about this topic?  \n",
      "From Source 1, the \"Michael Eisner Memorial Weak Executive Problem\" refers to a specific hiring issue among CEOs or startup founders who have difficulty relinquishing control over the function or specialty area that brought them success. It describes how such leaders end up hiring deliberately weak executives in their original domain (e.g., product management, sales, marketing) so that they can remain the dominant figure (\"the man\") in that space. The term is inspired by Michael Eisner, a CEO of Disney who previously was a brilliant TV network executive. After acquiring ABC, that division dropped to fourth place. Eisner expressed a wish to personally fix ABC if he had more time, highlighting his reluctance or inability to empower strong leadership in that area.\n",
      "\n",
      "2. What are the underlying principles or patterns described?  \n",
      "The pattern here is that CEOs or founders hold onto their original specialty by keeping weak executives in charge, which ultimately weakens the function's effectiveness. This behavior stems from a psychological or organizational reluctance to cede control or status. The phenomenon reflects a misalignment between the need for strong leadership in each function and the personal insecurities or control needs of the CEO.\n",
      "\n",
      "3. What implications or consequences are mentioned or can be inferred?  \n",
      "The consequences of this problem include poor performance in critical company functions, such as Disney's ABC network falling to fourth place under weak leadership. A related implication is that a CEO’s inability to delegate effectively and trust strong executives can lead to decline in function quality and overall organizational performance. The CEO wanting to do it themselves but lacking the time highlights impracticality and inefficiency stemming from this issue.\n",
      "\n",
      "4. How does this connect to broader concepts mentioned in the context?  \n",
      "The problem ties in with the broader discussion around hiring executives based on strengths rather than trying to avoid weaknesses (source 2 and 3). It also relates to the idea that executives universally have weaknesses that sometimes require micromanagement or remedial training, but deliberately choosing weak executives in a CEO’s own specialty is a particularly dysfunctional manifestation. It underscores the importance of strong, capable executives in all functions for company success, and the pitfalls of ego or control overriding organizational needs.\n",
      "\n",
      "**Answer:**\n",
      "\n",
      "The \"Michael Eisner Memorial Weak Executive Problem\" is a phenomenon where CEOs or founders, particularly those who have risen through a specific specialty (such as product management, sales, or marketing), deliberately hire weak executives to run that same function so they can maintain personal control and status in that area. Named after Michael Eisner, the former Disney CEO who was originally a brilliant TV network executive but saw the ABC network decline under his ownership, this problem illustrates how CEOs’ reluctance to relinquish their original domain leads to subpar leadership and poor functional performance. The underlying principle is that strong leadership is essential for each function, but CEOs’ control needs can cause them to weaken the very areas they once excelled in by hiring underqualified executives. The consequence is decreased effectiveness and organizational decline, highlighting the critical balance between trusting strong executives and the natural human tendency to cling to power in familiar areas. This problem relates broadly to the importance of hiring based on strengths, recognizing executive weaknesses, and sometimes micromanaging or coaching to ensure overall success.\n",
      "\n",
      "Context Count: 3\n",
      "Similarity Scores: ['Source 1: 0.658', 'Source 2: 0.509', 'Source 3: 0.479']\n"
     ]
    }
   ],
   "source": [
    "rag_pipeline = RetrievalAugmentedQAPipeline(\n",
    "    vector_db_retriever=vector_db,\n",
    "    llm=chat_openai,\n",
    "    response_style=\"detailed\",\n",
    "    include_scores=True\n",
    ")\n",
    "\n",
    "result = rag_pipeline.run_pipeline(\n",
    "    \"What is the 'Michael Eisner Memorial Weak Executive Problem'?\",\n",
    "    k=3,\n",
    "    response_length=\"comprehensive\", \n",
    "    include_warnings=True,\n",
    "    confidence_required=True\n",
    ")\n",
    "\n",
    "print(f\"Response: {result['response']}\")\n",
    "print(f\"\\nContext Count: {result['context_count']}\")\n",
    "print(f\"Similarity Scores: {result['similarity_scores']}\")"
   ]
  },
  {
   "cell_type": "markdown",
   "metadata": {
    "id": "zZIJI19uR6yz"
   },
   "source": [
    "#### ❓ Question #4:\n",
    "\n",
    "What prompting strategies could you use to make the LLM have a more thoughtful, detailed response?\n",
    "\n",
    "What is that strategy called?\n",
    "\n",
    "> NOTE: You can look through our [OpenAI Responses API](https://colab.research.google.com/drive/14SCfRnp39N7aoOx8ZxadWb0hAqk4lQdL?usp=sharing) notebook for an answer to this question if you get stuck!"
   ]
  },
  {
   "cell_type": "markdown",
   "metadata": {},
   "source": [
    "##### ✅ Answer:\n",
    "The overall strategy to improve LLM responses is advanced or analytical prompt engineering techniques. All of these smaller strategies together will improve the responses and consistency of success.\n",
    "1. Chain of thought processing. Have the LLM think step by step and show it's reasoning before outputing the final response.\n",
    "2. Right now the LLM isn't allowed to use any external information. If we want a more accurate response, we should allow for different paths of reasoning which includes information that wasn't explicitly given to it by the user. We can also have the system think about the problem in different ways and then converge the ideas at the end for a more comprehensive response.\n",
    "3. We tell the LLM to `respond with \"I don't know\"` if it doesn't know the answer to a query. We can also have the system ask itself questions to create more in depth reasoning for each question.\n",
    "4. We can assign more well defined roles to the system so it understands what we expect from the responses better."
   ]
  },
  {
   "cell_type": "markdown",
   "metadata": {},
   "source": [
    "### 🏗️ Activity #1:\n",
    "\n",
    "Enhance your RAG application in some way! \n",
    "\n",
    "Suggestions are: \n",
    "\n",
    "- Allow it to work with PDF files\n",
    "- Implement a new distance metric\n",
    "- Add metadata support to the vector database\n",
    "- Use a different embedding model\n",
    "- Add the capability to ingest a YouTube link\n",
    "\n",
    "While these are suggestions, you should feel free to make whatever augmentations you desire! If you shared an idea during Session 1, think about features you might need to incorporate for your use case! \n",
    "\n",
    "When you're finished making the augments to your RAG application - vibe check it against the old one - see if you can \"feel the improvement\"!\n",
    "\n",
    "> NOTE: These additions might require you to work within the `aimakerspace` library - that's expected!\n",
    "\n",
    "> NOTE: If you're not sure where to start - ask Cursor (CMD/CTRL+L) to guide you through the changes!"
   ]
  },
  {
   "cell_type": "markdown",
   "metadata": {},
   "source": [
    "Now on to Youtube"
   ]
  },
  {
   "cell_type": "code",
   "execution_count": null,
   "metadata": {},
   "outputs": [],
   "source": [
    "# from youtube_transcript_api import YouTubeTranscriptApi\n",
    "# from urllib.parse import urlparse, parse_qs\n",
    "\n",
    "# def get_video_id(url: str) -> str:\n",
    "#     parsed_url = urlparse(url)\n",
    "#     # Extract query parameters\n",
    "#     query_params = parse_qs(parsed_url.query)\n",
    "#     return query_params.get(\"v\", [None])[0]\n",
    "\n",
    "# def get_video_transcript(video_id: str, lang: str = \"en\") -> list:\n",
    "#     print(\"video_id\", video_id)\n",
    "#     youtube_api = YouTubeTranscriptApi()\n",
    "#     transcript = youtube_api.fetch(video_id, languages=[lang])\n",
    "#     # transcript is a list of dicts: [{'text': '...', 'start': 0.0, 'duration': 5.0}, ...]\n",
    "#     return [{'text': snippet.text, 'start': snippet.start, 'duration': snippet.duration} for snippet in transcript]\n",
    "\n",
    "# def chunk_transcript(transcript, chunk_size=120):\n",
    "#     chunks, current_chunk, current_start = [], [], 0\n",
    "\n",
    "#     for entry in transcript:\n",
    "#         start_time = entry['start']\n",
    "#         if start_time - current_start < chunk_size:\n",
    "#             current_chunk.append(entry['text'])\n",
    "#         else:\n",
    "#             chunks.append((current_start, \" \".join(current_chunk)))\n",
    "#             current_chunk = [entry['text']]\n",
    "#             current_start = start_time\n",
    "#     if current_chunk:\n",
    "#         chunks.append((current_start, \" \".join(current_chunk)))\n",
    "#     return chunks\n",
    "\n",
    "# def summarize_chunks(chunks, llm):\n",
    "#     summaries = []\n",
    "#     for start_time, text in chunks:\n",
    "#         response = llm.run([\n",
    "#             {\"role\": \"system\", \"content\": \"You are a helpful assistant that summarizes YouTube transcripts.\"},\n",
    "#             {\"role\": \"user\", \"content\": f\"Summarize this segment:\\n\\n{text}\"}\n",
    "#         ])\n",
    "#         summaries.append((start_time, response))\n",
    "#     return summaries\n",
    "\n",
    "# def format_summary(summaries):\n",
    "#     for start_time, summary in summaries:\n",
    "#         minutes = int(start_time // 60)\n",
    "#         print(f\"[{minutes:02d}:00] {summary}\")\n",
    "\n",
    "\n"
   ]
  },
  {
   "cell_type": "code",
   "execution_count": null,
   "metadata": {},
   "outputs": [
    {
     "name": "stdout",
     "output_type": "stream",
     "text": [
      "URL, Unzc731iCUY\n",
      "video_id Unzc731iCUY\n",
      "transcript, [{'text': 'PATRICK WINSTON: The Uniform\\nCode of Military Justice', 'start': 19.22, 'duration': 4.62}, {'text': 'specifies court martial for\\nany officer who sends a soldier', 'start': 23.84, 'duration': 3.69}, {'text': 'into battle without a weapon.', 'start': 27.53, 'duration': 3.09}, {'text': 'There ought to be a similar\\nprotection for students', 'start': 30.62, 'duration': 2.375}, {'text': \"because students\\nshouldn't go out\", 'start': 32.995, 'duration': 1.375}, {'text': 'into life without the\\nability to communicate,', 'start': 34.37, 'duration': 3.7}, {'text': \"and that's because\\nyour success in life\", 'start': 38.07, 'duration': 2.27}, {'text': 'will be determined largely\\nby your ability to speak,', 'start': 40.34, 'duration': 3.42}, {'text': 'your ability to write, and\\nthe quality of your ideas,', 'start': 43.76, 'duration': 4.08}, {'text': 'in that order.', 'start': 47.84, 'duration': 3.0}, {'text': 'I know that I can be\\nsuccessful in this', 'start': 50.84, 'duration': 1.83}, {'text': 'because the quality\\nof communication,', 'start': 52.67, 'duration': 4.38}, {'text': 'your speaking, your\\nwriting, is largely', 'start': 57.05, 'duration': 2.4}, {'text': 'determined by this formula.', 'start': 59.45, 'duration': 2.43}, {'text': \"It's a matter of how\\nmuch knowledge you have,\", 'start': 61.88, 'duration': 3.27}, {'text': 'how much you practice\\nwith that knowledge,', 'start': 65.15, 'duration': 2.52}, {'text': 'and your inherent\\ntalent, and notice', 'start': 67.67, 'duration': 2.43}, {'text': 'that the T is very small.', 'start': 70.1, 'duration': 2.13}, {'text': 'What really matters\\nis what you know.', 'start': 72.23, 'duration': 3.63}, {'text': 'This point came to me suddenly\\na few decades ago when', 'start': 75.86, 'duration': 4.11}, {'text': 'I was skiing at Sun Valley.', 'start': 79.97, 'duration': 2.64}, {'text': 'I had heard that it was\\nCelebrity Weekend, and one', 'start': 82.61, 'duration': 2.82}, {'text': 'of the celebrities\\nwas Mary Lou Retton,', 'start': 85.43, 'duration': 5.37}, {'text': 'famous Olympic gymnast,\\nperfect 10s in the vault.', 'start': 90.8, 'duration': 4.68}, {'text': 'And I heard that she\\nwas a novice at skiing,', 'start': 95.48, 'duration': 3.03}, {'text': 'so when the opportune\\nmoment arrived,', 'start': 98.51, 'duration': 1.56}, {'text': 'I looked over on\\nthe novice slope', 'start': 100.07, 'duration': 2.4}, {'text': 'and saw this young woman who,\\nwhen she became unbalanced,', 'start': 102.47, 'duration': 3.8}, {'text': 'went like that.', 'start': 106.27, 'duration': 2.08}, {'text': \"And I said that's got to be her.\", 'start': 108.35, 'duration': 1.98}, {'text': 'That must be the gymnast.', 'start': 110.33, 'duration': 3.24}, {'text': \"But then, it occurred to\\nme, I'm a much better skier\", 'start': 113.57, 'duration': 2.64}, {'text': \"than she is, and she's an\\nOlympic athlete-- not only\", 'start': 116.21, 'duration': 2.61}, {'text': 'an ordinary Olympic\\nathlete, an outstanding one.', 'start': 118.82, 'duration': 4.41}, {'text': 'And I was a better skier because\\nI had the K, and I had the P,', 'start': 123.23, 'duration': 4.89}, {'text': 'and all she had\\nwas the T. So you', 'start': 128.12, 'duration': 2.609}, {'text': 'can get a lot better\\nthan people who', 'start': 130.729, 'duration': 2.131}, {'text': 'may have inherent\\ntalents if you have', 'start': 132.86, 'duration': 2.28}, {'text': 'the right amount of knowledge.', 'start': 135.14, 'duration': 2.32}, {'text': \"So that's what my objective is\\ntoday, and here's my promise.\", 'start': 137.46, 'duration': 3.5}, {'text': 'Today, you will\\nsee some examples', 'start': 140.96, 'duration': 3.87}, {'text': 'of what you can put in your\\narmamentarium of speaking', 'start': 144.83, 'duration': 3.57}, {'text': 'techniques, and it\\nwill be the case', 'start': 148.4, 'duration': 4.41}, {'text': 'that some one of those examples,\\nsome heuristic, some technique,', 'start': 152.81, 'duration': 4.83}, {'text': 'maybe only one, will make--', 'start': 157.64, 'duration': 2.4}, {'text': 'will be the one that\\ngets you the job.', 'start': 160.04, 'duration': 3.01}, {'text': 'And so this is a very\\nnon-linear process.', 'start': 163.05, 'duration': 2.55}, {'text': \"You never know when\\nit's going to happen,\", 'start': 165.6, 'duration': 2.152}, {'text': 'but that is my promise.', 'start': 167.752, 'duration': 0.958}, {'text': 'By the end of the\\nnext 60 minutes,', 'start': 168.71, 'duration': 3.64}, {'text': \"you'll have been exposed to\\na lot of ideas, some of which\", 'start': 172.35, 'duration': 3.14}, {'text': \"you'll incorporate into\\nyour own repertoire,\", 'start': 175.49, 'duration': 2.69}, {'text': 'and they will ensure that you\\nget the maximum opportunity', 'start': 178.18, 'duration': 4.9}, {'text': 'to have your ideas\\nvalued and accepted', 'start': 183.08, 'duration': 6.33}, {'text': 'by the people you speak with.', 'start': 189.41, 'duration': 2.49}, {'text': 'Now, in order to\\ndo that, we have', 'start': 191.9, 'duration': 2.4}, {'text': 'to have a rule of\\nengagement, and that', 'start': 194.3, 'duration': 2.85}, {'text': 'is no laptops, no cell phones.', 'start': 197.15, 'duration': 5.56}, {'text': \"So if you could\\nclose those, I'll\", 'start': 202.71, 'duration': 1.89}, {'text': \"start up as soon as you're done.\", 'start': 204.6, 'duration': 2.7}, {'text': 'Some people ask why that\\nis a rule of engagement,', 'start': 207.3, 'duration': 4.5}, {'text': 'and the answer\\nis, we humans only', 'start': 211.8, 'duration': 3.03}, {'text': 'have one language processor.', 'start': 214.83, 'duration': 2.16}, {'text': 'And if your language\\nprocessor is enga--', 'start': 216.99, 'duration': 1.77}, {'text': 'could you shut the\\nlaptop, please?', 'start': 218.76, 'duration': 1.83}, {'text': 'If your language processor\\nis engaged browsing the web', 'start': 220.59, 'duration': 4.26}, {'text': \"or reading your email,\\nyou're distracted.\", 'start': 224.85, 'duration': 3.18}, {'text': 'And worse yet, you distract\\nall of the people around you.', 'start': 228.03, 'duration': 2.85}, {'text': 'Studies have shown that.', 'start': 230.88, 'duration': 1.69}, {'text': 'And worse yet, if I see a\\nopen laptop somewhere back', 'start': 232.57, 'duration': 3.59}, {'text': 'there or up here, it drives\\nme nuts, and I do a worse job.', 'start': 236.16, 'duration': 6.31}, {'text': 'And so that ensures\\nthat all of your friends', 'start': 242.47, 'duration': 2.24}, {'text': \"who are paying attention\\ndon't get the performance\", 'start': 244.71, 'duration': 3.81}, {'text': 'that they came to have.', 'start': 248.52, 'duration': 2.71}, {'text': \"So that's it for preamble.\", 'start': 251.23, 'duration': 2.6}, {'text': \"Let's get started.\", 'start': 253.83, 'duration': 2.79}, {'text': 'First thing we talk about,\\nof course, is how to start.', 'start': 256.62, 'duration': 3.05}, {'text': 'Some people think\\nthe right thing to do', 'start': 265.47, 'duration': 3.27}, {'text': 'is to start a talk with a joke.', 'start': 268.74, 'duration': 3.4}, {'text': \"I don't recommend\\nit, and the reason\", 'start': 279.53, 'duration': 4.77}, {'text': 'is that, in the\\nbeginning of a talk,', 'start': 284.3, 'duration': 2.52}, {'text': 'people are still putting\\ntheir laptops away.', 'start': 286.82, 'duration': 2.6}, {'text': \"They're becoming adjusted\\nto your speaking parameters,\", 'start': 289.42, 'duration': 2.83}, {'text': \"to your vocal parameters, and\\nthey're not ready for a joke.\", 'start': 292.25, 'duration': 6.42}, {'text': \"So it doesn't work very well.\", 'start': 298.67, 'duration': 1.42}, {'text': 'They usually fall flat.', 'start': 300.09, 'duration': 2.33}, {'text': 'What you want to do instead is\\nstart with empowerment promise.', 'start': 302.42, 'duration': 3.69}, {'text': \"You want to tell\\npeople what they're\", 'start': 309.56, 'duration': 1.5}, {'text': 'going to know at\\nthe end of the hour', 'start': 311.06, 'duration': 2.6}, {'text': \"that they didn't know at\\nthe beginning of the hour.\", 'start': 313.66, 'duration': 2.9}, {'text': \"It's an empowerment promise.\", 'start': 316.56, 'duration': 1.248}, {'text': \"It's the reason for being here.\", 'start': 317.808, 'duration': 1.292}, {'text': 'What would be an example?', 'start': 321.66, 'duration': 1.25}, {'text': 'Oh, I see.', 'start': 322.91, 'duration': 1.32}, {'text': 'At the end of this 60\\nminutes, you will know things', 'start': 324.23, 'duration': 4.59}, {'text': \"about speaking you\\ndon't know now,\", 'start': 328.82, 'duration': 2.132}, {'text': 'and something among\\nthose things you know', 'start': 330.952, 'duration': 1.708}, {'text': 'will make a difference\\nin your life.', 'start': 332.66, 'duration': 1.65}, {'text': \"Yeah, that's an\\nempowerment promise,\", 'start': 334.31, 'duration': 1.89}, {'text': \"so that's the best way to start.\", 'start': 336.2, 'duration': 2.76}, {'text': \"So now that I've talked a\\nlittle bit about how to start,\", 'start': 338.96, 'duration': 2.58}, {'text': 'what I want to do is give you\\nsome samples of heuristics', 'start': 341.54, 'duration': 3.36}, {'text': 'that are always on my\\nmind when I give a talk,', 'start': 344.9, 'duration': 4.07}, {'text': \"and first of these heuristics is\\nthat it's a good idea to cycle\", 'start': 348.97, 'duration': 4.215}, {'text': 'on the subject.', 'start': 353.185, 'duration': 0.625}, {'text': 'Go around it.', 'start': 356.48, 'duration': 1.5}, {'text': 'Go round it again.', 'start': 357.98, 'duration': 1.38}, {'text': 'Go round it again.', 'start': 359.36, 'duration': 1.89}, {'text': 'Some people say, tell him\\nwhat you want to tell him.', 'start': 361.25, 'duration': 4.65}, {'text': 'Tell him again, and then\\ntell him a third time,', 'start': 365.9, 'duration': 2.79}, {'text': \"as if people\\nweren't intelligent.\", 'start': 368.69, 'duration': 3.21}, {'text': 'But the point is--', 'start': 371.9, 'duration': 0.93}, {'text': 'the reason is-- well, there\\nare many reasons, one of which', 'start': 372.83, 'duration': 3.36}, {'text': 'is, at any given\\nmoment, about 20% of you', 'start': 376.19, 'duration': 3.15}, {'text': 'will be fogged out no\\nmatter what the lecture is.', 'start': 379.34, 'duration': 2.69}, {'text': 'So if you want to ensure that\\nthe probability that everybody', 'start': 382.03, 'duration': 2.5}, {'text': 'gets it is high, you need\\nto say it three times.', 'start': 384.53, 'duration': 4.59}, {'text': 'So cycling is one of\\nthe things that I always', 'start': 389.12, 'duration': 2.13}, {'text': 'think about when I give a talk.', 'start': 391.25, 'duration': 2.25}, {'text': 'Another thing I think about\\nis, in explaining my idea,', 'start': 393.5, 'duration': 4.69}, {'text': \"I want to build a fence around\\nit so that it's not confused\", 'start': 398.19, 'duration': 7.4}, {'text': \"with somebody else's idea.\", 'start': 405.59, 'duration': 2.44}, {'text': 'So if you were from Mars,\\nand I was teaching you', 'start': 408.03, 'duration': 2.87}, {'text': 'about what an arch is,\\nI might say to you,', 'start': 410.9, 'duration': 2.61}, {'text': \"well, that's an arch.\", 'start': 413.51, 'duration': 1.823}, {'text': \"And that's not to be confused\\nwith some other things\", 'start': 415.333, 'duration': 2.167}, {'text': 'that other people\\nmight think is--', 'start': 417.5, 'duration': 1.47}, {'text': 'this is not an arch.', 'start': 418.97, 'duration': 0.98}, {'text': \"That's not an arch.\", 'start': 422.6, 'duration': 1.41}, {'text': \"I'm building a\\nfence around my idea\", 'start': 424.01, 'duration': 1.77}, {'text': \"so that it can be distinguished\\nfrom somebody else's idea.\", 'start': 425.78, 'duration': 3.24}, {'text': 'So in a more technical\\nsense, I might say, well,', 'start': 429.02, 'duration': 3.31}, {'text': 'my algorithm might similar--', 'start': 432.33, 'duration': 1.66}, {'text': \"might seem similar\\nto Jones's algorithm,\", 'start': 433.99, 'duration': 1.75}, {'text': \"except his is exponential,\\nand mine's linear.\", 'start': 435.74, 'duration': 2.545}, {'text': \"That's putting a\\nfence around your idea\", 'start': 438.285, 'duration': 1.625}, {'text': 'so that people can not\\nbe confused about how it', 'start': 439.91, 'duration': 3.088}, {'text': 'might relate to something else.', 'start': 442.998, 'duration': 1.292}, {'text': 'The third thing on\\nthis list of samples', 'start': 446.96, 'duration': 3.27}, {'text': 'is the idea of\\nverbal punctuation.', 'start': 450.23, 'duration': 3.21}, {'text': 'And the idea here is\\nthat, because people', 'start': 464.78, 'duration': 3.27}, {'text': 'will occasionally fog out and\\nneed to get back on the bus,', 'start': 468.05, 'duration': 4.68}, {'text': 'you need to provide some\\nlandmark places where', 'start': 472.73, 'duration': 3.48}, {'text': \"you're announcing that it's\\na good time to get back on.\", 'start': 476.21, 'duration': 4.05}, {'text': 'So I might, in this\\ntalk, say something', 'start': 480.26, 'duration': 2.22}, {'text': 'about this being my outline.', 'start': 482.48, 'duration': 3.36}, {'text': \"The first thing we're going to\\ndo is talk about how to start.\", 'start': 485.84, 'duration': 3.19}, {'text': \"Then we're going to deal\\nwith these four samples,\", 'start': 489.03, 'duration': 2.45}, {'text': \"and among these\\nfour samples, I've\", 'start': 491.48, 'duration': 2.4}, {'text': \"talked about the first\\nidea-- that's cycling.\", 'start': 493.88, 'duration': 2.67}, {'text': 'The second idea,\\nbuilding-- and now,', 'start': 496.55, 'duration': 1.65}, {'text': 'the third idea is\\nverbal punctuation.', 'start': 498.2, 'duration': 3.84}, {'text': \"So I'm enumerating\\nand providing numbers.\", 'start': 502.04, 'duration': 2.73}, {'text': \"I'm giving you a sense that\\nthere's a seam in the talk,\", 'start': 504.77, 'duration': 3.27}, {'text': 'and you can get back on.', 'start': 508.04, 'duration': 1.32}, {'text': \"So now, we're on a roll,\\nand since we're on a roll,\", 'start': 513.299, 'duration': 4.831}, {'text': 'can you guess what fourth\\nidea might be here--', 'start': 518.13, 'duration': 4.14}, {'text': 'an idea that helps people\\nget back on the bus?', 'start': 522.27, 'duration': 2.21}, {'text': 'AUDIENCE: Ask a question.', 'start': 528.8, 'duration': 2.605}, {'text': 'PATRICK WINSTON: Yes?', 'start': 531.405, 'duration': 0.875}, {'text': 'AUDIENCE: Ask a question.', 'start': 532.28, 'duration': 1.042}, {'text': '[INAUDIBLE]', 'start': 533.322, 'duration': 0.538}, {'text': 'PATRICK WINSTON:\\nAsk a question, yes.', 'start': 533.86, 'duration': 1.71}, {'text': 'Thank you.', 'start': 535.57, 'duration': 2.65}, {'text': 'So ask a question.', 'start': 538.22, 'duration': 0.93}, {'text': 'And so I will ask a question--\\nhow much dead air can there be?', 'start': 545.42, 'duration': 3.61}, {'text': 'How long can I pause?', 'start': 549.03, 'duration': 1.98}, {'text': 'I counted seven seconds.', 'start': 551.01, 'duration': 2.07}, {'text': 'It seemed like an eternity to\\nme to wait and not say anything', 'start': 553.08, 'duration': 3.22}, {'text': \"for seven seconds, but that's\\nthe standard amount of time\", 'start': 556.3, 'duration': 3.44}, {'text': 'you can wait for an answer.', 'start': 559.74, 'duration': 1.17}, {'text': 'And of course, the question\\nhas to be carefully chosen.', 'start': 560.91, 'duration': 2.79}, {'text': \"It can't be too obvious\\nbecause then people\", 'start': 563.7, 'duration': 1.92}, {'text': \"will be embarrassed to say\\nit, but the answers can't\", 'start': 565.62, 'duration': 2.79}, {'text': 'be too hard because then nobody\\nwill have anything to say.', 'start': 568.41, 'duration': 4.17}, {'text': 'So here are some\\nsample heuristics', 'start': 572.58, 'duration': 2.22}, {'text': 'you can put in\\nyour armamentarium', 'start': 574.8, 'duration': 2.31}, {'text': 'and build up your repertoire\\nof ideas about presentation.', 'start': 577.11, 'duration': 6.35}, {'text': 'And now, if this\\npersuades you that there', 'start': 583.46, 'duration': 3.88}, {'text': 'is something to know,\\nthat there is knowledge,', 'start': 587.34, 'duration': 5.28}, {'text': \"then I've already succeeded\\nbecause what I want to convince\", 'start': 592.62, 'duration': 2.88}, {'text': 'you of, is if you watch the\\nspeakers you admire and feel', 'start': 595.5, 'duration': 3.66}, {'text': 'are effective,\\nand ask yourselves', 'start': 599.16, 'duration': 1.98}, {'text': \"why they're successful,\\nthen you can\", 'start': 601.14, 'duration': 1.89}, {'text': 'build up your own\\npersonal repertoire', 'start': 603.03, 'duration': 2.97}, {'text': 'and develop your\\nown personal style.', 'start': 606.0, 'duration': 2.01}, {'text': \"And that's my\\nfundamental objective,\", 'start': 608.01, 'duration': 2.82}, {'text': 'and the rest of this\\ntalk is about some', 'start': 610.83, 'duration': 2.07}, {'text': 'of the things that are\\nin my armamentarium', 'start': 612.9, 'duration': 2.28}, {'text': 'that I think are effective.', 'start': 615.18, 'duration': 2.37}, {'text': 'So next thing on\\nour agenda, as we', 'start': 617.55, 'duration': 2.73}, {'text': 'start to discuss\\nthese other things,', 'start': 620.28, 'duration': 2.55}, {'text': 'is a discussion\\nof time and place.', 'start': 622.83, 'duration': 2.34}, {'text': 'So what do you think is a\\ngood time to have a lecture?', 'start': 625.17, 'duration': 2.25}, {'text': '11 AM?', 'start': 630.612, 'duration': 1.048}, {'text': 'Yeah.', 'start': 631.66, 'duration': 0.5}, {'text': 'And the reason is most people\\nat MIT are awake by then,', 'start': 638.28, 'duration': 6.39}, {'text': 'and hardly anyone has\\ngone back to sleep.', 'start': 644.67, 'duration': 3.5}, {'text': \"It's not right after a meal.\", 'start': 648.17, 'duration': 1.93}, {'text': \"People aren't fatigued\\nfrom this or that.\", 'start': 650.1, 'duration': 2.46}, {'text': \"It's a great time\\nto have a lecture.\", 'start': 652.56, 'duration': 2.41}, {'text': 'So that brings me, next,\\nto the question of what', 'start': 654.97, 'duration': 2.0}, {'text': 'about the place?', 'start': 656.97, 'duration': 1.576}, {'text': 'And the most important\\nthing about the place', 'start': 658.546, 'duration': 2.894}, {'text': 'is that it be well lit.', 'start': 661.44, 'duration': 1.39}, {'text': 'This room is well lit.', 'start': 669.32, 'duration': 2.67}, {'text': 'Problem with other kinds\\nof rooms is that we humans,', 'start': 671.99, 'duration': 4.38}, {'text': 'whenever the lights\\ngo down, or whenever', 'start': 676.37, 'duration': 2.37}, {'text': 'the room is dimly\\nlighted, it signals', 'start': 678.74, 'duration': 2.67}, {'text': 'that we should go to sleep.', 'start': 681.41, 'duration': 1.94}, {'text': 'So whenever I go\\nsomewhere to give a talk,', 'start': 683.35, 'duration': 1.75}, {'text': 'even today, the\\nfirst thing I do when', 'start': 685.1, 'duration': 2.34}, {'text': 'I speak to the\\naudio-visual people', 'start': 687.44, 'duration': 1.78}, {'text': 'is say, keep the lights full up.', 'start': 689.22, 'duration': 2.02}, {'text': 'Oh, they might reply, people\\nwill see the slides better', 'start': 694.4, 'duration': 4.6}, {'text': 'if we turn the lights\\noff, and then I reply,', 'start': 699.0, 'duration': 3.61}, {'text': \"it's extremely hard to see\\nslides through closed eyelids.\", 'start': 702.61, 'duration': 2.375}, {'text': 'What else can you\\nsay about the place?', 'start': 710.35, 'duration': 2.72}, {'text': 'Well, the place\\nshould be cased, and I', 'start': 713.07, 'duration': 5.64}, {'text': \"mean that in a colloquial\\nsense, of like if you're\", 'start': 718.71, 'duration': 2.97}, {'text': 'robbing a bank, you\\nwould go to the bank', 'start': 721.68, 'duration': 3.84}, {'text': \"some occasions before\\nto see what it's like,\", 'start': 725.52, 'duration': 2.88}, {'text': 'so there are no surprises\\nwhen you do your robbery.', 'start': 728.4, 'duration': 4.77}, {'text': 'So whenever I go\\nsomewhere to speak,', 'start': 733.17, 'duration': 2.58}, {'text': 'the first thing I ask my host\\nto do is to take me to the place', 'start': 735.75, 'duration': 2.85}, {'text': \"where I'll be speaking so that\\nif there are any weirdnesses,\", 'start': 738.6, 'duration': 3.72}, {'text': \"I'll be able to deal with it.\", 'start': 742.32, 'duration': 4.2}, {'text': 'Sometimes, it might\\nrequire some intervention.', 'start': 746.52, 'duration': 2.49}, {'text': 'Sometimes, it just might\\nrequire me to understand', 'start': 749.01, 'duration': 2.79}, {'text': 'what the challenges are.', 'start': 751.8, 'duration': 1.86}, {'text': 'So when I came\\nhere this morning,', 'start': 753.66, 'duration': 3.3}, {'text': 'I did what I typically do.', 'start': 756.96, 'duration': 2.243}, {'text': 'I imagined that\\nall the seats were', 'start': 759.203, 'duration': 1.417}, {'text': 'filled with disinterested\\nfarm animals,', 'start': 760.62, 'duration': 3.72}, {'text': 'and that way, I knew that,\\nno matter how bad it was,', 'start': 764.34, 'duration': 2.49}, {'text': \"it wouldn't be as bad as that.\", 'start': 766.83, 'duration': 1.29}, {'text': 'So finally, it should\\nbe reasonably--', 'start': 771.46, 'duration': 4.08}, {'text': 'it should be\\nreasonably populated.', 'start': 775.54, 'duration': 1.92}, {'text': 'It should be the case that--', 'start': 783.95, 'duration': 3.39}, {'text': 'if there were 10\\npeople in this hall,', 'start': 787.34, 'duration': 2.03}, {'text': \"everyone would be\\nwondering, what's\", 'start': 789.37, 'duration': 1.68}, {'text': \"going on that's so much more\\ninteresting that nobody's here.\", 'start': 791.05, 'duration': 3.18}, {'text': \"So you want to get a\\nright sized place that's--\", 'start': 794.23, 'duration': 2.825}, {'text': \"doesn't have to\\nbe packed, but it\", 'start': 797.055, 'duration': 1.375}, {'text': 'has to be more than half full.', 'start': 798.43, 'duration': 2.52}, {'text': 'So those are some thoughts\\nabout a time and place.', 'start': 800.95, 'duration': 3.6}, {'text': 'Next thing I want to\\ntalk about is a subject', 'start': 804.55, 'duration': 3.09}, {'text': 'of boards and props and slides.', 'start': 807.64, 'duration': 2.745}, {'text': 'Well, these are the\\ntools of the trade.', 'start': 818.23, 'duration': 3.0}, {'text': 'I believe that this is the\\nright tool for speaking', 'start': 821.23, 'duration': 8.19}, {'text': 'when your purpose is informing.', 'start': 829.42, 'duration': 2.91}, {'text': 'The slides are good when\\nyour purpose is exposing,', 'start': 832.33, 'duration': 3.96}, {'text': \"but this is what I use when I'm\\ninforming, teaching, lecturing,\", 'start': 836.29, 'duration': 4.32}, {'text': \"and there's several\\nreasons why I use it.\", 'start': 840.61, 'duration': 1.83}, {'text': 'For one thing, when\\nyou use the board,', 'start': 842.44, 'duration': 2.04}, {'text': 'you have a graphic quality.', 'start': 844.48, 'duration': 1.125}, {'text': \"It's the case that, when\\nyou have a board, then\", 'start': 850.49, 'duration': 3.95}, {'text': 'you can easily exploit the\\nfact that you can use graphics', 'start': 854.44, 'duration': 5.55}, {'text': 'in your presentation.', 'start': 859.99, 'duration': 2.678}, {'text': \"So that's the graphic quality\\nthat I like, and the next thing\", 'start': 862.668, 'duration': 2.542}, {'text': 'I like is the speed property.', 'start': 865.21, 'duration': 1.545}, {'text': 'The speed with which you\\nwrite on the blackboard', 'start': 870.31, 'duration': 2.13}, {'text': 'is approximately the speed at\\nwhich people can absorb ideas.', 'start': 872.44, 'duration': 3.78}, {'text': 'If you go flipping\\nthrough a bunch of slides,', 'start': 876.22, 'duration': 2.82}, {'text': 'nobody can go that fast.', 'start': 879.04, 'duration': 1.17}, {'text': 'Finally, one great\\nproperty of a board', 'start': 884.03, 'duration': 3.23}, {'text': 'is that it can be a target.', 'start': 887.26, 'duration': 1.49}, {'text': 'Many people who are\\nnovices at speaking', 'start': 893.83, 'duration': 5.37}, {'text': 'find themselves suddenly\\naware of their hands.', 'start': 899.2, 'duration': 4.8}, {'text': \"It's as if their hands were\\nprivate parts that shouldn't\", 'start': 904.0, 'duration': 2.37}, {'text': 'be exposed in public, so right\\naway, they go into the pockets,', 'start': 906.37, 'duration': 4.45}, {'text': 'and this is considered insulting\\nin some parts of the world.', 'start': 910.82, 'duration': 3.47}, {'text': 'Or alternatively,\\nmaybe the hands', 'start': 914.29, 'duration': 1.83}, {'text': 'will go in back like this.', 'start': 916.12, 'duration': 3.57}, {'text': 'I was once in a convent\\nin Serbia, and my host--', 'start': 919.69, 'duration': 8.13}, {'text': 'as soon as we entered,\\na nun came up to us', 'start': 927.82, 'duration': 2.55}, {'text': 'and offered us a refreshment.', 'start': 930.37, 'duration': 1.89}, {'text': 'And I was about to\\nsay, no, thank you,', 'start': 932.26, 'duration': 1.72}, {'text': 'and he said, eat\\nthat stuff or die.', 'start': 933.98, 'duration': 4.43}, {'text': \"It's a question of local\\ncustom and politeness.\", 'start': 938.41, 'duration': 3.96}, {'text': 'But then before\\nanything happened there,', 'start': 942.37, 'duration': 3.78}, {'text': 'the nun pulled my\\nhands out like this', 'start': 946.15, 'duration': 3.21}, {'text': 'because it was extraordinarily\\ninsulting in that culture', 'start': 949.36, 'duration': 2.97}, {'text': 'to have your hands\\nbehind your back.', 'start': 952.33, 'duration': 2.55}, {'text': 'So why is that?', 'start': 954.88, 'duration': 1.2}, {'text': \"Well, it's usually\\nsupposed that that's\", 'start': 956.08, 'duration': 3.13}, {'text': \"that it has to do with whether\\nyou're concealing a weapon.\", 'start': 959.21, 'duration': 2.96}, {'text': 'So if your hands are in your\\npockets or behind your back,', 'start': 962.17, 'duration': 3.69}, {'text': 'then it looks like you\\nmight have a weapon,', 'start': 965.86, 'duration': 3.95}, {'text': \"and that's what I\\nmean by the virtue--\", 'start': 969.81, 'duration': 2.2}, {'text': 'one of these virtues\\nof the board.', 'start': 972.01, 'duration': 1.573}, {'text': 'Now, you have something\\nto do with your hands.', 'start': 973.583, 'duration': 1.917}, {'text': 'You can point out the stuff.', 'start': 975.5, 'duration': 1.55}, {'text': 'I was once watching Seymour\\nPapert give a lecture,', 'start': 980.15, 'duration': 2.16}, {'text': 'and I thought it was terrific.', 'start': 982.31, 'duration': 1.8}, {'text': 'So I went a second time--', 'start': 984.11, 'duration': 1.74}, {'text': 'first time to absorb\\nthe content, second time', 'start': 985.85, 'duration': 2.32}, {'text': 'to note style.', 'start': 988.17, 'duration': 1.71}, {'text': 'And what I discovered is\\nthat Papert was constantly', 'start': 989.88, 'duration': 2.21}, {'text': 'pointing at the board.', 'start': 992.09, 'duration': 1.478}, {'text': 'And then I thought\\nabout it a little while,', 'start': 993.568, 'duration': 1.792}, {'text': 'and I noted that none of\\nthe stuff he was pointing to', 'start': 995.36, 'duration': 3.278}, {'text': 'had anything to do with\\nwhat he was saying.', 'start': 998.638, 'duration': 1.792}, {'text': 'Nevertheless, it was\\nan effective technique.', 'start': 1003.19, 'duration': 3.181}, {'text': \"So that's just a little\\nbit about the virtue\", 'start': 1009.2, 'duration': 2.87}, {'text': 'of blackboards.', 'start': 1012.07, 'duration': 1.19}, {'text': 'Now, I want to talk about props.', 'start': 1013.26, 'duration': 3.59}, {'text': 'The custodians of\\nknowledge about props', 'start': 1016.85, 'duration': 2.97}, {'text': 'are the playwrights.', 'start': 1019.82, 'duration': 2.07}, {'text': 'Many decades ago, I saw\\na play by Henrik Ibsen.', 'start': 1021.89, 'duration': 3.84}, {'text': 'It was Hedda Gabler.', 'start': 1025.73, 'duration': 1.859}, {'text': 'I remember vaguely that it was\\nabout a woman in an unhappy', 'start': 1027.589, 'duration': 4.081}, {'text': 'marriage, and her husband was in\\ncompetition for an academic job', 'start': 1031.67, 'duration': 4.679}, {'text': 'with somebody else.', 'start': 1036.349, 'duration': 1.25}, {'text': 'And he was going to lose\\npartly because he was boring,', 'start': 1037.599, 'duration': 3.311}, {'text': 'and partly because the\\ncompetitor had just', 'start': 1040.91, 'duration': 2.31}, {'text': 'written a magnificent book.', 'start': 1043.22, 'duration': 2.43}, {'text': 'By the way, this\\nis back in the days', 'start': 1045.65, 'duration': 1.5}, {'text': 'before there were copying\\nmachines and computers.', 'start': 1047.15, 'duration': 3.56}, {'text': \"Anyhow, as the play opens,\\nthere's a potbellied stove,\", 'start': 1050.71, 'duration': 12.88}, {'text': 'and in the beginning\\nof the play,', 'start': 1063.59, 'duration': 3.41}, {'text': 'the potbelly stove,\\nwith its open door,', 'start': 1067.0, 'duration': 3.13}, {'text': 'just has some slightly\\nglowing embers.', 'start': 1070.13, 'duration': 4.2}, {'text': 'But the potbellied\\nstove is always there,', 'start': 1074.33, 'duration': 2.67}, {'text': 'and as tension\\nmounts in the play,', 'start': 1077.0, 'duration': 2.64}, {'text': 'and you see this\\nmanuscript, this', 'start': 1079.64, 'duration': 1.53}, {'text': 'prop that Ibsen so artfully\\nused, you just know', 'start': 1081.17, 'duration': 5.04}, {'text': \"that something's\\ngoing to happen,\", 'start': 1086.21, 'duration': 2.31}, {'text': 'because as the play goes on,\\nthe fire gets bigger and hotter', 'start': 1088.52, 'duration': 5.37}, {'text': 'and finally all\\nconsuming, and you just', 'start': 1093.89, 'duration': 1.86}, {'text': 'know that that manuscript is\\ngoing to go into that fire.', 'start': 1095.75, 'duration': 5.46}, {'text': 'This memorable thing is what\\nI remember about the play.', 'start': 1101.21, 'duration': 4.86}, {'text': 'So playwrights have got\\nthis all figured out,', 'start': 1106.07, 'duration': 3.52}, {'text': \"but on the other hand,\\nthey're not the only people\", 'start': 1109.59, 'duration': 2.27}, {'text': 'who can use props.', 'start': 1111.86, 'duration': 2.52}, {'text': \"Here's an example of\\nthe use of a prop, also\", 'start': 1114.38, 'duration': 3.63}, {'text': 'due to Seymour Papert.', 'start': 1118.01, 'duration': 1.74}, {'text': \"He was talking about how\\nit's important to look\", 'start': 1119.75, 'duration': 2.79}, {'text': \"at the problem in the\\nright way, and here's\", 'start': 1122.54, 'duration': 2.72}, {'text': 'an example that not only teaches\\nthat, but makes it possible', 'start': 1125.26, 'duration': 4.755}, {'text': 'for you to embarrass\\nyour friends', 'start': 1130.015, 'duration': 1.375}, {'text': 'in mechanical engineering.', 'start': 1131.39, 'duration': 1.8}, {'text': \"So here's what you do.\", 'start': 1133.19, 'duration': 1.92}, {'text': 'Take a bicycle wheel, and\\nyou start it spinning.', 'start': 1135.11, 'duration': 3.03}, {'text': 'And then you put some\\ntorque on the axle,', 'start': 1138.14, 'duration': 3.87}, {'text': 'or equivalently, you\\nblow on the edge.', 'start': 1142.01, 'duration': 4.23}, {'text': 'And the issue is,\\ndoes it go that way,', 'start': 1146.24, 'duration': 3.33}, {'text': 'or does it go that way?', 'start': 1149.57, 'duration': 3.22}, {'text': 'Now, the mechanical engineers\\nwill immediately say, oh, yes,', 'start': 1152.79, 'duration': 3.8}, {'text': 'I see-- right hand screw wheel.', 'start': 1156.59, 'duration': 1.66}, {'text': \"And they'll put their\\nfingers in this position,\", 'start': 1158.25, 'duration': 2.72}, {'text': 'but forget exactly how\\nto align their fingers', 'start': 1160.97, 'duration': 3.12}, {'text': 'with the various\\naspects of the problem.', 'start': 1164.09, 'duration': 3.78}, {'text': \"And so it's usually the\\ncase that they get it right\", 'start': 1167.87, 'duration': 2.55}, {'text': 'with about a 50% probability.', 'start': 1170.42, 'duration': 3.84}, {'text': 'So their very fancy\\neducation gets them up', 'start': 1174.26, 'duration': 4.41}, {'text': \"to the point where they're\\nequivalent to flipping a coin.\", 'start': 1178.67, 'duration': 4.39}, {'text': \"But it doesn't\\nhave to be that way\", 'start': 1183.06, 'duration': 2.66}, {'text': 'because you can think about the\\nproblem a little differently.', 'start': 1185.72, 'duration': 3.31}, {'text': \"So here's what you do.\", 'start': 1189.03, 'duration': 1.95}, {'text': 'You take some duct\\ntape, and you put it', 'start': 1190.98, 'duration': 3.1}, {'text': 'around the part of\\nthe wheel like that.', 'start': 1194.08, 'duration': 3.37}, {'text': 'And now, you start to think\\nabout, not the whole wheel,', 'start': 1197.45, 'duration': 2.8}, {'text': \"but just a little piece that's\\nunderneath the duct tape.\", 'start': 1200.25, 'duration': 3.67}, {'text': 'So here, that piece comes\\nrolling over the top,', 'start': 1203.92, 'duration': 2.8}, {'text': 'and at this point, you blow\\non it with a puff of air.', 'start': 1206.72, 'duration': 2.735}, {'text': 'Forgetting about the\\nrest of the wheel,', 'start': 1209.455, 'duration': 1.625}, {'text': \"what happens to that\\nlittle piece that's\", 'start': 1211.08, 'duration': 1.667}, {'text': 'under the duct tape?', 'start': 1212.747, 'duration': 0.908}, {'text': 'It must want to go\\nthat way because you', 'start': 1213.655, 'duration': 1.625}, {'text': 'banged on it like that.', 'start': 1215.28, 'duration': 1.76}, {'text': \"It's already going\\ndown like that.\", 'start': 1217.04, 'duration': 2.38}, {'text': 'And what about the next piece?', 'start': 1219.42, 'duration': 1.49}, {'text': 'Same thing.', 'start': 1220.91, 'duration': 0.92}, {'text': 'Next piece?', 'start': 1221.83, 'duration': 0.5}, {'text': 'Same thing.', 'start': 1222.33, 'duration': 0.87}, {'text': 'So the only thing\\nthat can happen', 'start': 1223.2, 'duration': 2.42}, {'text': 'is that the wheel\\ngoes over like that.', 'start': 1225.62, 'duration': 2.47}, {'text': \"And so now, you'll\\nnever wonder again\", 'start': 1228.09, 'duration': 2.28}, {'text': \"because you're thinking about\\nthe problem in the right way,\", 'start': 1230.37, 'duration': 2.63}, {'text': \"and it's demonstrated\\nby the use of a prop.\", 'start': 1233.0, 'duration': 3.0}, {'text': \"You can try this\\nafter we're done.\", 'start': 1238.703, 'duration': 1.417}, {'text': 'Another example I\\nlike to remember', 'start': 1244.69, 'duration': 3.29}, {'text': 'is one from when\\nI was taking 8.01.', 'start': 1247.98, 'duration': 2.9}, {'text': 'Alan Lazarus was the\\ninstructor at the time,', 'start': 1250.88, 'duration': 3.08}, {'text': 'and he was talking about the\\nconservation of energy, kinetic', 'start': 1253.96, 'duration': 3.26}, {'text': 'and potential.', 'start': 1257.22, 'duration': 2.23}, {'text': 'And there was a long wire in\\na ceiling in 26-100 attached', 'start': 1259.45, 'duration': 4.97}, {'text': 'to a much bigger\\nsteel ball, but one--', 'start': 1264.42, 'duration': 3.38}, {'text': 'not one like this.', 'start': 1267.8, 'duration': 1.47}, {'text': 'And Lazarus took the ball up\\nagainst the wall like this.', 'start': 1269.27, 'duration': 5.83}, {'text': 'He put his head flat against\\nthe wall to steady himself,', 'start': 1275.1, 'duration': 4.11}, {'text': 'and then he let go,\\nand the pendulum', 'start': 1279.21, 'duration': 3.18}, {'text': 'takes many seconds\\nto go over and back,', 'start': 1282.39, 'duration': 3.36}, {'text': \"and then gently\\nkisses Lazarus's nose.\", 'start': 1285.75, 'duration': 5.55}, {'text': 'And so you have many\\nseconds to think,', 'start': 1291.3, 'duration': 2.4}, {'text': 'this guy really believes in\\nthe conservation of energy.', 'start': 1293.7, 'duration': 2.85}, {'text': 'Do not try this at home.', 'start': 1303.27, 'duration': 3.33}, {'text': 'The problem is that, the\\nfirst time you do this,', 'start': 1306.6, 'duration': 3.58}, {'text': 'you may not just let go.', 'start': 1310.18, 'duration': 1.64}, {'text': \"There's a natural\\nhuman tendency to push.\", 'start': 1311.82, 'duration': 2.82}, {'text': \"So that's a little bit\\non a subject of props.\", 'start': 1321.51, 'duration': 3.0}, {'text': \"It's interesting.\", 'start': 1344.612, 'duration': 0.708}, {'text': 'Whenever surveys are taken,\\nstudents always say more chalk,', 'start': 1345.32, 'duration': 4.49}, {'text': 'less PowerPoint.', 'start': 1349.81, 'duration': 1.99}, {'text': 'And why would that be?', 'start': 1351.8, 'duration': 2.43}, {'text': 'Props are also very effective.', 'start': 1354.23, 'duration': 2.85}, {'text': 'Why would that be?', 'start': 1357.08, 'duration': 2.34}, {'text': \"I'll give you my lunatic\\nfringe view on this.\", 'start': 1359.42, 'duration': 3.45}, {'text': 'It has to do with what I would\\ncall empathetic mirroring.', 'start': 1362.87, 'duration': 19.48}, {'text': \"When you're sitting up there\\nwatching me write on the board,\", 'start': 1382.35, 'duration': 2.67}, {'text': 'all those little mirror neurons\\nin your head, I believe,', 'start': 1385.02, 'duration': 3.93}, {'text': 'become actuated, and\\nyou can feel yourself', 'start': 1388.95, 'duration': 2.61}, {'text': 'writing on the blackboard.', 'start': 1391.56, 'duration': 1.5}, {'text': 'And even more so, when I talk\\nabout this steel ball going', 'start': 1393.06, 'duration': 5.5}, {'text': 'that way and this way,\\nyou can feel the ball', 'start': 1398.56, 'duration': 3.71}, {'text': \"as if you were me, and you\\ncan't do that with a slide.\", 'start': 1402.27, 'duration': 4.11}, {'text': \"You can't do it with a picture.\", 'start': 1406.38, 'duration': 1.81}, {'text': 'You need to see it in\\nthe physical world.', 'start': 1408.19, 'duration': 3.63}, {'text': \"That's why I think that--\", 'start': 1411.82, 'duration': 2.27}, {'text': \"oh, yes, of course, it's--\", 'start': 1414.09, 'duration': 1.713}, {'text': 'there are speed\\nquestions involved, too,', 'start': 1415.803, 'duration': 1.667}, {'text': 'that have to be separated out.', 'start': 1417.47, 'duration': 2.17}, {'text': 'But I think the\\nempathetic mirroring', 'start': 1419.64, 'duration': 1.5}, {'text': 'is why props and the use of a\\nblackboard are so effective.', 'start': 1421.14, 'duration': 6.75}, {'text': \"Well, let's see-- oh, yes,\\nthere is one more thing\", 'start': 1427.89, 'duration': 6.1}, {'text': 'by way of the\\ntools, and that has', 'start': 1433.99, 'duration': 3.11}, {'text': 'to do with the use of slides.', 'start': 1437.1, 'duration': 2.4}, {'text': \"I repeat, I think they're\\nfor exposing ideas,\", 'start': 1442.26, 'duration': 2.88}, {'text': \"not for teaching ideas, but\\nthat's what we do in a job talk\", 'start': 1445.14, 'duration': 3.3}, {'text': 'or conference talk--', 'start': 1448.44, 'duration': 2.79}, {'text': 'expose ideas.', 'start': 1451.23, 'duration': 0.9}, {'text': \"We don't teach them.\", 'start': 1452.13, 'duration': 1.96}, {'text': 'So let me tell you a little\\nbit about my views on that.', 'start': 1454.09, 'duration': 2.75}, {'text': 'I remember, once, I was in\\nTerminal A at Logan Airport.', 'start': 1460.51, 'duration': 8.55}, {'text': \"I'd just come back from a\\nreally miserable conference,\", 'start': 1469.06, 'duration': 4.18}, {'text': 'and the flight was\\nreally horrible.', 'start': 1473.24, 'duration': 1.915}, {'text': 'It was one of those that feels\\nlike an unbalanced washing', 'start': 1475.155, 'duration': 2.375}, {'text': 'machine.', 'start': 1477.53, 'duration': 1.565}, {'text': 'And for the only\\ntime in my life,', 'start': 1479.095, 'duration': 1.375}, {'text': 'I decided to stop on my way to\\nmy car and have a cup of coffee', 'start': 1480.47, 'duration': 6.15}, {'text': 'and relax a little bit.', 'start': 1486.62, 'duration': 1.94}, {'text': 'And as I was there for a few\\nminutes, someone came up to me', 'start': 1488.56, 'duration': 2.89}, {'text': 'and said, are you\\nProfessor Winston?', 'start': 1491.45, 'duration': 3.24}, {'text': 'I think so, I said.', 'start': 1494.69, 'duration': 3.118}, {'text': \"I don't know.\", 'start': 1497.808, 'duration': 0.542}, {'text': 'I guess I was\\ntrying to be funny.', 'start': 1498.35, 'duration': 2.22}, {'text': \"In any event, he said,\\nI'm on my way to Europe\", 'start': 1500.57, 'duration': 2.13}, {'text': 'to give a job talk.', 'start': 1502.7, 'duration': 1.62}, {'text': 'Would you mine\\ncritiquing my slides?', 'start': 1504.32, 'duration': 3.12}, {'text': 'Not at all, I said.', 'start': 1507.44, 'duration': 1.17}, {'text': 'You have too many, and\\nthey have too many words.', 'start': 1508.61, 'duration': 4.14}, {'text': 'How did you know, he\\nsaid, thinking perhaps I', 'start': 1512.75, 'duration': 2.53}, {'text': 'had seen a talk of his before.', 'start': 1515.28, 'duration': 2.51}, {'text': \"I hadn't.\", 'start': 1517.79, 'duration': 2.01}, {'text': \"My reply was, because\\nit's always true.\", 'start': 1519.8, 'duration': 2.97}, {'text': 'There are always too many\\nslides, always too many words.', 'start': 1522.77, 'duration': 3.54}, {'text': 'So let me show you some extreme\\nexamples of how not to use', 'start': 1526.31, 'duration': 3.415}, {'text': 'slides.', 'start': 1529.725, 'duration': 0.5}, {'text': 'Well, for this demonstration,\\nI need to be way over here', 'start': 1534.11, 'duration': 8.16}, {'text': 'and when I get over here, then\\nI can start to say things like,', 'start': 1542.27, 'duration': 6.24}, {'text': \"one of the things you shouldn't\\ndo is read your transparencies.\", 'start': 1548.51, 'duration': 2.832}, {'text': 'People in your audience\\nknow how to read,', 'start': 1551.342, 'duration': 1.708}, {'text': 'and reading will\\njust annoy them.', 'start': 1553.05, 'duration': 2.36}, {'text': 'Also, you should\\nbe sure that you', 'start': 1555.41, 'duration': 1.53}, {'text': 'have only a few words\\non each transparency,', 'start': 1556.94, 'duration': 2.76}, {'text': 'and that the words\\nare easy to read.', 'start': 1559.7, 'duration': 2.46}, {'text': \"And I hope I'm driving\\nyou crazy because I'm\", 'start': 1562.16, 'duration': 3.15}, {'text': 'committing all kinds of\\ncrimes, the first of which', 'start': 1565.31, 'duration': 3.24}, {'text': 'is that there are too\\nmany words on the slide.', 'start': 1568.55, 'duration': 3.99}, {'text': \"Second of which is,\\nI'm way over there,\", 'start': 1572.54, 'duration': 2.09}, {'text': \"and the slide's way over there.\", 'start': 1574.63, 'duration': 1.93}, {'text': 'So you get into this\\ntennis match feeling', 'start': 1576.56, 'duration': 3.51}, {'text': 'of shifting back and\\nforth between the slide', 'start': 1580.07, 'duration': 3.63}, {'text': 'and the speaker.', 'start': 1583.7, 'duration': 0.9}, {'text': 'You want the slides to\\nbe condiments to what', 'start': 1584.6, 'duration': 2.19}, {'text': \"you're saying, not the main\\nevent or the opposite way\", 'start': 1586.79, 'duration': 2.94}, {'text': 'around.', 'start': 1589.73, 'duration': 1.42}, {'text': 'So how can we fix this?', 'start': 1591.15, 'duration': 2.27}, {'text': 'Step number one is to get\\nrid of the background junk.', 'start': 1593.42, 'duration': 4.44}, {'text': \"That's always distraction.\", 'start': 1597.86, 'duration': 2.7}, {'text': 'Step number two is to\\nget rid of the words.', 'start': 1600.56, 'duration': 3.03}, {'text': 'When I reduced the\\nwords to these,', 'start': 1603.59, 'duration': 2.73}, {'text': 'then everything I\\nread a previous time,', 'start': 1606.32, 'duration': 3.89}, {'text': \"I'm not licensed to say,\\nbecause it's not on the slide.\", 'start': 1610.21, 'duration': 3.06}, {'text': \"I'm not reading\\nmy slides anymore,\", 'start': 1613.27, 'duration': 1.82}, {'text': \"but I'm saying what was\\nwritten on the slides\", 'start': 1615.09, 'duration': 3.28}, {'text': 'in a previous example.', 'start': 1618.37, 'duration': 3.64}, {'text': 'So what else can we\\ndo to simplify this?', 'start': 1622.01, 'duration': 3.3}, {'text': 'Well, we can get\\nrid of the logos.', 'start': 1625.31, 'duration': 2.45}, {'text': \"We don't need them.\", 'start': 1627.76, 'duration': 2.99}, {'text': 'Simplification.', 'start': 1630.75, 'duration': 2.28}, {'text': 'What else can we do?', 'start': 1633.03, 'duration': 2.37}, {'text': 'Get rid of the title.', 'start': 1635.4, 'duration': 2.01}, {'text': 'Now, I want to talk to you\\nabout some rules for slide', 'start': 1637.41, 'duration': 2.83}, {'text': 'preparation.', 'start': 1640.24, 'duration': 1.01}, {'text': \"I'm telling you the title.\", 'start': 1641.25, 'duration': 1.59}, {'text': \"It doesn't have to be up there.\", 'start': 1642.84, 'duration': 2.04}, {'text': 'By reducing the number\\nof words on the slide,', 'start': 1644.88, 'duration': 2.49}, {'text': \"I'm allowing you to pay\\nmore attention to me\", 'start': 1647.37, 'duration': 1.98}, {'text': \"and less to what's\\nwritten on the slide.\", 'start': 1649.35, 'duration': 2.945}, {'text': 'I mentioned it before--\\nwe-- have only one language', 'start': 1652.295, 'duration': 2.125}, {'text': 'processor, and we can\\neither use it to read stuff', 'start': 1654.42, 'duration': 3.72}, {'text': 'or to listen to the speaker.', 'start': 1658.14, 'duration': 2.03}, {'text': 'And so if we have too\\nmany words on the slide,', 'start': 1660.17, 'duration': 3.07}, {'text': 'it forces people in the\\naudience to read this stuff', 'start': 1663.24, 'duration': 2.46}, {'text': 'and not listen.', 'start': 1665.7, 'duration': 0.63}, {'text': 'A student of mine did an\\nexperiment a few years ago.', 'start': 1669.27, 'duration': 3.3}, {'text': 'He taught some students some\\nweb-based programming ideas.', 'start': 1672.57, 'duration': 7.56}, {'text': 'Half the information was on\\nslides, he said the other half,', 'start': 1680.13, 'duration': 4.45}, {'text': 'and then for a control\\ngroup, he reversed it.', 'start': 1684.58, 'duration': 3.05}, {'text': 'And the question was,\\nwhat did the subjects--', 'start': 1687.63, 'duration': 3.33}, {'text': 'that is to say, freshmen\\nat his fraternity--', 'start': 1690.96, 'duration': 2.28}, {'text': 'what did the subjects\\nremember best, what he said,', 'start': 1693.24, 'duration': 4.8}, {'text': 'or what they read on the slide?', 'start': 1698.04, 'duration': 3.22}, {'text': 'And the answer is, what\\nthey read on the slide.', 'start': 1701.26, 'duration': 5.172}, {'text': 'When their slides have\\na lot of material on it,', 'start': 1706.432, 'duration': 1.958}, {'text': \"they don't pay attention\\nto the speaker.\", 'start': 1708.39, 'duration': 1.72}, {'text': 'In fact, in the after action\\nreport, one of the subjects', 'start': 1710.11, 'duration': 3.08}, {'text': \"said, I wish you\\nhadn't talked so much.\", 'start': 1713.19, 'duration': 2.91}, {'text': 'It was distracting.', 'start': 1716.1, 'duration': 0.96}, {'text': 'Well, the last item\\nis eliminate clutter.', 'start': 1721.0, 'duration': 3.12}, {'text': \"Here's some clutter.\", 'start': 1724.12, 'duration': 2.11}, {'text': 'No reason even\\nfor those bullets.', 'start': 1726.23, 'duration': 3.48}, {'text': 'So the too many words\\nproblem is a consequence', 'start': 1729.71, 'duration': 2.07}, {'text': 'of a crime Microsoft\\nhas committed', 'start': 1731.78, 'duration': 3.63}, {'text': 'by allowing you to use\\nfonts that are too small.', 'start': 1735.41, 'duration': 3.94}, {'text': 'So you should all have\\na sample slide like this', 'start': 1739.35, 'duration': 4.22}, {'text': 'that you can use to determine\\nwhat the minimum font', 'start': 1743.57, 'duration': 2.67}, {'text': \"size is that's easily legible.\", 'start': 1746.24, 'duration': 3.24}, {'text': '[INAUDIBLE],, what do\\nyou think of those?', 'start': 1749.48, 'duration': 5.265}, {'text': 'AUDIENCE: Which size is right?', 'start': 1754.745, 'duration': 1.467}, {'text': \"PATRICK WINSTON: What's that?\", 'start': 1756.212, 'duration': 0.978}, {'text': 'AUDIENCE: Did you ask\\nme what size is right?', 'start': 1757.19, 'duration': 1.833}, {'text': 'PATRICK WINSTON:\\nYeah, minimum, maybe.', 'start': 1759.023, 'duration': 2.537}, {'text': 'AUDIENCE: 40 or 50.', 'start': 1761.56, 'duration': 1.21}, {'text': 'PATRICK WINSTON: Yeah,\\nhe says 40 or 50.', 'start': 1762.77, 'duration': 2.22}, {'text': \"I think that's about right.\", 'start': 1764.99, 'duration': 2.06}, {'text': '35 is beginning to get\\ntoo small, not necessarily', 'start': 1767.05, 'duration': 2.68}, {'text': \"because you can't read it,\\nbut because you're probably\", 'start': 1769.73, 'duration': 3.187}, {'text': 'using it to get too\\nmany words on the slide.', 'start': 1772.917, 'duration': 1.833}, {'text': 'What other crimes do we have?', 'start': 1777.38, 'duration': 2.56}, {'text': 'Well, we have the\\nlaser pointer crime.', 'start': 1779.94, 'duration': 3.815}, {'text': 'And for that-- in\\nthe old days, when', 'start': 1783.755, 'duration': 3.135}, {'text': \"we didn't have laser\\npointers, we used wooden ones,\", 'start': 1786.89, 'duration': 2.23}, {'text': 'and people would go waving\\nthese things around.', 'start': 1789.12, 'duration': 3.47}, {'text': 'And pretty soon it became almost\\nlike a baton twirling contest,', 'start': 1792.59, 'duration': 6.86}, {'text': \"so here's what I\\nrecommended in the old days\", 'start': 1799.45, 'duration': 2.95}, {'text': 'for dealing with\\nthis kind of pointer.', 'start': 1802.4, 'duration': 1.68}, {'text': 'This is an example\\nof use of a prop.', 'start': 1808.97, 'duration': 1.56}, {'text': 'Jim Glass up there saw this\\ntalk about 20 years ago,', 'start': 1814.07, 'duration': 3.02}, {'text': 'and said, oh, yeah,\\nI remember that talk.', 'start': 1817.09, 'duration': 2.29}, {'text': \"That's the one where\\nyou broke the pointer.\", 'start': 1819.38, 'duration': 3.87}, {'text': \"It's amazing how\\nprops tend to be\", 'start': 1823.25, 'duration': 1.95}, {'text': 'the things that are remembered.', 'start': 1825.2, 'duration': 2.28}, {'text': \"Well, now, we don't have\\nphysical pointers anymore.\", 'start': 1827.48, 'duration': 4.735}, {'text': \"We've got laser pointers.\", 'start': 1832.215, 'duration': 3.665}, {'text': \"It's a wonder more people aren't\\ndriven into epileptic fits\", 'start': 1835.88, 'duration': 3.21}, {'text': 'over this sort of stuff.', 'start': 1839.09, 'duration': 2.1}, {'text': \"Well, here's what\\ntends to happen.\", 'start': 1841.19, 'duration': 2.658}, {'text': 'Look at that.', 'start': 1843.848, 'duration': 0.542}, {'text': \"It's a lovely recursive picture,\\nand I can become part of it\", 'start': 1844.39, 'duration': 4.78}, {'text': 'by putting that laser beam\\nright on the back of my head', 'start': 1849.17, 'duration': 2.856}, {'text': 'up there.', 'start': 1852.026, 'duration': 0.5}, {'text': 'Then what do you see?', 'start': 1856.1, 'duration': 2.62}, {'text': 'You see the back of my head.', 'start': 1858.72, 'duration': 2.72}, {'text': 'I have no eye contact,\\nno engagement, nothing.', 'start': 1861.44, 'duration': 3.39}, {'text': 'I was sitting with a student\\nwatching a talk one day,', 'start': 1864.83, 'duration': 3.47}, {'text': 'and she said, you know\\nwhat, we could all leave,', 'start': 1868.3, 'duration': 3.49}, {'text': \"and he wouldn't know.\", 'start': 1871.79, 'duration': 0.92}, {'text': 'So what happens when\\nyou use a laser pointer?', 'start': 1876.065, 'duration': 1.875}, {'text': \"You can't use a laser pointer\\nwithout turning your head\", 'start': 1877.94, 'duration': 3.15}, {'text': 'and pointing it at something,\\nand when you do that,', 'start': 1881.09, 'duration': 3.96}, {'text': 'you lose contact\\nwith the audience.', 'start': 1885.05, 'duration': 2.52}, {'text': \"You don't want to do it.\", 'start': 1887.57, 'duration': 2.02}, {'text': 'So what do you do if you\\nneed to identify something', 'start': 1889.59, 'duration': 3.115}, {'text': \"in your image,\\nand you don't want\", 'start': 1892.705, 'duration': 1.375}, {'text': 'to point at it with a laser?', 'start': 1894.08, 'duration': 1.2}, {'text': 'This is what you do.', 'start': 1895.28, 'duration': 1.56}, {'text': 'Put a little arrow\\non there and say,', 'start': 1896.84, 'duration': 1.5}, {'text': 'now, look at that guy at\\nthe end of arrow number one.', 'start': 1898.34, 'duration': 3.39}, {'text': \"You don't need to have\\nlaser pointer to do that.\", 'start': 1901.73, 'duration': 2.0}, {'text': 'The too-heavy\\ncrime-- when people', 'start': 1908.933, 'duration': 3.547}, {'text': 'ask me to review\\na presentation, I', 'start': 1912.48, 'duration': 2.89}, {'text': 'ask them to print it out\\nand lay it out on a table.', 'start': 1915.37, 'duration': 2.57}, {'text': \"When they do that, it's easy\\nto see whether the talk is\", 'start': 1921.06, 'duration': 3.39}, {'text': 'too heavy, too much\\ntext, not enough air, not', 'start': 1924.45, 'duration': 4.29}, {'text': 'enough white space,\\nnot enough imagery.', 'start': 1928.74, 'duration': 4.21}, {'text': 'This is a good example\\nof such a talk--', 'start': 1932.95, 'duration': 3.59}, {'text': 'way too heavy.', 'start': 1936.54, 'duration': 2.76}, {'text': 'The presenter has taken\\nadvantage of a small font sizes', 'start': 1939.3, 'duration': 3.682}, {'text': 'to get as much on the\\nslide as he wanted.', 'start': 1942.982, 'duration': 1.708}, {'text': 'Lots of other crimes here,\\nbut the too-heavy-- the fact', 'start': 1947.6, 'duration': 3.48}, {'text': \"that it's too heavy is what\\nI wanted to illustrate.\", 'start': 1951.08, 'duration': 2.72}, {'text': 'So here, by contrast,\\nanother talk--', 'start': 1953.8, 'duration': 2.95}, {'text': 'one I gave a few years ago.', 'start': 1956.75, 'duration': 1.14}, {'text': \"It's not-- it wasn't a\\ndeeply technical talk,\", 'start': 1957.89, 'duration': 3.63}, {'text': \"but I show it to you\\nbecause there's air in it.\", 'start': 1961.52, 'duration': 5.28}, {'text': \"It's mostly pictures of things.\", 'start': 1966.8, 'duration': 2.31}, {'text': 'There are three or four\\nslides that have text on them,', 'start': 1969.11, 'duration': 3.82}, {'text': 'but when I come to those, I give\\nthe audience time to read them.', 'start': 1972.93, 'duration': 3.352}, {'text': \"And they're there\\nbecause they might have\", 'start': 1976.282, 'duration': 1.708}, {'text': 'some historical significance.', 'start': 1977.99, 'duration': 2.623}, {'text': 'The first slide with\\na lot of text on it', 'start': 1980.613, 'duration': 1.667}, {'text': 'is an extraction from the 1957--', 'start': 1982.28, 'duration': 3.84}, {'text': 'from the proposal for the 1957\\nAI conference at Dartmouth.', 'start': 1986.12, 'duration': 4.71}, {'text': 'Extraordinarily\\ninteresting event,', 'start': 1990.83, 'duration': 2.36}, {'text': 'and that historical\\nextraction from the proposal', 'start': 1993.19, 'duration': 4.6}, {'text': 'helps drive that point home.', 'start': 1997.79, 'duration': 3.17}, {'text': 'What else have we got here?', 'start': 2000.96, 'duration': 2.12}, {'text': 'Oh, yeah, your vocabulary\\nword for the day.', 'start': 2003.08, 'duration': 2.6}, {'text': 'This is an hapax legomenon.', 'start': 2005.68, 'duration': 3.09}, {'text': 'What that means is, this\\nis the kind of slide', 'start': 2008.77, 'duration': 2.4}, {'text': 'you can get away with exactly\\nonce in your presentation.', 'start': 2011.17, 'duration': 5.37}, {'text': 'This is a slide that got\\nsome currency some years', 'start': 2016.54, 'duration': 2.37}, {'text': 'ago because it shows the\\ncomplexity of governing', 'start': 2018.91, 'duration': 4.59}, {'text': 'in Afghanistan by showing\\nhow impossibly complex it is.', 'start': 2023.5, 'duration': 6.14}, {'text': \"It's something you in the\\naudience can't understand,\", 'start': 2029.64, 'duration': 2.84}, {'text': \"and that's the point, but\\nyou can't have many of these.\", 'start': 2032.48, 'duration': 3.44}, {'text': 'You can have one per work,\\none per presentation,', 'start': 2035.92, 'duration': 2.67}, {'text': 'one per paper, one per book.', 'start': 2038.59, 'duration': 2.19}, {'text': \"That's what hapax legomenon is,\\nand this is an example of it.\", 'start': 2040.78, 'duration': 3.84}, {'text': \"Well, I've shown\\nyou some crimes.\", 'start': 2046.725, 'duration': 1.375}, {'text': 'So you might be asking, do\\nthese crimes actually occur?', 'start': 2048.1, 'duration': 4.639}, {'text': 'So they do.', 'start': 2052.739, 'duration': 4.122}, {'text': '[LAUGHTER]', 'start': 2056.861, 'duration': 4.914}, {'text': \"There's the hands in\\nthe pockets crime.\", 'start': 2061.775, 'duration': 1.625}, {'text': \"There's a crime and time\\nand place selection here.\", 'start': 2066.54, 'duration': 5.67}, {'text': 'This is how you get\\nto the Bartos Theater.', 'start': 2072.21, 'duration': 3.627}, {'text': 'First thing you do is\\nyou get on these steps', 'start': 2075.837, 'duration': 1.833}, {'text': 'over at the Media Lab, then you\\ncross this large open space,', 'start': 2077.67, 'duration': 6.45}, {'text': 'then you turn right\\ndown this corridor.', 'start': 2084.12, 'duration': 1.8}, {'text': '[LAUGHTER]', 'start': 2085.92, 'duration': 1.281}, {'text': 'At this point,\\nwhenever I go in there,', 'start': 2087.201, 'duration': 1.659}, {'text': 'I wonder if there are torture\\nimplements around the corner.', 'start': 2088.86, 'duration': 3.102}, {'text': '[LAUGHTER]', 'start': 2091.962, 'duration': 0.5}, {'text': 'And then when you\\nget in there, you', 'start': 2092.462, 'duration': 2.068}, {'text': 'get into this\\ndark, gloomy place.', 'start': 2094.53, 'duration': 3.15}, {'text': \"So it's well named when they\\ncall it the Bartos Theater\", 'start': 2097.68, 'duration': 2.738}, {'text': \"because it's a place where\\nyou can watch a movie,\", 'start': 2100.418, 'duration': 2.042}, {'text': \"but it's not a place\\nwhere you can give a talk.\", 'start': 2102.46, 'duration': 1.958}, {'text': 'Now, on a subject\\nof does it happen,', 'start': 2107.33, 'duration': 3.37}, {'text': \"here's a talk I attended\\na while back in Stata.\", 'start': 2110.7, 'duration': 4.17}, {'text': 'Notice that the speaker is\\nfar away from the slides.', 'start': 2114.87, 'duration': 4.28}, {'text': \"Speaker's using a laser pointer.\", 'start': 2119.15, 'duration': 3.6}, {'text': \"And you say to me, well,\\nwhat's happening here?\", 'start': 2122.75, 'duration': 3.36}, {'text': \"It's, by the way,\\nthe 80th - 80th!\", 'start': 2126.11, 'duration': 3.39}, {'text': 'slide of the presentation.', 'start': 2129.5, 'duration': 1.96}, {'text': 'Notice that it extends\\nwith the words,', 'start': 2131.46, 'duration': 1.86}, {'text': 'this is the first of\\n10 conclusions slides.', 'start': 2133.32, 'duration': 2.49}, {'text': '[LAUGHTER]', 'start': 2135.81, 'duration': 2.15}, {'text': \"So what's the audience reaction?\", 'start': 2137.96, 'duration': 3.78}, {'text': \"That's the sponsor\\nof the meeting.\", 'start': 2141.74, 'duration': 1.832}, {'text': '[LAUGHTER]', 'start': 2143.572, 'duration': 1.268}, {'text': \"He's reading his email.\", 'start': 2144.84, 'duration': 2.48}, {'text': 'This is the co-sponsor\\nof the meeting.', 'start': 2147.32, 'duration': 2.92}, {'text': \"He's examining the lunch menu.\", 'start': 2150.24, 'duration': 1.772}, {'text': '[LAUGHTER]', 'start': 2152.012, 'duration': 2.54}, {'text': 'What about this person?', 'start': 2154.552, 'duration': 0.958}, {'text': \"This person looks like\\nhe's paying attention,\", 'start': 2158.83, 'duration': 3.42}, {'text': \"but just because\\nit's a still picture.\", 'start': 2162.25, 'duration': 2.613}, {'text': 'If you were to see a\\nvideo, what you would see', 'start': 2164.863, 'duration': 1.917}, {'text': 'is something like this [YAWNS].', 'start': 2166.78, 'duration': 3.775}, {'text': '[LAUGHTER]', 'start': 2170.555, 'duration': 3.795}, {'text': 'So yeah, it does happen.', 'start': 2174.35, 'duration': 3.61}, {'text': \"Well, now, that's a\\nquick review of tools.\", 'start': 2177.96, 'duration': 5.12}, {'text': 'Now, I want to talk\\nabout some special cases.', 'start': 2183.08, 'duration': 4.62}, {'text': 'We could talk a little\\nbit about the informing', 'start': 2190.3, 'duration': 2.53}, {'text': \"or to say another way,\\ndoing what I'm doing now.\", 'start': 2192.83, 'duration': 5.18}, {'text': \"But I'll just say a\\nfew words about that.\", 'start': 2198.01, 'duration': 2.35}, {'text': 'In that kind of\\npresentation, you', 'start': 2200.36, 'duration': 1.98}, {'text': 'want to start with a promise\\nlike I did for this hour', 'start': 2202.34, 'duration': 4.53}, {'text': \"that we're going through now.\", 'start': 2206.87, 'duration': 1.385}, {'text': 'And then it comes\\nto the question', 'start': 2208.255, 'duration': 1.375}, {'text': 'of how do you inspire people?', 'start': 2209.63, 'duration': 3.258}, {'text': \"I've given this talk\\nfor a long time,\", 'start': 2212.888, 'duration': 1.542}, {'text': 'and a few years ago,\\nour department chairman', 'start': 2214.43, 'duration': 3.87}, {'text': 'said, would you please give\\nthis talk to a new faculty,', 'start': 2218.3, 'duration': 3.96}, {'text': 'and be sure to emphasize what\\nit takes to inspire students.', 'start': 2222.26, 'duration': 4.472}, {'text': \"And strangely, I hadn't thought\\nabout that question before.\", 'start': 2226.732, 'duration': 2.458}, {'text': 'So I started a survey.', 'start': 2229.19, 'duration': 2.1}, {'text': \"I'd talked to some of my\\nincoming freshmen advisees,\", 'start': 2231.29, 'duration': 3.2}, {'text': 'and I talked to senior\\nfaculty and everything', 'start': 2234.49, 'duration': 2.8}, {'text': \"in between about how\\nthey've been inspired.\", 'start': 2237.29, 'duration': 4.23}, {'text': 'What I found from\\nthe incoming freshmen', 'start': 2241.52, 'duration': 2.443}, {'text': 'is that they were inspired by\\nsome high school teacher who', 'start': 2243.963, 'duration': 2.417}, {'text': 'told them they could do it.', 'start': 2246.38, 'duration': 2.67}, {'text': 'What I found in\\nthe senior faculty,', 'start': 2249.05, 'duration': 3.09}, {'text': 'they were inspired\\nby someone who', 'start': 2252.14, 'duration': 3.14}, {'text': 'helped them see a\\nproblem in a new way.', 'start': 2255.28, 'duration': 3.03}, {'text': 'And what I saw from everyone\\nis that they were inspired when', 'start': 2258.31, 'duration': 5.74}, {'text': 'someone exhibited passion\\nabout what they were doing,', 'start': 2264.05, 'duration': 5.63}, {'text': 'exhibited passion about\\nwhat they were doing.', 'start': 2269.68, 'duration': 3.24}, {'text': \"So that's one way\\nto be inspiring.\", 'start': 2272.92, 'duration': 4.8}, {'text': \"It's easy for me because I\\ndo artificial intelligence.\", 'start': 2277.72, 'duration': 5.59}, {'text': 'And how can you\\nnot be interested', 'start': 2283.31, 'duration': 2.72}, {'text': 'in artificial intelligence?', 'start': 2286.03, 'duration': 1.2}, {'text': '[LAUGHTER]', 'start': 2287.23, 'duration': 0.81}, {'text': \"I mean, if you're not interested\\nin artificial intelligence,\", 'start': 2288.04, 'duration': 2.802}, {'text': \"you're probably not interested\\nin interesting things.\", 'start': 2290.842, 'duration': 2.208}, {'text': \"So when I'm lecturing in my\\nAI class, it's natural for me\", 'start': 2295.63, 'duration': 5.01}, {'text': 'to talk about what\\nI think is cool', 'start': 2300.64, 'duration': 2.91}, {'text': 'and how exciting\\nsome new idea is.', 'start': 2303.55, 'duration': 3.77}, {'text': \"So that's the kind of\\nexpression of passion\", 'start': 2307.32, 'duration': 3.76}, {'text': 'that makes a difference\\nwhile informing with respect', 'start': 2311.08, 'duration': 3.87}, {'text': 'to this question of inspiring.', 'start': 2314.95, 'duration': 2.13}, {'text': 'Oh, yeah and of course,\\nduring this promise phase,', 'start': 2319.96, 'duration': 3.58}, {'text': 'you can also express\\nhow cool stuff is.', 'start': 2323.54, 'duration': 3.53}, {'text': 'Let me give you an example of\\na lecture that starts this way.', 'start': 2327.07, 'duration': 3.6}, {'text': \"I'm talking about\\nresource allocation.\", 'start': 2330.67, 'duration': 2.39}, {'text': \"It's the same sort of stuff\\nyou would think of when your--\", 'start': 2333.06, 'duration': 2.7}, {'text': \"it's the same sort\\nof ideas you would\", 'start': 2335.76, 'duration': 1.542}, {'text': \"need if you're allocating\\naircraft to a flight schedule\", 'start': 2337.302, 'duration': 3.988}, {'text': 'or trying to schedule a\\nfactory or something like that.', 'start': 2341.29, 'duration': 2.71}, {'text': 'But the example\\nis putting colors', 'start': 2344.0, 'duration': 2.06}, {'text': 'on the states in\\nthe United States', 'start': 2346.06, 'duration': 2.7}, {'text': 'without any bordering states\\nhaving the same color.', 'start': 2348.76, 'duration': 2.62}, {'text': 'So here it goes.', 'start': 2351.38, 'duration': 0.67}, {'text': 'This is what I show at the\\nbeginning of the class.', 'start': 2355.39, 'duration': 3.21}, {'text': 'This is a way of\\ndoing that coloring.', 'start': 2358.6, 'duration': 2.92}, {'text': \"And you might say, well, why\\ndon't we wait till it finishes?\", 'start': 2361.52, 'duration': 3.92}, {'text': 'Would you like to do that?', 'start': 2365.44, 'duration': 1.75}, {'text': 'No?', 'start': 2367.19, 'duration': 2.093}, {'text': \"Well, we're not going\\nto wait till it finishes\", 'start': 2369.283, 'duration': 1.917}, {'text': 'because the sun will have\\nexploded and consumed the earth', 'start': 2371.2, 'duration': 2.79}, {'text': 'before this program finishes.', 'start': 2373.99, 'duration': 1.44}, {'text': '[LAUGHTER]', 'start': 2375.43, 'duration': 1.53}, {'text': 'But with a slight adjustment\\nto how the program works, which', 'start': 2376.96, 'duration': 4.56}, {'text': 'I tell my students you will\\nunderstand in the next 50', 'start': 2381.52, 'duration': 2.55}, {'text': 'minutes, this is what you get.', 'start': 2384.07, 'duration': 1.59}, {'text': \"Isn't that cool?\", 'start': 2389.85, 'duration': 0.78}, {'text': 'You got to be\\namazed by stuff that', 'start': 2393.41, 'duration': 1.75}, {'text': 'takes a computation from\\nlonger than the lifetime', 'start': 2395.16, 'duration': 2.67}, {'text': 'of the solar system\\ninto a few seconds.', 'start': 2397.83, 'duration': 3.09}, {'text': \"So that's what I mean by\\nproviding a promise upfront\", 'start': 2400.92, 'duration': 4.837}, {'text': 'and expressing some\\npassion about what', 'start': 2405.757, 'duration': 1.583}, {'text': \"you're talking about.\", 'start': 2407.34, 'duration': 3.06}, {'text': 'Well, the last item\\nin this little block', 'start': 2410.4, 'duration': 1.68}, {'text': 'here is it has to\\ndo with what people', 'start': 2412.08, 'duration': 3.03}, {'text': 'think that they do it at MIT.', 'start': 2415.11, 'duration': 1.53}, {'text': 'You ask faculty what the\\nmost important purpose is,', 'start': 2416.64, 'duration': 3.24}, {'text': \"and they'll say, well, the\\nmost important thing I do\", 'start': 2419.88, 'duration': 3.6}, {'text': 'is teach people how to think.', 'start': 2423.48, 'duration': 2.58}, {'text': \"And then you say\\noh, that's great.\", 'start': 2426.06, 'duration': 3.03}, {'text': 'How do you teach\\npeople how to think?', 'start': 2429.09, 'duration': 2.94}, {'text': 'Blank stare.', 'start': 2432.03, 'duration': 0.7}, {'text': 'No one can quite\\nrespond to that part,', 'start': 2435.25, 'duration': 2.79}, {'text': 'that natural next question.', 'start': 2438.04, 'duration': 2.653}, {'text': 'So how do you teach\\npeople how to think?', 'start': 2440.693, 'duration': 1.667}, {'text': 'Well, I believe that we\\nare storytelling animals.', 'start': 2442.36, 'duration': 6.48}, {'text': 'And that we start\\ndeveloping our story,', 'start': 2448.84, 'duration': 3.678}, {'text': 'understanding and\\nmanipulating skills', 'start': 2452.518, 'duration': 1.542}, {'text': 'with fairy tales in\\nchildhood and continue on', 'start': 2454.06, 'duration': 3.75}, {'text': 'through professional schools\\nlike law, business, medicine,', 'start': 2457.81, 'duration': 4.68}, {'text': 'everything.', 'start': 2462.49, 'duration': 1.38}, {'text': 'And we continue doing\\nthat throughout life.', 'start': 2463.87, 'duration': 2.82}, {'text': 'So if that is what\\nthinking is all about.', 'start': 2466.69, 'duration': 3.18}, {'text': 'And we want to teach\\npeople how to think,', 'start': 2469.87, 'duration': 1.86}, {'text': 'you provide them with the\\nstories they need to know,', 'start': 2471.73, 'duration': 2.76}, {'text': 'the questions they need to\\nask about those stories,', 'start': 2474.49, 'duration': 2.58}, {'text': 'mechanisms for\\nanalyzing those stories,', 'start': 2477.07, 'duration': 2.28}, {'text': 'ways of putting\\nstories together,', 'start': 2479.35, 'duration': 1.54}, {'text': 'ways of evaluating how\\nreliable a story is.', 'start': 2480.89, 'duration': 3.87}, {'text': \"And that's what I think you\\nneed to do when you teach people\", 'start': 2484.76, 'duration': 3.32}, {'text': 'how to think.', 'start': 2488.08, 'duration': 1.69}, {'text': \"But that's all about education.\", 'start': 2489.77, 'duration': 2.15}, {'text': 'And many of you here\\nare not necessarily', 'start': 2491.92, 'duration': 3.87}, {'text': 'for that, but rather\\nfor this part,', 'start': 2495.79, 'duration': 4.08}, {'text': 'for persuading, which breaks\\ndown into several categories,', 'start': 2499.87, 'duration': 3.54}, {'text': 'oral exams, not shown,\\nshop talks, getting famous.', 'start': 2503.41, 'duration': 4.8}, {'text': \"I won't say much about oral\\nexams other than the fact\", 'start': 2508.21, 'duration': 3.51}, {'text': 'that they used to be a lot\\nscarier than they are today.', 'start': 2511.72, 'duration': 3.21}, {'text': 'In the old days,\\nreading the literature', 'start': 2514.93, 'duration': 4.35}, {'text': 'in a foreign language\\nwas a part of that.', 'start': 2519.28, 'duration': 2.13}, {'text': 'And there was a\\nhigh failure rate.', 'start': 2521.41, 'duration': 2.94}, {'text': 'And when you look back\\non those failures,', 'start': 2524.35, 'duration': 4.44}, {'text': 'the most usual reason for\\npeople failing an oral exam', 'start': 2528.79, 'duration': 3.75}, {'text': 'is failure to situate and\\na failure to practice.', 'start': 2532.54, 'duration': 4.92}, {'text': \"By situate, I mean,\\nit's important to talk\", 'start': 2537.46, 'duration': 2.97}, {'text': 'about your research in context.', 'start': 2540.43, 'duration': 2.25}, {'text': \"This is a problem that's being\\npursued all over the world.\", 'start': 2542.68, 'duration': 2.85}, {'text': \"There hasn't been any progress\\nbefore me in the past 30 years.\", 'start': 2545.53, 'duration': 4.92}, {'text': 'Everyone is looking\\nfor a solution', 'start': 2550.45, 'duration': 1.71}, {'text': 'because it will\\nhave impact on so', 'start': 2552.16, 'duration': 1.68}, {'text': 'many other things, such\\nsituating and time and place', 'start': 2553.84, 'duration': 3.54}, {'text': 'and feel.', 'start': 2557.38, 'duration': 1.48}, {'text': 'And then as far as\\npractice is concerned, yes,', 'start': 2558.86, 'duration': 3.11}, {'text': 'practice is important.', 'start': 2561.97, 'duration': 1.56}, {'text': \"But that doesn't mean showing\\nyour slides to the people\", 'start': 2563.53, 'duration': 4.56}, {'text': 'you share an with.', 'start': 2568.09, 'duration': 2.28}, {'text': \"The problem with that is that if\\npeople know what you're doing,\", 'start': 2570.37, 'duration': 3.653}, {'text': \"they will hallucinate\\nthat there's\", 'start': 2574.023, 'duration': 1.417}, {'text': \"material in your\\npresentation that isn't there\", 'start': 2575.44, 'duration': 2.04}, {'text': \"if it isn't there.\", 'start': 2577.48, 'duration': 2.268}, {'text': 'A variation on the\\nscene, by the way,', 'start': 2579.748, 'duration': 1.542}, {'text': 'is your faculty supervisor\\nis not a very good person', 'start': 2581.29, 'duration': 5.04}, {'text': 'to help you debug a talk\\nbecause they, in fact, know', 'start': 2586.33, 'duration': 2.97}, {'text': \"what you're doing.\", 'start': 2589.3, 'duration': 0.9}, {'text': 'And they will, in\\nfact, hallucinate', 'start': 2590.2, 'duration': 1.74}, {'text': \"there's material in your\\npresentation that isn't there.\", 'start': 2591.94, 'duration': 2.878}, {'text': 'So you need to get together\\nwith some friends who', 'start': 2594.818, 'duration': 2.042}, {'text': \"don't know what you're\\ndoing and have them--\", 'start': 2596.86, 'duration': 3.32}, {'text': 'well, you start the\\npractice session by saying,', 'start': 2600.18, 'duration': 3.58}, {'text': \"if you can't make me cry,\\nI won't value as a friend\", 'start': 2603.76, 'duration': 3.57}, {'text': 'anymore.', 'start': 2607.33, 'duration': 0.51}, {'text': '[LAUGHTER]', 'start': 2607.84, 'duration': 1.14}, {'text': 'And then when you get to\\nthe faculty on a oral exam,', 'start': 2608.98, 'duration': 4.62}, {'text': 'it will be easy.', 'start': 2613.6, 'duration': 1.75}, {'text': 'You see, difficulty--\\nthe amount of flak', 'start': 2615.35, 'duration': 3.65}, {'text': \"you'll get from somebody\\nis proportional to age.\", 'start': 2619.0, 'duration': 2.99}, {'text': 'The older somebody\\nis, the more they', 'start': 2621.99, 'duration': 3.4}, {'text': 'understand where they\\nare in the world.', 'start': 2625.39, 'duration': 1.77}, {'text': 'But the young people are\\ntrying to show the old people', 'start': 2627.16, 'duration': 2.31}, {'text': \"how smart they are, so\\nit's subtly vicious.\", 'start': 2629.47, 'duration': 2.652}, {'text': 'So whenever you\\nhave an opportunity', 'start': 2632.122, 'duration': 1.458}, {'text': \"to have an examining\\ncommittee that's\", 'start': 2633.58, 'duration': 1.56}, {'text': \"full of people with gray\\nhair, that's what you want.\", 'start': 2635.14, 'duration': 4.35}, {'text': \"Well, that's just a word\\nor two about something\", 'start': 2639.49, 'duration': 2.01}, {'text': \"I haven't listed here.\", 'start': 2641.5, 'duration': 0.96}, {'text': \"Let's get into the\\nsubject of job talks.\", 'start': 2642.46, 'duration': 3.15}, {'text': 'So I was sitting in a bar\\nmany years ago in San Diego.', 'start': 2645.61, 'duration': 8.62}, {'text': 'I was a member of the\\nNavy Science Board,', 'start': 2654.23, 'duration': 2.45}, {'text': 'and I was sitting with a couple\\nof my colleagues on the board', 'start': 2656.68, 'duration': 4.74}, {'text': 'Delores Etter from the\\nUniversity of Colorado.', 'start': 2661.42, 'duration': 3.49}, {'text': \"She made me so jealous I could\\nspit because she'd written 21\", 'start': 2664.91, 'duration': 3.05}, {'text': \"books, and I'd only written 17.\", 'start': 2667.96, 'duration': 2.7}, {'text': 'And then the other\\none was Bill Weldon', 'start': 2670.66, 'duration': 4.47}, {'text': 'from the University of Texas.', 'start': 2675.13, 'duration': 3.1}, {'text': 'He was an electromagnetism\\nguy, and he', 'start': 2678.23, 'duration': 3.05}, {'text': 'knew how to use rail guns to\\ndrive steel rods through tank', 'start': 2681.28, 'duration': 3.75}, {'text': 'armor.', 'start': 2685.03, 'duration': 0.63}, {'text': 'These were interesting people.', 'start': 2685.66, 'duration': 1.93}, {'text': 'So I said, what do you look\\nfor in a faculty candidate?', 'start': 2687.59, 'duration': 6.29}, {'text': 'And within one\\nmicrosecond, Delores', 'start': 2693.88, 'duration': 4.12}, {'text': \"said, they have\\nto show us they've\", 'start': 2698.0, 'duration': 2.27}, {'text': 'got some kind of vision, quickly\\nfollowed by Bill who said,', 'start': 2700.27, 'duration': 5.67}, {'text': \"they have to show us that\\nthey've done something.\", 'start': 2705.94, 'duration': 2.123}, {'text': 'Oh, that sounds good, I said.', 'start': 2715.16, 'duration': 3.39}, {'text': 'And then I said\\nto them, how long', 'start': 2718.55, 'duration': 2.01}, {'text': 'does a candidate have to\\nestablish these two things?', 'start': 2720.56, 'duration': 4.08}, {'text': 'What do you think?', 'start': 2724.64, 'duration': 2.21}, {'text': 'Well, compare your\\nanswer to theirs.', 'start': 2726.85, 'duration': 1.66}, {'text': 'Five minutes.', 'start': 2733.97, 'duration': 2.833}, {'text': \"So if you haven't\\nexpressed your vision,\", 'start': 2736.803, 'duration': 1.667}, {'text': \"if you haven't told people that\\nyou've done something in five\", 'start': 2738.47, 'duration': 4.38}, {'text': \"minutes, you've already lost.\", 'start': 2742.85, 'duration': 3.03}, {'text': 'So you have to be\\nable to do that.', 'start': 2745.88, 'duration': 1.75}, {'text': 'And let me just mention a couple\\nof things in that connection.', 'start': 2747.63, 'duration': 3.62}, {'text': 'Here, the vision is\\nin part, a problem', 'start': 2751.25, 'duration': 2.94}, {'text': 'that somebody cares about and\\nsomething new in your approach.', 'start': 2754.19, 'duration': 6.15}, {'text': 'So the problem is\\nunderstanding the nature', 'start': 2766.35, 'duration': 2.21}, {'text': 'of human intelligence.', 'start': 2768.56, 'duration': 1.92}, {'text': 'And the approach\\nis asking questions', 'start': 2770.48, 'duration': 2.16}, {'text': 'about what makes us\\ndifferent from chimpanzees', 'start': 2772.64, 'duration': 3.87}, {'text': 'and Neanderthals.', 'start': 2776.51, 'duration': 1.62}, {'text': 'Is it merely a\\nmatter of quantity,', 'start': 2778.13, 'duration': 1.59}, {'text': \"or we're just a little bit\\nsmarter in some continuous way?\", 'start': 2779.72, 'duration': 3.6}, {'text': \"Or do we have something\\nthat's fundamentally different\", 'start': 2783.32, 'duration': 3.17}, {'text': \"that chimpanzees don't have\\nand Neanderthals either?\", 'start': 2786.49, 'duration': 4.06}, {'text': 'And the answer is yes, we\\ndo have something different.', 'start': 2790.55, 'duration': 4.08}, {'text': 'We are symbolic creatures.', 'start': 2794.63, 'duration': 2.27}, {'text': \"And because we're\\nsymbolic creatures,\", 'start': 2796.9, 'duration': 2.65}, {'text': 'we can build\\nsymbolic descriptions', 'start': 2799.55, 'duration': 5.01}, {'text': 'of relations and events.', 'start': 2804.56, 'duration': 1.77}, {'text': 'We can string them\\ntogether and make stories.', 'start': 2806.33, 'duration': 2.505}, {'text': \"And because we can make stories,\\nthat's what makes us different.\", 'start': 2808.835, 'duration': 2.925}, {'text': \"So that's my stump speech.\", 'start': 2811.76, 'duration': 2.43}, {'text': \"That's how I start\\nmost of my talks\", 'start': 2814.19, 'duration': 2.37}, {'text': 'on my own personal research.', 'start': 2816.56, 'duration': 2.7}, {'text': \"How do you express the notion\\nthat you've done something?\", 'start': 2819.26, 'duration': 5.73}, {'text': 'By listing the steps that need\\nto be taken in order to achieve', 'start': 2824.99, 'duration': 5.25}, {'text': 'the solution to that problem.', 'start': 2830.24, 'duration': 2.362}, {'text': \"You don't have to have\\ndone all of those steps.\", 'start': 2832.602, 'duration': 1.958}, {'text': \"But you can say here's\\nwhat needs to be done.\", 'start': 2834.56, 'duration': 3.81}, {'text': \"An example, here's\\nwhat needs to be done.\", 'start': 2838.37, 'duration': 2.29}, {'text': 'We need to specify\\nsome behavior.', 'start': 2840.66, 'duration': 2.6}, {'text': 'We need to enumerate\\nthe constraints that', 'start': 2843.26, 'duration': 2.58}, {'text': 'make it possible to\\ndeal with that behavior.', 'start': 2845.84, 'duration': 2.85}, {'text': \"We have to implement a system\\nbecause we're engineers,\", 'start': 2848.69, 'duration': 2.34}, {'text': \"and we don't think that\\nwe've understood something\", 'start': 2851.03, 'duration': 2.16}, {'text': 'unless we can build it.', 'start': 2853.19, 'duration': 2.143}, {'text': \"And we've built such\\na system, and we're\", 'start': 2855.333, 'duration': 1.667}, {'text': 'about to demonstrate\\nit to you today.', 'start': 2857.0, 'duration': 1.542}, {'text': 'That would be an example of\\nenumerating a series of steps', 'start': 2858.542, 'duration': 3.498}, {'text': 'needed to realize the vision.', 'start': 2862.04, 'duration': 3.25}, {'text': 'So then blah, blah, blah,\\nblah, blah, blah, blah, blah.', 'start': 2865.29, 'duration': 3.99}, {'text': 'And then you conclude by--', 'start': 2869.28, 'duration': 1.97}, {'text': 'you conclude by enumerating\\nyour contributions.', 'start': 2871.25, 'duration': 3.3}, {'text': \"It's kind of mirror\\nof these steps.\", 'start': 2881.11, 'duration': 2.82}, {'text': \"And it helps to establish\\nthat you've done something.\", 'start': 2883.93, 'duration': 2.68}, {'text': \"So that's a kind of\\ngeneral purpose framework\", 'start': 2886.61, 'duration': 2.12}, {'text': 'for doing a technical talk.', 'start': 2888.73, 'duration': 3.45}, {'text': 'Now, only a few more\\nthings left to do today.', 'start': 2892.18, 'duration': 4.75}, {'text': 'Getting famous is the\\nnext item on our agenda', 'start': 2896.93, 'duration': 2.43}, {'text': \"because once you've\\ngot the job, you\", 'start': 2899.36, 'duration': 1.56}, {'text': 'need to think a\\nlittle bit about how', 'start': 2900.92, 'duration': 1.5}, {'text': \"you're going to be\\nrecognized for what you do.\", 'start': 2902.42, 'duration': 3.37}, {'text': 'So oh, first of all, why should\\nyou care about getting famous?', 'start': 2905.79, 'duration': 12.35}, {'text': 'I thought about\\nthis in connection', 'start': 2918.14, 'duration': 2.22}, {'text': 'with a fundraising\\nevent I attended', 'start': 2920.36, 'duration': 4.56}, {'text': 'once, a fundraising\\nevent for raising money', 'start': 2924.92, 'duration': 5.0}, {'text': 'to save Venice from going under\\nwater and having all of its art', 'start': 2929.92, 'duration': 2.76}, {'text': 'destroyed.', 'start': 2932.68, 'duration': 1.14}, {'text': 'Anyway, I was sitting here,\\nand JC was sitting here.', 'start': 2933.82, 'duration': 6.39}, {'text': 'That was Julia, the\\nlate Julia Child.', 'start': 2940.21, 'duration': 3.0}, {'text': 'And as the evening wore\\non, more and more people', 'start': 2948.19, 'duration': 2.76}, {'text': 'would come up and ask Julia\\nto autograph something', 'start': 2950.95, 'duration': 3.81}, {'text': 'or express a feeling that\\nshe had changed their life.', 'start': 2954.76, 'duration': 4.83}, {'text': 'And it just happened\\nover and over again.', 'start': 2959.59, 'duration': 3.79}, {'text': 'So eventually, I turned to\\nJulia, and I said, Ms. Child,', 'start': 2963.38, 'duration': 4.43}, {'text': 'is it fun to be famous?', 'start': 2967.81, 'duration': 2.347}, {'text': 'And she thought about\\nit for a second.', 'start': 2970.157, 'duration': 1.583}, {'text': 'And she said, you\\nget used to it.', 'start': 2971.74, 'duration': 3.012}, {'text': '[LAUGHTER]', 'start': 2974.752, 'duration': 1.148}, {'text': 'But you know what occured to me?', 'start': 2975.9, 'duration': 2.17}, {'text': 'You never get used\\nto being ignored.', 'start': 2978.07, 'duration': 3.52}, {'text': \"So it's-- here's a\\nway to think about it.\", 'start': 2981.59, 'duration': 3.65}, {'text': 'Your ideas are\\nlike your children.', 'start': 2985.24, 'duration': 1.86}, {'text': \"And you don't want them to\\ngo into the world in rags.\", 'start': 2987.1, 'duration': 3.27}, {'text': 'So what you want\\nto do is to be sure', 'start': 2990.37, 'duration': 1.5}, {'text': 'that you have these\\ntechniques, these mechanisms,', 'start': 2991.87, 'duration': 3.52}, {'text': 'these thoughts about how to\\npresent ideas that you have so', 'start': 2995.39, 'duration': 3.08}, {'text': \"that they're recognized for\\nthe value that is in them.\", 'start': 2998.47, 'duration': 3.81}, {'text': \"So that's why it's a legitimate\\nthing to concern yourself\", 'start': 3002.28, 'duration': 3.09}, {'text': 'with packaging.', 'start': 3005.37, 'duration': 2.64}, {'text': 'Now, how do you get remembered?', 'start': 3008.01, 'duration': 3.06}, {'text': \"Well, there's something I\\nlike to call Winston's star.\", 'start': 3011.07, 'duration': 3.65}, {'text': \"And every one of the items\\nI'm about to articulate starts\", 'start': 3014.72, 'duration': 5.41}, {'text': 'with an S. So if you want\\nyour presentation ideas', 'start': 3020.13, 'duration': 4.38}, {'text': 'to be remembered, one of\\nthe things you need to do', 'start': 3024.51, 'duration': 2.73}, {'text': 'is to make sure that you have\\nsome kind of symbol associated', 'start': 3027.24, 'duration': 5.58}, {'text': 'with your work.', 'start': 3032.82, 'duration': 1.77}, {'text': 'So this arch example is\\nactually from my PhD thesis', 'start': 3034.59, 'duration': 3.39}, {'text': 'many, many years ago.', 'start': 3037.98, 'duration': 1.8}, {'text': 'And in the course of\\nmy work at that time,', 'start': 3039.78, 'duration': 5.22}, {'text': 'this work on arch learning\\nbecame mildly famous,', 'start': 3045.0, 'duration': 2.82}, {'text': \"and I didn't know why.\", 'start': 3047.82, 'duration': 1.95}, {'text': 'It was only many years\\nlater that I realized', 'start': 3049.77, 'duration': 1.86}, {'text': 'that that work accidentally\\nhad all of the elements', 'start': 3051.63, 'duration': 3.03}, {'text': 'on this star.', 'start': 3054.66, 'duration': 1.56}, {'text': 'So the first element is that\\nthere was a kind of symbol.', 'start': 3056.22, 'duration': 3.69}, {'text': \"It's the arch itself.\", 'start': 3059.91, 'duration': 0.99}, {'text': 'Next thing you need is\\nsome kind of slogan,', 'start': 3065.51, 'duration': 4.97}, {'text': 'a kind of phrase that\\nprovides a handle on the work.', 'start': 3070.48, 'duration': 3.26}, {'text': 'And in this case, the phrase\\nwas one shot learning.', 'start': 3073.74, 'duration': 3.42}, {'text': 'And it was one shot\\nbecause the program I wrote', 'start': 3080.12, 'duration': 3.22}, {'text': 'learned something definite\\nfrom every example that', 'start': 3083.34, 'duration': 3.69}, {'text': 'was presented to us.', 'start': 3087.03, 'duration': 1.83}, {'text': 'So in going from a model\\nbased on this configuration', 'start': 3088.86, 'duration': 4.11}, {'text': \"to something that isn't an arch\\nbase on that configuration,\", 'start': 3092.97, 'duration': 2.97}, {'text': 'the program learned that\\nit has to be on top,', 'start': 3095.94, 'duration': 2.7}, {'text': 'one shot learning.', 'start': 3098.64, 'duration': 2.85}, {'text': \"So that's a symbol, slogan.\", 'start': 3101.49, 'duration': 3.72}, {'text': 'And now we need a surprise.', 'start': 3105.21, 'duration': 1.365}, {'text': \"Yeah, the surprise is you\\ndon't need a million examples\", 'start': 3111.33, 'duration': 2.96}, {'text': 'of something to learn.', 'start': 3114.29, 'duration': 1.62}, {'text': \"You can do it with\\none example if you're\", 'start': 3115.91, 'duration': 2.1}, {'text': 'smart enough to make use of\\nthat example appropriately.', 'start': 3118.01, 'duration': 4.17}, {'text': 'So that was the surprise.', 'start': 3122.18, 'duration': 1.05}, {'text': 'You can learn something\\ndefinite from each example.', 'start': 3123.23, 'duration': 3.93}, {'text': 'Next item was a salient idea.', 'start': 3127.16, 'duration': 1.68}, {'text': \"Now, when I say salient\\nidea, I don't mean important.\", 'start': 3133.28, 'duration': 3.505}, {'text': 'What I mean is an\\nidea that sticks out.', 'start': 3136.785, 'duration': 1.625}, {'text': 'Some theses, funnily enough,\\nhave too many good ideas,', 'start': 3141.26, 'duration': 2.82}, {'text': \"and you don't know what it's all\\nabout because which one is it?\", 'start': 3144.08, 'duration': 3.03}, {'text': 'So you need an idea\\nthat sticks out.', 'start': 3147.11, 'duration': 2.18}, {'text': 'And the idea that stuck out here\\nwas the notion of a near miss.', 'start': 3149.29, 'duration': 4.6}, {'text': \"You see, this is not an arch,\\nbut it doesn't miss by much.\", 'start': 3159.28, 'duration': 4.37}, {'text': \"So it's a near miss.\", 'start': 3163.65, 'duration': 1.84}, {'text': 'And finally, you need\\nto tell the story', 'start': 3165.49, 'duration': 5.43}, {'text': \"of how you did it, how it\\nworks, why it's important.\", 'start': 3170.92, 'duration': 5.24}, {'text': \"So that's a bit on how to\\nnot so much get famous,\", 'start': 3176.16, 'duration': 5.56}, {'text': 'but how to ensure that\\nyour work is recognized.', 'start': 3181.72, 'duration': 4.52}, {'text': \"Well, we're almost\\nfinished because now we're\", 'start': 3186.24, 'duration': 2.65}, {'text': 'down to this last item,\\nwhich is how to stop.', 'start': 3188.89, 'duration': 4.58}, {'text': \"And when we come\\nto that, there's\", 'start': 3193.47, 'duration': 1.528}, {'text': 'a question of all right,\\nwell, what is the final slide?', 'start': 3194.998, 'duration': 2.292}, {'text': 'And what are the final words?', 'start': 3202.412, 'duration': 1.208}, {'text': 'So for the final\\nslide, let me give you', 'start': 3210.61, 'duration': 2.22}, {'text': 'some examples of possibilities.', 'start': 3212.83, 'duration': 1.92}, {'text': 'How about this one?', 'start': 3217.588, 'duration': 0.792}, {'text': 'Well, you might see that\\nslide and think to yourself,', 'start': 3222.15, 'duration': 8.46}, {'text': 'there are 1,000 faculty at MIT.', 'start': 3230.61, 'duration': 3.12}, {'text': 'Nice piece of work,\\nbut not so much,', 'start': 3233.73, 'duration': 2.04}, {'text': \"but it's only a tiny piece of\\nwork if you divide by 1,000.\", 'start': 3235.77, 'duration': 5.28}, {'text': 'So when you show a whole\\ngigantic list of collaborators', 'start': 3241.05, 'duration': 2.76}, {'text': \"at the end of a talk,\\nit's a kind of let down\", 'start': 3243.81, 'duration': 3.57}, {'text': 'because it suggests\\nthat nobody knows.', 'start': 3247.38, 'duration': 1.77}, {'text': 'Well, did you do\\nanything significant?', 'start': 3249.15, 'duration': 3.5}, {'text': \"Now, you've got to recognize\\nyour collaborators, right?\", 'start': 3252.65, 'duration': 2.53}, {'text': 'So where do you do that?', 'start': 3255.18, 'duration': 1.79}, {'text': 'Not on the last slide,\\non the first slide.', 'start': 3256.97, 'duration': 2.907}, {'text': 'All this was on the first slide.', 'start': 3259.877, 'duration': 1.333}, {'text': \"These are the\\ncollaborators, so you don't\", 'start': 3261.21, 'duration': 2.053}, {'text': 'want to put them at the end.', 'start': 3263.263, 'duration': 1.167}, {'text': \"You don't want a\\nslide like this.\", 'start': 3264.43, 'duration': 1.375}, {'text': 'How about this one?', 'start': 3268.29, 'duration': 2.77}, {'text': 'This is the worst possible\\nway to end a talk.', 'start': 3271.06, 'duration': 1.99}, {'text': '[LAUGHTER]', 'start': 3273.05, 'duration': 1.65}, {'text': 'Because this slide can be\\nup there for 20 minutes.', 'start': 3274.7, 'duration': 4.71}, {'text': \"I've seen it happen.\", 'start': 3279.41, 'duration': 1.25}, {'text': 'It squanders real estate.', 'start': 3280.66, 'duration': 3.16}, {'text': 'It squanders an opportunity\\nto tell people who you are.', 'start': 3283.82, 'duration': 3.6}, {'text': \"It's just--\", 'start': 3287.42, 'duration': 0.78}, {'text': 'What about this one?', 'start': 3291.777, 'duration': 0.833}, {'text': 'I often see it.', 'start': 3296.78, 'duration': 1.02}, {'text': 'I never see anybody\\nwrite it down.', 'start': 3297.8, 'duration': 3.5}, {'text': 'Also, it wastes opportunity.', 'start': 3301.3, 'duration': 2.691}, {'text': 'Oh my God, even worse.', 'start': 3306.58, 'duration': 4.86}, {'text': 'All of these lines\\ndo nothing for you.', 'start': 3314.97, 'duration': 3.21}, {'text': 'They waste an opportunity\\nfor you to tell people--', 'start': 3318.18, 'duration': 3.66}, {'text': 'to leave people with what you--', 'start': 3321.84, 'duration': 1.89}, {'text': 'with who you are.', 'start': 3323.73, 'duration': 2.63}, {'text': 'Well, what about this?', 'start': 3326.36, 'duration': 2.64}, {'text': 'Is this a good one?', 'start': 3329.0, 'duration': 2.45}, {'text': \"It might seem so at first,\\nbut here's the problem.\", 'start': 3331.45, 'duration': 3.21}, {'text': 'If you say these\\nare my conclusions,', 'start': 3338.34, 'duration': 2.7}, {'text': 'these are perfectly\\nlegitimate conclusions', 'start': 3341.04, 'duration': 1.92}, {'text': 'that nobody cares about.', 'start': 3342.96, 'duration': 1.95}, {'text': 'What they care about\\nis what you have done.', 'start': 3344.91, 'duration': 2.647}, {'text': \"And that's why your\\nfinal slide should\", 'start': 3347.557, 'duration': 1.583}, {'text': 'have this label, contributions.', 'start': 3349.14, 'duration': 4.32}, {'text': \"It's a mirror of what I said\\nover there about how job talks\", 'start': 3353.46, 'duration': 3.05}, {'text': 'ought to be like a sandwich.', 'start': 3356.51, 'duration': 1.32}, {'text': \"And the final slide,\\nthe one that's\", 'start': 3357.83, 'duration': 1.63}, {'text': 'up there while people are\\nasking questions and filing out,', 'start': 3359.46, 'duration': 2.78}, {'text': 'it ought to be the one that\\nhas your contributions on it.', 'start': 3362.24, 'duration': 3.23}, {'text': \"Here's an example from\\nmy own stump speech.\", 'start': 3365.47, 'duration': 3.67}, {'text': 'Yeah, this is what\\nI talk about a lot.', 'start': 3369.14, 'duration': 3.88}, {'text': 'Yes, here are the things\\nthat I typically demonstrate.', 'start': 3373.02, 'duration': 3.892}, {'text': 'And I wait for\\npeople to read it.', 'start': 3381.16, 'duration': 1.986}, {'text': 'And the final element there is\\nthis is what we get out of it,', 'start': 3383.146, 'duration': 4.47}, {'text': \"so that's an example of\\na contribution slide.\", 'start': 3387.616, 'duration': 5.164}, {'text': 'All right, now, what\\nabout the other part?', 'start': 3392.78, 'duration': 4.89}, {'text': 'You got your final\\nslide up there.', 'start': 3397.67, 'duration': 2.07}, {'text': \"It's a contribution slide.\", 'start': 3399.74, 'duration': 1.41}, {'text': \"Somehow you have to tell\\npeople you're finished.\", 'start': 3401.15, 'duration': 3.28}, {'text': \"So let's see it, check\\nout a few possibilities.\", 'start': 3404.43, 'duration': 3.121}, {'text': 'One thing you could\\ndo in the final words', 'start': 3410.14, 'duration': 4.56}, {'text': 'is you could tell a joke.', 'start': 3414.7, 'duration': 1.3}, {'text': \"It's OK.\", 'start': 3419.84, 'duration': 2.392}, {'text': \"By the time you're done,\\npeople have adjusted themselves\", 'start': 3422.232, 'duration': 2.333}, {'text': 'to your voice parameters.', 'start': 3424.565, 'duration': 1.163}, {'text': \"They're ready for a joke.\", 'start': 3425.728, 'duration': 1.042}, {'text': 'I was sitting in another bar,\\nthis time in Austin, Texas', 'start': 3430.04, 'duration': 2.97}, {'text': 'with a colleague of\\nmine named Doug Lenat.', 'start': 3433.01, 'duration': 3.3}, {'text': \"And Doug's a fantastic speaker.\", 'start': 3436.31, 'duration': 2.57}, {'text': \"And so I said to\\nDoug, Doug, you're\", 'start': 3438.88, 'duration': 3.04}, {'text': \"a fantastic speaker,\\nwhat's your secret?\", 'start': 3441.92, 'duration': 2.94}, {'text': 'And he said, oh, I always\\nfinish with a joke,', 'start': 3444.86, 'duration': 4.58}, {'text': \"and that way, people think\\nthey've had fun the whole time.\", 'start': 3449.44, 'duration': 2.68}, {'text': '[LAUGHTER]', 'start': 3452.12, 'duration': 3.36}, {'text': 'So yeah, a joke will\\nwork down there.', 'start': 3455.48, 'duration': 4.06}, {'text': 'How about this one?', 'start': 3459.54, 'duration': 1.04}, {'text': 'Thank you.', 'start': 3470.77, 'duration': 0.5}, {'text': \"I don't recommend it.\", 'start': 3474.03, 'duration': 1.62}, {'text': \"It's a weak move.\", 'start': 3475.65, 'duration': 2.76}, {'text': 'You will not go to\\nhell if you conclude', 'start': 3478.41, 'duration': 1.92}, {'text': \"your talk by saying thank\\nyou, but it's a weak move,\", 'start': 3480.33, 'duration': 2.4}, {'text': \"and here's why.\", 'start': 3482.73, 'duration': 2.15}, {'text': 'When you say thank you, even\\nworse, thank you for listening,', 'start': 3484.88, 'duration': 3.58}, {'text': 'it suggests that\\neverybody has stayed', 'start': 3488.46, 'duration': 1.89}, {'text': 'that long out of politeness and\\nthat they had a profound desire', 'start': 3490.35, 'duration': 3.96}, {'text': 'to be somewhere else.', 'start': 3494.31, 'duration': 1.322}, {'text': \"But they're so polite,\\nthey stuck it out.\", 'start': 3495.632, 'duration': 1.708}, {'text': \"And that's what you're\\nthanking them for.\", 'start': 3497.34, 'duration': 3.09}, {'text': 'So once wild\\napplause has started,', 'start': 3500.43, 'duration': 1.56}, {'text': \"you can mouth a thank\\nyou, and there's\", 'start': 3501.99, 'duration': 2.25}, {'text': 'nothing wrong with that.', 'start': 3504.24, 'duration': 1.14}, {'text': 'But the last thing you do\\nshould not be saying thank you.', 'start': 3505.38, 'duration': 4.612}, {'text': \"Now, you say to me, well,\\ndoesn't everybody say\", 'start': 3509.992, 'duration': 1.958}, {'text': 'thank you?', 'start': 3511.95, 'duration': 1.62}, {'text': 'Well, what everybody does is\\nnot necessarily the right thing.', 'start': 3513.57, 'duration': 4.23}, {'text': 'And I like to illustrate\\nhow some talks can', 'start': 3517.8, 'duration': 2.31}, {'text': 'end without saying thank you.', 'start': 3520.11, 'duration': 1.47}, {'text': 'I like to draw from\\npolitical speeches,', 'start': 3521.58, 'duration': 3.63}, {'text': \"but the ones that I've heard\\nrecently aren't so good, so--\", 'start': 3525.21, 'duration': 2.746}, {'text': '[LAUGHTER]', 'start': 3527.956, 'duration': 2.284}, {'text': \"So I'm going to have to\\ngo go back a little bit.\", 'start': 3530.24, 'duration': 5.26}, {'text': 'So here is Governor Christie.', 'start': 3535.5, 'duration': 1.51}, {'text': 'He gave the Republican\\nkeynote address one year.', 'start': 3537.01, 'duration': 6.67}, {'text': 'This is the end of his talk.', 'start': 3543.68, 'duration': 1.36}, {'text': \"Let's see what he does.\", 'start': 3545.04, 'duration': 2.174}, {'text': '[APPLAUSE]', 'start': 3547.214, 'duration': 1.752}, {'text': 'CHRIS CHRISTIE: And together,\\neverybody, together.', 'start': 3548.966, 'duration': 2.954}, {'text': 'We will stand up once again\\nfor American greatness', 'start': 3551.92, 'duration': 4.14}, {'text': 'for our children\\nand grandchildren.', 'start': 3556.06, 'duration': 2.13}, {'text': 'God bless you, and\\nGod bless America.', 'start': 3558.19, 'duration': 2.393}, {'text': '[APPLAUSE]', 'start': 3560.583, 'duration': 2.658}, {'text': \"PATRICK WINSTON: So that's a\\nclassic benediction ending.\", 'start': 3563.241, 'duration': 4.019}, {'text': 'God bless you,\\nGod bless America.', 'start': 3567.26, 'duration': 3.36}, {'text': \"Now, I don't want to\\nbe partisan about this.\", 'start': 3570.62, 'duration': 1.99}, {'text': \"So I think I'd better switch\\nto the keynote address\", 'start': 3572.61, 'duration': 2.96}, {'text': 'in the Democratic Convention.', 'start': 3575.57, 'duration': 3.27}, {'text': 'It was delivered that year\\nby Bill Clinton, who knows', 'start': 3578.84, 'duration': 3.21}, {'text': 'something about how to speak.', 'start': 3582.05, 'duration': 2.96}, {'text': '[APPLAUSE]', 'start': 3585.01, 'duration': 1.37}, {'text': 'BILL CLINTON: If that\\nis what you want,', 'start': 3586.38, 'duration': 2.56}, {'text': 'if that is what you\\nbelieve, you must vote,', 'start': 3588.94, 'duration': 3.36}, {'text': 'and you must re-elect\\nPresident Barack Obama.', 'start': 3592.3, 'duration': 4.746}, {'text': 'God bless you, and\\nGod bless America.', 'start': 3597.046, 'duration': 1.542}, {'text': '[APPLAUSE]', 'start': 3598.588, 'duration': 1.473}, {'text': '[LAUGHTER]', 'start': 3600.061, 'duration': 3.928}, {'text': 'PATRICK WINSTON:\\nNow, watch this.', 'start': 3609.39, 'duration': 2.02}, {'text': \"Let's go back a little\\nbit and redo it.\", 'start': 3611.41, 'duration': 1.887}, {'text': 'What I want you to see\\nis that at one point,', 'start': 3613.297, 'duration': 1.833}, {'text': 'he seems to be almost pressing\\nhis lips together, forcing', 'start': 3615.13, 'duration': 3.3}, {'text': 'himself not to say thank you.', 'start': 3618.43, 'duration': 1.885}, {'text': \"Then there's another place\\nwhere he does a little salute.\", 'start': 3620.315, 'duration': 2.375}, {'text': 'So watch for those\\nthis time around.', 'start': 3622.69, 'duration': 2.094}, {'text': '[APPLAUSE]', 'start': 3624.784, 'duration': 0.866}, {'text': 'BILL CLINTON: If that\\nis what you want,', 'start': 3625.65, 'duration': 2.56}, {'text': 'if that is what you\\nbelieve, you must vote,', 'start': 3628.21, 'duration': 3.26}, {'text': 'and you must re-elect\\nPresident Barack Obama.', 'start': 3631.47, 'duration': 4.84}, {'text': 'God bless you., and\\nGod bless America.', 'start': 3636.31, 'duration': 2.16}, {'text': '[APPLAUSE]', 'start': 3638.47, 'duration': 1.155}, {'text': \"PATRICK WINSTON: That's\\nwhere he's pursing his lips.\", 'start': 3639.625, 'duration': 2.583}, {'text': '[LAUGHTER]', 'start': 3642.208, 'duration': 0.978}, {'text': \"There's the salute.\", 'start': 3643.186, 'duration': 1.956}, {'text': '[LAUGHTER]', 'start': 3645.142, 'duration': 4.313}, {'text': \"Yeah, I think\\nthat's pretty good.\", 'start': 3649.455, 'duration': 1.375}, {'text': 'Now, what are we gonna\\ntake away from this?', 'start': 3650.83, 'duration': 1.81}, {'text': 'Well, I suppose I could conclude\\nthis talk by saying God bless', 'start': 3652.64, 'duration': 5.27}, {'text': 'you, and God bless the\\nMassachusetts Institute', 'start': 3657.91, 'duration': 3.05}, {'text': 'of Technology, but it\\nmight not work so well.', 'start': 3660.96, 'duration': 3.772}, {'text': 'But what you can\\nget out of this is', 'start': 3664.732, 'duration': 1.458}, {'text': \"you don't have to say thank you.\", 'start': 3666.19, 'duration': 1.92}, {'text': 'There are other\\nthings you can do.', 'start': 3668.11, 'duration': 1.74}, {'text': \"And it's interesting that over\\ntime, people figure this out,\", 'start': 3669.85, 'duration': 3.21}, {'text': \"and there's some stock\\nways of ending things.\", 'start': 3673.06, 'duration': 2.67}, {'text': 'So in the Catholic church,\\nand the good old Latin mass,', 'start': 3675.73, 'duration': 5.45}, {'text': 'it ended with ite\\nmissa est, which', 'start': 3681.18, 'duration': 6.81}, {'text': 'translates approximately\\nto OK, the mass is over,', 'start': 3687.99, 'duration': 3.39}, {'text': 'you can go home now.', 'start': 3691.38, 'duration': 1.338}, {'text': '[LAUGHTER]', 'start': 3692.718, 'duration': 1.752}, {'text': 'And of course, at\\nmusical concerts,', 'start': 3694.47, 'duration': 2.97}, {'text': \"you know that it's time to clap\\nnot at the end of the song,\", 'start': 3697.44, 'duration': 4.79}, {'text': 'but rather when the conductor\\ngoes over and shakes hands', 'start': 3702.23, 'duration': 3.58}, {'text': 'with the concert master.', 'start': 3705.81, 'duration': 1.47}, {'text': 'Those are conventions that tell\\nyou that the event is over.', 'start': 3707.28, 'duration': 3.57}, {'text': 'So those are all\\npossibilities for here.', 'start': 3713.47, 'duration': 5.03}, {'text': 'But one more\\npossibility, and that', 'start': 3718.5, 'duration': 1.68}, {'text': 'is that you can\\nsalute the audience.', 'start': 3720.18, 'duration': 7.14}, {'text': 'And by that, I mean,\\nyou can say something', 'start': 3727.32, 'duration': 1.75}, {'text': 'about how much you value\\nyour time at a place.', 'start': 3729.07, 'duration': 3.99}, {'text': \"So I could say, well, it's\\nbeen great fun being here.\", 'start': 3733.06, 'duration': 6.94}, {'text': \"It's been fascinating to see\\nwhat you folks are doing here\", 'start': 3740.0, 'duration': 2.78}, {'text': 'at MIT.', 'start': 3742.78, 'duration': 1.41}, {'text': \"I've been much\\nstimulated and provoked\", 'start': 3744.19, 'duration': 3.345}, {'text': \"by the kinds of questions\\nyou've been asking,\", 'start': 3747.535, 'duration': 1.875}, {'text': \"it's been really great.\", 'start': 3749.41, 'duration': 1.39}, {'text': 'And I look forward\\nto coming back', 'start': 3750.8, 'duration': 2.58}, {'text': 'on many occasions in the future.', 'start': 3753.38, 'duration': 1.83}, {'text': 'So that salutes the audience.', 'start': 3755.21, 'duration': 1.483}, {'text': 'You can do that.', 'start': 3756.693, 'duration': 0.667}, {'text': 'Well, there it is.', 'start': 3760.67, 'duration': 1.85}, {'text': 'You know what?', 'start': 3762.52, 'duration': 2.74}, {'text': \"I'm glad you're here.\", 'start': 3765.26, 'duration': 1.68}, {'text': 'And the reason is\\nby being here, I', 'start': 3766.94, 'duration': 1.89}, {'text': 'think you have demonstrated\\nan understanding', 'start': 3768.83, 'duration': 2.76}, {'text': 'that how you present and how\\nyou package your ideas is', 'start': 3771.59, 'duration': 3.18}, {'text': 'an important thing.', 'start': 3774.77, 'duration': 1.74}, {'text': 'And I salute you for that.', 'start': 3776.51, 'duration': 1.503}, {'text': '[LAUGHTER] And I suggest that\\nyou come back again and bring', 'start': 3778.013, 'duration': 5.487}, {'text': 'your friends.', 'start': 3783.5, 'duration': 2.49}, {'text': '[APPLAUSE]', 'start': 3785.99, 'duration': 3.35}]\n",
      "chunked_transcript, [(0, \"PATRICK WINSTON: The Uniform\\nCode of Military Justice specifies court martial for\\nany officer who sends a soldier into battle without a weapon. There ought to be a similar\\nprotection for students because students\\nshouldn't go out into life without the\\nability to communicate, and that's because\\nyour success in life will be determined largely\\nby your ability to speak, your ability to write, and\\nthe quality of your ideas, in that order. I know that I can be\\nsuccessful in this because the quality\\nof communication, your speaking, your\\nwriting, is largely determined by this formula. It's a matter of how\\nmuch knowledge you have, how much you practice\\nwith that knowledge, and your inherent\\ntalent, and notice that the T is very small. What really matters\\nis what you know. This point came to me suddenly\\na few decades ago when I was skiing at Sun Valley. I had heard that it was\\nCelebrity Weekend, and one of the celebrities\\nwas Mary Lou Retton, famous Olympic gymnast,\\nperfect 10s in the vault. And I heard that she\\nwas a novice at skiing, so when the opportune\\nmoment arrived, I looked over on\\nthe novice slope and saw this young woman who,\\nwhen she became unbalanced, went like that. And I said that's got to be her. That must be the gymnast. But then, it occurred to\\nme, I'm a much better skier than she is, and she's an\\nOlympic athlete-- not only an ordinary Olympic\\nathlete, an outstanding one.\"), (123.23, \"And I was a better skier because\\nI had the K, and I had the P, and all she had\\nwas the T. So you can get a lot better\\nthan people who may have inherent\\ntalents if you have the right amount of knowledge. So that's what my objective is\\ntoday, and here's my promise. Today, you will\\nsee some examples of what you can put in your\\narmamentarium of speaking techniques, and it\\nwill be the case that some one of those examples,\\nsome heuristic, some technique, maybe only one, will make-- will be the one that\\ngets you the job. And so this is a very\\nnon-linear process. You never know when\\nit's going to happen, but that is my promise. By the end of the\\nnext 60 minutes, you'll have been exposed to\\na lot of ideas, some of which you'll incorporate into\\nyour own repertoire, and they will ensure that you\\nget the maximum opportunity to have your ideas\\nvalued and accepted by the people you speak with. Now, in order to\\ndo that, we have to have a rule of\\nengagement, and that is no laptops, no cell phones. So if you could\\nclose those, I'll start up as soon as you're done. Some people ask why that\\nis a rule of engagement, and the answer\\nis, we humans only have one language processor. And if your language\\nprocessor is enga-- could you shut the\\nlaptop, please? If your language processor\\nis engaged browsing the web or reading your email,\\nyou're distracted. And worse yet, you distract\\nall of the people around you. Studies have shown that. And worse yet, if I see a\\nopen laptop somewhere back there or up here, it drives\\nme nuts, and I do a worse job. And so that ensures\\nthat all of your friends\"), (244.71, \"who are paying attention\\ndon't get the performance that they came to have. So that's it for preamble. Let's get started. First thing we talk about,\\nof course, is how to start. Some people think\\nthe right thing to do is to start a talk with a joke. I don't recommend\\nit, and the reason is that, in the\\nbeginning of a talk, people are still putting\\ntheir laptops away. They're becoming adjusted\\nto your speaking parameters, to your vocal parameters, and\\nthey're not ready for a joke. So it doesn't work very well. They usually fall flat. What you want to do instead is\\nstart with empowerment promise. You want to tell\\npeople what they're going to know at\\nthe end of the hour that they didn't know at\\nthe beginning of the hour. It's an empowerment promise. It's the reason for being here. What would be an example? Oh, I see. At the end of this 60\\nminutes, you will know things about speaking you\\ndon't know now, and something among\\nthose things you know will make a difference\\nin your life. Yeah, that's an\\nempowerment promise, so that's the best way to start. So now that I've talked a\\nlittle bit about how to start, what I want to do is give you\\nsome samples of heuristics that are always on my\\nmind when I give a talk, and first of these heuristics is\\nthat it's a good idea to cycle on the subject. Go around it. Go round it again. Go round it again. Some people say, tell him\\nwhat you want to tell him.\"), (365.9, \"Tell him again, and then\\ntell him a third time, as if people\\nweren't intelligent. But the point is-- the reason is-- well, there\\nare many reasons, one of which is, at any given\\nmoment, about 20% of you will be fogged out no\\nmatter what the lecture is. So if you want to ensure that\\nthe probability that everybody gets it is high, you need\\nto say it three times. So cycling is one of\\nthe things that I always think about when I give a talk. Another thing I think about\\nis, in explaining my idea, I want to build a fence around\\nit so that it's not confused with somebody else's idea. So if you were from Mars,\\nand I was teaching you about what an arch is,\\nI might say to you, well, that's an arch. And that's not to be confused\\nwith some other things that other people\\nmight think is-- this is not an arch. That's not an arch. I'm building a\\nfence around my idea so that it can be distinguished\\nfrom somebody else's idea. So in a more technical\\nsense, I might say, well, my algorithm might similar-- might seem similar\\nto Jones's algorithm, except his is exponential,\\nand mine's linear. That's putting a\\nfence around your idea so that people can not\\nbe confused about how it might relate to something else. The third thing on\\nthis list of samples is the idea of\\nverbal punctuation. And the idea here is\\nthat, because people will occasionally fog out and\\nneed to get back on the bus, you need to provide some\\nlandmark places where you're announcing that it's\\na good time to get back on. So I might, in this\\ntalk, say something about this being my outline. The first thing we're going to\\ndo is talk about how to start.\"), (489.03, \"Then we're going to deal\\nwith these four samples, and among these\\nfour samples, I've talked about the first\\nidea-- that's cycling. The second idea,\\nbuilding-- and now, the third idea is\\nverbal punctuation. So I'm enumerating\\nand providing numbers. I'm giving you a sense that\\nthere's a seam in the talk, and you can get back on. So now, we're on a roll,\\nand since we're on a roll, can you guess what fourth\\nidea might be here-- an idea that helps people\\nget back on the bus? AUDIENCE: Ask a question. PATRICK WINSTON: Yes? AUDIENCE: Ask a question. [INAUDIBLE] PATRICK WINSTON:\\nAsk a question, yes. Thank you. So ask a question. And so I will ask a question--\\nhow much dead air can there be? How long can I pause? I counted seven seconds. It seemed like an eternity to\\nme to wait and not say anything for seven seconds, but that's\\nthe standard amount of time you can wait for an answer. And of course, the question\\nhas to be carefully chosen. It can't be too obvious\\nbecause then people will be embarrassed to say\\nit, but the answers can't be too hard because then nobody\\nwill have anything to say. So here are some\\nsample heuristics you can put in\\nyour armamentarium and build up your repertoire\\nof ideas about presentation. And now, if this\\npersuades you that there is something to know,\\nthat there is knowledge, then I've already succeeded\\nbecause what I want to convince you of, is if you watch the\\nspeakers you admire and feel are effective,\\nand ask yourselves why they're successful,\\nthen you can build up your own\\npersonal repertoire and develop your\\nown personal style. And that's my\\nfundamental objective,\"), (610.83, \"and the rest of this\\ntalk is about some of the things that are\\nin my armamentarium that I think are effective. So next thing on\\nour agenda, as we start to discuss\\nthese other things, is a discussion\\nof time and place. So what do you think is a\\ngood time to have a lecture? 11 AM? Yeah. And the reason is most people\\nat MIT are awake by then, and hardly anyone has\\ngone back to sleep. It's not right after a meal. People aren't fatigued\\nfrom this or that. It's a great time\\nto have a lecture. So that brings me, next,\\nto the question of what about the place? And the most important\\nthing about the place is that it be well lit. This room is well lit. Problem with other kinds\\nof rooms is that we humans, whenever the lights\\ngo down, or whenever the room is dimly\\nlighted, it signals that we should go to sleep. So whenever I go\\nsomewhere to give a talk, even today, the\\nfirst thing I do when I speak to the\\naudio-visual people is say, keep the lights full up. Oh, they might reply, people\\nwill see the slides better if we turn the lights\\noff, and then I reply, it's extremely hard to see\\nslides through closed eyelids. What else can you\\nsay about the place? Well, the place\\nshould be cased, and I mean that in a colloquial\\nsense, of like if you're robbing a bank, you\\nwould go to the bank some occasions before\\nto see what it's like, so there are no surprises\\nwhen you do your robbery.\"), (733.17, \"So whenever I go\\nsomewhere to speak, the first thing I ask my host\\nto do is to take me to the place where I'll be speaking so that\\nif there are any weirdnesses, I'll be able to deal with it. Sometimes, it might\\nrequire some intervention. Sometimes, it just might\\nrequire me to understand what the challenges are. So when I came\\nhere this morning, I did what I typically do. I imagined that\\nall the seats were filled with disinterested\\nfarm animals, and that way, I knew that,\\nno matter how bad it was, it wouldn't be as bad as that. So finally, it should\\nbe reasonably-- it should be\\nreasonably populated. It should be the case that-- if there were 10\\npeople in this hall, everyone would be\\nwondering, what's going on that's so much more\\ninteresting that nobody's here. So you want to get a\\nright sized place that's-- doesn't have to\\nbe packed, but it has to be more than half full. So those are some thoughts\\nabout a time and place. Next thing I want to\\ntalk about is a subject of boards and props and slides. Well, these are the\\ntools of the trade. I believe that this is the\\nright tool for speaking when your purpose is informing. The slides are good when\\nyour purpose is exposing, but this is what I use when I'm\\ninforming, teaching, lecturing, and there's several\\nreasons why I use it. For one thing, when\\nyou use the board, you have a graphic quality. It's the case that, when\\nyou have a board, then\"), (854.44, \"you can easily exploit the\\nfact that you can use graphics in your presentation. So that's the graphic quality\\nthat I like, and the next thing I like is the speed property. The speed with which you\\nwrite on the blackboard is approximately the speed at\\nwhich people can absorb ideas. If you go flipping\\nthrough a bunch of slides, nobody can go that fast. Finally, one great\\nproperty of a board is that it can be a target. Many people who are\\nnovices at speaking find themselves suddenly\\naware of their hands. It's as if their hands were\\nprivate parts that shouldn't be exposed in public, so right\\naway, they go into the pockets, and this is considered insulting\\nin some parts of the world. Or alternatively,\\nmaybe the hands will go in back like this. I was once in a convent\\nin Serbia, and my host-- as soon as we entered,\\na nun came up to us and offered us a refreshment. And I was about to\\nsay, no, thank you, and he said, eat\\nthat stuff or die. It's a question of local\\ncustom and politeness. But then before\\nanything happened there, the nun pulled my\\nhands out like this because it was extraordinarily\\ninsulting in that culture to have your hands\\nbehind your back. So why is that? Well, it's usually\\nsupposed that that's that it has to do with whether\\nyou're concealing a weapon. So if your hands are in your\\npockets or behind your back, then it looks like you\\nmight have a weapon, and that's what I\\nmean by the virtue-- one of these virtues\\nof the board. Now, you have something\\nto do with your hands.\"), (975.5, \"You can point out the stuff. I was once watching Seymour\\nPapert give a lecture, and I thought it was terrific. So I went a second time-- first time to absorb\\nthe content, second time to note style. And what I discovered is\\nthat Papert was constantly pointing at the board. And then I thought\\nabout it a little while, and I noted that none of\\nthe stuff he was pointing to had anything to do with\\nwhat he was saying. Nevertheless, it was\\nan effective technique. So that's just a little\\nbit about the virtue of blackboards. Now, I want to talk about props. The custodians of\\nknowledge about props are the playwrights. Many decades ago, I saw\\na play by Henrik Ibsen. It was Hedda Gabler. I remember vaguely that it was\\nabout a woman in an unhappy marriage, and her husband was in\\ncompetition for an academic job with somebody else. And he was going to lose\\npartly because he was boring, and partly because the\\ncompetitor had just written a magnificent book. By the way, this\\nis back in the days before there were copying\\nmachines and computers. Anyhow, as the play opens,\\nthere's a potbellied stove, and in the beginning\\nof the play, the potbelly stove,\\nwith its open door, just has some slightly\\nglowing embers. But the potbellied\\nstove is always there, and as tension\\nmounts in the play, and you see this\\nmanuscript, this prop that Ibsen so artfully\\nused, you just know that something's\\ngoing to happen, because as the play goes on,\\nthe fire gets bigger and hotter and finally all\\nconsuming, and you just\"), (1095.75, \"know that that manuscript is\\ngoing to go into that fire. This memorable thing is what\\nI remember about the play. So playwrights have got\\nthis all figured out, but on the other hand,\\nthey're not the only people who can use props. Here's an example of\\nthe use of a prop, also due to Seymour Papert. He was talking about how\\nit's important to look at the problem in the\\nright way, and here's an example that not only teaches\\nthat, but makes it possible for you to embarrass\\nyour friends in mechanical engineering. So here's what you do. Take a bicycle wheel, and\\nyou start it spinning. And then you put some\\ntorque on the axle, or equivalently, you\\nblow on the edge. And the issue is,\\ndoes it go that way, or does it go that way? Now, the mechanical engineers\\nwill immediately say, oh, yes, I see-- right hand screw wheel. And they'll put their\\nfingers in this position, but forget exactly how\\nto align their fingers with the various\\naspects of the problem. And so it's usually the\\ncase that they get it right with about a 50% probability. So their very fancy\\neducation gets them up to the point where they're\\nequivalent to flipping a coin. But it doesn't\\nhave to be that way because you can think about the\\nproblem a little differently. So here's what you do. You take some duct\\ntape, and you put it around the part of\\nthe wheel like that. And now, you start to think\\nabout, not the whole wheel, but just a little piece that's\\nunderneath the duct tape. So here, that piece comes\\nrolling over the top, and at this point, you blow\\non it with a puff of air. Forgetting about the\\nrest of the wheel, what happens to that\\nlittle piece that's under the duct tape? It must want to go\\nthat way because you banged on it like that.\"), (1217.04, \"It's already going\\ndown like that. And what about the next piece? Same thing. Next piece? Same thing. So the only thing\\nthat can happen is that the wheel\\ngoes over like that. And so now, you'll\\nnever wonder again because you're thinking about\\nthe problem in the right way, and it's demonstrated\\nby the use of a prop. You can try this\\nafter we're done. Another example I\\nlike to remember is one from when\\nI was taking 8.01. Alan Lazarus was the\\ninstructor at the time, and he was talking about the\\nconservation of energy, kinetic and potential. And there was a long wire in\\na ceiling in 26-100 attached to a much bigger\\nsteel ball, but one-- not one like this. And Lazarus took the ball up\\nagainst the wall like this. He put his head flat against\\nthe wall to steady himself, and then he let go,\\nand the pendulum takes many seconds\\nto go over and back, and then gently\\nkisses Lazarus's nose. And so you have many\\nseconds to think, this guy really believes in\\nthe conservation of energy. Do not try this at home. The problem is that, the\\nfirst time you do this, you may not just let go. There's a natural\\nhuman tendency to push. So that's a little bit\\non a subject of props.\"), (1344.612, \"It's interesting. Whenever surveys are taken,\\nstudents always say more chalk, less PowerPoint. And why would that be? Props are also very effective. Why would that be? I'll give you my lunatic\\nfringe view on this. It has to do with what I would\\ncall empathetic mirroring. When you're sitting up there\\nwatching me write on the board, all those little mirror neurons\\nin your head, I believe, become actuated, and\\nyou can feel yourself writing on the blackboard. And even more so, when I talk\\nabout this steel ball going that way and this way,\\nyou can feel the ball as if you were me, and you\\ncan't do that with a slide. You can't do it with a picture. You need to see it in\\nthe physical world. That's why I think that-- oh, yes, of course, it's-- there are speed\\nquestions involved, too, that have to be separated out. But I think the\\nempathetic mirroring is why props and the use of a\\nblackboard are so effective. Well, let's see-- oh, yes,\\nthere is one more thing by way of the\\ntools, and that has to do with the use of slides. I repeat, I think they're\\nfor exposing ideas, not for teaching ideas, but\\nthat's what we do in a job talk or conference talk-- expose ideas. We don't teach them. So let me tell you a little\\nbit about my views on that. I remember, once, I was in\\nTerminal A at Logan Airport.\"), (1469.06, \"I'd just come back from a\\nreally miserable conference, and the flight was\\nreally horrible. It was one of those that feels\\nlike an unbalanced washing machine. And for the only\\ntime in my life, I decided to stop on my way to\\nmy car and have a cup of coffee and relax a little bit. And as I was there for a few\\nminutes, someone came up to me and said, are you\\nProfessor Winston? I think so, I said. I don't know. I guess I was\\ntrying to be funny. In any event, he said,\\nI'm on my way to Europe to give a job talk. Would you mine\\ncritiquing my slides? Not at all, I said. You have too many, and\\nthey have too many words. How did you know, he\\nsaid, thinking perhaps I had seen a talk of his before. I hadn't. My reply was, because\\nit's always true. There are always too many\\nslides, always too many words. So let me show you some extreme\\nexamples of how not to use slides. Well, for this demonstration,\\nI need to be way over here and when I get over here, then\\nI can start to say things like, one of the things you shouldn't\\ndo is read your transparencies. People in your audience\\nknow how to read, and reading will\\njust annoy them. Also, you should\\nbe sure that you have only a few words\\non each transparency, and that the words\\nare easy to read. And I hope I'm driving\\nyou crazy because I'm committing all kinds of\\ncrimes, the first of which is that there are too\\nmany words on the slide. Second of which is,\\nI'm way over there, and the slide's way over there. So you get into this\\ntennis match feeling of shifting back and\\nforth between the slide and the speaker. You want the slides to\\nbe condiments to what you're saying, not the main\\nevent or the opposite way\"), (1589.73, \"around. So how can we fix this? Step number one is to get\\nrid of the background junk. That's always distraction. Step number two is to\\nget rid of the words. When I reduced the\\nwords to these, then everything I\\nread a previous time, I'm not licensed to say,\\nbecause it's not on the slide. I'm not reading\\nmy slides anymore, but I'm saying what was\\nwritten on the slides in a previous example. So what else can we\\ndo to simplify this? Well, we can get\\nrid of the logos. We don't need them. Simplification. What else can we do? Get rid of the title. Now, I want to talk to you\\nabout some rules for slide preparation. I'm telling you the title. It doesn't have to be up there. By reducing the number\\nof words on the slide, I'm allowing you to pay\\nmore attention to me and less to what's\\nwritten on the slide. I mentioned it before--\\nwe-- have only one language processor, and we can\\neither use it to read stuff or to listen to the speaker. And so if we have too\\nmany words on the slide, it forces people in the\\naudience to read this stuff and not listen. A student of mine did an\\nexperiment a few years ago. He taught some students some\\nweb-based programming ideas. Half the information was on\\nslides, he said the other half, and then for a control\\ngroup, he reversed it. And the question was,\\nwhat did the subjects-- that is to say, freshmen\\nat his fraternity-- what did the subjects\\nremember best, what he said, or what they read on the slide? And the answer is, what\\nthey read on the slide. When their slides have\\na lot of material on it, they don't pay attention\\nto the speaker.\"), (1710.11, \"In fact, in the after action\\nreport, one of the subjects said, I wish you\\nhadn't talked so much. It was distracting. Well, the last item\\nis eliminate clutter. Here's some clutter. No reason even\\nfor those bullets. So the too many words\\nproblem is a consequence of a crime Microsoft\\nhas committed by allowing you to use\\nfonts that are too small. So you should all have\\na sample slide like this that you can use to determine\\nwhat the minimum font size is that's easily legible. [INAUDIBLE],, what do\\nyou think of those? AUDIENCE: Which size is right? PATRICK WINSTON: What's that? AUDIENCE: Did you ask\\nme what size is right? PATRICK WINSTON:\\nYeah, minimum, maybe. AUDIENCE: 40 or 50. PATRICK WINSTON: Yeah,\\nhe says 40 or 50. I think that's about right. 35 is beginning to get\\ntoo small, not necessarily because you can't read it,\\nbut because you're probably using it to get too\\nmany words on the slide. What other crimes do we have? Well, we have the\\nlaser pointer crime. And for that-- in\\nthe old days, when we didn't have laser\\npointers, we used wooden ones, and people would go waving\\nthese things around. And pretty soon it became almost\\nlike a baton twirling contest, so here's what I\\nrecommended in the old days for dealing with\\nthis kind of pointer. This is an example\\nof use of a prop. Jim Glass up there saw this\\ntalk about 20 years ago, and said, oh, yeah,\\nI remember that talk. That's the one where\\nyou broke the pointer. It's amazing how\\nprops tend to be the things that are remembered. Well, now, we don't have\\nphysical pointers anymore.\"), (1832.215, \"We've got laser pointers. It's a wonder more people aren't\\ndriven into epileptic fits over this sort of stuff. Well, here's what\\ntends to happen. Look at that. It's a lovely recursive picture,\\nand I can become part of it by putting that laser beam\\nright on the back of my head up there. Then what do you see? You see the back of my head. I have no eye contact,\\nno engagement, nothing. I was sitting with a student\\nwatching a talk one day, and she said, you know\\nwhat, we could all leave, and he wouldn't know. So what happens when\\nyou use a laser pointer? You can't use a laser pointer\\nwithout turning your head and pointing it at something,\\nand when you do that, you lose contact\\nwith the audience. You don't want to do it. So what do you do if you\\nneed to identify something in your image,\\nand you don't want to point at it with a laser? This is what you do. Put a little arrow\\non there and say, now, look at that guy at\\nthe end of arrow number one. You don't need to have\\nlaser pointer to do that. The too-heavy\\ncrime-- when people ask me to review\\na presentation, I ask them to print it out\\nand lay it out on a table. When they do that, it's easy\\nto see whether the talk is too heavy, too much\\ntext, not enough air, not enough white space,\\nnot enough imagery. This is a good example\\nof such a talk-- way too heavy. The presenter has taken\\nadvantage of a small font sizes to get as much on the\\nslide as he wanted. Lots of other crimes here,\\nbut the too-heavy-- the fact that it's too heavy is what\\nI wanted to illustrate.\"), (1953.8, \"So here, by contrast,\\nanother talk-- one I gave a few years ago. It's not-- it wasn't a\\ndeeply technical talk, but I show it to you\\nbecause there's air in it. It's mostly pictures of things. There are three or four\\nslides that have text on them, but when I come to those, I give\\nthe audience time to read them. And they're there\\nbecause they might have some historical significance. The first slide with\\na lot of text on it is an extraction from the 1957-- from the proposal for the 1957\\nAI conference at Dartmouth. Extraordinarily\\ninteresting event, and that historical\\nextraction from the proposal helps drive that point home. What else have we got here? Oh, yeah, your vocabulary\\nword for the day. This is an hapax legomenon. What that means is, this\\nis the kind of slide you can get away with exactly\\nonce in your presentation. This is a slide that got\\nsome currency some years ago because it shows the\\ncomplexity of governing in Afghanistan by showing\\nhow impossibly complex it is. It's something you in the\\naudience can't understand, and that's the point, but\\nyou can't have many of these. You can have one per work,\\none per presentation, one per paper, one per book. That's what hapax legomenon is,\\nand this is an example of it. Well, I've shown\\nyou some crimes. So you might be asking, do\\nthese crimes actually occur? So they do. [LAUGHTER] There's the hands in\\nthe pockets crime. There's a crime and time\\nand place selection here. This is how you get\\nto the Bartos Theater.\"), (2075.837, \"First thing you do is\\nyou get on these steps over at the Media Lab, then you\\ncross this large open space, then you turn right\\ndown this corridor. [LAUGHTER] At this point,\\nwhenever I go in there, I wonder if there are torture\\nimplements around the corner. [LAUGHTER] And then when you\\nget in there, you get into this\\ndark, gloomy place. So it's well named when they\\ncall it the Bartos Theater because it's a place where\\nyou can watch a movie, but it's not a place\\nwhere you can give a talk. Now, on a subject\\nof does it happen, here's a talk I attended\\na while back in Stata. Notice that the speaker is\\nfar away from the slides. Speaker's using a laser pointer. And you say to me, well,\\nwhat's happening here? It's, by the way,\\nthe 80th - 80th! slide of the presentation. Notice that it extends\\nwith the words, this is the first of\\n10 conclusions slides. [LAUGHTER] So what's the audience reaction? That's the sponsor\\nof the meeting. [LAUGHTER] He's reading his email. This is the co-sponsor\\nof the meeting. He's examining the lunch menu. [LAUGHTER] What about this person? This person looks like\\nhe's paying attention, but just because\\nit's a still picture. If you were to see a\\nvideo, what you would see is something like this [YAWNS]. [LAUGHTER] So yeah, it does happen. Well, now, that's a\\nquick review of tools. Now, I want to talk\\nabout some special cases. We could talk a little\\nbit about the informing or to say another way,\\ndoing what I'm doing now.\"), (2198.01, \"But I'll just say a\\nfew words about that. In that kind of\\npresentation, you want to start with a promise\\nlike I did for this hour that we're going through now. And then it comes\\nto the question of how do you inspire people? I've given this talk\\nfor a long time, and a few years ago,\\nour department chairman said, would you please give\\nthis talk to a new faculty, and be sure to emphasize what\\nit takes to inspire students. And strangely, I hadn't thought\\nabout that question before. So I started a survey. I'd talked to some of my\\nincoming freshmen advisees, and I talked to senior\\nfaculty and everything in between about how\\nthey've been inspired. What I found from\\nthe incoming freshmen is that they were inspired by\\nsome high school teacher who told them they could do it. What I found in\\nthe senior faculty, they were inspired\\nby someone who helped them see a\\nproblem in a new way. And what I saw from everyone\\nis that they were inspired when someone exhibited passion\\nabout what they were doing, exhibited passion about\\nwhat they were doing. So that's one way\\nto be inspiring. It's easy for me because I\\ndo artificial intelligence. And how can you\\nnot be interested in artificial intelligence? [LAUGHTER] I mean, if you're not interested\\nin artificial intelligence, you're probably not interested\\nin interesting things. So when I'm lecturing in my\\nAI class, it's natural for me to talk about what\\nI think is cool and how exciting\\nsome new idea is. So that's the kind of\\nexpression of passion that makes a difference\\nwhile informing with respect to this question of inspiring.\"), (2319.96, \"Oh, yeah and of course,\\nduring this promise phase, you can also express\\nhow cool stuff is. Let me give you an example of\\na lecture that starts this way. I'm talking about\\nresource allocation. It's the same sort of stuff\\nyou would think of when your-- it's the same sort\\nof ideas you would need if you're allocating\\naircraft to a flight schedule or trying to schedule a\\nfactory or something like that. But the example\\nis putting colors on the states in\\nthe United States without any bordering states\\nhaving the same color. So here it goes. This is what I show at the\\nbeginning of the class. This is a way of\\ndoing that coloring. And you might say, well, why\\ndon't we wait till it finishes? Would you like to do that? No? Well, we're not going\\nto wait till it finishes because the sun will have\\nexploded and consumed the earth before this program finishes. [LAUGHTER] But with a slight adjustment\\nto how the program works, which I tell my students you will\\nunderstand in the next 50 minutes, this is what you get. Isn't that cool? You got to be\\namazed by stuff that takes a computation from\\nlonger than the lifetime of the solar system\\ninto a few seconds. So that's what I mean by\\nproviding a promise upfront and expressing some\\npassion about what you're talking about. Well, the last item\\nin this little block here is it has to\\ndo with what people think that they do it at MIT. You ask faculty what the\\nmost important purpose is, and they'll say, well, the\\nmost important thing I do is teach people how to think. And then you say\\noh, that's great. How do you teach\\npeople how to think? Blank stare. No one can quite\\nrespond to that part, that natural next question.\"), (2440.693, \"So how do you teach\\npeople how to think? Well, I believe that we\\nare storytelling animals. And that we start\\ndeveloping our story, understanding and\\nmanipulating skills with fairy tales in\\nchildhood and continue on through professional schools\\nlike law, business, medicine, everything. And we continue doing\\nthat throughout life. So if that is what\\nthinking is all about. And we want to teach\\npeople how to think, you provide them with the\\nstories they need to know, the questions they need to\\nask about those stories, mechanisms for\\nanalyzing those stories, ways of putting\\nstories together, ways of evaluating how\\nreliable a story is. And that's what I think you\\nneed to do when you teach people how to think. But that's all about education. And many of you here\\nare not necessarily for that, but rather\\nfor this part, for persuading, which breaks\\ndown into several categories, oral exams, not shown,\\nshop talks, getting famous. I won't say much about oral\\nexams other than the fact that they used to be a lot\\nscarier than they are today. In the old days,\\nreading the literature in a foreign language\\nwas a part of that. And there was a\\nhigh failure rate. And when you look back\\non those failures, the most usual reason for\\npeople failing an oral exam is failure to situate and\\na failure to practice. By situate, I mean,\\nit's important to talk about your research in context. This is a problem that's being\\npursued all over the world. There hasn't been any progress\\nbefore me in the past 30 years. Everyone is looking\\nfor a solution because it will\\nhave impact on so many other things, such\\nsituating and time and place and feel. And then as far as\\npractice is concerned, yes,\"), (2561.97, \"practice is important. But that doesn't mean showing\\nyour slides to the people you share an with. The problem with that is that if\\npeople know what you're doing, they will hallucinate\\nthat there's material in your\\npresentation that isn't there if it isn't there. A variation on the\\nscene, by the way, is your faculty supervisor\\nis not a very good person to help you debug a talk\\nbecause they, in fact, know what you're doing. And they will, in\\nfact, hallucinate there's material in your\\npresentation that isn't there. So you need to get together\\nwith some friends who don't know what you're\\ndoing and have them-- well, you start the\\npractice session by saying, if you can't make me cry,\\nI won't value as a friend anymore. [LAUGHTER] And then when you get to\\nthe faculty on a oral exam, it will be easy. You see, difficulty--\\nthe amount of flak you'll get from somebody\\nis proportional to age. The older somebody\\nis, the more they understand where they\\nare in the world. But the young people are\\ntrying to show the old people how smart they are, so\\nit's subtly vicious. So whenever you\\nhave an opportunity to have an examining\\ncommittee that's full of people with gray\\nhair, that's what you want. Well, that's just a word\\nor two about something I haven't listed here. Let's get into the\\nsubject of job talks. So I was sitting in a bar\\nmany years ago in San Diego. I was a member of the\\nNavy Science Board, and I was sitting with a couple\\nof my colleagues on the board Delores Etter from the\\nUniversity of Colorado. She made me so jealous I could\\nspit because she'd written 21 books, and I'd only written 17. And then the other\\none was Bill Weldon from the University of Texas. He was an electromagnetism\\nguy, and he knew how to use rail guns to\\ndrive steel rods through tank\"), (2685.03, \"armor. These were interesting people. So I said, what do you look\\nfor in a faculty candidate? And within one\\nmicrosecond, Delores said, they have\\nto show us they've got some kind of vision, quickly\\nfollowed by Bill who said, they have to show us that\\nthey've done something. Oh, that sounds good, I said. And then I said\\nto them, how long does a candidate have to\\nestablish these two things? What do you think? Well, compare your\\nanswer to theirs. Five minutes. So if you haven't\\nexpressed your vision, if you haven't told people that\\nyou've done something in five minutes, you've already lost. So you have to be\\nable to do that. And let me just mention a couple\\nof things in that connection. Here, the vision is\\nin part, a problem that somebody cares about and\\nsomething new in your approach. So the problem is\\nunderstanding the nature of human intelligence. And the approach\\nis asking questions about what makes us\\ndifferent from chimpanzees and Neanderthals. Is it merely a\\nmatter of quantity, or we're just a little bit\\nsmarter in some continuous way? Or do we have something\\nthat's fundamentally different that chimpanzees don't have\\nand Neanderthals either? And the answer is yes, we\\ndo have something different. We are symbolic creatures. And because we're\\nsymbolic creatures, we can build\\nsymbolic descriptions of relations and events.\"), (2806.33, \"We can string them\\ntogether and make stories. And because we can make stories,\\nthat's what makes us different. So that's my stump speech. That's how I start\\nmost of my talks on my own personal research. How do you express the notion\\nthat you've done something? By listing the steps that need\\nto be taken in order to achieve the solution to that problem. You don't have to have\\ndone all of those steps. But you can say here's\\nwhat needs to be done. An example, here's\\nwhat needs to be done. We need to specify\\nsome behavior. We need to enumerate\\nthe constraints that make it possible to\\ndeal with that behavior. We have to implement a system\\nbecause we're engineers, and we don't think that\\nwe've understood something unless we can build it. And we've built such\\na system, and we're about to demonstrate\\nit to you today. That would be an example of\\nenumerating a series of steps needed to realize the vision. So then blah, blah, blah,\\nblah, blah, blah, blah, blah. And then you conclude by-- you conclude by enumerating\\nyour contributions. It's kind of mirror\\nof these steps. And it helps to establish\\nthat you've done something. So that's a kind of\\ngeneral purpose framework for doing a technical talk. Now, only a few more\\nthings left to do today. Getting famous is the\\nnext item on our agenda because once you've\\ngot the job, you need to think a\\nlittle bit about how you're going to be\\nrecognized for what you do. So oh, first of all, why should\\nyou care about getting famous? I thought about\\nthis in connection with a fundraising\\nevent I attended once, a fundraising\\nevent for raising money\"), (2929.92, \"to save Venice from going under\\nwater and having all of its art destroyed. Anyway, I was sitting here,\\nand JC was sitting here. That was Julia, the\\nlate Julia Child. And as the evening wore\\non, more and more people would come up and ask Julia\\nto autograph something or express a feeling that\\nshe had changed their life. And it just happened\\nover and over again. So eventually, I turned to\\nJulia, and I said, Ms. Child, is it fun to be famous? And she thought about\\nit for a second. And she said, you\\nget used to it. [LAUGHTER] But you know what occured to me? You never get used\\nto being ignored. So it's-- here's a\\nway to think about it. Your ideas are\\nlike your children. And you don't want them to\\ngo into the world in rags. So what you want\\nto do is to be sure that you have these\\ntechniques, these mechanisms, these thoughts about how to\\npresent ideas that you have so that they're recognized for\\nthe value that is in them. So that's why it's a legitimate\\nthing to concern yourself with packaging. Now, how do you get remembered? Well, there's something I\\nlike to call Winston's star. And every one of the items\\nI'm about to articulate starts with an S. So if you want\\nyour presentation ideas to be remembered, one of\\nthe things you need to do is to make sure that you have\\nsome kind of symbol associated with your work. So this arch example is\\nactually from my PhD thesis many, many years ago. And in the course of\\nmy work at that time, this work on arch learning\\nbecame mildly famous, and I didn't know why. It was only many years\\nlater that I realized\"), (3051.63, \"that that work accidentally\\nhad all of the elements on this star. So the first element is that\\nthere was a kind of symbol. It's the arch itself. Next thing you need is\\nsome kind of slogan, a kind of phrase that\\nprovides a handle on the work. And in this case, the phrase\\nwas one shot learning. And it was one shot\\nbecause the program I wrote learned something definite\\nfrom every example that was presented to us. So in going from a model\\nbased on this configuration to something that isn't an arch\\nbase on that configuration, the program learned that\\nit has to be on top, one shot learning. So that's a symbol, slogan. And now we need a surprise. Yeah, the surprise is you\\ndon't need a million examples of something to learn. You can do it with\\none example if you're smart enough to make use of\\nthat example appropriately. So that was the surprise. You can learn something\\ndefinite from each example. Next item was a salient idea. Now, when I say salient\\nidea, I don't mean important. What I mean is an\\nidea that sticks out. Some theses, funnily enough,\\nhave too many good ideas, and you don't know what it's all\\nabout because which one is it? So you need an idea\\nthat sticks out. And the idea that stuck out here\\nwas the notion of a near miss. You see, this is not an arch,\\nbut it doesn't miss by much. So it's a near miss. And finally, you need\\nto tell the story of how you did it, how it\\nworks, why it's important.\"), (3176.16, \"So that's a bit on how to\\nnot so much get famous, but how to ensure that\\nyour work is recognized. Well, we're almost\\nfinished because now we're down to this last item,\\nwhich is how to stop. And when we come\\nto that, there's a question of all right,\\nwell, what is the final slide? And what are the final words? So for the final\\nslide, let me give you some examples of possibilities. How about this one? Well, you might see that\\nslide and think to yourself, there are 1,000 faculty at MIT. Nice piece of work,\\nbut not so much, but it's only a tiny piece of\\nwork if you divide by 1,000. So when you show a whole\\ngigantic list of collaborators at the end of a talk,\\nit's a kind of let down because it suggests\\nthat nobody knows. Well, did you do\\nanything significant? Now, you've got to recognize\\nyour collaborators, right? So where do you do that? Not on the last slide,\\non the first slide. All this was on the first slide. These are the\\ncollaborators, so you don't want to put them at the end. You don't want a\\nslide like this. How about this one? This is the worst possible\\nway to end a talk. [LAUGHTER] Because this slide can be\\nup there for 20 minutes. I've seen it happen. It squanders real estate. It squanders an opportunity\\nto tell people who you are. It's just-- What about this one?\"), (3296.78, \"I often see it. I never see anybody\\nwrite it down. Also, it wastes opportunity. Oh my God, even worse. All of these lines\\ndo nothing for you. They waste an opportunity\\nfor you to tell people-- to leave people with what you-- with who you are. Well, what about this? Is this a good one? It might seem so at first,\\nbut here's the problem. If you say these\\nare my conclusions, these are perfectly\\nlegitimate conclusions that nobody cares about. What they care about\\nis what you have done. And that's why your\\nfinal slide should have this label, contributions. It's a mirror of what I said\\nover there about how job talks ought to be like a sandwich. And the final slide,\\nthe one that's up there while people are\\nasking questions and filing out, it ought to be the one that\\nhas your contributions on it. Here's an example from\\nmy own stump speech. Yeah, this is what\\nI talk about a lot. Yes, here are the things\\nthat I typically demonstrate. And I wait for\\npeople to read it. And the final element there is\\nthis is what we get out of it, so that's an example of\\na contribution slide. All right, now, what\\nabout the other part? You got your final\\nslide up there. It's a contribution slide. Somehow you have to tell\\npeople you're finished. So let's see it, check\\nout a few possibilities. One thing you could\\ndo in the final words is you could tell a joke.\"), (3419.84, \"It's OK. By the time you're done,\\npeople have adjusted themselves to your voice parameters. They're ready for a joke. I was sitting in another bar,\\nthis time in Austin, Texas with a colleague of\\nmine named Doug Lenat. And Doug's a fantastic speaker. And so I said to\\nDoug, Doug, you're a fantastic speaker,\\nwhat's your secret? And he said, oh, I always\\nfinish with a joke, and that way, people think\\nthey've had fun the whole time. [LAUGHTER] So yeah, a joke will\\nwork down there. How about this one? Thank you. I don't recommend it. It's a weak move. You will not go to\\nhell if you conclude your talk by saying thank\\nyou, but it's a weak move, and here's why. When you say thank you, even\\nworse, thank you for listening, it suggests that\\neverybody has stayed that long out of politeness and\\nthat they had a profound desire to be somewhere else. But they're so polite,\\nthey stuck it out. And that's what you're\\nthanking them for. So once wild\\napplause has started, you can mouth a thank\\nyou, and there's nothing wrong with that. But the last thing you do\\nshould not be saying thank you. Now, you say to me, well,\\ndoesn't everybody say thank you? Well, what everybody does is\\nnot necessarily the right thing. And I like to illustrate\\nhow some talks can end without saying thank you. I like to draw from\\npolitical speeches, but the ones that I've heard\\nrecently aren't so good, so-- [LAUGHTER] So I'm going to have to\\ngo go back a little bit. So here is Governor Christie. He gave the Republican\\nkeynote address one year.\"), (3543.68, \"This is the end of his talk. Let's see what he does. [APPLAUSE] CHRIS CHRISTIE: And together,\\neverybody, together. We will stand up once again\\nfor American greatness for our children\\nand grandchildren. God bless you, and\\nGod bless America. [APPLAUSE] PATRICK WINSTON: So that's a\\nclassic benediction ending. God bless you,\\nGod bless America. Now, I don't want to\\nbe partisan about this. So I think I'd better switch\\nto the keynote address in the Democratic Convention. It was delivered that year\\nby Bill Clinton, who knows something about how to speak. [APPLAUSE] BILL CLINTON: If that\\nis what you want, if that is what you\\nbelieve, you must vote, and you must re-elect\\nPresident Barack Obama. God bless you, and\\nGod bless America. [APPLAUSE] [LAUGHTER] PATRICK WINSTON:\\nNow, watch this. Let's go back a little\\nbit and redo it. What I want you to see\\nis that at one point, he seems to be almost pressing\\nhis lips together, forcing himself not to say thank you. Then there's another place\\nwhere he does a little salute. So watch for those\\nthis time around. [APPLAUSE] BILL CLINTON: If that\\nis what you want, if that is what you\\nbelieve, you must vote, and you must re-elect\\nPresident Barack Obama. God bless you., and\\nGod bless America. [APPLAUSE] PATRICK WINSTON: That's\\nwhere he's pursing his lips. [LAUGHTER] There's the salute. [LAUGHTER] Yeah, I think\\nthat's pretty good. Now, what are we gonna\\ntake away from this? Well, I suppose I could conclude\\nthis talk by saying God bless you, and God bless the\\nMassachusetts Institute of Technology, but it\\nmight not work so well.\"), (3664.732, \"But what you can\\nget out of this is you don't have to say thank you. There are other\\nthings you can do. And it's interesting that over\\ntime, people figure this out, and there's some stock\\nways of ending things. So in the Catholic church,\\nand the good old Latin mass, it ended with ite\\nmissa est, which translates approximately\\nto OK, the mass is over, you can go home now. [LAUGHTER] And of course, at\\nmusical concerts, you know that it's time to clap\\nnot at the end of the song, but rather when the conductor\\ngoes over and shakes hands with the concert master. Those are conventions that tell\\nyou that the event is over. So those are all\\npossibilities for here. But one more\\npossibility, and that is that you can\\nsalute the audience. And by that, I mean,\\nyou can say something about how much you value\\nyour time at a place. So I could say, well, it's\\nbeen great fun being here. It's been fascinating to see\\nwhat you folks are doing here at MIT. I've been much\\nstimulated and provoked by the kinds of questions\\nyou've been asking, it's been really great. And I look forward\\nto coming back on many occasions in the future. So that salutes the audience. You can do that. Well, there it is. You know what? I'm glad you're here. And the reason is\\nby being here, I think you have demonstrated\\nan understanding that how you present and how\\nyou package your ideas is an important thing. And I salute you for that. [LAUGHTER] And I suggest that\\nyou come back again and bring your friends.\"), (3785.99, '[APPLAUSE]')]\n"
     ]
    }
   ],
   "source": [
    "# # youtube_url = \"8vFGrNjT4P4\"\n",
    "# youtube_url =input(\"Youtube Url: \")\n",
    "# video_id = get_video_id(youtube_url)\n",
    "# print(f\"URL, {video_id}\")\n",
    "\n",
    "\n",
    "# transcript = get_video_transcript(video_id)\n",
    "\n",
    "# print(f\"transcript, {transcript}\")\n",
    "\n",
    "# chunked_transcript = chunk_transcript(transcript)\n",
    "\n",
    "# print(f\"chunked_transcript, {chunked_transcript}\")\n",
    "\n"
   ]
  },
  {
   "cell_type": "code",
   "execution_count": null,
   "metadata": {},
   "outputs": [
    {
     "name": "stdout",
     "output_type": "stream",
     "text": [
      "summarized_chunks, [(0, 'Patrick Winston compares the Uniform Code of Military Justice, which mandates that soldiers must be equipped before battle, to the need for students to be properly equipped with communication skills before facing life. He emphasizes that success depends mainly on the ability to speak, write, and the quality of ideas, prioritizing knowledge and practice over innate talent, which he considers minimal. Winston illustrates this point with a personal story about recognizing Olympic gymnast Mary Lou Retton skiing poorly as a novice, highlighting that even exceptional talent requires knowledge and practice to excel in new areas.'), (123.23, 'In this segment, the speaker emphasizes the power of knowledge and technique (\"the K and the P\") over inherent talent (\"the T\") in improving skills, such as skiing or speaking. The speaker promises that by the end of the 60-minute session, the audience will have learned various speaking techniques, any one of which might help them succeed, such as getting a job. The process is non-linear and unpredictable, but exposure to these ideas will increase the chances of having one\\'s ideas valued. The speaker then establishes a \"rule of engagement\": no laptops or cell phones during the session, explaining that humans have only one language processor. Multitasking with devices distracts oneself and others, reducing the effectiveness of the session. The rule helps everyone focus and benefits the speaker’s delivery.'), (244.71, 'The speaker advises against starting a talk with a joke because the audience is often still settling in and not ready to engage with humor. Instead, they recommend beginning with an \"empowerment promise,\" which tells the audience what new knowledge or value they will gain by the end of the presentation. For example, promising that attendees will learn something impactful about speaking by the end of the hour. After discussing how to start, the speaker introduces the heuristic of cycling around the subject—revisiting the main points multiple times to reinforce the message.'), (365.9, 'The speaker emphasizes the importance of repeating key points multiple times during a lecture because about 20% of the audience may be mentally \"fogged out\" at any moment, so repetition increases the chance everyone understands. Another technique is \"building a fence\" around ideas by clearly distinguishing them from similar concepts to avoid confusion, such as differentiating their algorithm from another\\'s by highlighting differences like complexity. Lastly, the speaker discusses using \"verbal punctuation\"—providing clear verbal cues or landmarks, like outlining the talk’s structure, to help listeners reorient themselves and stay engaged throughout the presentation.'), (489.03, 'In this segment, Patrick Winston discusses four techniques to help keep an audience engaged during a presentation. He first mentions cycling ideas and building concepts, then introduces verbal punctuation—using enumeration and numbers to create clear transitions. The fourth idea, suggested by the audience, is asking questions to re-engage listeners. He emphasizes the importance of carefully choosing questions that are neither too obvious nor too difficult and notes that a seven-second pause for answers is standard. Winston encourages viewers to observe effective speakers to develop their own presentation style, highlighting that understanding these techniques builds a personal repertoire for successful communication.'), (610.83, 'The speaker discusses effective techniques for giving lectures, starting with the best time and place. They suggest 11 AM as an ideal time since people are alert and not tired from meals or sleepiness. Regarding the location, the speaker emphasizes the importance of a well-lit room because dim lighting signals the brain to feel sleepy, making it harder for the audience to stay awake. The speaker insists on keeping the lights fully on, noting that slides are useless if the audience is dozing. Finally, the speaker advises becoming familiar with the venue beforehand—likening it to \"casing a bank\"—so there are no unexpected issues during the presentation.'), (733.17, \"The speaker explains their routine before giving a talk: they ask to visit the speaking venue in advance to identify and handle any potential issues. They mentally prepare by imagining an audience of disinterested farm animals to ease nerves, setting a baseline that the actual audience won't be worse. Ideally, the room should be more than half full to create engagement, even if not packed. The speaker then transitions to discussing presentation tools, emphasizing the use of boards for informing, teaching, and lecturing, as opposed to slides which are better suited for expositional purposes. The board offers a graphic quality beneficial for effective teaching.\"), (854.44, \"The segment highlights three advantages of using a blackboard in presentations: the ability to incorporate graphics easily, the natural pacing of writing that matches how people absorb information, and the board serving as a physical target for the speaker's hands. This last point helps speakers avoid awkward hand postures—like hiding hands in pockets or behind the back, which can be perceived as rude or suspicious in some cultures. By using the board, speakers have a purposeful place to gesture, reducing discomfort and cultural missteps related to hand positioning.\"), (975.5, 'The speaker shares an observation from watching Seymour Papert\\'s lectures, noting that Papert often pointed at the board, even at things unrelated to his speech, yet this was an effective teaching technique. This highlights the usefulness of blackboards. Then, the speaker shifts to discussing the use of props in storytelling, particularly drawing from playwrights like Henrik Ibsen. Using Ibsen\\'s play \"Hedda Gabler\" as an example, the speaker describes how a potbellied stove with glowing embers is used symbolically throughout the play. As tension rises, the fire in the stove intensifies, mirroring the increasing drama and signaling that something significant is about to happen. This illustrates how props can powerfully enhance narrative and emotional impact.'), (1095.75, \"The speaker discusses the use of props to aid understanding, highlighting an example from Seymour Papert that involves a spinning bicycle wheel. Mechanical engineers often try to determine the direction the wheel will move when torque is applied, typically using the right-hand rule, but many get it wrong about half the time. Papert's approach simplifies the problem by focusing on a small part of the wheel wrapped in duct tape. Observing how this piece moves when a puff of air is applied makes it clearer which direction the wheel turns, providing an intuitive way to understand the mechanics without confusion.\"), (1217.04, 'The speaker explains a physics demonstration involving a wheel tipping over, emphasizing understanding the problem visually and conceptually with a prop. They then share a memorable example from an 8.01 class with instructor Alan Lazarus, who demonstrated conservation of energy using a large steel ball pendulum that swings slowly and gently taps his nose, illustrating the principle vividly. The speaker warns not to try this at home because people might instinctively push the ball instead of just letting it go. Overall, the segment highlights the value of using physical props to grasp physics concepts deeply.'), (1344.612, 'In this segment, the speaker discusses why students often prefer chalkboard teaching over PowerPoint presentations, suggesting it relates to \"empathetic mirroring.\" They explain that watching an instructor write on a board activates students\\' mirror neurons, allowing them to \"feel\" the writing and the concepts being demonstrated, such as the movement of a steel ball, in a more physical, engaging way. This empathetic connection is absent when using slides or pictures. The speaker also notes that slides are more suited for exposing ideas, like in conferences or job talks, rather than for teaching concepts in depth.'), (1469.06, 'The speaker describes returning from a miserable conference and deciding to relax with a coffee, where someone asked for help critiquing their slides. The speaker pointed out the common issue of having too many slides filled with too many words. Using this as a teaching moment, they demonstrated bad slide practices: reading slides verbatim, overcrowding slides with text, and poor positioning that forces the audience to shift focus awkwardly between the speaker and slides. The key advice is to keep slides simple, with few words, easy to read, and to use slides as supportive \"condiments\" rather than the main focus of a presentation.'), (1589.73, 'The speaker discusses how to improve slide presentations by simplifying them. First, remove distracting background elements. Second, reduce the amount of text on slides to avoid reading directly from them, which helps the audience focus on the speaker. Additional simplifications include removing logos and even the slide title. The rationale is based on the idea that audiences have only one language processor, so too many words on slides force them to read instead of listen. The speaker cites a study where students remembered information better when it was on the slide rather than what the speaker said, highlighting the importance of minimizing slide text to keep audience attention on the speaker.'), (1710.11, 'The segment discusses common presentation mistakes, starting with cluttered slides filled with too many words and unnecessary bullet points. The speaker criticizes Microsoft\\'s allowance of very small fonts, which encourages overcrowded slides. They recommend using a sample slide to identify the minimum legible font size, suggesting around 40-50 points, as smaller sizes encourage cramming too much text. The speaker then moves to the \"laser pointer crime,\" recalling how presenters used to wave wooden pointers excessively, turning it into a distracting \"baton twirling contest.\" They share a past recommendation to avoid this and mention how props used effectively during presentations tend to be memorable. Finally, the speaker notes that physical pointers are now replaced by laser pointers.'), (1832.215, 'The speaker discusses the drawbacks of using laser pointers during presentations, noting that pointing a laser requires turning away from the audience, breaking eye contact and engagement. Instead of using laser pointers, they suggest adding arrows or visual markers directly on slides to draw attention. The speaker also critiques overly dense presentation slides, recommending printing slides to check for \"too-heavy\" content—slides with too much text, small fonts, and insufficient white space or imagery—which makes the presentation ineffective.'), (1953.8, 'In this segment, the speaker discusses a previous talk they gave, emphasizing that it was not deeply technical but visually engaging, mostly consisting of pictures with minimal text. They mention a slide with an excerpt from the 1957 Dartmouth AI conference proposal, highlighting its historical significance. The speaker introduces the term \"hapax legomenon,\" explaining it as a unique slide used only once per presentation due to its complexity—illustrated by a complicated slide about governing Afghanistan, purposely difficult for the audience to understand. Finally, the speaker references examples of \"crimes\" shown earlier, confirming that these instances do actually occur, with humorous mentions such as the \"hands in the pockets crime\" and a note on selecting crime by time and place.'), (2075.837, 'The speaker describes the challenging route to the Bartos Theater, noting its dark and gloomy atmosphere, which makes it unsuitable for giving talks. They recount attending a presentation in the theater where the speaker was distant from the slides and used a laser pointer on the 80th slide, which was the first of ten conclusion slides. The audience appeared disengaged—some were reading emails or lunch menus, and others looked bored or yawning. This illustrated how presentations can sometimes lose audience attention. The speaker then transitions from reviewing tools to discussing special cases, including the act of giving a talk itself.'), (2198.01, 'In this segment, the speaker discusses how to inspire people during presentations. They emphasize starting with a clear promise and highlight the importance of passion in inspiring others. Drawing from a survey of freshmen and senior faculty, the speaker notes that freshmen were inspired by teachers who believed in them, while senior faculty were inspired by those who helped them see problems differently. Overall, passion for the subject consistently emerged as a key factor in inspiring individuals. The speaker finds it natural to express passion in teaching artificial intelligence, which helps engage and inspire students.'), (2319.96, 'In this segment, the speaker discusses the \"promise phase\" of a lecture, where the instructor expresses enthusiasm and highlights interesting aspects of the topic upfront to engage students. They provide an example involving resource allocation and graph coloring—specifically coloring U.S. states so that no neighboring states share the same color. The speaker shares humor about how a basic approach to this problem would take longer than the lifespan of the solar system, but with a clever adjustment, the problem can be solved quickly. This illustrates the value of efficient algorithms and generates excitement for the material. Finally, the speaker notes that while many MIT faculty say their main goal is to teach students how to think, they often struggle to clearly explain how they actually achieve that.'), (2440.693, 'The speaker explains that teaching people how to think involves recognizing humans as storytelling beings who develop understanding through stories starting from childhood and continuing into professional education. To teach thinking, one must provide the right stories, questions, analytical tools, methods for combining stories, and ways to assess their reliability. The focus then shifts to persuasion, especially in academia, highlighting oral exams, shop talks, and gaining fame. The speaker notes that oral exams, once more intimidating and including foreign language literature reading, often failed candidates due to their inability to situate their research in a broader context and lack of practice. Properly situating research involves explaining its place in the global effort and historical timeline, helping convey its relevance and impact.'), (2561.97, 'The speaker emphasizes the importance of practicing presentations but warns against rehearsing with people who already know your material, like your faculty supervisor, because they may imagine content that isn’t actually there. Instead, practice with friends unfamiliar with your work who can give honest feedback. The speaker humorously suggests challenging friends to criticize your talk harshly to prepare for tough questioning, especially from older, more experienced examiners who tend to be more critical. The talk then shifts to discussing job talks and mentions a personal anecdote at a Navy Science Board meeting with colleagues Delores Etter and Bill Weldon.'), (2685.03, \"In this segment, the speaker discusses what faculty members look for in a candidate. According to Delores and Bill, candidates must quickly demonstrate both a clear vision and evidence of accomplishments—specifically within five minutes—otherwise, they lose the opportunity to impress. The speaker emphasizes that a candidate's vision should focus on a significant problem someone cares about, paired with a novel approach. As an example, the speaker explores the problem of understanding human intelligence, questioning whether humans differ from chimpanzees and Neanderthals simply by degree or fundamentally. The conclusion is that humans are symbolic creatures, capable of creating symbolic descriptions of relationships and events, setting them apart fundamentally.\"), (2806.33, 'In this segment, the speaker discusses how humans uniquely create stories by stringing events together, which forms the basis of their talks. They explain that expressing accomplishments involves outlining the necessary steps to solve a problem, even if not all steps are completed. For example, specifying behavior, enumerating constraints, and implementing a system are key stages engineers follow to demonstrate understanding. The speaker uses this structured approach to frame technical presentations, concluding with a summary of contributions to validate achievements. They then transition to discussing the importance of gaining recognition or \"getting famous\" after securing a job, emphasizing why this matters, which leads into the next part of their talk.'), (2929.92, 'The speaker recounts an evening spent with the late Julia Child, observing how people continuously approached her for autographs and to express how she had changed their lives. When asked if it was fun to be famous, Julia replied that you get used to it, but you never get used to being ignored. This leads to the speaker\\'s point about the importance of effectively presenting and packaging ideas so they are recognized and remembered. Using a metaphor, ideas are likened to children that should not go out \"in rags,\" emphasizing the need for proper presentation techniques. The speaker introduces the concept of \"Winston’s star,\" a memory aid where key elements start with the letter S, to help make ideas memorable. An example from the speaker’s own PhD work on arch learning is mentioned as an instance of something that became mildly famous over time.'), (3051.63, 'The speaker describes the key elements of a successful concept using the example of their work on \"one shot learning.\" The first element is a symbol, represented here by an arch. Next is a slogan or phrase that captures the essence of the work—\"one shot learning,\" meaning the program learns something concrete from just one example. The surprise is that you don\\'t need millions of examples to learn; one well-used example suffices. A salient idea, which is an idea that stands out clearly, is identified as the \"near miss\" concept—something close to an arch but not quite. Lastly, it\\'s important to tell the story explaining how the concept works and why it matters.'), (3176.16, 'In this segment, the speaker discusses how to conclude a presentation effectively. They emphasize that ending with a long list of collaborators on the final slide is not impactful—it can diminish the perceived significance of the work and make the ending feel like a letdown. Instead, collaborators should be acknowledged at the beginning of the talk. Additionally, leaving a slide up for an extended time at the end is seen as a poor use of valuable presentation time. The speaker suggests that the final slide and closing words should be carefully considered to ensure the work is properly recognized and the talk ends strongly.'), (3296.78, 'The speaker emphasizes that common concluding remarks in presentations often waste the opportunity to leave a strong impression. Instead of vague or generic statements, the final slide should be labeled \"Contributions\" and clearly highlight what the presenter has accomplished. This approach mirrors the \"sandwich\" structure of a job talk, ending with a focus on tangible contributions while the audience asks questions or leaves. The speaker shares an example from their own talk, showing how they outline key demonstrations and results. After presenting the contributions slide, the speaker suggests that presenters should also clearly indicate they are finished, possibly by using a concluding joke.'), (3419.84, 'The speaker discusses how ending a talk with a joke can be effective, sharing an example of a colleague, Doug Lenat, who always finishes with a joke to leave the audience feeling like they\\'ve had fun. In contrast, the speaker advises against ending talks by simply saying \"thank you,\" especially phrases like \"thank you for listening,\" as it implies that the audience stayed only out of politeness and may have wanted to leave. The speaker notes that while mouthing a thank you after applause is fine, it should not be the final spoken words. They argue that just because \"thank you\" is common doesn\\'t mean it\\'s the best ending, and hint at offering examples of powerful speech endings without thanking, referencing political speeches such as one by Governor Christie.'), (3543.68, 'In this segment, Patrick Winston reviews the endings of political speeches by Chris Christie and Bill Clinton, noting the common use of the phrase \"God bless you, and God bless America.\" He highlights Clinton\\'s delivery during his keynote at the Democratic Convention, pointing out subtle details like Clinton pursing his lips and giving a small salute while concluding his speech. Winston humorously reflects on the typical benediction ending and jokes about ending his own talk similarly, but with the Massachusetts Institute of Technology instead of America.'), (3664.732, 'The speaker explains that instead of simply saying \"thank you\" to end an event or presentation, there are other ways to conclude effectively. They give examples of traditional endings, such as the Latin phrase \"ite missa est\" in the Catholic mass, signaling the event is over, or the cue to applaud at concerts when the conductor acknowledges the concertmaster. Another option is to \"salute the audience\" by expressing appreciation for the experience and engagement, sharing positive reflections, and encouraging future interactions. The speaker illustrates this by praising the audience\\'s insightful questions and enthusiasm, emphasizing the importance of how ideas are presented, and inviting them to return with friends.'), (3785.99, 'This segment consists solely of applause.')]\n",
      "[00:00] Patrick Winston compares the Uniform Code of Military Justice, which mandates that soldiers must be equipped before battle, to the need for students to be properly equipped with communication skills before facing life. He emphasizes that success depends mainly on the ability to speak, write, and the quality of ideas, prioritizing knowledge and practice over innate talent, which he considers minimal. Winston illustrates this point with a personal story about recognizing Olympic gymnast Mary Lou Retton skiing poorly as a novice, highlighting that even exceptional talent requires knowledge and practice to excel in new areas.\n",
      "[02:00] In this segment, the speaker emphasizes the power of knowledge and technique (\"the K and the P\") over inherent talent (\"the T\") in improving skills, such as skiing or speaking. The speaker promises that by the end of the 60-minute session, the audience will have learned various speaking techniques, any one of which might help them succeed, such as getting a job. The process is non-linear and unpredictable, but exposure to these ideas will increase the chances of having one's ideas valued. The speaker then establishes a \"rule of engagement\": no laptops or cell phones during the session, explaining that humans have only one language processor. Multitasking with devices distracts oneself and others, reducing the effectiveness of the session. The rule helps everyone focus and benefits the speaker’s delivery.\n",
      "[04:00] The speaker advises against starting a talk with a joke because the audience is often still settling in and not ready to engage with humor. Instead, they recommend beginning with an \"empowerment promise,\" which tells the audience what new knowledge or value they will gain by the end of the presentation. For example, promising that attendees will learn something impactful about speaking by the end of the hour. After discussing how to start, the speaker introduces the heuristic of cycling around the subject—revisiting the main points multiple times to reinforce the message.\n",
      "[06:00] The speaker emphasizes the importance of repeating key points multiple times during a lecture because about 20% of the audience may be mentally \"fogged out\" at any moment, so repetition increases the chance everyone understands. Another technique is \"building a fence\" around ideas by clearly distinguishing them from similar concepts to avoid confusion, such as differentiating their algorithm from another's by highlighting differences like complexity. Lastly, the speaker discusses using \"verbal punctuation\"—providing clear verbal cues or landmarks, like outlining the talk’s structure, to help listeners reorient themselves and stay engaged throughout the presentation.\n",
      "[08:00] In this segment, Patrick Winston discusses four techniques to help keep an audience engaged during a presentation. He first mentions cycling ideas and building concepts, then introduces verbal punctuation—using enumeration and numbers to create clear transitions. The fourth idea, suggested by the audience, is asking questions to re-engage listeners. He emphasizes the importance of carefully choosing questions that are neither too obvious nor too difficult and notes that a seven-second pause for answers is standard. Winston encourages viewers to observe effective speakers to develop their own presentation style, highlighting that understanding these techniques builds a personal repertoire for successful communication.\n",
      "[10:00] The speaker discusses effective techniques for giving lectures, starting with the best time and place. They suggest 11 AM as an ideal time since people are alert and not tired from meals or sleepiness. Regarding the location, the speaker emphasizes the importance of a well-lit room because dim lighting signals the brain to feel sleepy, making it harder for the audience to stay awake. The speaker insists on keeping the lights fully on, noting that slides are useless if the audience is dozing. Finally, the speaker advises becoming familiar with the venue beforehand—likening it to \"casing a bank\"—so there are no unexpected issues during the presentation.\n",
      "[12:00] The speaker explains their routine before giving a talk: they ask to visit the speaking venue in advance to identify and handle any potential issues. They mentally prepare by imagining an audience of disinterested farm animals to ease nerves, setting a baseline that the actual audience won't be worse. Ideally, the room should be more than half full to create engagement, even if not packed. The speaker then transitions to discussing presentation tools, emphasizing the use of boards for informing, teaching, and lecturing, as opposed to slides which are better suited for expositional purposes. The board offers a graphic quality beneficial for effective teaching.\n",
      "[14:00] The segment highlights three advantages of using a blackboard in presentations: the ability to incorporate graphics easily, the natural pacing of writing that matches how people absorb information, and the board serving as a physical target for the speaker's hands. This last point helps speakers avoid awkward hand postures—like hiding hands in pockets or behind the back, which can be perceived as rude or suspicious in some cultures. By using the board, speakers have a purposeful place to gesture, reducing discomfort and cultural missteps related to hand positioning.\n",
      "[16:00] The speaker shares an observation from watching Seymour Papert's lectures, noting that Papert often pointed at the board, even at things unrelated to his speech, yet this was an effective teaching technique. This highlights the usefulness of blackboards. Then, the speaker shifts to discussing the use of props in storytelling, particularly drawing from playwrights like Henrik Ibsen. Using Ibsen's play \"Hedda Gabler\" as an example, the speaker describes how a potbellied stove with glowing embers is used symbolically throughout the play. As tension rises, the fire in the stove intensifies, mirroring the increasing drama and signaling that something significant is about to happen. This illustrates how props can powerfully enhance narrative and emotional impact.\n",
      "[18:00] The speaker discusses the use of props to aid understanding, highlighting an example from Seymour Papert that involves a spinning bicycle wheel. Mechanical engineers often try to determine the direction the wheel will move when torque is applied, typically using the right-hand rule, but many get it wrong about half the time. Papert's approach simplifies the problem by focusing on a small part of the wheel wrapped in duct tape. Observing how this piece moves when a puff of air is applied makes it clearer which direction the wheel turns, providing an intuitive way to understand the mechanics without confusion.\n",
      "[20:00] The speaker explains a physics demonstration involving a wheel tipping over, emphasizing understanding the problem visually and conceptually with a prop. They then share a memorable example from an 8.01 class with instructor Alan Lazarus, who demonstrated conservation of energy using a large steel ball pendulum that swings slowly and gently taps his nose, illustrating the principle vividly. The speaker warns not to try this at home because people might instinctively push the ball instead of just letting it go. Overall, the segment highlights the value of using physical props to grasp physics concepts deeply.\n",
      "[22:00] In this segment, the speaker discusses why students often prefer chalkboard teaching over PowerPoint presentations, suggesting it relates to \"empathetic mirroring.\" They explain that watching an instructor write on a board activates students' mirror neurons, allowing them to \"feel\" the writing and the concepts being demonstrated, such as the movement of a steel ball, in a more physical, engaging way. This empathetic connection is absent when using slides or pictures. The speaker also notes that slides are more suited for exposing ideas, like in conferences or job talks, rather than for teaching concepts in depth.\n",
      "[24:00] The speaker describes returning from a miserable conference and deciding to relax with a coffee, where someone asked for help critiquing their slides. The speaker pointed out the common issue of having too many slides filled with too many words. Using this as a teaching moment, they demonstrated bad slide practices: reading slides verbatim, overcrowding slides with text, and poor positioning that forces the audience to shift focus awkwardly between the speaker and slides. The key advice is to keep slides simple, with few words, easy to read, and to use slides as supportive \"condiments\" rather than the main focus of a presentation.\n",
      "[26:00] The speaker discusses how to improve slide presentations by simplifying them. First, remove distracting background elements. Second, reduce the amount of text on slides to avoid reading directly from them, which helps the audience focus on the speaker. Additional simplifications include removing logos and even the slide title. The rationale is based on the idea that audiences have only one language processor, so too many words on slides force them to read instead of listen. The speaker cites a study where students remembered information better when it was on the slide rather than what the speaker said, highlighting the importance of minimizing slide text to keep audience attention on the speaker.\n",
      "[28:00] The segment discusses common presentation mistakes, starting with cluttered slides filled with too many words and unnecessary bullet points. The speaker criticizes Microsoft's allowance of very small fonts, which encourages overcrowded slides. They recommend using a sample slide to identify the minimum legible font size, suggesting around 40-50 points, as smaller sizes encourage cramming too much text. The speaker then moves to the \"laser pointer crime,\" recalling how presenters used to wave wooden pointers excessively, turning it into a distracting \"baton twirling contest.\" They share a past recommendation to avoid this and mention how props used effectively during presentations tend to be memorable. Finally, the speaker notes that physical pointers are now replaced by laser pointers.\n",
      "[30:00] The speaker discusses the drawbacks of using laser pointers during presentations, noting that pointing a laser requires turning away from the audience, breaking eye contact and engagement. Instead of using laser pointers, they suggest adding arrows or visual markers directly on slides to draw attention. The speaker also critiques overly dense presentation slides, recommending printing slides to check for \"too-heavy\" content—slides with too much text, small fonts, and insufficient white space or imagery—which makes the presentation ineffective.\n",
      "[32:00] In this segment, the speaker discusses a previous talk they gave, emphasizing that it was not deeply technical but visually engaging, mostly consisting of pictures with minimal text. They mention a slide with an excerpt from the 1957 Dartmouth AI conference proposal, highlighting its historical significance. The speaker introduces the term \"hapax legomenon,\" explaining it as a unique slide used only once per presentation due to its complexity—illustrated by a complicated slide about governing Afghanistan, purposely difficult for the audience to understand. Finally, the speaker references examples of \"crimes\" shown earlier, confirming that these instances do actually occur, with humorous mentions such as the \"hands in the pockets crime\" and a note on selecting crime by time and place.\n",
      "[34:00] The speaker describes the challenging route to the Bartos Theater, noting its dark and gloomy atmosphere, which makes it unsuitable for giving talks. They recount attending a presentation in the theater where the speaker was distant from the slides and used a laser pointer on the 80th slide, which was the first of ten conclusion slides. The audience appeared disengaged—some were reading emails or lunch menus, and others looked bored or yawning. This illustrated how presentations can sometimes lose audience attention. The speaker then transitions from reviewing tools to discussing special cases, including the act of giving a talk itself.\n",
      "[36:00] In this segment, the speaker discusses how to inspire people during presentations. They emphasize starting with a clear promise and highlight the importance of passion in inspiring others. Drawing from a survey of freshmen and senior faculty, the speaker notes that freshmen were inspired by teachers who believed in them, while senior faculty were inspired by those who helped them see problems differently. Overall, passion for the subject consistently emerged as a key factor in inspiring individuals. The speaker finds it natural to express passion in teaching artificial intelligence, which helps engage and inspire students.\n",
      "[38:00] In this segment, the speaker discusses the \"promise phase\" of a lecture, where the instructor expresses enthusiasm and highlights interesting aspects of the topic upfront to engage students. They provide an example involving resource allocation and graph coloring—specifically coloring U.S. states so that no neighboring states share the same color. The speaker shares humor about how a basic approach to this problem would take longer than the lifespan of the solar system, but with a clever adjustment, the problem can be solved quickly. This illustrates the value of efficient algorithms and generates excitement for the material. Finally, the speaker notes that while many MIT faculty say their main goal is to teach students how to think, they often struggle to clearly explain how they actually achieve that.\n",
      "[40:00] The speaker explains that teaching people how to think involves recognizing humans as storytelling beings who develop understanding through stories starting from childhood and continuing into professional education. To teach thinking, one must provide the right stories, questions, analytical tools, methods for combining stories, and ways to assess their reliability. The focus then shifts to persuasion, especially in academia, highlighting oral exams, shop talks, and gaining fame. The speaker notes that oral exams, once more intimidating and including foreign language literature reading, often failed candidates due to their inability to situate their research in a broader context and lack of practice. Properly situating research involves explaining its place in the global effort and historical timeline, helping convey its relevance and impact.\n",
      "[42:00] The speaker emphasizes the importance of practicing presentations but warns against rehearsing with people who already know your material, like your faculty supervisor, because they may imagine content that isn’t actually there. Instead, practice with friends unfamiliar with your work who can give honest feedback. The speaker humorously suggests challenging friends to criticize your talk harshly to prepare for tough questioning, especially from older, more experienced examiners who tend to be more critical. The talk then shifts to discussing job talks and mentions a personal anecdote at a Navy Science Board meeting with colleagues Delores Etter and Bill Weldon.\n",
      "[44:00] In this segment, the speaker discusses what faculty members look for in a candidate. According to Delores and Bill, candidates must quickly demonstrate both a clear vision and evidence of accomplishments—specifically within five minutes—otherwise, they lose the opportunity to impress. The speaker emphasizes that a candidate's vision should focus on a significant problem someone cares about, paired with a novel approach. As an example, the speaker explores the problem of understanding human intelligence, questioning whether humans differ from chimpanzees and Neanderthals simply by degree or fundamentally. The conclusion is that humans are symbolic creatures, capable of creating symbolic descriptions of relationships and events, setting them apart fundamentally.\n",
      "[46:00] In this segment, the speaker discusses how humans uniquely create stories by stringing events together, which forms the basis of their talks. They explain that expressing accomplishments involves outlining the necessary steps to solve a problem, even if not all steps are completed. For example, specifying behavior, enumerating constraints, and implementing a system are key stages engineers follow to demonstrate understanding. The speaker uses this structured approach to frame technical presentations, concluding with a summary of contributions to validate achievements. They then transition to discussing the importance of gaining recognition or \"getting famous\" after securing a job, emphasizing why this matters, which leads into the next part of their talk.\n",
      "[48:00] The speaker recounts an evening spent with the late Julia Child, observing how people continuously approached her for autographs and to express how she had changed their lives. When asked if it was fun to be famous, Julia replied that you get used to it, but you never get used to being ignored. This leads to the speaker's point about the importance of effectively presenting and packaging ideas so they are recognized and remembered. Using a metaphor, ideas are likened to children that should not go out \"in rags,\" emphasizing the need for proper presentation techniques. The speaker introduces the concept of \"Winston’s star,\" a memory aid where key elements start with the letter S, to help make ideas memorable. An example from the speaker’s own PhD work on arch learning is mentioned as an instance of something that became mildly famous over time.\n",
      "[50:00] The speaker describes the key elements of a successful concept using the example of their work on \"one shot learning.\" The first element is a symbol, represented here by an arch. Next is a slogan or phrase that captures the essence of the work—\"one shot learning,\" meaning the program learns something concrete from just one example. The surprise is that you don't need millions of examples to learn; one well-used example suffices. A salient idea, which is an idea that stands out clearly, is identified as the \"near miss\" concept—something close to an arch but not quite. Lastly, it's important to tell the story explaining how the concept works and why it matters.\n",
      "[52:00] In this segment, the speaker discusses how to conclude a presentation effectively. They emphasize that ending with a long list of collaborators on the final slide is not impactful—it can diminish the perceived significance of the work and make the ending feel like a letdown. Instead, collaborators should be acknowledged at the beginning of the talk. Additionally, leaving a slide up for an extended time at the end is seen as a poor use of valuable presentation time. The speaker suggests that the final slide and closing words should be carefully considered to ensure the work is properly recognized and the talk ends strongly.\n",
      "[54:00] The speaker emphasizes that common concluding remarks in presentations often waste the opportunity to leave a strong impression. Instead of vague or generic statements, the final slide should be labeled \"Contributions\" and clearly highlight what the presenter has accomplished. This approach mirrors the \"sandwich\" structure of a job talk, ending with a focus on tangible contributions while the audience asks questions or leaves. The speaker shares an example from their own talk, showing how they outline key demonstrations and results. After presenting the contributions slide, the speaker suggests that presenters should also clearly indicate they are finished, possibly by using a concluding joke.\n",
      "[56:00] The speaker discusses how ending a talk with a joke can be effective, sharing an example of a colleague, Doug Lenat, who always finishes with a joke to leave the audience feeling like they've had fun. In contrast, the speaker advises against ending talks by simply saying \"thank you,\" especially phrases like \"thank you for listening,\" as it implies that the audience stayed only out of politeness and may have wanted to leave. The speaker notes that while mouthing a thank you after applause is fine, it should not be the final spoken words. They argue that just because \"thank you\" is common doesn't mean it's the best ending, and hint at offering examples of powerful speech endings without thanking, referencing political speeches such as one by Governor Christie.\n",
      "[59:00] In this segment, Patrick Winston reviews the endings of political speeches by Chris Christie and Bill Clinton, noting the common use of the phrase \"God bless you, and God bless America.\" He highlights Clinton's delivery during his keynote at the Democratic Convention, pointing out subtle details like Clinton pursing his lips and giving a small salute while concluding his speech. Winston humorously reflects on the typical benediction ending and jokes about ending his own talk similarly, but with the Massachusetts Institute of Technology instead of America.\n",
      "[61:00] The speaker explains that instead of simply saying \"thank you\" to end an event or presentation, there are other ways to conclude effectively. They give examples of traditional endings, such as the Latin phrase \"ite missa est\" in the Catholic mass, signaling the event is over, or the cue to applaud at concerts when the conductor acknowledges the concertmaster. Another option is to \"salute the audience\" by expressing appreciation for the experience and engagement, sharing positive reflections, and encouraging future interactions. The speaker illustrates this by praising the audience's insightful questions and enthusiasm, emphasizing the importance of how ideas are presented, and inviting them to return with friends.\n",
      "[63:00] This segment consists solely of applause.\n",
      "formatted_summary, None\n"
     ]
    }
   ],
   "source": [
    "# summarized_chunks = summarize_chunks(chunked_transcript, chat_openai)\n",
    "\n",
    "# print(f\"summarized_chunks, {summarized_chunks}\")\n",
    "\n",
    "\n",
    "# formatted_summary = format_summary(summarized_chunks)\n",
    "\n",
    "# print(f\"formatted_summary, {formatted_summary}\")"
   ]
  },
  {
   "cell_type": "code",
   "execution_count": 35,
   "metadata": {},
   "outputs": [],
   "source": [
    "# Enhanced YouTube Transcript RAG System\n",
    "from youtube_transcript_api import YouTubeTranscriptApi\n",
    "from urllib.parse import urlparse, parse_qs\n",
    "from aimakerspace.vectordatabase import VectorDatabase\n",
    "from aimakerspace.openai_utils.chatmodel import ChatOpenAI\n",
    "from aimakerspace.openai_utils.prompts import SystemRolePrompt, UserRolePrompt\n",
    "import asyncio\n",
    "import numpy as np\n",
    "from typing import List, Dict, Tuple, Optional\n",
    "import json\n",
    "\n",
    "class YouTubeTranscriptRAG:\n",
    "    \"\"\"\n",
    "    A RAG system for YouTube transcripts that can index, search, and answer questions\n",
    "    about video content using semantic similarity and LLM generation.\n",
    "    \"\"\"\n",
    "    \n",
    "    def __init__(self, llm: ChatOpenAI = None, embedding_model=None):\n",
    "        self.llm = llm or ChatOpenAI()\n",
    "        self.vector_db = VectorDatabase(embedding_model)\n",
    "        self.transcript_data = {}  # Store original transcript data\n",
    "        self.video_metadata = {}   # Store video information\n",
    "        \n",
    "    def get_video_id(self, url: str) -> str:\n",
    "        \"\"\"Extract video ID from YouTube URL\"\"\"\n",
    "        parsed_url = urlparse(url)\n",
    "        query_params = parse_qs(parsed_url.query)\n",
    "        return query_params.get(\"v\", [None])[0]\n",
    "    \n",
    "    def get_video_transcript(self, video_id: str, lang: str = \"en\") -> List[Dict]:\n",
    "        \"\"\"Fetch transcript from YouTube API\"\"\"\n",
    "        print(f\"Fetching transcript for video ID: {video_id}\")\n",
    "        youtube_api = YouTubeTranscriptApi()\n",
    "        transcript = youtube_api.fetch(video_id, languages=[lang])\n",
    "        return [{'text': snippet.text, 'start': snippet.start, 'duration': snippet.duration} for snippet in transcript]\n",
    "    \n",
    "    def chunk_transcript(self, transcript: List[Dict], chunk_size: int = 120) -> List[Tuple[float, str, Dict]]:\n",
    "        \"\"\"\n",
    "        Chunk transcript into segments with metadata\n",
    "        Returns: List of (start_time, text, metadata) tuples\n",
    "        \"\"\"\n",
    "        chunks = []\n",
    "        current_chunk = []\n",
    "        current_start = 0\n",
    "        \n",
    "        for entry in transcript:\n",
    "            start_time = entry['start']\n",
    "            if start_time - current_start < chunk_size:\n",
    "                current_chunk.append(entry['text'])\n",
    "            else:\n",
    "                if current_chunk:\n",
    "                    # Create metadata for this chunk\n",
    "                    metadata = {\n",
    "                        'start_time': current_start,\n",
    "                        'end_time': start_time,\n",
    "                        'duration': start_time - current_start,\n",
    "                        'video_id': getattr(self, 'current_video_id', None)\n",
    "                    }\n",
    "                    chunks.append((current_start, \" \".join(current_chunk), metadata))\n",
    "                current_chunk = [entry['text']]\n",
    "                current_start = start_time\n",
    "        \n",
    "        # Add the last chunk\n",
    "        if current_chunk:\n",
    "            metadata = {\n",
    "                'start_time': current_start,\n",
    "                'end_time': transcript[-1]['start'] + transcript[-1]['duration'],\n",
    "                'duration': (transcript[-1]['start'] + transcript[-1]['duration']) - current_start,\n",
    "                'video_id': getattr(self, 'current_video_id', None)\n",
    "            }\n",
    "            chunks.append((current_start, \" \".join(current_chunk), metadata))\n",
    "        \n",
    "        return chunks\n",
    "    \n",
    "    async def index_video(self, video_url: str, chunk_size: int = 120, lang: str = \"en\") -> str:\n",
    "        \"\"\"\n",
    "        Index a YouTube video for RAG search\n",
    "        Returns the video ID\n",
    "        \"\"\"\n",
    "        video_id = self.get_video_id(video_url)\n",
    "        if not video_id:\n",
    "            raise ValueError(\"Invalid YouTube URL - could not extract video ID\")\n",
    "        \n",
    "        self.current_video_id = video_id\n",
    "        \n",
    "        # Fetch transcript\n",
    "        transcript = self.get_video_transcript(video_id, lang)\n",
    "        self.transcript_data[video_id] = transcript\n",
    "        \n",
    "        # Store video metadata\n",
    "        self.video_metadata[video_id] = {\n",
    "            'url': video_url,\n",
    "            'video_id': video_id,\n",
    "            'language': lang,\n",
    "            'total_segments': len(transcript),\n",
    "            'total_duration': transcript[-1]['start'] + transcript[-1]['duration'] if transcript else 0\n",
    "        }\n",
    "        \n",
    "        # Chunk the transcript\n",
    "        chunks = self.chunk_transcript(transcript, chunk_size)\n",
    "        \n",
    "        # Prepare texts for embedding\n",
    "        chunk_texts = [chunk[1] for chunk in chunks]  # Extract text from chunks\n",
    "        \n",
    "        # Create embeddings and add to vector database\n",
    "        await self.vector_db.abuild_from_list(chunk_texts)\n",
    "        \n",
    "        # Store chunk metadata for later retrieval\n",
    "        for i, (start_time, text, metadata) in enumerate(chunks):\n",
    "            # Use the text as key to store metadata\n",
    "            if hasattr(self.vector_db, 'metadata'):\n",
    "                self.vector_db.metadata[text] = metadata\n",
    "            else:\n",
    "                self.vector_db.metadata = {text: metadata}\n",
    "        \n",
    "        print(f\"Successfully indexed video {video_id} with {len(chunks)} chunks\")\n",
    "        return video_id\n",
    "    \n",
    "    def search_transcript(self, query: str, k: int = 5, video_id: str = None) -> List[Tuple[str, float, Dict]]:\n",
    "        \"\"\"\n",
    "        Search through indexed transcripts\n",
    "        Returns: List of (text, similarity_score, metadata) tuples\n",
    "        \"\"\"\n",
    "        # Get search results from vector database\n",
    "        results = self.vector_db.search_by_text(query, k=k)\n",
    "        \n",
    "        # Add metadata to results\n",
    "        enhanced_results = []\n",
    "        for text, score in results:\n",
    "            metadata = getattr(self.vector_db, 'metadata', {}).get(text, {})\n",
    "            \n",
    "            # Filter by video_id if specified\n",
    "            if video_id and metadata.get('video_id') != video_id:\n",
    "                continue\n",
    "                \n",
    "            enhanced_results.append((text, score, metadata))\n",
    "        \n",
    "        return enhanced_results\n",
    "    \n",
    "    def ask_question(self, question: str, video_id: str = None, k: int = 5) -> Dict:\n",
    "        \"\"\"\n",
    "        Ask a question about the indexed video content using RAG\n",
    "        \"\"\"\n",
    "        # Search for relevant chunks\n",
    "        relevant_chunks = self.search_transcript(question, k=k, video_id=video_id)\n",
    "        \n",
    "        if not relevant_chunks:\n",
    "            return {\n",
    "                \"answer\": \"No relevant information found in the indexed videos.\",\n",
    "                \"sources\": [],\n",
    "                \"video_id\": video_id\n",
    "            }\n",
    "        \n",
    "        # Prepare context from relevant chunks\n",
    "        context_parts = []\n",
    "        sources = []\n",
    "        \n",
    "        for i, (text, score, metadata) in enumerate(relevant_chunks, 1):\n",
    "            start_minutes = int(metadata.get('start_time', 0) // 60)\n",
    "            start_seconds = int(metadata.get('start_time', 0) % 60)\n",
    "            timestamp = f\"{start_minutes:02d}:{start_seconds:02d}\"\n",
    "            \n",
    "            context_parts.append(f\"[Source {i} - {timestamp}]: {text}\")\n",
    "            sources.append({\n",
    "                'text': text,\n",
    "                'timestamp': timestamp,\n",
    "                'start_time': metadata.get('start_time', 0),\n",
    "                'similarity_score': score,\n",
    "                'video_id': metadata.get('video_id')\n",
    "            })\n",
    "        \n",
    "        context = \"\\n\\n\".join(context_parts)\n",
    "        \n",
    "        # Create RAG prompt\n",
    "        system_prompt = SystemRolePrompt(\"\"\"\n",
    "        You are a helpful assistant that answers questions about YouTube video content.\n",
    "        Use only the provided context from the video transcript to answer questions.\n",
    "        If the context doesn't contain enough information to answer the question, say so.\n",
    "        When referencing specific parts of the video, mention the timestamp if available.\n",
    "        \"\"\")\n",
    "        \n",
    "        user_prompt = UserRolePrompt(\"\"\"\n",
    "        Context from YouTube video transcript:\n",
    "        {context}\n",
    "        \n",
    "        Question: {question}\n",
    "        \n",
    "        Please provide a comprehensive answer based on the video content above.\n",
    "        \"\"\")\n",
    "        \n",
    "        # Generate response\n",
    "        messages = [\n",
    "            system_prompt.create_message(),\n",
    "            user_prompt.create_message(context=context, question=question)\n",
    "        ]\n",
    "        \n",
    "        answer = self.llm.run(messages)\n",
    "        \n",
    "        return {\n",
    "            \"answer\": answer,\n",
    "            \"sources\": sources,\n",
    "            \"video_id\": video_id or \"all_videos\",\n",
    "            \"context_count\": len(relevant_chunks)\n",
    "        }\n",
    "    \n",
    "    def get_video_summary(self, video_id: str, max_chunks: int = 10) -> str:\n",
    "        \"\"\"\n",
    "        Generate a summary of the video content\n",
    "        \"\"\"\n",
    "        if video_id not in self.transcript_data:\n",
    "            return \"Video not found in indexed data.\"\n",
    "        \n",
    "        # Get all chunks for this video\n",
    "        all_chunks = []\n",
    "        for text, metadata in getattr(self.vector_db, 'metadata', {}).items():\n",
    "            if metadata.get('video_id') == video_id:\n",
    "                all_chunks.append((metadata.get('start_time', 0), text))\n",
    "        \n",
    "        # Sort by start time and take first max_chunks\n",
    "        all_chunks.sort(key=lambda x: x[0])\n",
    "        selected_chunks = all_chunks[:max_chunks]\n",
    "        \n",
    "        # Combine text\n",
    "        combined_text = \" \".join([chunk[1] for chunk in selected_chunks])\n",
    "        \n",
    "        # Generate summary\n",
    "        system_prompt = SystemRolePrompt(\"\"\"\n",
    "        You are a helpful assistant that creates concise summaries of YouTube video content.\n",
    "        Create a clear, structured summary that captures the main points and key insights.\n",
    "        \"\"\")\n",
    "        \n",
    "        user_prompt = UserRolePrompt(\"\"\"\n",
    "        Please summarize the following YouTube video content:\n",
    "        \n",
    "        {content}\n",
    "        \n",
    "        Provide a structured summary with main points and key insights.\n",
    "        \"\"\")\n",
    "        \n",
    "        messages = [\n",
    "            system_prompt.create_message(),\n",
    "            user_prompt.create_message(content=combined_text)\n",
    "        ]\n",
    "        \n",
    "        return self.llm.run(messages)\n",
    "    \n",
    "    def list_indexed_videos(self) -> List[Dict]:\n",
    "        \"\"\"Get list of all indexed videos with metadata\"\"\"\n",
    "        return list(self.video_metadata.values())\n",
    "    \n",
    "    def get_video_stats(self, video_id: str) -> Dict:\n",
    "        \"\"\"Get statistics about an indexed video\"\"\"\n",
    "        if video_id not in self.video_metadata:\n",
    "            return {\"error\": \"Video not found\"}\n",
    "        \n",
    "        metadata = self.video_metadata[video_id]\n",
    "        chunk_count = len([m for m in getattr(self.vector_db, 'metadata', {}).values() \n",
    "                          if m.get('video_id') == video_id])\n",
    "        \n",
    "        return {\n",
    "            **metadata,\n",
    "            \"indexed_chunks\": chunk_count,\n",
    "            \"average_chunk_duration\": metadata['total_duration'] / chunk_count if chunk_count > 0 else 0\n",
    "        }\n"
   ]
  },
  {
   "cell_type": "code",
   "execution_count": 36,
   "metadata": {},
   "outputs": [
    {
     "name": "stdout",
     "output_type": "stream",
     "text": [
      "YouTube Transcript RAG System initialized!\n",
      "\n",
      "Key features:\n",
      "1. Index YouTube videos by URL\n",
      "2. Search through transcript content semantically\n",
      "3. Ask questions about video content\n",
      "4. Get video summaries\n",
      "5. Access timestamped sources\n",
      "\n",
      "Example usage:\n",
      "\n",
      "# Index a video\n",
      "video_id = await youtube_rag.index_video(\"https://www.youtube.com/watch?v=VIDEO_ID\")\n",
      "\n",
      "# Search for specific content\n",
      "results = youtube_rag.search_transcript(\"speaking techniques\", k=3)\n",
      "\n",
      "# Ask questions about the video\n",
      "answer = youtube_rag.ask_question(\"What are the main speaking tips mentioned?\", video_id)\n",
      "\n",
      "# Get a summary\n",
      "summary = youtube_rag.get_video_summary(video_id)\n",
      "\n",
      "# List all indexed videos\n",
      "videos = youtube_rag.list_indexed_videos()\n",
      "\n"
     ]
    }
   ],
   "source": [
    "# Demonstration: Using the YouTube Transcript RAG System\n",
    "\n",
    "# Initialize the RAG system\n",
    "youtube_rag = YouTubeTranscriptRAG()\n",
    "\n",
    "# Example usage (uncomment to test with a real video)\n",
    "# video_url = \"https://www.youtube.com/watch?v=Unzc731iCUY\"  # Patrick Winston's \"How to Speak\" lecture\n",
    "# video_id = await youtube_rag.index_video(video_url, chunk_size=60)  # Smaller chunks for better precision\n",
    "\n",
    "print(\"YouTube Transcript RAG System initialized!\")\n",
    "print(\"\\nKey features:\")\n",
    "print(\"1. Index YouTube videos by URL\")\n",
    "print(\"2. Search through transcript content semantically\")\n",
    "print(\"3. Ask questions about video content\")\n",
    "print(\"4. Get video summaries\")\n",
    "print(\"5. Access timestamped sources\")\n",
    "\n",
    "print(\"\\nExample usage:\")\n",
    "print(\"\"\"\n",
    "# Index a video\n",
    "video_id = await youtube_rag.index_video(\"https://www.youtube.com/watch?v=VIDEO_ID\")\n",
    "\n",
    "# Search for specific content\n",
    "results = youtube_rag.search_transcript(\"speaking techniques\", k=3)\n",
    "\n",
    "# Ask questions about the video\n",
    "answer = youtube_rag.ask_question(\"What are the main speaking tips mentioned?\", video_id)\n",
    "\n",
    "# Get a summary\n",
    "summary = youtube_rag.get_video_summary(video_id)\n",
    "\n",
    "# List all indexed videos\n",
    "videos = youtube_rag.list_indexed_videos()\n",
    "\"\"\")\n"
   ]
  },
  {
   "cell_type": "code",
   "execution_count": null,
   "metadata": {},
   "outputs": [
    {
     "name": "stdout",
     "output_type": "stream",
     "text": [
      "Fetching transcript for video ID: Unzc731iCUY\n",
      "Successfully indexed video Unzc731iCUY with 61 chunks\n",
      "Successfully indexed video: Unzc731iCUY\n",
      "Video stats: {'url': 'https://www.youtube.com/watch?v=Unzc731iCUY', 'video_id': 'Unzc731iCUY', 'language': 'en', 'total_segments': 1166, 'total_duration': 3789.3399999999997, 'indexed_chunks': 61, 'average_chunk_duration': 62.120327868852456}\n",
      "\n",
      "==================================================\n",
      "RAG DEMONSTRATION\n",
      "==================================================\n",
      "\n",
      "1. Searching for 'speaking techniques':\n",
      "  Result 1 (Score: 0.536, Time: 09:23):\n",
      "  It can't be too obvious\n",
      "because then people will be embarrassed to say\n",
      "it, but the answers can't be ...\n",
      "\n",
      "  Result 2 (Score: 0.532, Time: 02:03):\n",
      "  And I was a better skier because\n",
      "I had the K, and I had the P, and all she had\n",
      "was the T. So you can...\n",
      "\n",
      "  Result 3 (Score: 0.461, Time: 05:13):\n",
      "  that they didn't know at\n",
      "the beginning of the hour. It's an empowerment promise. It's the reason for...\n",
      "\n",
      "2. Asking: 'What are the main speaking tips mentioned?'\n",
      "Answer: The main speaking tips mentioned in the video content are:\n",
      "\n",
      "1. **Build a Personal Repertoire of Techniques (Source 1, 09:23):**  \n",
      "   Observe effective speakers to understand why they succeed. Use their strategies to develop your own personal style and armamentarium (a collection) of speaking techniques.\n",
      "\n",
      "2. **Incorporate Heuristics into Your Speaking (Source 2, 02:03):**  \n",
      "   Learning and applying heuristics or practical techniques can make you significantly better at speaking, sometimes more so than inherent talent. Exposure to various ideas will help you find those that resonate and help you succeed.\n",
      "\n",
      "3. **Start Your Talk with an Empowerment Promise, Not a Joke (Source 3, 04:11 & Source 4, 05:13):**  \n",
      "   Avoid starting with a joke because the audience may not be ready or attentive yet. Instead, begin by telling the audience what they will learn or gain by the end of your presentation—a clear empowerment promise.\n",
      "\n",
      "4. **Cycle on Your Subject (Source 4, 05:13):**  \n",
      "   Reiterate your key message multiple times during your talk. Go around the subject more than once to ensure the audience fully absorbs it. This technique helps reinforce important points without underestimating the audience's intelligence.\n",
      "\n",
      "5. **Manage the Presentation Environment (Source 5, 11:27):**  \n",
      "   a. Keep the lights full up rather than dimming them for better slide visibility because it's difficult for the audience to stay attentive if they are drowsy (e.g., seeing slides through closed eyelids).  \n",
      "   b. Visit and familiarize yourself with the speaking venue beforehand (\"case the place\") to anticipate and handle any potential issues or surprises in the environment.\n",
      "\n",
      "These tips collectively aim to make presentations more effective by focusing on preparation, presentation style, audience engagement, and environmental management.\n",
      "Sources used: 5 chunks\n",
      "\n",
      "3. Getting video summary:\n",
      "Summary: Summary of Patrick Winston's Talk on Communication Skills:\n",
      "\n",
      "1. Importance of Communication Skills\n",
      "   - Communication abilities (speaking and writing) are crucial for success in life.\n",
      "   - Effectiveness in communication depends largely on knowledge, practice, and inherent talent (with talent playing the smallest role).\n",
      "   - Quality ideas come after speaking and writing skills in importance.\n",
      "\n",
      "2. Analogy of Talent vs. Knowledge and Practice\n",
      "   - Winston shares an example of Mary Lou Retton, an Olympic gymnast with natural talent but limited skiing skill.\n",
      "   - Despite her talent (T), his greater knowledge (K) and practice (P) made him a better skier.\n",
      "   - Emphasizes that knowledge and practice outweigh talent in achieving competence.\n",
      "\n",
      "3. Objective and Promise of the Session\n",
      "   - The session aims to equip listeners with various speaking techniques.\n",
      "   - Listeners may find at least one technique that significantly improves their communication and opportunities.\n",
      "   - The process is non-linear; the impact of techniques may reveal itself unexpectedly.\n",
      "\n",
      "4. Rule of Engagement for Learning\n",
      "   - Laptops and cell phones must be closed during the session to prevent distraction.\n",
      "   - Humans have a single language processor that cannot multitask effectively with distractions like web browsing or email.\n",
      "   - Distraction affects not only the individual but also those around them and the quality of the speaker’s delivery.\n",
      "\n",
      "5. How to Start a Talk\n",
      "   - Avoid opening with a joke as the audience is still settling in and not prepared for humor.\n",
      "   - Effective openings involve an \"empowerment promise\" that clearly tells the audience what they will learn or gain by the end of the talk.\n",
      "\n",
      "Key Insights:\n",
      "- Success in communication is primarily built on knowledge and practice rather than innate talent.\n",
      "- Being fully present and attentive is essential for effective learning and communication.\n",
      "- The opening of a presentation should focus on setting clear expectations and motivating the audience rather than attempting humor too early.\n",
      "\n",
      "4. Indexed videos:\n",
      "  - Unzc731iCUY: 3789.3s, 1166 segments\n"
     ]
    }
   ],
   "source": [
    "#  Using the RAG system with the existing video data\n",
    "\n",
    "# Using Patrick Winston's \"How to Speak\" lecture\n",
    "video_url = \"https://www.youtube.com/watch?v=Unzc731iCUY\" \n",
    "\n",
    "# Index the video (this will create embeddings and make it searchable)\n",
    "video_id = await youtube_rag.index_video(video_url, chunk_size=60)\n",
    "\n",
    "print(f\"Successfully indexed video: {video_id}\")\n",
    "print(f\"Video stats: {youtube_rag.get_video_stats(video_id)}\")\n",
    "\n",
    "\n",
    "# 1. Search for specific content\n",
    "print(\"\\n1. Searching for 'speaking techniques':\")\n",
    "search_results = youtube_rag.search_transcript(\"speaking techniques\", k=3, video_id=video_id)\n",
    "for i, (text, score, metadata) in enumerate(search_results, 1):\n",
    "    timestamp = f\"{int(metadata['start_time']//60):02d}:{int(metadata['start_time']%60):02d}\"\n",
    "    print(f\"  Result {i} (Score: {score:.3f}, Time: {timestamp}):\")\n",
    "    print(f\"  {text[:100]}...\")\n",
    "    print()\n",
    "\n",
    "# 2. Ask a question about the video content\n",
    "print(\"2. Asking: 'What are the main speaking tips mentioned?'\")\n",
    "question_result = youtube_rag.ask_question(\"What are the main speaking tips mentioned?\", video_id=video_id)\n",
    "print(f\"Answer: {question_result['answer']}\")\n",
    "print(f\"Sources used: {question_result['context_count']} chunks\")\n",
    "print()\n",
    "\n",
    "# 3. Get a summary of the video\n",
    "print(\"3. Getting video summary:\")\n",
    "summary = youtube_rag.get_video_summary(video_id, max_chunks=5)\n",
    "print(f\"Summary: {summary}\")\n",
    "print()\n",
    "\n",
    "# 4. List indexed videos\n",
    "print(\"4. Indexed videos:\")\n",
    "videos = youtube_rag.list_indexed_videos()\n",
    "for video in videos:\n",
    "    print(f\"  - {video['video_id']}: {video['total_duration']:.1f}s, {video['total_segments']} segments\")\n"
   ]
  },
  {
   "cell_type": "code",
   "execution_count": 38,
   "metadata": {},
   "outputs": [
    {
     "name": "stdout",
     "output_type": "stream",
     "text": [
      "ADVANCED RAG USAGE PATTERNS\n",
      "========================================\n",
      "\n",
      "1. Multiple Video Support:\n",
      "   - Index multiple videos: await youtube_rag.index_video(url1), await youtube_rag.index_video(url2)\n",
      "   - Search across all videos: youtube_rag.search_transcript('query')\n",
      "   - Search specific video: youtube_rag.search_transcript('query', video_id='specific_id')\n",
      "\n",
      "2. Custom Chunking Strategies:\n",
      "   - Short videos: chunk_size=30 (30 seconds)\n",
      "   - Educational content: chunk_size=120 (2 minutes)\n",
      "   - Dense technical content: chunk_size=60 (1 minute)\n",
      "\n",
      "3. Advanced Search Options:\n",
      "   - Adjust k parameter for more/fewer results\n",
      "   - Filter by video_id for targeted search\n",
      "   - Access similarity scores for relevance ranking\n",
      "\n",
      "4. Integration with Existing RAG Pipeline:\n",
      "   - Use the same VectorDatabase class\n",
      "   - Compatible with existing embedding models\n",
      "   - Can combine with text documents\n",
      "\n",
      "5. Rich Metadata Support:\n",
      "   - Automatic timestamp extraction\n",
      "   - Video duration and segment tracking\n",
      "   - Source attribution for answers\n",
      "\n",
      "6. Combining with Existing RAG:\n",
      "\n",
      "# You can use the same vector database for both text and video content\n",
      "combined_rag = RetrievalAugmentedQAPipeline(\n",
      "    vector_db_retriever=youtube_rag.vector_db,  # Same vector DB\n",
      "    llm=chat_openai\n",
      ")\n",
      "\n",
      "# Search across both text documents and video transcripts\n",
      "result = combined_rag.run_pipeline(\"What are the key insights about communication?\")\n",
      "\n",
      "\n",
      "==================================================\n",
      "KEY IMPROVEMENTS OVER ORIGINAL CODE:\n",
      "==================================================\n",
      "✅ Semantic search instead of simple text matching\n",
      "✅ Timestamped results with video context\n",
      "✅ Question-answering with source attribution\n",
      "✅ Video summarization capabilities\n",
      "✅ Multiple video support\n",
      "✅ Integration with existing RAG infrastructure\n",
      "✅ Metadata preservation and retrieval\n",
      "✅ Async processing for better performance\n"
     ]
    }
   ],
   "source": [
    "# Advanced Usage Examples\n",
    "\n",
    "print(\"ADVANCED RAG USAGE PATTERNS\")\n",
    "print(\"=\"*40)\n",
    "\n",
    "# 1. Multiple video indexing and cross-video search\n",
    "print(\"\\n1. Multiple Video Support:\")\n",
    "print(\"   - Index multiple videos: await youtube_rag.index_video(url1), await youtube_rag.index_video(url2)\")\n",
    "print(\"   - Search across all videos: youtube_rag.search_transcript('query')\")\n",
    "print(\"   - Search specific video: youtube_rag.search_transcript('query', video_id='specific_id')\")\n",
    "\n",
    "# 2. Custom chunk sizes for different content types\n",
    "print(\"\\n2. Custom Chunking Strategies:\")\n",
    "print(\"   - Short videos: chunk_size=30 (30 seconds)\")\n",
    "print(\"   - Educational content: chunk_size=120 (2 minutes)\")\n",
    "print(\"   - Dense technical content: chunk_size=60 (1 minute)\")\n",
    "\n",
    "# 3. Advanced search and filtering\n",
    "print(\"\\n3. Advanced Search Options:\")\n",
    "print(\"   - Adjust k parameter for more/fewer results\")\n",
    "print(\"   - Filter by video_id for targeted search\")\n",
    "print(\"   - Access similarity scores for relevance ranking\")\n",
    "\n",
    "# 4. Integration with existing RAG pipeline\n",
    "print(\"\\n4. Integration with Existing RAG Pipeline:\")\n",
    "print(\"   - Use the same VectorDatabase class\")\n",
    "print(\"   - Compatible with existing embedding models\")\n",
    "print(\"   - Can combine with text documents\")\n",
    "\n",
    "# 5. Metadata and timestamping\n",
    "print(\"\\n5. Rich Metadata Support:\")\n",
    "print(\"   - Automatic timestamp extraction\")\n",
    "print(\"   - Video duration and segment tracking\")\n",
    "print(\"   - Source attribution for answers\")\n",
    "\n",
    "# Example of combining with existing RAG system\n",
    "print(\"\\n6. Combining with Existing RAG:\")\n",
    "print(\"\"\"\n",
    "# You can use the same vector database for both text and video content\n",
    "combined_rag = RetrievalAugmentedQAPipeline(\n",
    "    vector_db_retriever=youtube_rag.vector_db,  # Same vector DB\n",
    "    llm=chat_openai\n",
    ")\n",
    "\n",
    "# Search across both text documents and video transcripts\n",
    "result = combined_rag.run_pipeline(\"What are the key insights about communication?\")\n",
    "\"\"\")\n",
    "\n",
    "print(\"\\n\" + \"=\"*50)\n",
    "print(\"KEY IMPROVEMENTS OVER ORIGINAL CODE:\")\n",
    "print(\"=\"*50)\n",
    "print(\"✅ Semantic search instead of simple text matching\")\n",
    "print(\"✅ Timestamped results with video context\")\n",
    "print(\"✅ Question-answering with source attribution\")\n",
    "print(\"✅ Video summarization capabilities\")\n",
    "print(\"✅ Multiple video support\")\n",
    "print(\"✅ Integration with existing RAG infrastructure\")\n",
    "print(\"✅ Metadata preservation and retrieval\")\n",
    "print(\"✅ Async processing for better performance\")\n"
   ]
  },
  {
   "cell_type": "code",
   "execution_count": null,
   "metadata": {},
   "outputs": [
    {
     "name": "stdout",
     "output_type": "stream",
     "text": [
      "1. Asking: 'What is the main topic of what happens between minutes 10 and 20 in the video?'\n",
      "Answer: The transcript context provided does not include any information about what happens between minutes 10 and 20 in the video. Therefore, I am unable to determine the main topic covered during that time segment based on the given content.\n",
      "Sources used: 5 chunks\n",
      "\n",
      "2. Asking: 'Given that I should not start with humor, where in my speeches should I try and get people to laugh?\n",
      "Answer: Based on the video content, you should avoid starting your talk with a joke because at the beginning, people are still getting settled—they are putting away laptops and adjusting to your vocal parameters—so they're not ready for humor and jokes tend to fall flat (Source 1 - 04:11). Instead, start with an \"empowerment promise\" that tells people what they will learn by the end of the talk, which engages them from the start (Source 1 - 04:11, Source 5 - 05:13).\n",
      "\n",
      "However, humor can be very effective when used towards the end of your talk. A good approach mentioned is to finish with a joke, which leaves the audience with the impression that they have enjoyed themselves throughout the presentation. This technique was highlighted by the speaker’s colleague, Doug Lenat, who is described as a fantastic speaker and whose secret is to always finish with a joke (Source 2 - 57:04).\n",
      "\n",
      "In summary:\n",
      "- Do **not** start your speech with humor because the audience is not prepared for it.\n",
      "- Instead, start with an empowerment promise to grab attention.\n",
      "- Use humor effectively near the end of your speech to leave a positive, memorable impression.\n",
      "\n",
      "This strategy helps ensure your jokes land well and that your presentation is engaging from start to finish.\n",
      "Sources used: 5 chunks\n",
      "\n",
      "2. Asking: 'How do I get people to stay engaged throughout the entire speech? Give examples of differences I should incorprate depending on the time length, and the different mediums used while presenting.\n",
      "Answer: To keep people engaged throughout your speech, the video suggests several strategies and considerations related to content, presentation style, and the medium used.\n",
      "\n",
      "1. Start Strong with an Empowerment Promise (Source 5 - 04:11):\n",
      "- Begin your talk not with a joke, but with an empowerment promise.\n",
      "- Tell the audience what they will know or gain by the end of your presentation.\n",
      "- This helps set expectations and gives your audience a reason to stay attentive.\n",
      "\n",
      "2. Balance Your Content to Avoid Overload (Source 2 - 31:17):\n",
      "- Avoid making slides too heavy with text or images. Too much information or too dense slides (\"too heavy\") overwhelm the audience.\n",
      "- When preparing slides, print them out and lay them on a table to review if the content is too much or too little (\"not enough air\" or \"not enough white space\").\n",
      "- Incorporate clear visuals with arrows or indicators instead of relying on a laser pointer, as the latter can cause you to lose eye contact and connection with the audience.\n",
      "\n",
      "3. Simplify and Reduce Text on Slides (Source 3 - 27:10):\n",
      "- Get rid of unnecessary elements like slide titles to reduce distractions.\n",
      "- Use fewer words on your slides to avoid forcing the audience to split their attention between reading and listening.\n",
      "- Since people have only one language processor, too many words can cause them to focus on reading instead of listening.\n",
      "- This simplification keeps audience focus on you rather than the slide.\n",
      "\n",
      "4. Develop a Personal Style Based on Observing Effective Speakers (Source 1 - 09:23):\n",
      "- Watch speakers you admire and analyze why they are successful.\n",
      "- Build your own repertoire of presentation ideas and develop a personal style that fits your content and audience.\n",
      "- Tailor your heuristics to the time and place of your presentation.\n",
      "\n",
      "5. Adjust According to Time Length and Medium:\n",
      "- The video does not provide explicit differences for varying time lengths or mediums beyond emphasizing the importance of time and place (Source 1 - 09:23).\n",
      "- However, by referencing that you should observe context and adapt accordingly, one can infer that:\n",
      "   - For shorter speeches, focus on concise, impactful content with clear empowerment promises.\n",
      "   - For longer presentations, segment content into manageable parts, incorporate pauses, and avoid overload.\n",
      "   - For virtual presentations (implied by pointing out laser pointer issues), avoid tools that reduce your connection, and use visuals like arrows embedded on slides.\n",
      "\n",
      "6. Closing Your Speech Effectively (Source 4 - 56:02):\n",
      "- Use a contribution slide to summarize your key points and convey your unique contribution.\n",
      "- Indicate clearly when you have finished to avoid awkward endings.\n",
      "- Consider ending with a light joke or simple closing remarks once the audience is adjusted to your talk flow.\n",
      "\n",
      "Summary:\n",
      "- Start by promising empowerment.\n",
      "- Keep slides simple and visually balanced, avoiding laser pointers and heavy text.\n",
      "- Watch and learn from effective speakers to craft your personal style suitable for the setting.\n",
      "- Adjust your approach based on the length and medium, focusing on clarity and connection.\n",
      "- Conclude with a clear summary and official signal that you are done.\n",
      "\n",
      "By following these principles, you can maintain audience engagement throughout your presentation.\n",
      "Sources used: 5 chunks\n",
      "\n"
     ]
    }
   ],
   "source": [
    "#  Ask more questions about the video content\n",
    "print(\"1. Asking: 'What is the main topic of what happens between minutes 10 and 20 in the video?'\")\n",
    "question_result = youtube_rag.ask_question(\"What is the main topic of what happens between minutes 10 and 20 in the video?\", video_id=video_id)\n",
    "print(f\"Answer: {question_result['answer']}\")\n",
    "print(f\"Sources used: {question_result['context_count']} chunks\")\n",
    "print()\n",
    "\n",
    "print(\"2. Asking: 'Given that I should not start with humor, where in my speeches should I try and get people to laugh?\")\n",
    "question_result = youtube_rag.ask_question(\"Given that I should not start with humor, where in my speeches should I try and get people to laugh?\", video_id=video_id)\n",
    "print(f\"Answer: {question_result['answer']}\")\n",
    "print(f\"Sources used: {question_result['context_count']} chunks\")\n",
    "print()\n",
    "\n",
    "print(\"3. Asking: 'How do I get people to stay engaged throughout the entire speech? Give examples of differences I should incorprate depending on the time length, and the different mediums used while presenting.\")\n",
    "question_result = youtube_rag.ask_question(\"How do I get people to stay engaged throughout the entire speech? Give examples of differences I should incorprate depending on the time length, and the different mediums used while presenting.\", video_id=video_id)\n",
    "print(f\"Answer: {question_result['answer']}\")\n",
    "print(f\"Sources used: {question_result['context_count']} chunks\")\n",
    "print()"
   ]
  },
  {
   "cell_type": "code",
   "execution_count": null,
   "metadata": {},
   "outputs": [
    {
     "name": "stdout",
     "output_type": "stream",
     "text": [
      "Fetching transcript for video ID: ba-HMvDn_vU\n",
      "Successfully indexed video ba-HMvDn_vU with 78 chunks\n",
      "Getting video summary:\n",
      "Summary: Summary of YouTube Video Content:\n",
      "\n",
      "Title: Introduction to Human Brain Course by Nancy Kanwisher\n",
      "\n",
      "1. Introduction\n",
      "   - Nancy Kanwisher welcomes students to the Human Brain class (Course 913).\n",
      "   - She introduces herself and shows an image of her brain with highlighted areas to be studied.\n",
      "   - States the plan for the session: a 10-minute true story, followed by course details.\n",
      "\n",
      "2. The Story\n",
      "   - A true story involving a friend named \"Bob,\" slightly altered for privacy.\n",
      "   - Bob stayed overnight at Nancy's house before leaving for a conference.\n",
      "   - Early morning, Nancy hears noises and a crash, finds Bob unconscious on the floor.\n",
      "   - Bob is unresponsive initially but gradually wakes up, disoriented.\n",
      "   - Nancy calls 911; EMTs arrive quickly, assess Bob, find no obvious issues.\n",
      "   - EMTs advise it’s safe for Nancy to drive Bob to the ER instead of ambulance transport.\n",
      "   - Nancy drives Bob to Mount Auburn Hospital ER, where they experience long waiting times.\n",
      "\n",
      "3. Themes Introduced by the Story\n",
      "   - Explores the complexity and nature of the human mind and brain organization.\n",
      "   - Highlights issues related to brain injury and recovery.\n",
      "   - Touches upon resilience, privilege, and expertise within societal contexts.\n",
      "   - Serves as a foreshadowing device for topics covered in the course.\n",
      "   - Emphasizes that while the story is engaging, it is not part of the exam material.\n",
      "\n",
      "4. Next Steps for the Course\n",
      "   - Following the story, Nancy plans to discuss:\n",
      "     - Why studying the human brain is important and interesting.\n",
      "     - How brain research is conducted.\n",
      "     - Specific topics that will be covered throughout the course.\n",
      "   - Details on course mechanics, grading, and syllabus allocation will be provided.\n",
      "\n",
      "Key Insights:\n",
      "- The human brain is complex and understanding it involves studying real-life neurological events.\n",
      "- Brain damage and recovery are intricate, influenced by multiple factors including social context.\n",
      "- Personal stories help frame scientific learning and make course material relatable.\n",
      "- The course aims to be engaging and informative, with clear expectations set from the start.\n",
      "\n",
      "Answer: Bob experienced a medical emergency early in the morning when he was found lying on the floor, not moving, after a crash was heard (Source 1 - 03:05). He was initially unresponsive, prompting a 911 call, but he began to wake up while waiting for the ambulance, though he was woozy and confused.\n",
      "\n",
      "Doctors initially did not find anything conclusive through various tests and thought it was not a brain issue but possibly a heart problem (Source 4 - 09:14). However, a persistent concern about Bob's brain led to a scan being revisited, which was a previous brain scan done years before in an experiment (Source 3 - 10:14; Source 5 - 05:08). Eventually, it was revealed that Bob had a serious brain condition requiring major neurosurgery: an 11-hour operation to remove a large piece of bone from the back of his head and pull apart the hemispheres of his brain (Source 2 - 19:25).\n",
      "\n",
      "Additionally, post-surgery tests involving drawing objects showed that Bob had specific cognitive difficulties related to imagining or remembering spatial arrangements of parts in a room, even though he could draw multi-part objects relatively correctly (Source 2 - 19:25). This suggests that Bob suffered from significant neurological issues that affected his brain function.\n",
      "\n",
      "In summary, Bob had a sudden neurological event leading to unconsciousness and confusion, which resulted in the discovery of a serious brain problem that necessitated extensive neurosurgery.\n",
      "Sources used: 5 chunks\n",
      "\n"
     ]
    }
   ],
   "source": [
    "# User inputted youtube url\n",
    "video_url = input(\"Enter a video URL: \")\n",
    "\n",
    "# Index the video (this will create embeddings and make it searchable)\n",
    "video_id = await youtube_rag.index_video(video_url, chunk_size=60)\n",
    "\n",
    "# 3. Get a summary of the video\n",
    "print(\"Getting video summary:\")\n",
    "summary = youtube_rag.get_video_summary(video_id, max_chunks=5)\n",
    "print(f\"Summary: {summary}\")\n",
    "print()\n",
    "\n",
    "\n"
   ]
  },
  {
   "cell_type": "code",
   "execution_count": null,
   "metadata": {},
   "outputs": [],
   "source": [
    "# have the user ask a question about the video\n",
    "user_inputted_question = input(\"Ask a question: \")\n",
    "\n",
    "question_result = youtube_rag.ask_question(user_inputted_question, video_id=video_id)\n",
    "print(f\"Answer: {question_result['answer']}\")\n",
    "print(f\"Sources used: {question_result['context_count']} chunks\")\n",
    "print()"
   ]
  }
 ],
 "metadata": {
  "colab": {
   "provenance": []
  },
  "kernelspec": {
   "display_name": ".venv",
   "language": "python",
   "name": "python3"
  },
  "language_info": {
   "codemirror_mode": {
    "name": "ipython",
    "version": 3
   },
   "file_extension": ".py",
   "mimetype": "text/x-python",
   "name": "python",
   "nbconvert_exporter": "python",
   "pygments_lexer": "ipython3",
   "version": "3.13.5"
  }
 },
 "nbformat": 4,
 "nbformat_minor": 4
}
