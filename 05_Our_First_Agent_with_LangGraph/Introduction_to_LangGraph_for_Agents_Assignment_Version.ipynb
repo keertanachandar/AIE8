{
  "cells": [
    {
      "cell_type": "markdown",
      "metadata": {
        "id": "gJXW_DgiSebM"
      },
      "source": [
        "# LangGraph and LangSmith - Agentic RAG Powered by LangChain\n",
        "\n",
        "In the following notebook we'll complete the following tasks:\n",
        "\n",
        "- 🤝 Breakout Room #1:\n",
        "  1. Install required libraries\n",
        "  2. Set Environment Variables\n",
        "  3. Creating our Tool Belt\n",
        "  4. Creating Our State\n",
        "  5. Creating and Compiling A Graph!\n",
        "\n",
        "- 🤝 Breakout Room #2:\n",
        "  1. Evaluating the LangGraph Application with LangSmith\n",
        "  2. Adding Helpfulness Check and \"Loop\" Limits\n",
        "  3. LangGraph for the \"Patterns\" of GenAI"
      ]
    },
    {
      "cell_type": "markdown",
      "metadata": {
        "id": "djQ3nRAgoF67"
      },
      "source": [
        "# 🤝 Breakout Room #1"
      ]
    },
    {
      "cell_type": "markdown",
      "metadata": {
        "id": "e7pQDUhUnIo8"
      },
      "source": [
        "## Part 1: LangGraph - Building Cyclic Applications with LangChain\n",
        "\n",
        "LangGraph is a tool that leverages LangChain Expression Language to build coordinated multi-actor and stateful applications that includes cyclic behaviour.\n",
        "\n",
        "### Why Cycles?\n",
        "\n",
        "In essence, we can think of a cycle in our graph as a more robust and customizable loop. It allows us to keep our application agent-forward while still giving the powerful functionality of traditional loops.\n",
        "\n",
        "Due to the inclusion of cycles over loops, we can also compose rather complex flows through our graph in a much more readable and natural fashion. Effectively allowing us to recreate application flowcharts in code in an almost 1-to-1 fashion.\n",
        "\n",
        "### Why LangGraph?\n",
        "\n",
        "Beyond the agent-forward approach - we can easily compose and combine traditional \"DAG\" (directed acyclic graph) chains with powerful cyclic behaviour due to the tight integration with LCEL. This means it's a natural extension to LangChain's core offerings!"
      ]
    },
    {
      "cell_type": "markdown",
      "metadata": {
        "id": "3_fLDElOVoop"
      },
      "source": [
        "## Task 1:  Dependencies\n"
      ]
    },
    {
      "cell_type": "markdown",
      "metadata": {
        "id": "wujPjGJuoPwg"
      },
      "source": [
        "## Task 2: Environment Variables\n",
        "\n",
        "We'll want to set our OpenAI, Tavily, and LangSmith API keys along with our LangSmith environment variables."
      ]
    },
    {
      "cell_type": "code",
      "execution_count": 1,
      "metadata": {
        "colab": {
          "base_uri": "https://localhost:8080/"
        },
        "id": "Jdh8CoVWHRvs",
        "outputId": "3fa78560-393c-4ee5-b871-9886bf0d70f4"
      },
      "outputs": [],
      "source": [
        "import os\n",
        "import getpass\n",
        "\n",
        "os.environ[\"OPENAI_API_KEY\"] = getpass.getpass(\"OpenAI API Key:\")"
      ]
    },
    {
      "cell_type": "code",
      "execution_count": 2,
      "metadata": {
        "colab": {
          "base_uri": "https://localhost:8080/"
        },
        "id": "Jkla2fpx28QK",
        "outputId": "52d7ad22-fcb1-4abe-853b-216c55a12650"
      },
      "outputs": [],
      "source": [
        "os.environ[\"TAVILY_API_KEY\"] = getpass.getpass(\"TAVILY_API_KEY\")"
      ]
    },
    {
      "cell_type": "code",
      "execution_count": 3,
      "metadata": {
        "colab": {
          "base_uri": "https://localhost:8080/"
        },
        "id": "Nv0glIDyHmRt",
        "outputId": "b69df90a-b4e1-4ddb-9de0-882d98b68ab2"
      },
      "outputs": [],
      "source": [
        "from uuid import uuid4\n",
        "\n",
        "os.environ[\"LANGCHAIN_TRACING_V2\"] = \"true\"\n",
        "os.environ[\"LANGCHAIN_PROJECT\"] = f\"AIE8 - LangGraph - {uuid4().hex[0:8]}\"\n",
        "os.environ[\"LANGCHAIN_API_KEY\"] = getpass.getpass(\"LangSmith API Key: \")"
      ]
    },
    {
      "cell_type": "markdown",
      "metadata": {
        "id": "sBRyQmEAVzua"
      },
      "source": [
        "## Task 3: Creating our Tool Belt\n",
        "\n",
        "As is usually the case, we'll want to equip our agent with a toolbelt to help answer questions and add external knowledge.\n",
        "\n",
        "There's a tonne of tools in the [LangChain Community Repo](https://github.com/langchain-ai/langchain-community/tree/main/libs/community) but we'll stick to a couple just so we can observe the cyclic nature of LangGraph in action!\n",
        "\n",
        "We'll leverage:\n",
        "\n",
        "- [Tavily Search Results](https://github.com/langchain-ai/langchain-community/blob/main/libs/community/langchain_community/tools/tavily_search/tool.py)\n",
        "- [Arxiv](https://github.com/langchain-ai/langchain-community/blob/main/libs/community/langchain_community/tools/arxiv/tool.py)"
      ]
    },
    {
      "cell_type": "markdown",
      "metadata": {
        "id": "2k6n_Dob2F46"
      },
      "source": [
        "#### 🏗️ Activity #1:\n",
        "\n",
        "Please add the tools to use into our toolbelt.\n",
        "\n",
        "> NOTE: Each tool in our toolbelt should be a method."
      ]
    },
    {
      "cell_type": "code",
      "execution_count": 4,
      "metadata": {
        "id": "lAxaSvlfIeOg"
      },
      "outputs": [
        {
          "name": "stderr",
          "output_type": "stream",
          "text": [
            "/var/folders/39/5n5_b8sn5sq0mly0mtz0l8pw0000gn/T/ipykernel_95511/1203815797.py:4: LangChainDeprecationWarning: The class `TavilySearchResults` was deprecated in LangChain 0.3.25 and will be removed in 1.0. An updated version of the class exists in the :class:`~langchain-tavily package and should be used instead. To use it run `pip install -U :class:`~langchain-tavily` and import as `from :class:`~langchain_tavily import TavilySearch``.\n",
            "  tavily_tool = TavilySearchResults(max_results=5)\n"
          ]
        }
      ],
      "source": [
        "from langchain_community.tools.tavily_search import TavilySearchResults\n",
        "from langchain_community.tools.arxiv.tool import ArxivQueryRun\n",
        "\n",
        "tavily_tool = TavilySearchResults(max_results=5)\n",
        "\n",
        "tool_belt = [\n",
        "    tavily_tool,\n",
        "    ArxivQueryRun(),\n",
        "]"
      ]
    },
    {
      "cell_type": "markdown",
      "metadata": {
        "id": "VI-C669ZYVI5"
      },
      "source": [
        "### Model\n",
        "\n",
        "Now we can set-up our model! We'll leverage the familiar OpenAI model suite for this example - but it's not *necessary* to use with LangGraph. LangGraph supports all models - though you might not find success with smaller models - as such, they recommend you stick with:\n",
        "\n",
        "- OpenAI's GPT-3.5 and GPT-4\n",
        "- Anthropic's Claude\n",
        "- Google's Gemini\n",
        "\n",
        "> NOTE: Because we're leveraging the OpenAI function calling API - we'll need to use OpenAI *for this specific example* (or any other service that exposes an OpenAI-style function calling API."
      ]
    },
    {
      "cell_type": "code",
      "execution_count": 5,
      "metadata": {
        "id": "QkNS8rNZJs4z"
      },
      "outputs": [],
      "source": [
        "from langchain_openai import ChatOpenAI\n",
        "\n",
        "model = ChatOpenAI(model=\"gpt-4.1-nano\", temperature=0)"
      ]
    },
    {
      "cell_type": "markdown",
      "metadata": {
        "id": "Ugkj3GzuZpQv"
      },
      "source": [
        "Now that we have our model set-up, let's \"put on the tool belt\", which is to say: We'll bind our LangChain formatted tools to the model in an OpenAI function calling format."
      ]
    },
    {
      "cell_type": "code",
      "execution_count": 6,
      "metadata": {
        "id": "4OdMqFafZ_0V"
      },
      "outputs": [],
      "source": [
        "model = model.bind_tools(tool_belt)"
      ]
    },
    {
      "cell_type": "markdown",
      "metadata": {
        "id": "ERzuGo6W18Lr"
      },
      "source": [
        "#### ❓ Question #1:\n",
        "\n",
        "How does the model determine which tool to use?"
      ]
    },
    {
      "cell_type": "markdown",
      "metadata": {
        "id": "_296Ub96Z_H8"
      },
      "source": [
        "## Task 4: Putting the State in Stateful\n",
        "\n",
        "Earlier we used this phrasing:\n",
        "\n",
        "`coordinated multi-actor and stateful applications`\n",
        "\n",
        "So what does that \"stateful\" mean?\n",
        "\n",
        "To put it simply - we want to have some kind of object which we can pass around our application that holds information about what the current situation (state) is. Since our system will be constructed of many parts moving in a coordinated fashion - we want to be able to ensure we have some commonly understood idea of that state.\n",
        "\n",
        "LangGraph leverages a `StatefulGraph` which uses an `AgentState` object to pass information between the various nodes of the graph.\n",
        "\n",
        "There are more options than what we'll see below - but this `AgentState` object is one that is stored in a `TypedDict` with the key `messages` and the value is a `Sequence` of `BaseMessages` that will be appended to whenever the state changes.\n",
        "\n",
        "Let's think about a simple example to help understand exactly what this means (we'll simplify a great deal to try and clearly communicate what state is doing):\n",
        "\n",
        "1. We initialize our state object:\n",
        "  - `{\"messages\" : []}`\n",
        "2. Our user submits a query to our application.\n",
        "  - New State: `HumanMessage(#1)`\n",
        "  - `{\"messages\" : [HumanMessage(#1)}`\n",
        "3. We pass our state object to an Agent node which is able to read the current state. It will use the last `HumanMessage` as input. It gets some kind of output which it will add to the state.\n",
        "  - New State: `AgentMessage(#1, additional_kwargs {\"function_call\" : \"WebSearchTool\"})`\n",
        "  - `{\"messages\" : [HumanMessage(#1), AgentMessage(#1, ...)]}`\n",
        "4. We pass our state object to a \"conditional node\" (more on this later) which reads the last state to determine if we need to use a tool - which it can determine properly because of our provided object!"
      ]
    },
    {
      "cell_type": "code",
      "execution_count": 7,
      "metadata": {
        "id": "mxL9b_NZKUdL"
      },
      "outputs": [],
      "source": [
        "from typing import TypedDict, Annotated\n",
        "from langgraph.graph.message import add_messages\n",
        "import operator\n",
        "from langchain_core.messages import BaseMessage\n",
        "\n",
        "class AgentState(TypedDict):\n",
        "  messages: Annotated[list, add_messages]"
      ]
    },
    {
      "cell_type": "markdown",
      "metadata": {
        "id": "vWsMhfO9grLu"
      },
      "source": [
        "## Task 5: It's Graphing Time!\n",
        "\n",
        "Now that we have state, and we have tools, and we have an LLM - we can finally start making our graph!\n",
        "\n",
        "Let's take a second to refresh ourselves about what a graph is in this context.\n",
        "\n",
        "Graphs, also called networks in some circles, are a collection of connected objects.\n",
        "\n",
        "The objects in question are typically called nodes, or vertices, and the connections are called edges.\n",
        "\n",
        "Let's look at a simple graph.\n",
        "\n",
        "![image](https://i.imgur.com/2NFLnIc.png)\n",
        "\n",
        "Here, we're using the coloured circles to represent the nodes and the yellow lines to represent the edges. In this case, we're looking at a fully connected graph - where each node is connected by an edge to each other node.\n",
        "\n",
        "If we were to think about nodes in the context of LangGraph - we would think of a function, or an LCEL runnable.\n",
        "\n",
        "If we were to think about edges in the context of LangGraph - we might think of them as \"paths to take\" or \"where to pass our state object next\".\n",
        "\n",
        "Let's create some nodes and expand on our diagram.\n",
        "\n",
        "> NOTE: Due to the tight integration with LCEL - we can comfortably create our nodes in an async fashion!"
      ]
    },
    {
      "cell_type": "code",
      "execution_count": 8,
      "metadata": {
        "id": "91flJWtZLUrl"
      },
      "outputs": [],
      "source": [
        "from langgraph.prebuilt import ToolNode\n",
        "\n",
        "def call_model(state):\n",
        "  messages = state[\"messages\"]\n",
        "  response = model.invoke(messages)\n",
        "  return {\"messages\" : [response]}\n",
        "\n",
        "tool_node = ToolNode(tool_belt)"
      ]
    },
    {
      "cell_type": "markdown",
      "metadata": {
        "id": "2bwR7MgWj3Wg"
      },
      "source": [
        "Now we have two total nodes. We have:\n",
        "\n",
        "- `call_model` is a node that will...well...call the model\n",
        "- `tool_node` is a node which can call a tool\n",
        "\n",
        "Let's start adding nodes! We'll update our diagram along the way to keep track of what this looks like!\n"
      ]
    },
    {
      "cell_type": "code",
      "execution_count": 9,
      "metadata": {
        "colab": {
          "base_uri": "https://localhost:8080/"
        },
        "id": "_vF4_lgtmQNo",
        "outputId": "a4384377-8f7a-415f-be1b-fee6169cb101"
      },
      "outputs": [
        {
          "data": {
            "text/plain": [
              "<langgraph.graph.state.StateGraph at 0x110f4e660>"
            ]
          },
          "execution_count": 9,
          "metadata": {},
          "output_type": "execute_result"
        }
      ],
      "source": [
        "from langgraph.graph import StateGraph, END\n",
        "\n",
        "uncompiled_graph = StateGraph(AgentState)\n",
        "\n",
        "uncompiled_graph.add_node(\"agent\", call_model)\n",
        "uncompiled_graph.add_node(\"action\", tool_node)"
      ]
    },
    {
      "cell_type": "markdown",
      "metadata": {
        "id": "b8CjRlbVmRpW"
      },
      "source": [
        "Let's look at what we have so far:\n",
        "\n",
        "![image](https://i.imgur.com/md7inqG.png)"
      ]
    },
    {
      "cell_type": "markdown",
      "metadata": {
        "id": "uaXHpPeSnOWC"
      },
      "source": [
        "Next, we'll add our entrypoint. All our entrypoint does is indicate which node is called first."
      ]
    },
    {
      "cell_type": "code",
      "execution_count": 10,
      "metadata": {
        "colab": {
          "base_uri": "https://localhost:8080/"
        },
        "id": "YGCbaYqRnmiw",
        "outputId": "5351807c-2ac7-4316-a3a3-878abeacd114"
      },
      "outputs": [
        {
          "data": {
            "text/plain": [
              "<langgraph.graph.state.StateGraph at 0x110f4e660>"
            ]
          },
          "execution_count": 10,
          "metadata": {},
          "output_type": "execute_result"
        }
      ],
      "source": [
        "uncompiled_graph.set_entry_point(\"agent\")"
      ]
    },
    {
      "cell_type": "markdown",
      "metadata": {
        "id": "BUsfGoSpoF9U"
      },
      "source": [
        "![image](https://i.imgur.com/wNixpJe.png)"
      ]
    },
    {
      "cell_type": "markdown",
      "metadata": {
        "id": "0Q_pQgHmoW0M"
      },
      "source": [
        "Now we want to build a \"conditional edge\" which will use the output state of a node to determine which path to follow.\n",
        "\n",
        "We can help conceptualize this by thinking of our conditional edge as a conditional in a flowchart!\n",
        "\n",
        "Notice how our function simply checks if there is a \"function_call\" kwarg present.\n",
        "\n",
        "Then we create an edge where the origin node is our agent node and our destination node is *either* the action node or the END (finish the graph).\n",
        "\n",
        "It's important to highlight that the dictionary passed in as the third parameter (the mapping) should be created with the possible outputs of our conditional function in mind. In this case `should_continue` outputs either `\"end\"` or `\"continue\"` which are subsequently mapped to the action node or the END node."
      ]
    },
    {
      "cell_type": "code",
      "execution_count": 11,
      "metadata": {
        "colab": {
          "base_uri": "https://localhost:8080/"
        },
        "id": "1BZgb81VQf9o",
        "outputId": "73a07c15-5f0b-40f2-b033-38b57d056dd8"
      },
      "outputs": [
        {
          "data": {
            "text/plain": [
              "<langgraph.graph.state.StateGraph at 0x110f4e660>"
            ]
          },
          "execution_count": 11,
          "metadata": {},
          "output_type": "execute_result"
        }
      ],
      "source": [
        "def should_continue(state):\n",
        "  last_message = state[\"messages\"][-1]\n",
        "\n",
        "  if last_message.tool_calls:\n",
        "    return \"action\"\n",
        "\n",
        "  return END\n",
        "\n",
        "uncompiled_graph.add_conditional_edges(\n",
        "    \"agent\",\n",
        "    should_continue\n",
        ")"
      ]
    },
    {
      "cell_type": "markdown",
      "metadata": {
        "id": "-Cvhcf4jp0Ce"
      },
      "source": [
        "Let's visualize what this looks like.\n",
        "\n",
        "![image](https://i.imgur.com/8ZNwKI5.png)"
      ]
    },
    {
      "cell_type": "markdown",
      "metadata": {
        "id": "yKCjWJCkrJb9"
      },
      "source": [
        "Finally, we can add our last edge which will connect our action node to our agent node. This is because we *always* want our action node (which is used to call our tools) to return its output to our agent!"
      ]
    },
    {
      "cell_type": "code",
      "execution_count": 12,
      "metadata": {
        "colab": {
          "base_uri": "https://localhost:8080/"
        },
        "id": "UvcgbHf1rIXZ",
        "outputId": "45d4bdd6-d6bb-4a1d-bb79-cad43c130bf2"
      },
      "outputs": [
        {
          "data": {
            "text/plain": [
              "<langgraph.graph.state.StateGraph at 0x110f4e660>"
            ]
          },
          "execution_count": 12,
          "metadata": {},
          "output_type": "execute_result"
        }
      ],
      "source": [
        "uncompiled_graph.add_edge(\"action\", \"agent\")"
      ]
    },
    {
      "cell_type": "markdown",
      "metadata": {
        "id": "EiWDwBQtrw7Z"
      },
      "source": [
        "Let's look at the final visualization.\n",
        "\n",
        "![image](https://i.imgur.com/NWO7usO.png)"
      ]
    },
    {
      "cell_type": "markdown",
      "metadata": {
        "id": "KYqDpErlsCsu"
      },
      "source": [
        "All that's left to do now is to compile our workflow - and we're off!"
      ]
    },
    {
      "cell_type": "code",
      "execution_count": 13,
      "metadata": {
        "id": "zt9-KS8DpzNx"
      },
      "outputs": [],
      "source": [
        "simple_agent_graph = uncompiled_graph.compile()"
      ]
    },
    {
      "cell_type": "markdown",
      "metadata": {
        "id": "xhNWIwBL1W4Q"
      },
      "source": [
        "#### ❓ Question #2:\n",
        "\n",
        "Is there any specific limit to how many times we can cycle?\n",
        "\n",
        "If not, how could we impose a limit to the number of cycles?"
      ]
    },
    {
      "cell_type": "markdown",
      "metadata": {
        "id": "VEYcTShCsPaa"
      },
      "source": [
        "## Using Our Graph\n",
        "\n",
        "Now that we've created and compiled our graph - we can call it *just as we'd call any other* `Runnable`!\n",
        "\n",
        "Let's try out a few examples to see how it fairs:"
      ]
    },
    {
      "cell_type": "code",
      "execution_count": 14,
      "metadata": {
        "colab": {
          "base_uri": "https://localhost:8080/"
        },
        "id": "Qn4n37PQRPII",
        "outputId": "5eeedfae-089d-496e-e71f-071939fa5832"
      },
      "outputs": [
        {
          "name": "stdout",
          "output_type": "stream",
          "text": [
            "Receiving update from node: 'agent'\n",
            "[AIMessage(content='Technical professionals are using AI in various ways to enhance their work, including automating repetitive tasks, improving decision-making, analyzing large datasets, developing new products and services, and optimizing processes. They leverage AI for tasks such as machine learning model development, natural language processing, computer vision, predictive analytics, and automation. This integration helps increase efficiency, accuracy, and innovation across different industries. Would you like specific examples from particular fields or recent trends?', additional_kwargs={'refusal': None}, response_metadata={'token_usage': {'completion_tokens': 89, 'prompt_tokens': 163, 'total_tokens': 252, 'completion_tokens_details': {'accepted_prediction_tokens': 0, 'audio_tokens': 0, 'reasoning_tokens': 0, 'rejected_prediction_tokens': 0}, 'prompt_tokens_details': {'audio_tokens': 0, 'cached_tokens': 0}}, 'model_name': 'gpt-4.1-nano-2025-04-14', 'system_fingerprint': 'fp_7c233bf9d1', 'id': 'chatcmpl-CJ7EpUqoa2LQC3UDfCm9hXygvHEnV', 'service_tier': 'default', 'finish_reason': 'stop', 'logprobs': None}, id='run--caa9be3e-37c2-4c80-ad77-be229f25e93f-0', usage_metadata={'input_tokens': 163, 'output_tokens': 89, 'total_tokens': 252, 'input_token_details': {'audio': 0, 'cache_read': 0}, 'output_token_details': {'audio': 0, 'reasoning': 0}})]\n",
            "\n",
            "\n",
            "\n"
          ]
        }
      ],
      "source": [
        "from langchain_core.messages import HumanMessage\n",
        "\n",
        "inputs = {\"messages\" : [HumanMessage(content=\"How are technical professionals using AI to improve their work?\")]}\n",
        "\n",
        "async for chunk in simple_agent_graph.astream(inputs, stream_mode=\"updates\"):\n",
        "    for node, values in chunk.items():\n",
        "        print(f\"Receiving update from node: '{node}'\")\n",
        "        print(values[\"messages\"])\n",
        "        print(\"\\n\\n\")"
      ]
    },
    {
      "cell_type": "markdown",
      "metadata": {
        "id": "DBHnUtLSscRr"
      },
      "source": [
        "Let's look at what happened:\n",
        "\n",
        "1. Our state object was populated with our request\n",
        "2. The state object was passed into our entry point (agent node) and the agent node added an `AIMessage` to the state object and passed it along the conditional edge\n",
        "3. The conditional edge received the state object, found the \"tool_calls\" `additional_kwarg`, and sent the state object to the action node\n",
        "4. The action node added the response from the OpenAI function calling endpoint to the state object and passed it along the edge to the agent node\n",
        "5. The agent node added a response to the state object and passed it along the conditional edge\n",
        "6. The conditional edge received the state object, could not find the \"tool_calls\" `additional_kwarg` and passed the state object to END where we see it output in the cell above!\n",
        "\n",
        "Now let's look at an example that shows a multiple tool usage - all with the same flow!"
      ]
    },
    {
      "cell_type": "code",
      "execution_count": 15,
      "metadata": {
        "colab": {
          "base_uri": "https://localhost:8080/"
        },
        "id": "afv2BuEsV5JG",
        "outputId": "ff009536-d281-4a56-c126-9cd245352bfe"
      },
      "outputs": [
        {
          "name": "stdout",
          "output_type": "stream",
          "text": [
            "Receiving update from node: 'agent'\n",
            "[AIMessage(content='', additional_kwargs={'tool_calls': [{'id': 'call_VEnEUtTgikPe9YPi20xEIcrI', 'function': {'arguments': '{\"query\": \"A Comprehensive Survey of Deep Research\"}', 'name': 'arxiv'}, 'type': 'function'}, {'id': 'call_OiBCc0WdlhNwDniOjKYOqrtS', 'function': {'arguments': '{\"query\": \"authors of A Comprehensive Survey of Deep Research\"}', 'name': 'tavily_search_results_json'}, 'type': 'function'}], 'refusal': None}, response_metadata={'token_usage': {'completion_tokens': 60, 'prompt_tokens': 182, 'total_tokens': 242, 'completion_tokens_details': {'accepted_prediction_tokens': 0, 'audio_tokens': 0, 'reasoning_tokens': 0, 'rejected_prediction_tokens': 0}, 'prompt_tokens_details': {'audio_tokens': 0, 'cached_tokens': 0}}, 'model_name': 'gpt-4.1-nano-2025-04-14', 'system_fingerprint': 'fp_7c233bf9d1', 'id': 'chatcmpl-CJ7Jsw5KRdz7btTPeiGSmJovF5VRU', 'service_tier': 'default', 'finish_reason': 'tool_calls', 'logprobs': None}, id='run--73780da0-d510-462b-91b9-684807217f66-0', tool_calls=[{'name': 'arxiv', 'args': {'query': 'A Comprehensive Survey of Deep Research'}, 'id': 'call_VEnEUtTgikPe9YPi20xEIcrI', 'type': 'tool_call'}, {'name': 'tavily_search_results_json', 'args': {'query': 'authors of A Comprehensive Survey of Deep Research'}, 'id': 'call_OiBCc0WdlhNwDniOjKYOqrtS', 'type': 'tool_call'}], usage_metadata={'input_tokens': 182, 'output_tokens': 60, 'total_tokens': 242, 'input_token_details': {'audio': 0, 'cache_read': 0}, 'output_token_details': {'audio': 0, 'reasoning': 0}})]\n",
            "\n",
            "\n",
            "\n",
            "Receiving update from node: 'action'\n",
            "Tool Used: arxiv\n",
            "[ToolMessage(content='Published: 2025-06-14\\nTitle: A Comprehensive Survey of Deep Research: Systems, Methodologies, and Applications\\nAuthors: Renjun Xu, Jingwen Peng\\nSummary: This survey examines the rapidly evolving field of Deep Research systems --\\nAI-powered applications that automate complex research workflows through the\\nintegration of large language models, advanced information retrieval, and\\nautonomous reasoning capabilities. We analyze more than 80 commercial and\\nnon-commercial implementations that have emerged since 2023, including\\nOpenAI/Deep Research, Gemini/Deep Research, Perplexity/Deep Research, and\\nnumerous open-source alternatives. Through comprehensive examination, we\\npropose a novel hierarchical taxonomy that categorizes systems according to\\nfour fundamental technical dimensions: foundation models and reasoning engines,\\ntool utilization and environmental interaction, task planning and execution\\ncontrol, and knowledge synthesis and output generation. We explore the\\narchitectural patterns, implementation approaches, and domain-specific\\nadaptations that characterize these systems across academic, scientific,\\nbusiness, and educational applications. Our analysis reveals both the\\nsignificant capabilities of current implementations and the technical and\\nethical challenges they present regarding information accuracy, privacy,\\nintellectual property, and accessibility. The survey concludes by identifying\\npromising research directions in advanced reasoning architectures, multimodal\\nintegration, domain specialization, human-AI collaboration, and ecosystem\\nstandardization that will likely shape the future evolution of this\\ntransformative technology. By providing a comprehensive framework for\\nunderstanding Deep Research systems, this survey contributes to both the\\ntheoretical understanding of AI-augmented knowledge work and the practical\\ndevelopment of more capable, responsible, and accessible research technologies.\\nThe paper resources can be viewed at\\nhttps://github.com/scienceaix/deepresearch.\\n\\nPublished: 2021-03-05\\nTitle: A comprehensive survey on point cloud registration\\nAuthors: Xiaoshui Huang, Guofeng Mei, Jian Zhang, Rana Abbas\\nSummary: Registration is a transformation estimation problem between two point clouds,\\nwhich has a unique and critical role in numerous computer vision applications.\\nThe developments of optimization-based methods and deep learning methods have\\nimproved registration robustness and efficiency. Recently, the combinations of\\noptimization-based and deep learning methods have further improved performance.\\nHowever, the connections between optimization-based and deep learning methods\\nare still unclear. Moreover, with the recent development of 3D sensors and 3D\\nreconstruction techniques, a new research direction emerges to align\\ncross-source point clouds. This survey conducts a comprehensive survey,\\nincluding both same-source and cross-source registration methods, and summarize\\nthe connections between optimization-based and deep learning methods, to\\nprovide further research insight. This survey also builds a new benchmark to\\nevaluate the state-of-the-art registration algorithms in solving cross-source\\nchallenges. Besides, this survey summarizes the benchmark data sets and\\ndiscusses point cloud registration applications across various domains.\\nFinally, this survey proposes potential research directions in this rapidly\\ngrowing field.\\n\\nPublished: 2023-07-07\\nTitle: A Survey of Deep Learning in Sports Applications: Perception, Comprehension, and Decision\\nAuthors: Zhonghan Zhao, Wenhao Chai, Shengyu Hao, Wenhao Hu, Guanhong Wang, Shidong Cao, Mingli Song, Jenq-Neng Hwang, Gaoang Wang\\nSummary: Deep learning has the potential to revolutionize sports performance, with\\napplications ranging from perception and comprehension to decision. This paper\\npresents a comprehensive survey of deep learning in sports performance,\\nfocusing on three main aspects: algorithms, datasets and virtual environments,\\nand challenges. Firstly, we discuss th', name='arxiv', id='658e6679-572d-4463-baea-1c35e50c2b3e', tool_call_id='call_VEnEUtTgikPe9YPi20xEIcrI'), ToolMessage(content='[{\"title\": \"[2506.12594] A Comprehensive Survey of Deep Research - arXiv\", \"url\": \"https://arxiv.org/abs/2506.12594\", \"content\": \"We gratefully acknowledge support from the Simons Foundation, member institutions, and all contributors. Donate\\\\n\\\\n> cs > arXiv:2506.12594\\\\n\\\\n# Computer Science > Artificial Intelligence\\\\n\\\\narXiv:2506.12594 (cs)\\\\n\\\\n[Submitted on 14 Jun 2025]\\\\n\\\\n# Title:A Comprehensive Survey of Deep Research: Systems, Methodologies, and Applications\\\\n\\\\nAuthors:Renjun Xu, Jingwen Peng [...] View a PDF of the paper titled A Comprehensive Survey of Deep Research: Systems, Methodologies, and Applications, by Renjun Xu and 1 other authors [...] View a PDF of the paper titled A Comprehensive Survey of Deep Research: Systems, Methodologies, and Applications, by Renjun Xu and 1 other authors\\\\n\\\\n View PDF\\\\n HTML (experimental)\\\\n TeX Source\\\\n Other Formats\\\\n\\\\nview license\\\\n\\\\nCurrent browse context:\\\\n\\\\ncs.AI\\\\n\\\\n< prev\\\\\")    |    next >\\\\\")\\\\n\\\\nnew  |  recent  | 2025-06\\\\n\\\\nChange to browse by:\\\\n\\\\ncs cs.MA\\\\n\\\\n### References & Citations\\\\n\\\\n NASA ADS\\\\n Google Scholar\\\\n Semantic Scholar\\\\n\\\\na export BibTeX citation Loading...\\\\n\\\\n## BibTeX formatted citation\\\\n\\\\n×\", \"score\": 0.91563576}, {\"title\": \"a-comprehensive-survey-of-deep-research-systems-methodologies ...\", \"url\": \"https://warwick.ac.uk/fac/cross_fac/eduport/edufund/projects/yang/projects/a-comprehensive-survey-of-deep-research-systems-methodologies-and-applications/\", \"content\": \"### Project Team\\\\n\\\\n#### Renjun Xu\\\\n\\\\nResearcher\\\\n\\\\n#### Jingwen Peng\\\\n\\\\nResearcher\\\\n\\\\n### Contact Information\\\\n\\\\nFor information about the paper, please contact the authors.\\\\n\\\\nAuthors: Renjun Xu, Jingwen Peng\\\\n\\\\nSource Publication:View Original Paper Link opens in a new window\\\\n\\\\nProject Contact:Dr. Jianhua Yang\\\\n\\\\nLLM Model Version: gpt-4o-mini-2024-07-18\\\\n\\\\nAnalysis Provider: Openai\\\\n\\\\n← Back to Projects\\\\n\\\\n Page contact: Van Hoang PhamLast revised: Sun 20 Jul 2025 [...] Cross-faculty centresShow submenu for Cross-faculty centres\\\\n       Centre for Digital Inquiry\\\\n       Cyber Security\\\\n       Education Portal(Restricted permissions)\\\\n       Howard Dalton Centre\\\\n       IAS - Home\\\\n       Institute for Global Pandemic Planning (IGPP)\\\\n       Midlands Integrative Biosciences Training Partnership (MIBTP)Midlands Integrative Biosciences Training Partnership…\\\\\")\\\\n       TIA Centre\\\\n       The History of Violence Network\\\\n       Transcription Project [...] Warwick Antimicrobial Interdisciplinary Centre (WAMIC)\\\\n       Institute for Advanced Teaching and Learning (IATL)\", \"score\": 0.7686816}, {\"title\": \"A comprehensive survey of deep learning research on medical ...\", \"url\": \"https://pubmed.ncbi.nlm.nih.gov/36462229/\", \"content\": \"doi: 10.1016/j.clinimag.2022.11.003.  Epub 2022 Nov 12. \\\\n\\\\nA comprehensive survey of deep learning research on medical image analysis with focus on transfer learning\\\\n\\\\nSema Atasever1,Nuh Azginoglu2,Duygu Sinanc Terzi3,Ramazan Terzi4\\\\n\\\\n Affiliations  Expand \\\\n\\\\n### Affiliations [...] PMID: 36462229\\\\n    DOI: 10.1016/j.clinimag.2022.11.003\\\\n\\\\n Item in Clipboard \\\\n\\\\nReview\\\\n\\\\nA comprehensive survey of deep learning research on medical image analysis with focus on transfer learning\\\\n\\\\nSema Atasever et al. Clin Imaging.2023 Feb.\\\\n\\\\nShow details\\\\n\\\\nDisplay options\\\\n\\\\n Display options \\\\n\\\\n Format \\\\n\\\\n Clin Imaging \\\\n\\\\nActions\\\\n\\\\n   Search in PubMed\\\\n   Search in NLM Catalog\\\\n   Add to Search\\\\n\\\\n. 2023 Feb:94:18-41.\\\\n\\\\n doi: 10.1016/j.clinimag.2022.11.003.  Epub 2022 Nov 12. \\\\n\\\\n### Authors [...] Automatic vessel segmentation and reformation of non-contrast coronary magnetic resonance angiography using transfer learning-based three-dimensional U-net with attention mechanism.Lin L, Zheng Y, Li Y, Jiang D, Cao J, Wang J, Xiao Y, Mao X, Zheng C, Wang Y.Lin L, et al.J Cardiovasc Magn Reson. 2025 Summer;27(1):101126. doi: 10.1016/j.jocmr.2024.101126. Epub 2024 Nov 22.J Cardiovasc Magn Reson. 2025.PMID: 39581550 Free PMC article.\", \"score\": 0.767429}, {\"title\": \"[PDF] A Comprehensive Survey of Deep Research - arXiv\", \"url\": \"https://arxiv.org/pdf/2506.12594?\", \"content\": \"> (2023 - February 2025) Early prototypes and foundational approaches (February - March 2025) Commercial releases and competitive rivalry (March 2025 - Present) Multi-modal integration and diverse applications\\\\n> Google Gemini Deep Research\\\\n> Dec 2024\\\\n> OpenAI Deep Research\\\\n> Feb 2025\\\\n> Manus\\\\n> Mar 2025\\\\n> Perplexity Deep Research\\\\n> Feb 2025\\\\n> AutoGLM-Research\\\\n> Mar 2025\\\\n> QwenLM/ Qwen-Agent\\\\n> Apr 2024\\\\n> n8n\\\\n> 2023 mshumer/ OpenDeepResearcher\\\\n> Feb 2025\\\\n> nickscamara/ open-deep-research [...] Evans [ 256 ] argue, human-aware artificial intelligence can significantly accelerate science by augmenting researchers’ capabilities while adapting to their conceptual frame-works and methodological approaches. This human-AI synergy represents a fundamental shift from traditional automation toward collaborative intelligence that respects and enhances human scientific intuition. Complementary work by Khalili and Bouchachia [ 128 ] further demonstrates how systematic approaches to building [...] with verifiable citations. Agent frameworks such as OpenManus [193 ], Camel-AI/OWL [43 ], and TARS\", \"score\": 0.6641271}, {\"title\": \"A Comprehensive Survey of Deep Learning Approaches in Image ...\", \"url\": \"https://www.mdpi.com/1424-8220/25/2/531\", \"content\": \"Elias Dritsas\\\\n\\\\nElias Dritsas\\\\n\\\\nSciProfiles  Scilit  Preprints.org  Google Scholar\\\\n\\\\n \\\\\\\\\\\\n\\\\nIndustrial Systems Institute (ISI), Athena Research and Innovation Center, 26504 Patras, Greece\\\\n\\\\n\\\\\\\\\\\\n\\\\nAuthor to whom correspondence should be addressed.\\\\n\\\\nSensors 2025, 25(2), 531; \\\\n\\\\nSubmission received: 20 December 2024 / Revised: 13 January 2025 / Accepted: 13 January 2025 / Published: 17 January 2025 [...] Visit our dedicated information section to learn more about MDPI.\\\\n\\\\n Get Information\\\\n\\\\nclear\\\\n\\\\n## JSmol Viewer\\\\n\\\\nclear\\\\n\\\\nfirst\\\\\\\\_page\\\\n\\\\n Download PDF \\\\n\\\\nsettings\\\\n\\\\n Order Article Reprints\\\\n\\\\nFont Type:\\\\n\\\\nArial Georgia Verdana\\\\n\\\\nFont Size:\\\\n\\\\nAa Aa Aa\\\\n\\\\nLine Spacing:\\\\n\\\\n\\uf034   \\uf034   \\uf034\\\\n\\\\nColumn Width:\\\\n\\\\n\\uf035   \\uf035   \\uf035\\\\n\\\\nBackground:\\\\n\\\\nOpen AccessReview\\\\n\\\\n# A Comprehensive Survey of Deep Learning Approaches in Image Processing\\\\n\\\\nby \\\\n\\\\nMaria Trigka\\\\n\\\\nMaria Trigka\\\\n\\\\nSciProfiles  Scilit  Preprints.org  Google Scholar\\\\n\\\\nand\", \"score\": 0.5917474}]', name='tavily_search_results_json', id='29ede00d-4bbe-4356-90af-20ac27abab44', tool_call_id='call_OiBCc0WdlhNwDniOjKYOqrtS', artifact={'query': 'authors of A Comprehensive Survey of Deep Research', 'follow_up_questions': None, 'answer': None, 'images': [], 'results': [{'url': 'https://arxiv.org/abs/2506.12594', 'title': '[2506.12594] A Comprehensive Survey of Deep Research - arXiv', 'content': 'We gratefully acknowledge support from the Simons Foundation, member institutions, and all contributors. Donate\\n\\n> cs > arXiv:2506.12594\\n\\n# Computer Science > Artificial Intelligence\\n\\narXiv:2506.12594 (cs)\\n\\n[Submitted on 14 Jun 2025]\\n\\n# Title:A Comprehensive Survey of Deep Research: Systems, Methodologies, and Applications\\n\\nAuthors:Renjun Xu, Jingwen Peng [...] View a PDF of the paper titled A Comprehensive Survey of Deep Research: Systems, Methodologies, and Applications, by Renjun Xu and 1 other authors [...] View a PDF of the paper titled A Comprehensive Survey of Deep Research: Systems, Methodologies, and Applications, by Renjun Xu and 1 other authors\\n\\n View PDF\\n HTML (experimental)\\n TeX Source\\n Other Formats\\n\\nview license\\n\\nCurrent browse context:\\n\\ncs.AI\\n\\n< prev\")    |    next >\")\\n\\nnew  |  recent  | 2025-06\\n\\nChange to browse by:\\n\\ncs cs.MA\\n\\n### References & Citations\\n\\n NASA ADS\\n Google Scholar\\n Semantic Scholar\\n\\na export BibTeX citation Loading...\\n\\n## BibTeX formatted citation\\n\\n×', 'score': 0.91563576, 'raw_content': None}, {'url': 'https://warwick.ac.uk/fac/cross_fac/eduport/edufund/projects/yang/projects/a-comprehensive-survey-of-deep-research-systems-methodologies-and-applications/', 'title': 'a-comprehensive-survey-of-deep-research-systems-methodologies ...', 'content': '### Project Team\\n\\n#### Renjun Xu\\n\\nResearcher\\n\\n#### Jingwen Peng\\n\\nResearcher\\n\\n### Contact Information\\n\\nFor information about the paper, please contact the authors.\\n\\nAuthors: Renjun Xu, Jingwen Peng\\n\\nSource Publication:View Original Paper Link opens in a new window\\n\\nProject Contact:Dr. Jianhua Yang\\n\\nLLM Model Version: gpt-4o-mini-2024-07-18\\n\\nAnalysis Provider: Openai\\n\\n← Back to Projects\\n\\n Page contact: Van Hoang PhamLast revised: Sun 20 Jul 2025 [...] Cross-faculty centresShow submenu for Cross-faculty centres\\n       Centre for Digital Inquiry\\n       Cyber Security\\n       Education Portal(Restricted permissions)\\n       Howard Dalton Centre\\n       IAS - Home\\n       Institute for Global Pandemic Planning (IGPP)\\n       Midlands Integrative Biosciences Training Partnership (MIBTP)Midlands Integrative Biosciences Training Partnership…\")\\n       TIA Centre\\n       The History of Violence Network\\n       Transcription Project [...] Warwick Antimicrobial Interdisciplinary Centre (WAMIC)\\n       Institute for Advanced Teaching and Learning (IATL)', 'score': 0.7686816, 'raw_content': None}, {'url': 'https://pubmed.ncbi.nlm.nih.gov/36462229/', 'title': 'A comprehensive survey of deep learning research on medical ...', 'content': 'doi: 10.1016/j.clinimag.2022.11.003.  Epub 2022 Nov 12. \\n\\nA comprehensive survey of deep learning research on medical image analysis with focus on transfer learning\\n\\nSema Atasever1,Nuh Azginoglu2,Duygu Sinanc Terzi3,Ramazan Terzi4\\n\\n Affiliations  Expand \\n\\n### Affiliations [...] PMID: 36462229\\n    DOI: 10.1016/j.clinimag.2022.11.003\\n\\n Item in Clipboard \\n\\nReview\\n\\nA comprehensive survey of deep learning research on medical image analysis with focus on transfer learning\\n\\nSema Atasever et al. Clin Imaging.2023 Feb.\\n\\nShow details\\n\\nDisplay options\\n\\n Display options \\n\\n Format \\n\\n Clin Imaging \\n\\nActions\\n\\n   Search in PubMed\\n   Search in NLM Catalog\\n   Add to Search\\n\\n. 2023 Feb:94:18-41.\\n\\n doi: 10.1016/j.clinimag.2022.11.003.  Epub 2022 Nov 12. \\n\\n### Authors [...] Automatic vessel segmentation and reformation of non-contrast coronary magnetic resonance angiography using transfer learning-based three-dimensional U-net with attention mechanism.Lin L, Zheng Y, Li Y, Jiang D, Cao J, Wang J, Xiao Y, Mao X, Zheng C, Wang Y.Lin L, et al.J Cardiovasc Magn Reson. 2025 Summer;27(1):101126. doi: 10.1016/j.jocmr.2024.101126. Epub 2024 Nov 22.J Cardiovasc Magn Reson. 2025.PMID: 39581550 Free PMC article.', 'score': 0.767429, 'raw_content': None}, {'url': 'https://arxiv.org/pdf/2506.12594?', 'title': '[PDF] A Comprehensive Survey of Deep Research - arXiv', 'content': '> (2023 - February 2025) Early prototypes and foundational approaches (February - March 2025) Commercial releases and competitive rivalry (March 2025 - Present) Multi-modal integration and diverse applications\\n> Google Gemini Deep Research\\n> Dec 2024\\n> OpenAI Deep Research\\n> Feb 2025\\n> Manus\\n> Mar 2025\\n> Perplexity Deep Research\\n> Feb 2025\\n> AutoGLM-Research\\n> Mar 2025\\n> QwenLM/ Qwen-Agent\\n> Apr 2024\\n> n8n\\n> 2023 mshumer/ OpenDeepResearcher\\n> Feb 2025\\n> nickscamara/ open-deep-research [...] Evans [ 256 ] argue, human-aware artificial intelligence can significantly accelerate science by augmenting researchers’ capabilities while adapting to their conceptual frame-works and methodological approaches. This human-AI synergy represents a fundamental shift from traditional automation toward collaborative intelligence that respects and enhances human scientific intuition. Complementary work by Khalili and Bouchachia [ 128 ] further demonstrates how systematic approaches to building [...] with verifiable citations. Agent frameworks such as OpenManus [193 ], Camel-AI/OWL [43 ], and TARS', 'score': 0.6641271, 'raw_content': None}, {'url': 'https://www.mdpi.com/1424-8220/25/2/531', 'title': 'A Comprehensive Survey of Deep Learning Approaches in Image ...', 'content': 'Elias Dritsas\\n\\nElias Dritsas\\n\\nSciProfiles  Scilit  Preprints.org  Google Scholar\\n\\n \\\\\\n\\nIndustrial Systems Institute (ISI), Athena Research and Innovation Center, 26504 Patras, Greece\\n\\n\\\\\\n\\nAuthor to whom correspondence should be addressed.\\n\\nSensors 2025, 25(2), 531; \\n\\nSubmission received: 20 December 2024 / Revised: 13 January 2025 / Accepted: 13 January 2025 / Published: 17 January 2025 [...] Visit our dedicated information section to learn more about MDPI.\\n\\n Get Information\\n\\nclear\\n\\n## JSmol Viewer\\n\\nclear\\n\\nfirst\\\\_page\\n\\n Download PDF \\n\\nsettings\\n\\n Order Article Reprints\\n\\nFont Type:\\n\\nArial Georgia Verdana\\n\\nFont Size:\\n\\nAa Aa Aa\\n\\nLine Spacing:\\n\\n\\uf034   \\uf034   \\uf034\\n\\nColumn Width:\\n\\n\\uf035   \\uf035   \\uf035\\n\\nBackground:\\n\\nOpen AccessReview\\n\\n# A Comprehensive Survey of Deep Learning Approaches in Image Processing\\n\\nby \\n\\nMaria Trigka\\n\\nMaria Trigka\\n\\nSciProfiles  Scilit  Preprints.org  Google Scholar\\n\\nand', 'score': 0.5917474, 'raw_content': None}], 'response_time': 2.42, 'request_id': '3d60e37f-8349-47cd-a3a6-dacfbd8b0791'})]\n",
            "\n",
            "\n",
            "\n",
            "Receiving update from node: 'agent'\n",
            "[AIMessage(content='I found the research paper titled \"A Comprehensive Survey of Deep Research: Systems, Methodologies, and Applications\" published on June 14, 2025, authored by Renjun Xu and Jingwen Peng. \\n\\nRegarding the authors\\' current affiliations, I will now search for each of them to find out where they work now.', additional_kwargs={'tool_calls': [{'id': 'call_PHU0FZKri2UFNy8gSe9c9BwV', 'function': {'arguments': '{\"query\": \"Renjun Xu\"}', 'name': 'tavily_search_results_json'}, 'type': 'function'}, {'id': 'call_nBdVo3QIE9dXeOcpRzU2yASn', 'function': {'arguments': '{\"query\": \"Jingwen Peng\"}', 'name': 'tavily_search_results_json'}, 'type': 'function'}], 'refusal': None}, response_metadata={'token_usage': {'completion_tokens': 124, 'prompt_tokens': 2748, 'total_tokens': 2872, 'completion_tokens_details': {'accepted_prediction_tokens': 0, 'audio_tokens': 0, 'reasoning_tokens': 0, 'rejected_prediction_tokens': 0}, 'prompt_tokens_details': {'audio_tokens': 0, 'cached_tokens': 0}}, 'model_name': 'gpt-4.1-nano-2025-04-14', 'system_fingerprint': 'fp_7c233bf9d1', 'id': 'chatcmpl-CJ7JxmVwOA86lf0ASrbShH7b8Gz7z', 'service_tier': 'default', 'finish_reason': 'tool_calls', 'logprobs': None}, id='run--5fa96e5a-7fe6-4ee8-ac01-023876796b88-0', tool_calls=[{'name': 'tavily_search_results_json', 'args': {'query': 'Renjun Xu'}, 'id': 'call_PHU0FZKri2UFNy8gSe9c9BwV', 'type': 'tool_call'}, {'name': 'tavily_search_results_json', 'args': {'query': 'Jingwen Peng'}, 'id': 'call_nBdVo3QIE9dXeOcpRzU2yASn', 'type': 'tool_call'}], usage_metadata={'input_tokens': 2748, 'output_tokens': 124, 'total_tokens': 2872, 'input_token_details': {'audio': 0, 'cache_read': 0}, 'output_token_details': {'audio': 0, 'reasoning': 0}})]\n",
            "\n",
            "\n",
            "\n",
            "Receiving update from node: 'action'\n",
            "Tool Used: tavily_search_results_json\n",
            "[ToolMessage(content='[{\"title\": \"Renjun Xu - Researcher, Zhejiang University - OpenReview\", \"url\": \"https://openreview.net/profile?id=~Renjun_Xu1\", \"content\": \"# Renjun Xu\\\\n\\\\n### Principal Researcher, Zhejiang University\\\\n\\\\n#### Names\\\\n\\\\n#### Emails\\\\n\\\\n#### Personal Links\\\\n\\\\n#### Career & Education History\\\\n\\\\n#### Advisors, Relations & Conflicts\\\\n\\\\nNo relations added\\\\n\\\\n#### Expertise\\\\n\\\\n#### Publications\\\\n\\\\n#### scKGOT: Intercellular Signaling Inference with Knowledge Graph Optimal Transport for Single-cell Transcriptomics)\\\\n\\\\n#### $E(2)$-Equivariant Vision Transformer)\\\\n\\\\n#### Critical Temperature Prediction of Superconductors Based on Machine Learning: A Short Review) [...] #### Exploiting Adapters for Cross-Lingual Low-Resource Speech Recognition)\\\\n\\\\n#### Hierarchical knowledge amalgamation with dual discriminative feature alignment)\\\\n\\\\n#### Modeling Dynamic Missingness of Implicit Feedback for Sequential Recommendation)\\\\n\\\\n#### S2SNet: A Pretrained Neural Network for Superconductivity Discovery)\\\\n\\\\n#### Learning Interest-oriented Universal User Representation via Self-supervision) [...] #### Learning Universal User Representations via Self-Supervised Lifelong Behaviors Modeling)\\\\n\\\\n#### Learning Invariant Representations across Domains and Tasks)\\\\n\\\\n#### Co-Authors\\\\n\\\\nOpenReview is a long-term project to advance science through improved peer review with legal nonprofit status. We gratefully acknowledge the support of the OpenReview Sponsors. © 2025 OpenReview\", \"score\": 0.6410185}, {\"title\": \"Renjun Xu - Center for Data Science, Zhejiang University | 人才画像\", \"url\": \"https://www.aminer.cn/profile/renjun-xu/53f42ceddabfaedd74d30355?source=bz1\", \"content\": \"Renjun Xu - Center for Data Science, Zhejiang University | 人才画像 - AMiner\\\\n\\\\n\\\\n\\\\nResearch\\\\n\\\\nCenter for Data Science Zhejiang University\\\\n\\\\n、《International Joint Conference on Artificial Intelligence》(IJCAI, CCF-A), 《IEEE Transactions on Knowledge and Data Engineering》(TKDE, CCF-A)交叉领域发表多篇国际顶尖期刊和会议文章，CVPR、AAAI、NIPS、TPAMI、TIP、TLT等顶级人工智能期刊和会议程序委员会委员，荣获2020年度世界人工智能大会青年优秀论文提名奖，指导并推荐的所有学生均已拿到麻省理工学院(MIT)、卡内基梅隆大学(CMU)等全球顶尖名校的offer！\\\\n\\\\nEducation\\\\n\\\\nSign in to view more\\\\n\\\\nExperience\\\\n\\\\nSign in to view more [...] Research Interests\\\\n\\\\n2012 2025\\\\n\\\\nPapers 共 39 篇 Patents 共 9 篇 Author Statistics Co-Author Similar Experts\\\\n\\\\nBy Year By Citation 主题筛选 期刊级别筛选 合作者筛选 合作机构筛选\\\\n\\\\n时间\\\\n\\\\n引用量\\\\n\\\\n主题\\\\n\\\\n期刊级别\\\\n\\\\n合作者\\\\n\\\\n合作机构\\\\n\\\\nAll 2025 2024 2023 2022 2021 2020 2015 2014 2013 2012 2010 2006\\\\n\\\\nDo PhD-level LLMs Truly Grasp Elementary Addition? Probing Rule Learning Vs. Memorization in Large Language Models\\\\n\\\\nYang Yan,Yu Lu,Renjun Xu,Zhenzhong Lan\\\\n\\\\narXiv · Computation and Language（2025）\\\\n\\\\nCited 0 Views 11 Bibtex\\\\n\\\\n0\\\\n\\\\n11 [...] The page data are from open Internet sources, cooperative publishers and automatic analysis results through AI technology. We do not make any commitments and guarantees for the validity, accuracy, correctness, reliability, completeness and timeliness of the page data. If you have any questions, please contact us by email: report@aminer.cn\\\\n\\\\nSwipe to Fine Result\", \"score\": 0.60049355}, {\"title\": \"Renjun Hu\\'s Homepage\", \"url\": \"https://hurenjun.github.io/\", \"content\": \"an algorithm engineer at Alibaba Cloud, contributing to AI-driven transformations across various business\\\\ndomains including feed recommendation, user growth, online marketing, and LLM-as-a-Judge.\\\\nSince January 2025, he has joined the School of Data Science and Engineering, East China Normal University\\\\nas a young researcher.\\\\nHis recent research interests include robust machine learning and the understanding, evaluation, and applications of large language models. [...] Renjun Hu received his Bachelor\\'s degree in 2014 and Ph.D. in 2020 from the School of Computer Science\\\\nand Engineering at Beihang University. From September 2017 to April 2018, he was a joint Ph.D. student\\\\nin the Data Mining Group at Rutgers University. He then worked as a research intern at the Business\\\\nIntelligence Lab of Baidu Research from May 2018 to September 2019. During 2020 to 2024, he served as [...] Renjun\\'s avatar\\\\n\\\\n### Renjun Hu     (胡仁君)\\\\n\\\\n#### Young Researcher\\\\n\\\\nSchool of Data Science of Engineering (DaSE)  \\\\nEast China Normal University (ECNU)\\\\n\\\\n \\\\nRoom X109, Shuxueguan, Putuo Campus\\\\n\\\\n \\\\nrjhu [at] dase.ecnu.edu.cn    renjun0hu [at] gmail.com\\\\n\\\\n### Short Bio\", \"score\": 0.59880555}, {\"title\": \"Renjun XU | UCD | Department of Physics | Research profile\", \"url\": \"https://www.researchgate.net/profile/Renjun-Xu\", \"content\": \"Skills and Expertise: Electronic Structure. Current institution: University of California, Davis. University of California, Davis.\", \"score\": 0.5683445}, {\"title\": \"Xu Genjun - Wikipedia\", \"url\": \"https://en.wikipedia.org/wiki/Xu_Genjun\", \"content\": \"Xu was born in She County, Anhui on 23 November 1935. He graduated from the Chemistry Department of Fudan University in 1957, and joined the Shanghai Institute of Biochemistry afterwards, where he participated in and made significant contributions to the insulin synthesis project led by Wang Yinglai. He later researched enzyme kinetics, chemical modification of proteins, the relationship between proteins\\' structure and function, and the folding and refolding of proteins. [...] Xu published more than 100 research papers in academic journals. He was a two-time winner of the State Natural Science Award (first class), in addition to several national prizes by the Chinese Academy of Sciences (CAS). He was also awarded the Ho Leung Ho Lee Prize for Life Sciences. He was elected as an academician of the CAS in 1991.\\\\n\\\\nXu died on 8 January 2008 at Zhongshan Hospital in Shanghai, at the age of 72.\\\\n\\\\n## References\\\\n\\\\nWikimedia Foundation\\\\nPowered by MediaWiki [...] Wikipedia\\\\nThe Free Encyclopedia\\\\n\\\\n## Contents\\\\n\\\\n# Xu Genjun\\\\n\\\\nXu Genjun (Chinese: 许根俊; 23 November 1935 – 8 January 2008) was a Chinese biochemist. He was a professor at the Shanghai Institute of Biochemistry and Cell Biology. He was an academician of the Chinese Academy of Sciences and President of the Chinese Society of Biochemistry and Molecular Biology.\\\\n\\\\n## Biography\", \"score\": 0.25375047}]', name='tavily_search_results_json', id='cb2960fb-8365-4e00-ac7b-ce7cdeb22fb2', tool_call_id='call_PHU0FZKri2UFNy8gSe9c9BwV', artifact={'query': 'Renjun Xu', 'follow_up_questions': None, 'answer': None, 'images': [], 'results': [{'url': 'https://openreview.net/profile?id=~Renjun_Xu1', 'title': 'Renjun Xu - Researcher, Zhejiang University - OpenReview', 'content': '# Renjun Xu\\n\\n### Principal Researcher, Zhejiang University\\n\\n#### Names\\n\\n#### Emails\\n\\n#### Personal Links\\n\\n#### Career & Education History\\n\\n#### Advisors, Relations & Conflicts\\n\\nNo relations added\\n\\n#### Expertise\\n\\n#### Publications\\n\\n#### scKGOT: Intercellular Signaling Inference with Knowledge Graph Optimal Transport for Single-cell Transcriptomics)\\n\\n#### $E(2)$-Equivariant Vision Transformer)\\n\\n#### Critical Temperature Prediction of Superconductors Based on Machine Learning: A Short Review) [...] #### Exploiting Adapters for Cross-Lingual Low-Resource Speech Recognition)\\n\\n#### Hierarchical knowledge amalgamation with dual discriminative feature alignment)\\n\\n#### Modeling Dynamic Missingness of Implicit Feedback for Sequential Recommendation)\\n\\n#### S2SNet: A Pretrained Neural Network for Superconductivity Discovery)\\n\\n#### Learning Interest-oriented Universal User Representation via Self-supervision) [...] #### Learning Universal User Representations via Self-Supervised Lifelong Behaviors Modeling)\\n\\n#### Learning Invariant Representations across Domains and Tasks)\\n\\n#### Co-Authors\\n\\nOpenReview is a long-term project to advance science through improved peer review with legal nonprofit status. We gratefully acknowledge the support of the OpenReview Sponsors. © 2025 OpenReview', 'score': 0.6410185, 'raw_content': None}, {'url': 'https://www.aminer.cn/profile/renjun-xu/53f42ceddabfaedd74d30355?source=bz1', 'title': 'Renjun Xu - Center for Data Science, Zhejiang University | 人才画像', 'content': 'Renjun Xu - Center for Data Science, Zhejiang University | 人才画像 - AMiner\\n\\n\\n\\nResearch\\n\\nCenter for Data Science Zhejiang University\\n\\n、《International Joint Conference on Artificial Intelligence》(IJCAI, CCF-A), 《IEEE Transactions on Knowledge and Data Engineering》(TKDE, CCF-A)交叉领域发表多篇国际顶尖期刊和会议文章，CVPR、AAAI、NIPS、TPAMI、TIP、TLT等顶级人工智能期刊和会议程序委员会委员，荣获2020年度世界人工智能大会青年优秀论文提名奖，指导并推荐的所有学生均已拿到麻省理工学院(MIT)、卡内基梅隆大学(CMU)等全球顶尖名校的offer！\\n\\nEducation\\n\\nSign in to view more\\n\\nExperience\\n\\nSign in to view more [...] Research Interests\\n\\n2012 2025\\n\\nPapers 共 39 篇 Patents 共 9 篇 Author Statistics Co-Author Similar Experts\\n\\nBy Year By Citation 主题筛选 期刊级别筛选 合作者筛选 合作机构筛选\\n\\n时间\\n\\n引用量\\n\\n主题\\n\\n期刊级别\\n\\n合作者\\n\\n合作机构\\n\\nAll 2025 2024 2023 2022 2021 2020 2015 2014 2013 2012 2010 2006\\n\\nDo PhD-level LLMs Truly Grasp Elementary Addition? Probing Rule Learning Vs. Memorization in Large Language Models\\n\\nYang Yan,Yu Lu,Renjun Xu,Zhenzhong Lan\\n\\narXiv · Computation and Language（2025）\\n\\nCited 0 Views 11 Bibtex\\n\\n0\\n\\n11 [...] The page data are from open Internet sources, cooperative publishers and automatic analysis results through AI technology. We do not make any commitments and guarantees for the validity, accuracy, correctness, reliability, completeness and timeliness of the page data. If you have any questions, please contact us by email: report@aminer.cn\\n\\nSwipe to Fine Result', 'score': 0.60049355, 'raw_content': None}, {'url': 'https://hurenjun.github.io/', 'title': \"Renjun Hu's Homepage\", 'content': \"an algorithm engineer at Alibaba Cloud, contributing to AI-driven transformations across various business\\ndomains including feed recommendation, user growth, online marketing, and LLM-as-a-Judge.\\nSince January 2025, he has joined the School of Data Science and Engineering, East China Normal University\\nas a young researcher.\\nHis recent research interests include robust machine learning and the understanding, evaluation, and applications of large language models. [...] Renjun Hu received his Bachelor's degree in 2014 and Ph.D. in 2020 from the School of Computer Science\\nand Engineering at Beihang University. From September 2017 to April 2018, he was a joint Ph.D. student\\nin the Data Mining Group at Rutgers University. He then worked as a research intern at the Business\\nIntelligence Lab of Baidu Research from May 2018 to September 2019. During 2020 to 2024, he served as [...] Renjun's avatar\\n\\n### Renjun Hu     (胡仁君)\\n\\n#### Young Researcher\\n\\nSchool of Data Science of Engineering (DaSE)  \\nEast China Normal University (ECNU)\\n\\n \\nRoom X109, Shuxueguan, Putuo Campus\\n\\n \\nrjhu [at] dase.ecnu.edu.cn    renjun0hu [at] gmail.com\\n\\n### Short Bio\", 'score': 0.59880555, 'raw_content': None}, {'url': 'https://www.researchgate.net/profile/Renjun-Xu', 'title': 'Renjun XU | UCD | Department of Physics | Research profile', 'content': 'Skills and Expertise: Electronic Structure. Current institution: University of California, Davis. University of California, Davis.', 'score': 0.5683445, 'raw_content': None}, {'url': 'https://en.wikipedia.org/wiki/Xu_Genjun', 'title': 'Xu Genjun - Wikipedia', 'content': \"Xu was born in She County, Anhui on 23 November 1935. He graduated from the Chemistry Department of Fudan University in 1957, and joined the Shanghai Institute of Biochemistry afterwards, where he participated in and made significant contributions to the insulin synthesis project led by Wang Yinglai. He later researched enzyme kinetics, chemical modification of proteins, the relationship between proteins' structure and function, and the folding and refolding of proteins. [...] Xu published more than 100 research papers in academic journals. He was a two-time winner of the State Natural Science Award (first class), in addition to several national prizes by the Chinese Academy of Sciences (CAS). He was also awarded the Ho Leung Ho Lee Prize for Life Sciences. He was elected as an academician of the CAS in 1991.\\n\\nXu died on 8 January 2008 at Zhongshan Hospital in Shanghai, at the age of 72.\\n\\n## References\\n\\nWikimedia Foundation\\nPowered by MediaWiki [...] Wikipedia\\nThe Free Encyclopedia\\n\\n## Contents\\n\\n# Xu Genjun\\n\\nXu Genjun (Chinese: 许根俊; 23 November 1935 – 8 January 2008) was a Chinese biochemist. He was a professor at the Shanghai Institute of Biochemistry and Cell Biology. He was an academician of the Chinese Academy of Sciences and President of the Chinese Society of Biochemistry and Molecular Biology.\\n\\n## Biography\", 'score': 0.25375047, 'raw_content': None}], 'response_time': 1.12, 'request_id': '9b9271c7-0623-43b6-85cb-9e7e4c342069'}), ToolMessage(content='[{\"title\": \"Jingwen Peng, CFA - Director - Lead Data Steward at Liberty Mutual ...\", \"url\": \"https://www.linkedin.com/in/jingwen-peng-cfa-3a69b011?trk=public_profile_browsemap\", \"content\": \"Director - Lead Data Steward at Liberty Mutual Investments · Experience: Liberty Mutual Investments · Location: Boston · 500+ connections on LinkedIn.\", \"score\": 0.70823324}, {\"title\": \"Jingwen Peng - U of Rochester Simon STEM MSBA - LinkedIn\", \"url\": \"https://www.linkedin.com/in/jpeng19\", \"content\": \"●\\\\tAuthored product requirement documentation, followed up on new features and optimization based on customer feedback.\\\\n\\\\n●\\\\tDevised creative short videos content, elevated ad CTR by 4 times on Google Ads and refined data-driven strategies.\\\\n\\\\n●\\\\tGrew social media presence through influencer marketing, acquired 1,000+ new users on Instagram, FB, and YouTube. [...] At Amazon, my role as a Site Merchandising analyst was pivotal in enhancing the Kindle E-book business through data-driven strategies<br><br> By automating reports and refining forecasting models, our team significantly improved operational efficiency and influenced strategic decisions that positively impacted the growth of E-book store and Kindle Unlimited<br><br> My technical acumen, particularly in Excel, SQL and Python, was instrumental in automating processes, reducing manual workloads, [...] ## Experience\\\\n### Marketing Analyst  \\\\nEmpire City Casino  \\\\nMay 2025 - Present   \\\\nYonkers, New York, United States  \\\\n\\\\n### Amazon  \\\\nAmazon  \\\\nN/A - Present   \\\\nBeijing, China  \\\\n\\\\n### Marketing Analyst  \\\\nJiyuzhoutian Information Technology  \\\\nApr 2019 - Sep 2019   \\\\nBeijing, China  \\\\n●\\\\tSEO for website CouponBirds and ASO for app Spark, improved CTR by 50%, enhancing visibility and user acquisition.\", \"score\": 0.6301622}, {\"title\": \"[PDF] SCHWARZMAN SCHOLARS CLASS OF 2018\", \"url\": \"https://www.schwarzmanscholars.org/wp-content/uploads/2020/05/Schwarzman-Scholars-Class-of-2018-profiles-126-Scholars.pdf\", \"content\": \"Jingwen SUN graduated in May 2017 from the National University of Singapore with a Bachelor’s degree in Computing and Business. She is passionate about innovation and entrepreneurship. She has worked with venture capital funds in Israel and China and also worked with Accenture and Analysys Mason as an analyst intern. Jingwen is excited to join the Schwarzman Scholars program to learn more about leadership within a global context. Jingwen is 23 years old and from China. JONATHAN PADILLA UNITED [...] Assistant at Purdue, supporting both domestic and international students, and served as Vice President of Alpha Kappa Psi. She most recently worked in the Risk Assurance practice at PricewaterhouseCoopers in Chicago. At Schwarzman College, she aspires to amplify her leadership and business skills as both a humanitarian and an entrepreneur to improve and empower the education of youth in developing regions. Jing is 24 years old and from China. JINGWEN SUN CHINA NATIONAL UNIVERSITY OF SINGAPORE [...] over 10 villages in 4 provinces, interviewing over 600 people. He was appointed Academic Organizer of the China Youth Economic Forum and also served as the President of the Student Union of the School of Economics and the Chairman of the Standing Committee of the Students’ Congress. Peng is 22 years old and from China. PRESTON LIM CANADA PRINCETON UNIVERSITY Preston graduated in June 2017 from Princeton University with a major in Near Eastern Studies and a minor in History and the Practice of\", \"score\": 0.38366494}, {\"title\": \"Professor Peng GONG - GEOG | HKU\", \"url\": \"https://geog.hku.hk/p-gong\", \"content\": \"Guan, D.\\\\\\\\, Wang, D., Hallegatte, S. Steven J. Davis, Jingwen Huo, Shuping Li, Yangchun Bai, Tianyang Lei, Qianyu Xue, D’Maris Coffman, Danyang Cheng, Peipei Chen, Xi Liang, Bing Xu, Xiaosheng Lu, Shouyang Wang, Klaus Hubacek & Peng Gong. Global supply-chain effects of COVID-19 control measures. Nature Human Behaviour (2020). 4(6):577-587. . [...] Gong, P\\\\\\\\, Bin Chen, Xuecao Li, Han Liu, JieWang, Yuqi Bai, Jingming Chen, Xi Chen, Lei Fang, Shuailong Feng, Yongjiu Feng, Yali Gong, Hao Gu, Huabing Huang, Xiaochun Huang, Hongzan Jiao, Yingdong Kang, Guangbin Lei, Ainong Li, Xiaoting Li, Xun Li, Yuechen Li, Zhilin Li, Zhongde Li, Chong Liu, Chunxia Liu, Maochou Liu, Shuguang Liu, Wanliu Mao, Changhong Miao, Hao Ni, Qisheng Pan, Shuhua Qi, Zhehao Ren, Zhuoran Shan, Shaoqing Shen, Minjun Shi, Yimeng Song, Mo Su, HoiPing Suen, Bo Sun, Fangdi [...] Beijing Normal University, and the Tsinghua Urban Institute at Tsinghua University. In 2020, he led an expert preparation group in establishing the Vanke School of Public Health at Tsinghua.\", \"score\": 0.30464175}, {\"title\": \"Investigators | Center for Computational Biology and Bioinformatics\", \"url\": \"https://medicine.iu.edu/research-centers/computational-biology-bioinformatics/investigators\", \"content\": \"Associate Professor of Bioinformatics and Data Science\\\\n\\\\nRead Bio\\\\n\\\\n### Bohdan Khomtchouk, PhD\\\\n\\\\nAssistant Professor of Bioinformatics and Data Science\\\\n\\\\nRead Bio\\\\n\\\\n### Juexin Wang, PhD\\\\n\\\\nAssistant Professor of Bioinformatics\\\\n\\\\nRead Bio\\\\n\\\\n### Jingwen Yan, PhD\\\\n\\\\nAssistant Professor of Bioinformatics\\\\n\\\\nRead Bio\\\\n\\\\n### IU Bloomington Luddy School of Informatics, Computing and Engineering\\\\n\\\\n### Yijie Wang, PhD\\\\n\\\\nAssistant Professor of Computer Science\\\\n\\\\nRead Bio\\\\n\\\\n### Purdue University in Indianapolis [...] ### Jing Liu, PhD\\\\n\\\\nAssistant Professor of Physics\\\\n\\\\nRead Bio\\\\n\\\\n## Associate Members\\\\n\\\\nJunior computational scientists conducting research in quantitative biomedical sciences\\\\n\\\\n### Xiaoqing Huang, PhD\\\\n\\\\nAssistant Research Professor of Biostatistics & Health Data Science\\\\n\\\\nRead Bio\\\\n\\\\n### Gang Peng, PhD\\\\n\\\\nAssistant Professor of Medical & Molecular Genetics\\\\n\\\\nRead Bio\\\\n\\\\n### Jie Ren, PhD\\\\n\\\\nAssistant Professor of Biostatistics & Health Data Science\\\\n\\\\nRead Bio\\\\n\\\\n### Tae-Hwi L. Schwantes-An, PhD [...] Professor of Biochemistry & Molecular Biology\\\\n\\\\nRead Bio\\\\n\\\\n### Ian Webb, PhD\\\\n\\\\nAssistant Professor, Department of Chemistry & Chemical Biology\\\\n\\\\nRead Bio\\\\n\\\\n### Kai Yang, PhD\\\\n\\\\nAssociate Professor of Pediatrics\\\\n\\\\nRead Bio\\\\n\\\\n### Lei Yang, PhD\\\\n\\\\nProfessor of Pediatrics\\\\n\\\\nRead Bio\\\\n\\\\n### Ji Zhang, PhD\\\\n\\\\nAssociate Professor of Pediatrics\\\\n\\\\nRead Bio\", \"score\": 0.19255488}]', name='tavily_search_results_json', id='7f773b66-59e9-41d0-b598-d54710008b38', tool_call_id='call_nBdVo3QIE9dXeOcpRzU2yASn', artifact={'query': 'Jingwen Peng', 'follow_up_questions': None, 'answer': None, 'images': [], 'results': [{'url': 'https://www.linkedin.com/in/jingwen-peng-cfa-3a69b011?trk=public_profile_browsemap', 'title': 'Jingwen Peng, CFA - Director - Lead Data Steward at Liberty Mutual ...', 'content': 'Director - Lead Data Steward at Liberty Mutual Investments · Experience: Liberty Mutual Investments · Location: Boston · 500+ connections on LinkedIn.', 'score': 0.70823324, 'raw_content': None}, {'url': 'https://www.linkedin.com/in/jpeng19', 'title': 'Jingwen Peng - U of Rochester Simon STEM MSBA - LinkedIn', 'content': '●\\tAuthored product requirement documentation, followed up on new features and optimization based on customer feedback.\\n\\n●\\tDevised creative short videos content, elevated ad CTR by 4 times on Google Ads and refined data-driven strategies.\\n\\n●\\tGrew social media presence through influencer marketing, acquired 1,000+ new users on Instagram, FB, and YouTube. [...] At Amazon, my role as a Site Merchandising analyst was pivotal in enhancing the Kindle E-book business through data-driven strategies<br><br> By automating reports and refining forecasting models, our team significantly improved operational efficiency and influenced strategic decisions that positively impacted the growth of E-book store and Kindle Unlimited<br><br> My technical acumen, particularly in Excel, SQL and Python, was instrumental in automating processes, reducing manual workloads, [...] ## Experience\\n### Marketing Analyst  \\nEmpire City Casino  \\nMay 2025 - Present   \\nYonkers, New York, United States  \\n\\n### Amazon  \\nAmazon  \\nN/A - Present   \\nBeijing, China  \\n\\n### Marketing Analyst  \\nJiyuzhoutian Information Technology  \\nApr 2019 - Sep 2019   \\nBeijing, China  \\n●\\tSEO for website CouponBirds and ASO for app Spark, improved CTR by 50%, enhancing visibility and user acquisition.', 'score': 0.6301622, 'raw_content': None}, {'url': 'https://www.schwarzmanscholars.org/wp-content/uploads/2020/05/Schwarzman-Scholars-Class-of-2018-profiles-126-Scholars.pdf', 'title': '[PDF] SCHWARZMAN SCHOLARS CLASS OF 2018', 'content': 'Jingwen SUN graduated in May 2017 from the National University of Singapore with a Bachelor’s degree in Computing and Business. She is passionate about innovation and entrepreneurship. She has worked with venture capital funds in Israel and China and also worked with Accenture and Analysys Mason as an analyst intern. Jingwen is excited to join the Schwarzman Scholars program to learn more about leadership within a global context. Jingwen is 23 years old and from China. JONATHAN PADILLA UNITED [...] Assistant at Purdue, supporting both domestic and international students, and served as Vice President of Alpha Kappa Psi. She most recently worked in the Risk Assurance practice at PricewaterhouseCoopers in Chicago. At Schwarzman College, she aspires to amplify her leadership and business skills as both a humanitarian and an entrepreneur to improve and empower the education of youth in developing regions. Jing is 24 years old and from China. JINGWEN SUN CHINA NATIONAL UNIVERSITY OF SINGAPORE [...] over 10 villages in 4 provinces, interviewing over 600 people. He was appointed Academic Organizer of the China Youth Economic Forum and also served as the President of the Student Union of the School of Economics and the Chairman of the Standing Committee of the Students’ Congress. Peng is 22 years old and from China. PRESTON LIM CANADA PRINCETON UNIVERSITY Preston graduated in June 2017 from Princeton University with a major in Near Eastern Studies and a minor in History and the Practice of', 'score': 0.38366494, 'raw_content': None}, {'url': 'https://geog.hku.hk/p-gong', 'title': 'Professor Peng GONG - GEOG | HKU', 'content': 'Guan, D.\\\\, Wang, D., Hallegatte, S. Steven J. Davis, Jingwen Huo, Shuping Li, Yangchun Bai, Tianyang Lei, Qianyu Xue, D’Maris Coffman, Danyang Cheng, Peipei Chen, Xi Liang, Bing Xu, Xiaosheng Lu, Shouyang Wang, Klaus Hubacek & Peng Gong. Global supply-chain effects of COVID-19 control measures. Nature Human Behaviour (2020). 4(6):577-587. . [...] Gong, P\\\\, Bin Chen, Xuecao Li, Han Liu, JieWang, Yuqi Bai, Jingming Chen, Xi Chen, Lei Fang, Shuailong Feng, Yongjiu Feng, Yali Gong, Hao Gu, Huabing Huang, Xiaochun Huang, Hongzan Jiao, Yingdong Kang, Guangbin Lei, Ainong Li, Xiaoting Li, Xun Li, Yuechen Li, Zhilin Li, Zhongde Li, Chong Liu, Chunxia Liu, Maochou Liu, Shuguang Liu, Wanliu Mao, Changhong Miao, Hao Ni, Qisheng Pan, Shuhua Qi, Zhehao Ren, Zhuoran Shan, Shaoqing Shen, Minjun Shi, Yimeng Song, Mo Su, HoiPing Suen, Bo Sun, Fangdi [...] Beijing Normal University, and the Tsinghua Urban Institute at Tsinghua University. In 2020, he led an expert preparation group in establishing the Vanke School of Public Health at Tsinghua.', 'score': 0.30464175, 'raw_content': None}, {'url': 'https://medicine.iu.edu/research-centers/computational-biology-bioinformatics/investigators', 'title': 'Investigators | Center for Computational Biology and Bioinformatics', 'content': 'Associate Professor of Bioinformatics and Data Science\\n\\nRead Bio\\n\\n### Bohdan Khomtchouk, PhD\\n\\nAssistant Professor of Bioinformatics and Data Science\\n\\nRead Bio\\n\\n### Juexin Wang, PhD\\n\\nAssistant Professor of Bioinformatics\\n\\nRead Bio\\n\\n### Jingwen Yan, PhD\\n\\nAssistant Professor of Bioinformatics\\n\\nRead Bio\\n\\n### IU Bloomington Luddy School of Informatics, Computing and Engineering\\n\\n### Yijie Wang, PhD\\n\\nAssistant Professor of Computer Science\\n\\nRead Bio\\n\\n### Purdue University in Indianapolis [...] ### Jing Liu, PhD\\n\\nAssistant Professor of Physics\\n\\nRead Bio\\n\\n## Associate Members\\n\\nJunior computational scientists conducting research in quantitative biomedical sciences\\n\\n### Xiaoqing Huang, PhD\\n\\nAssistant Research Professor of Biostatistics & Health Data Science\\n\\nRead Bio\\n\\n### Gang Peng, PhD\\n\\nAssistant Professor of Medical & Molecular Genetics\\n\\nRead Bio\\n\\n### Jie Ren, PhD\\n\\nAssistant Professor of Biostatistics & Health Data Science\\n\\nRead Bio\\n\\n### Tae-Hwi L. Schwantes-An, PhD [...] Professor of Biochemistry & Molecular Biology\\n\\nRead Bio\\n\\n### Ian Webb, PhD\\n\\nAssistant Professor, Department of Chemistry & Chemical Biology\\n\\nRead Bio\\n\\n### Kai Yang, PhD\\n\\nAssociate Professor of Pediatrics\\n\\nRead Bio\\n\\n### Lei Yang, PhD\\n\\nProfessor of Pediatrics\\n\\nRead Bio\\n\\n### Ji Zhang, PhD\\n\\nAssociate Professor of Pediatrics\\n\\nRead Bio', 'score': 0.19255488, 'raw_content': None}], 'response_time': 0.83, 'request_id': 'ef52696a-ea29-4d02-9481-8442a8ea948c'})]\n",
            "\n",
            "\n",
            "\n",
            "Receiving update from node: 'agent'\n",
            "[AIMessage(content='Renjun Xu is currently a Principal Researcher at Zhejiang University. Jingwen Peng is a Director and Lead Data Steward at Liberty Mutual Investments in Boston.', additional_kwargs={'refusal': None}, response_metadata={'token_usage': {'completion_tokens': 31, 'prompt_tokens': 6517, 'total_tokens': 6548, 'completion_tokens_details': {'accepted_prediction_tokens': 0, 'audio_tokens': 0, 'reasoning_tokens': 0, 'rejected_prediction_tokens': 0}, 'prompt_tokens_details': {'audio_tokens': 0, 'cached_tokens': 2688}}, 'model_name': 'gpt-4.1-nano-2025-04-14', 'system_fingerprint': 'fp_7c233bf9d1', 'id': 'chatcmpl-CJ7KYW4CgoSWit0iugivgyhGf8Gyg', 'service_tier': 'default', 'finish_reason': 'stop', 'logprobs': None}, id='run--dc2b47aa-0fce-4590-9abd-a49b2d044981-0', usage_metadata={'input_tokens': 6517, 'output_tokens': 31, 'total_tokens': 6548, 'input_token_details': {'audio': 0, 'cache_read': 2688}, 'output_token_details': {'audio': 0, 'reasoning': 0}})]\n",
            "\n",
            "\n",
            "\n"
          ]
        }
      ],
      "source": [
        "inputs = {\"messages\" : [HumanMessage(content=\"Search Arxiv for the A Comprehensive Survey of Deep Research paper, then search each of the authors to find out where they work now using Tavily!\")]}\n",
        "\n",
        "async for chunk in simple_agent_graph.astream(inputs, stream_mode=\"updates\"):\n",
        "    for node, values in chunk.items():\n",
        "        print(f\"Receiving update from node: '{node}'\")\n",
        "        if node == \"action\":\n",
        "          print(f\"Tool Used: {values['messages'][0].name}\")\n",
        "        print(values[\"messages\"])\n",
        "\n",
        "        print(\"\\n\\n\")"
      ]
    },
    {
      "cell_type": "markdown",
      "metadata": {
        "id": "CXzDlZVz1Hnf"
      },
      "source": [
        "#### 🏗️ Activity #2:\n",
        "\n",
        "Please write out the steps the agent took to arrive at the correct answer."
      ]
    },
    {
      "cell_type": "markdown",
      "metadata": {},
      "source": [
        "# 🤝 Breakout Room #2"
      ]
    },
    {
      "cell_type": "markdown",
      "metadata": {
        "id": "v7c8-Uyarh1v"
      },
      "source": [
        "## Part 1: LangSmith Evaluator"
      ]
    },
    {
      "cell_type": "markdown",
      "metadata": {
        "id": "pV3XeFOT1Sar"
      },
      "source": [
        "### Pre-processing for LangSmith"
      ]
    },
    {
      "cell_type": "markdown",
      "metadata": {
        "id": "wruQCuzewUuO"
      },
      "source": [
        "To do a little bit more preprocessing, let's wrap our LangGraph agent in a simple chain."
      ]
    },
    {
      "cell_type": "code",
      "execution_count": 16,
      "metadata": {
        "colab": {
          "base_uri": "https://localhost:8080/",
          "height": 105
        },
        "id": "orYxBZXSxJjZ",
        "outputId": "76be837b-6424-4516-8f63-07fbd8c25bf5"
      },
      "outputs": [
        {
          "data": {
            "text/plain": [
              "{'answer': 'Deep Research typically refers to an in-depth and comprehensive investigation or analysis into a specific topic, subject, or field. It involves gathering detailed information, examining various sources, and analyzing data thoroughly to gain a profound understanding of the subject. Deep Research is often used in academic, scientific, technological, and business contexts to develop insights, inform decision-making, or advance knowledge.\\n\\nIf you are referring to a specific organization, product, or service named \"Deep Research,\" please provide more context so I can give a more precise answer.'}"
            ]
          },
          "execution_count": 16,
          "metadata": {},
          "output_type": "execute_result"
        }
      ],
      "source": [
        "def convert_inputs(input_object):\n",
        "  return {\"messages\" : [HumanMessage(content=input_object[\"text\"])]}\n",
        "\n",
        "def parse_output(input_state):\n",
        "  return {\"answer\" : input_state[\"messages\"][-1].content}\n",
        "\n",
        "agent_chain_with_formatting = convert_inputs | simple_agent_graph | parse_output\n",
        "\n",
        "agent_chain_with_formatting.invoke({\"text\" : \"What is Deep Research?\"})"
      ]
    },
    {
      "cell_type": "markdown",
      "metadata": {
        "id": "f9UkCIqkpyZu"
      },
      "source": [
        "### Task 1: Creating An Evaluation Dataset\n",
        "\n",
        "Just as we saw last week, we'll want to create a dataset to test our Agent's ability to answer questions.\n",
        "\n",
        "In order to do this - we'll want to provide some questions and some answers. Let's look at how we can create such a dataset below.\n",
        "\n",
        "```python\n",
        "questions = [\n",
        "    {\n",
        "        \"inputs\" : {\"text\" : \"Who were the main authors on the 'A Comprehensive Survey of Deep Research: Systems, Methodologies, and Applications' paper?\"},\n",
        "        \"outputs\" : {\"must_mention\" : [\"Peng\", \"Xu\"]}   \n",
        "    },\n",
        "    ...,\n",
        "    {\n",
        "        \"inputs\" : {\"text\" : \"Where do the authors of the 'A Comprehensive Survey of Deep Research: Systems, Methodologies, and Applications' work now?\"},\n",
        "        \"outputs\" : {\"must_mention\" : [\"Zhejiang\", \"Liberty Mutual\"]}\n",
        "    }\n",
        "]\n",
        "```"
      ]
    },
    {
      "cell_type": "markdown",
      "metadata": {
        "id": "VfMXF2KAsQxs"
      },
      "source": [
        "#### 🏗️ Activity #3:\n",
        "\n",
        "Please create a dataset in the above format with at least 5 questions that pertain to the cohort use-case (more information [here](https://www.notion.so/Session-4-RAG-with-LangGraph-OSS-Local-Models-Eval-w-LangSmith-26acd547af3d80838d5beba464d7e701#26acd547af3d81d08809c9c82a462bdd)), or the use-case you're hoping to tackle in your Demo Day project."
      ]
    },
    {
      "cell_type": "code",
      "execution_count": 21,
      "metadata": {
        "id": "CbagRuJop83E"
      },
      "outputs": [],
      "source": [
        "# update these questions to your own\n",
        "questions = [\n",
        "    {\n",
        "        \"inputs\" : {\"text\" : \"Who were the main authors on the 'A Comprehensive Survey of Deep Research: Systems, Methodologies, and Applications' paper?\"},\n",
        "        \"outputs\" : {\"must_mention\" : [\"Peng\", \"Xu\"]}   \n",
        "    },\n",
        "    {\n",
        "        \"inputs\" : {\"text\" : \"Where do the authors of the 'A Comprehensive Survey of Deep Research: Systems, Methodologies, and Applications' work now?\"},\n",
        "        \"outputs\" : {\"must_mention\" : [\"Zhejiang\", \"Liberty Mutual\"]}\n",
        "    }\n",
        "]"
      ]
    },
    {
      "cell_type": "markdown",
      "metadata": {
        "id": "z7QVFuAmsh7L"
      },
      "source": [
        "Now we can add our dataset to our LangSmith project using the following code which we saw last Thursday!"
      ]
    },
    {
      "cell_type": "code",
      "execution_count": 22,
      "metadata": {
        "id": "RLfrZrgSsn85"
      },
      "outputs": [
        {
          "data": {
            "text/plain": [
              "{'example_ids': ['af8dc646-aa4f-44ee-a470-77cc6be4570b',\n",
              "  '5c085950-a5b4-489e-aaf2-1b60467a139d'],\n",
              " 'count': 2}"
            ]
          },
          "execution_count": 22,
          "metadata": {},
          "output_type": "execute_result"
        }
      ],
      "source": [
        "from langsmith import Client\n",
        "\n",
        "client = Client()\n",
        "\n",
        "dataset_name = f\"Simple Search Agent - Evaluation Dataset - {uuid4().hex[0:8]}\"\n",
        "\n",
        "dataset = client.create_dataset(\n",
        "    dataset_name=dataset_name,\n",
        "    description=\"Questions about the cohort use-case to evaluate the Simple Search Agent.\"\n",
        ")\n",
        "\n",
        "client.create_examples(\n",
        "    dataset_id=dataset.id,\n",
        "    examples=questions\n",
        ")"
      ]
    },
    {
      "cell_type": "markdown",
      "metadata": {
        "id": "-lRTXUrTtP9Y"
      },
      "source": [
        "### Task 2: Adding Evaluators\n",
        "\n",
        "Let's use the OpenEvals library to product an evaluator that we can then pass into LangSmith!\n",
        "\n",
        "> NOTE: Examine the `CORRECTNESS_PROMPT` below!"
      ]
    },
    {
      "cell_type": "code",
      "execution_count": 23,
      "metadata": {},
      "outputs": [
        {
          "name": "stdout",
          "output_type": "stream",
          "text": [
            "You are an expert data labeler evaluating model outputs for correctness. Your task is to assign a score based on the following rubric:\n",
            "\n",
            "<Rubric>\n",
            "  A correct answer:\n",
            "  - Provides accurate and complete information\n",
            "  - Contains no factual errors\n",
            "  - Addresses all parts of the question\n",
            "  - Is logically consistent\n",
            "  - Uses precise and accurate terminology\n",
            "\n",
            "  When scoring, you should penalize:\n",
            "  - Factual errors or inaccuracies\n",
            "  - Incomplete or partial answers\n",
            "  - Misleading or ambiguous statements\n",
            "  - Incorrect terminology\n",
            "  - Logical inconsistencies\n",
            "  - Missing key information\n",
            "</Rubric>\n",
            "\n",
            "<Instructions>\n",
            "  - Carefully read the input and output\n",
            "  - Check for factual accuracy and completeness\n",
            "  - Focus on correctness of information rather than style or verbosity\n",
            "</Instructions>\n",
            "\n",
            "<Reminder>\n",
            "  The goal is to evaluate factual correctness and completeness of the response.\n",
            "</Reminder>\n",
            "\n",
            "<input>\n",
            "{inputs}\n",
            "</input>\n",
            "\n",
            "<output>\n",
            "{outputs}\n",
            "</output>\n",
            "\n",
            "Use the reference outputs below to help you evaluate the correctness of the response:\n",
            "\n",
            "<reference_outputs>\n",
            "{reference_outputs}\n",
            "</reference_outputs>\n",
            "\n"
          ]
        }
      ],
      "source": [
        "from openevals.prompts import CORRECTNESS_PROMPT\n",
        "print(CORRECTNESS_PROMPT)"
      ]
    },
    {
      "cell_type": "code",
      "execution_count": 24,
      "metadata": {
        "id": "QrAUXMFftlAY"
      },
      "outputs": [],
      "source": [
        "from openevals.llm import create_llm_as_judge\n",
        "\n",
        "correctness_evaluator = create_llm_as_judge(\n",
        "        prompt=CORRECTNESS_PROMPT,\n",
        "        model=\"openai:o3-mini\", # very impactful to the final score\n",
        "        feedback_key=\"correctness\",\n",
        "    )"
      ]
    },
    {
      "cell_type": "markdown",
      "metadata": {},
      "source": [
        "Let's also create a custom Evaluator for our created dataset above - we do this by first making a simple Python function!"
      ]
    },
    {
      "cell_type": "code",
      "execution_count": 25,
      "metadata": {},
      "outputs": [],
      "source": [
        "def must_mention(inputs: dict, outputs: dict, reference_outputs: dict) -> float:\n",
        "  # determine if the phrases in the reference_outputs are in the outputs\n",
        "  required = reference_outputs.get(\"must_mention\") or []\n",
        "  score = all(phrase in outputs[\"answer\"] for phrase in required)\n",
        "  return score"
      ]
    },
    {
      "cell_type": "markdown",
      "metadata": {
        "id": "PNtHORUh0jZY"
      },
      "source": [
        "#### ❓ Question #4:\n",
        "\n",
        "What are some ways you could improve this metric as-is?\n",
        "\n",
        "> NOTE: Alternatively you can suggest where gaps exist in this method."
      ]
    },
    {
      "cell_type": "markdown",
      "metadata": {
        "id": "r1RJr349zhv7"
      },
      "source": [
        "Task 3: Evaluating\n",
        "\n",
        "All that is left to do is evaluate our agent's response!"
      ]
    },
    {
      "cell_type": "code",
      "execution_count": 26,
      "metadata": {
        "colab": {
          "base_uri": "https://localhost:8080/",
          "height": 118,
          "referenced_widgets": [
            "efcf57067cf743d8b4ce059a61cbe02e",
            "53e33aae3b97490c82aec7bbb0d6ebba",
            "ad84e0e971d3455db2efe7dd0d1f803e",
            "72adef9b70dd48198b7322b6c5b113cf",
            "8a61d045ffd44ac58f3f13eb10044836",
            "041e22a9b5514e36bd4d1dac01d5d398",
            "886d762f2a7c421382efb5502c6d42a1",
            "ab91fd625bbd43afbf8c6398193a88d0",
            "716557ad09874dcb989d75f7c74424cd",
            "77d4c0ebaae045b58efc4f789c9a2360",
            "0d622ccc56264fac8fd7508dbdbe6e29"
          ]
        },
        "id": "p5TeCUUkuGld",
        "outputId": "2f7d62a2-e78d-447a-d07b-f9e4d500fb79"
      },
      "outputs": [
        {
          "name": "stdout",
          "output_type": "stream",
          "text": [
            "View the evaluation results for experiment: 'simple_agent, baseline-62a5d27e' at:\n",
            "https://smith.langchain.com/o/705da240-cb86-4803-963a-cc24089b4e94/datasets/3384070f-ca9d-4e03-989b-4919fc012268/compare?selectedSessions=410701e2-3522-45f6-8275-6d8e79ff4267\n",
            "\n",
            "\n"
          ]
        },
        {
          "data": {
            "application/vnd.jupyter.widget-view+json": {
              "model_id": "e5f59e764143484da54c22a938085cd7",
              "version_major": 2,
              "version_minor": 0
            },
            "text/plain": [
              "0it [00:00, ?it/s]"
            ]
          },
          "metadata": {},
          "output_type": "display_data"
        }
      ],
      "source": [
        "results = client.evaluate(\n",
        "    agent_chain_with_formatting,\n",
        "    data=dataset.name,\n",
        "    evaluators=[correctness_evaluator, must_mention],\n",
        "    experiment_prefix=\"simple_agent, baseline\",  # optional, experiment name prefix\n",
        "    description=\"Testing the baseline system.\",  # optional, experiment description\n",
        "    max_concurrency=4, # optional, add concurrency\n",
        ")"
      ]
    },
    {
      "cell_type": "markdown",
      "metadata": {
        "id": "jhTNe4kWrplB"
      },
      "source": [
        "## Part 2: LangGraph with Helpfulness:"
      ]
    },
    {
      "cell_type": "markdown",
      "metadata": {
        "id": "w1wKRddbIY_S"
      },
      "source": [
        "### Task 3: Adding Helpfulness Check and \"Loop\" Limits\n",
        "\n",
        "Now that we've done evaluation - let's see if we can add an extra step where we review the content we've generated to confirm if it fully answers the user's query!\n",
        "\n",
        "We're going to make a few key adjustments to account for this:\n",
        "\n",
        "1. We're going to add an artificial limit on how many \"loops\" the agent can go through - this will help us to avoid the potential situation where we never exit the loop.\n",
        "2. We'll add to our existing conditional edge to obtain the behaviour we desire."
      ]
    },
    {
      "cell_type": "markdown",
      "metadata": {
        "id": "npTYJ8ayR5B3"
      },
      "source": [
        "First, let's define our state again - we can check the length of the state object, so we don't need additional state for this."
      ]
    },
    {
      "cell_type": "code",
      "execution_count": 27,
      "metadata": {
        "id": "-LQ84YhyJG0w"
      },
      "outputs": [],
      "source": [
        "class AgentState(TypedDict):\n",
        "  messages: Annotated[list, add_messages]"
      ]
    },
    {
      "cell_type": "markdown",
      "metadata": {
        "id": "sD7EV0HqSQcb"
      },
      "source": [
        "Now we can set our graph up! This process will be almost entirely the same - with the inclusion of one additional node/conditional edge!"
      ]
    },
    {
      "cell_type": "markdown",
      "metadata": {
        "id": "oajBwLkFVi1N"
      },
      "source": [
        "#### 🏗️ Activity #4:\n",
        "\n",
        "Please write markdown for the following cells to explain what each is doing."
      ]
    },
    {
      "cell_type": "markdown",
      "metadata": {
        "id": "M6rN7feNVn9f"
      },
      "source": [
        "##### YOUR MARKDOWN HERE"
      ]
    },
    {
      "cell_type": "code",
      "execution_count": 28,
      "metadata": {
        "colab": {
          "base_uri": "https://localhost:8080/"
        },
        "id": "6r6XXA5FJbVf",
        "outputId": "ff713041-e498-4f0f-a875-a03502b87729"
      },
      "outputs": [
        {
          "data": {
            "text/plain": [
              "<langgraph.graph.state.StateGraph at 0x112f916d0>"
            ]
          },
          "execution_count": 28,
          "metadata": {},
          "output_type": "execute_result"
        }
      ],
      "source": [
        "graph_with_helpfulness_check = StateGraph(AgentState)\n",
        "\n",
        "graph_with_helpfulness_check.add_node(\"agent\", call_model)\n",
        "graph_with_helpfulness_check.add_node(\"action\", tool_node)"
      ]
    },
    {
      "cell_type": "markdown",
      "metadata": {
        "id": "XZ22o2mWVrfp"
      },
      "source": [
        "##### YOUR MARKDOWN HERE"
      ]
    },
    {
      "cell_type": "code",
      "execution_count": 29,
      "metadata": {
        "colab": {
          "base_uri": "https://localhost:8080/"
        },
        "id": "HNWHwWxuRiLY",
        "outputId": "295f5a35-ceff-452a-ffb8-c52eada6a816"
      },
      "outputs": [
        {
          "data": {
            "text/plain": [
              "<langgraph.graph.state.StateGraph at 0x112f916d0>"
            ]
          },
          "execution_count": 29,
          "metadata": {},
          "output_type": "execute_result"
        }
      ],
      "source": [
        "graph_with_helpfulness_check.set_entry_point(\"agent\")"
      ]
    },
    {
      "cell_type": "markdown",
      "metadata": {
        "id": "rsXeF6xlaXOZ"
      },
      "source": [
        "##### YOUR MARKDOWN HERE"
      ]
    },
    {
      "cell_type": "code",
      "execution_count": 30,
      "metadata": {
        "id": "z_Sq3A9SaV1O"
      },
      "outputs": [],
      "source": [
        "from langchain_core.prompts import PromptTemplate\n",
        "from langchain_core.output_parsers import StrOutputParser\n",
        "\n",
        "def tool_call_or_helpful(state):\n",
        "  last_message = state[\"messages\"][-1]\n",
        "\n",
        "  if last_message.tool_calls:\n",
        "    return \"action\"\n",
        "\n",
        "  initial_query = state[\"messages\"][0]\n",
        "  final_response = state[\"messages\"][-1]\n",
        "\n",
        "  if len(state[\"messages\"]) > 10:\n",
        "    return \"END\"\n",
        "\n",
        "  prompt_template = \"\"\"\\\n",
        "  Given an initial query and a final response, determine if the final response is extremely helpful or not. Please indicate helpfulness with a 'Y' and unhelpfulness as an 'N'.\n",
        "\n",
        "  Initial Query:\n",
        "  {initial_query}\n",
        "\n",
        "  Final Response:\n",
        "  {final_response}\"\"\"\n",
        "\n",
        "  helpfullness_prompt_template = PromptTemplate.from_template(prompt_template)\n",
        "\n",
        "  helpfulness_check_model = ChatOpenAI(model=\"gpt-4.1-mini\")\n",
        "\n",
        "  helpfulness_chain = helpfullness_prompt_template | helpfulness_check_model | StrOutputParser()\n",
        "\n",
        "  helpfulness_response = helpfulness_chain.invoke({\"initial_query\" : initial_query.content, \"final_response\" : final_response.content})\n",
        "\n",
        "  if \"Y\" in helpfulness_response:\n",
        "    return \"end\"\n",
        "  else:\n",
        "    return \"continue\""
      ]
    },
    {
      "cell_type": "markdown",
      "metadata": {
        "id": "6BhnBW2YVsJO"
      },
      "source": [
        "##### YOUR MARKDOWN HERE"
      ]
    },
    {
      "cell_type": "code",
      "execution_count": 31,
      "metadata": {
        "colab": {
          "base_uri": "https://localhost:8080/"
        },
        "id": "aVTKnWMbP_8T",
        "outputId": "7f729b1f-311c-4084-ceaf-0da437900c85"
      },
      "outputs": [
        {
          "data": {
            "text/plain": [
              "<langgraph.graph.state.StateGraph at 0x112f916d0>"
            ]
          },
          "execution_count": 31,
          "metadata": {},
          "output_type": "execute_result"
        }
      ],
      "source": [
        "graph_with_helpfulness_check.add_conditional_edges(\n",
        "    \"agent\",\n",
        "    tool_call_or_helpful,\n",
        "    {\n",
        "        \"continue\" : \"agent\",\n",
        "        \"action\" : \"action\",\n",
        "        \"end\" : END\n",
        "    }\n",
        ")"
      ]
    },
    {
      "cell_type": "markdown",
      "metadata": {
        "id": "ZGDLEWOIVtK0"
      },
      "source": [
        "##### YOUR MARKDOWN HERE"
      ]
    },
    {
      "cell_type": "code",
      "execution_count": 32,
      "metadata": {
        "colab": {
          "base_uri": "https://localhost:8080/"
        },
        "id": "cbDK2MbuREgU",
        "outputId": "21a64c20-27a1-4e0e-afde-a639abaa8b55"
      },
      "outputs": [
        {
          "data": {
            "text/plain": [
              "<langgraph.graph.state.StateGraph at 0x112f916d0>"
            ]
          },
          "execution_count": 32,
          "metadata": {},
          "output_type": "execute_result"
        }
      ],
      "source": [
        "graph_with_helpfulness_check.add_edge(\"action\", \"agent\")"
      ]
    },
    {
      "cell_type": "markdown",
      "metadata": {
        "id": "rSI8AOaEVvT-"
      },
      "source": [
        "##### YOUR MARKDOWN HERE"
      ]
    },
    {
      "cell_type": "code",
      "execution_count": 33,
      "metadata": {
        "id": "oQldl8ERQ8lf"
      },
      "outputs": [],
      "source": [
        "agent_with_helpfulness_check = graph_with_helpfulness_check.compile()"
      ]
    },
    {
      "cell_type": "markdown",
      "metadata": {
        "id": "F67FGCMRVwGz"
      },
      "source": [
        "##### YOUR MARKDOWN HERE"
      ]
    },
    {
      "cell_type": "code",
      "execution_count": 34,
      "metadata": {
        "colab": {
          "base_uri": "https://localhost:8080/"
        },
        "id": "B3oo8E-PRK1T",
        "outputId": "f152dea8-96ad-4d29-d8b2-a064c96a8bd3"
      },
      "outputs": [
        {
          "name": "stdout",
          "output_type": "stream",
          "text": [
            "Receiving update from node: 'agent'\n",
            "[AIMessage(content='Deep Research Agents are advanced AI systems designed to assist with complex research tasks. They leverage deep learning techniques and large datasets to analyze, synthesize, and generate insights across various fields of study. These agents can automate literature reviews, identify patterns in data, generate hypotheses, and even assist in writing research papers. They are used to accelerate the research process, improve accuracy, and handle large volumes of information that would be challenging for humans to process manually. Would you like me to find more detailed or specific information about Deep Research Agents?', additional_kwargs={'refusal': None}, response_metadata={'token_usage': {'completion_tokens': 106, 'prompt_tokens': 158, 'total_tokens': 264, 'completion_tokens_details': {'accepted_prediction_tokens': 0, 'audio_tokens': 0, 'reasoning_tokens': 0, 'rejected_prediction_tokens': 0}, 'prompt_tokens_details': {'audio_tokens': 0, 'cached_tokens': 0}}, 'model_name': 'gpt-4.1-nano-2025-04-14', 'system_fingerprint': 'fp_7c233bf9d1', 'id': 'chatcmpl-CJ80byMY7KwKNSybLZxhWRbeBJQxg', 'service_tier': 'default', 'finish_reason': 'stop', 'logprobs': None}, id='run--f892d29d-3b05-4911-b06e-7a07174c5728-0', usage_metadata={'input_tokens': 158, 'output_tokens': 106, 'total_tokens': 264, 'input_token_details': {'audio': 0, 'cache_read': 0}, 'output_token_details': {'audio': 0, 'reasoning': 0}})]\n",
            "\n",
            "\n",
            "\n"
          ]
        }
      ],
      "source": [
        "inputs = {\"messages\" : [HumanMessage(content=\"What are Deep Research Agents?\")]}\n",
        "\n",
        "async for chunk in agent_with_helpfulness_check.astream(inputs, stream_mode=\"updates\"):\n",
        "    for node, values in chunk.items():\n",
        "        print(f\"Receiving update from node: '{node}'\")\n",
        "        print(values[\"messages\"])\n",
        "        print(\"\\n\\n\")"
      ]
    },
    {
      "cell_type": "markdown",
      "metadata": {
        "id": "yVmZPs6lnpsM"
      },
      "source": [
        "## Part 3: LangGraph for the \"Patterns\" of GenAI\n",
        "\n",
        "### Task 4: Helpfulness Check of Gen AI Pattern Descriptions\n",
        "\n",
        "Let's ask our system about the 3 main patterns in Generative AI:\n",
        "\n",
        "1. Context Engineering\n",
        "2. Fine-tuning\n",
        "3. Agents"
      ]
    },
    {
      "cell_type": "code",
      "execution_count": 35,
      "metadata": {
        "id": "ZoLl7GlXoae-"
      },
      "outputs": [],
      "source": [
        "patterns = [\"Context Engineering\", \"Fine-tuning\", \"LLM-based agents\"]"
      ]
    },
    {
      "cell_type": "code",
      "execution_count": 36,
      "metadata": {
        "colab": {
          "base_uri": "https://localhost:8080/"
        },
        "id": "Zkh0YJuCp3Zl",
        "outputId": "d847426e-71b3-47e6-b1ae-351a78d68d1e"
      },
      "outputs": [
        {
          "name": "stdout",
          "output_type": "stream",
          "text": [
            "Context Engineering is a relatively new and emerging field that focuses on designing, managing, and optimizing the context in which systems, especially artificial intelligence and software applications, operate. It involves creating environments or conditions that enhance the performance, relevance, and adaptability of systems by understanding and manipulating contextual factors such as user intent, environment, and situational variables.\n",
            "\n",
            "The concept gained prominence with the rise of context-aware computing and intelligent systems in the early 2000s. It became particularly significant with advancements in AI, machine learning, and ubiquitous computing, where understanding and leveraging context became crucial for developing more responsive and personalized systems.\n",
            "\n",
            "Would you like me to find more detailed and specific information about the origins and development of Context Engineering?\n",
            "\n",
            "\n",
            "\n",
            "Fine-tuning is a machine learning technique used to adapt a pre-trained model to a specific task or dataset. Instead of training a model from scratch, which can be resource-intensive and time-consuming, fine-tuning involves taking an existing model that has already learned general features from a large dataset and then further training it on a smaller, task-specific dataset. This process helps the model specialize and improve performance on the target task while leveraging the knowledge it has already acquired.\n",
            "\n",
            "Fine-tuning has been a common practice in deep learning for many years, especially in natural language processing and computer vision. However, it gained significant prominence and broke onto the scene in a major way with the advent of large pre-trained models like BERT (Bidirectional Encoder Representations from Transformers) in 2018 and GPT (Generative Pre-trained Transformer) models. These models demonstrated that large-scale pre-training followed by fine-tuning could achieve state-of-the-art results across a wide range of tasks, revolutionizing the field.\n",
            "\n",
            "Would you like me to provide more detailed historical context or specific examples of fine-tuning in recent AI developments?\n",
            "\n",
            "\n",
            "\n",
            "LLM-based agents are intelligent systems that utilize large language models (LLMs) to perform a variety of tasks, such as understanding natural language, generating human-like responses, and making decisions or taking actions based on the input they receive. These agents leverage the capabilities of advanced language models like GPT-3, GPT-4, and similar architectures to interact with users, automate processes, and solve complex problems across different domains.\n",
            "\n",
            "The concept of LLM-based agents started gaining significant attention around 2020-2021, as large language models became more powerful and accessible. The release of OpenAI's GPT-3 in June 2020 marked a major milestone, showcasing the potential of LLMs to serve as the core component of intelligent agents. Since then, the development and deployment of LLM-based agents have rapidly expanded, becoming a prominent area of research and application in artificial intelligence.\n",
            "\n",
            "Would you like more detailed information on the history, specific applications, or recent advancements in LLM-based agents?\n",
            "\n",
            "\n",
            "\n"
          ]
        }
      ],
      "source": [
        "for pattern in patterns:\n",
        "  what_is_string = f\"What is {pattern} and when did it break onto the scene??\"\n",
        "  inputs = {\"messages\" : [HumanMessage(content=what_is_string)]}\n",
        "  messages = agent_with_helpfulness_check.invoke(inputs)\n",
        "  print(messages[\"messages\"][-1].content)\n",
        "  print(\"\\n\\n\")"
      ]
    }
  ],
  "metadata": {
    "colab": {
      "provenance": []
    },
    "kernelspec": {
      "display_name": ".venv",
      "language": "python",
      "name": "python3"
    },
    "language_info": {
      "codemirror_mode": {
        "name": "ipython",
        "version": 3
      },
      "file_extension": ".py",
      "mimetype": "text/x-python",
      "name": "python",
      "nbconvert_exporter": "python",
      "pygments_lexer": "ipython3",
      "version": "3.13.5"
    }
  },
  "nbformat": 4,
  "nbformat_minor": 0
}
